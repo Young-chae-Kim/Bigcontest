{
 "cells": [
  {
   "cell_type": "code",
   "execution_count": 62,
   "metadata": {},
   "outputs": [],
   "source": [
    "import pandas as pd\n",
    "import numpy as np\n",
    "import matplotlib.pyplot as plt\n",
    "import seaborn as sns "
   ]
  },
  {
   "cell_type": "code",
   "execution_count": 63,
   "metadata": {},
   "outputs": [],
   "source": [
    "team_16 = pd.read_csv('C:/Users/dudco/Desktop/SVT/SVT_join_data/team_16.csv',encoding='CP949')\n",
    "team_17 = pd.read_csv('C:/Users/dudco/Desktop/SVT/SVT_join_data/team_17.csv',encoding='CP949')\n",
    "team_18 = pd.read_csv('C:/Users/dudco/Desktop/SVT/SVT_join_data/team_18.csv',encoding='CP949')\n",
    "team_19 = pd.read_csv('C:/Users/dudco/Desktop/SVT/SVT_join_data/team_19.csv',encoding='CP949')\n",
    "team_20 = pd.read_csv('C:/Users/dudco/Desktop/SVT/SVT_join_data/team_20.csv',encoding='CP949')"
   ]
  },
  {
   "cell_type": "code",
   "execution_count": 64,
   "metadata": {},
   "outputs": [],
   "source": [
    "team_16['AVG'] = team_16['HIT'] / team_16['AB']\n",
    "team_17['AVG'] = team_17['HIT'] / team_17['AB']\n",
    "team_18['AVG'] = team_18['HIT'] / team_18['AB']\n",
    "team_19['AVG'] = team_19['HIT'] / team_19['AB']\n",
    "team_20['AVG'] = team_20['HIT'] / team_20['AB']"
   ]
  },
  {
   "cell_type": "code",
   "execution_count": 65,
   "metadata": {},
   "outputs": [],
   "source": [
    "team_16['ERA']=(team_16['ER']*9)/(team_16['INN2']/3)\n",
    "team_17['ERA']=(team_17['ER']*9)/(team_17['INN2']/3)\n",
    "team_18['ERA']=(team_18['ER']*9)/(team_18['INN2']/3)\n",
    "team_19['ERA']=(team_19['ER']*9)/(team_19['INN2']/3)\n",
    "team_20['ERA']=(team_20['ER']*9)/(team_20['INN2']/3)"
   ]
  },
  {
   "cell_type": "code",
   "execution_count": 66,
   "metadata": {},
   "outputs": [
    {
     "name": "stdout",
     "output_type": "stream",
     "text": [
      "<class 'pandas.core.frame.DataFrame'>\n",
      "RangeIndex: 1440 entries, 0 to 1439\n",
      "Data columns (total 63 columns):\n",
      " #   Column      Non-Null Count  Dtype  \n",
      "---  ------      --------------  -----  \n",
      " 0   Unnamed: 0  1440 non-null   int64  \n",
      " 1   G_ID        1440 non-null   object \n",
      " 2   GDAY_DS     1440 non-null   int64  \n",
      " 3   T_ID        1440 non-null   object \n",
      " 4   VS_T_ID     1440 non-null   object \n",
      " 5   HEADER_NO   1440 non-null   int64  \n",
      " 6   TB_SC       1440 non-null   object \n",
      " 7   CG_CK       1440 non-null   int64  \n",
      " 8   WLS         1440 non-null   object \n",
      " 9   HOLD        1440 non-null   int64  \n",
      " 10  INN2        1440 non-null   int64  \n",
      " 11  BF          1440 non-null   int64  \n",
      " 12  VS_PA       1440 non-null   int64  \n",
      " 13  VS_AB       1440 non-null   int64  \n",
      " 14  VS_HIT      1440 non-null   int64  \n",
      " 15  VS_H2       1440 non-null   int64  \n",
      " 16  VS_H3       1440 non-null   int64  \n",
      " 17  VS_HR       1440 non-null   int64  \n",
      " 18  VS_SB       1440 non-null   int64  \n",
      " 19  VS_CS       1440 non-null   int64  \n",
      " 20  VS_SH       1440 non-null   int64  \n",
      " 21  VS_SF       1440 non-null   int64  \n",
      " 22  VS_BB       1440 non-null   int64  \n",
      " 23  VS_IB       1440 non-null   int64  \n",
      " 24  VS_HP       1440 non-null   int64  \n",
      " 25  VS_KK       1440 non-null   int64  \n",
      " 26  VS_GD       1440 non-null   int64  \n",
      " 27  WP          1440 non-null   int64  \n",
      " 28  BK          1440 non-null   int64  \n",
      " 29  P_ERR       1440 non-null   int64  \n",
      " 30  R           1440 non-null   int64  \n",
      " 31  ER          1440 non-null   int64  \n",
      " 32  P_WHIP_RT   1440 non-null   float64\n",
      " 33  P2_WHIP_RT  1440 non-null   float64\n",
      " 34  CB_WHIP_RT  1440 non-null   float64\n",
      " 35  PA          1440 non-null   int64  \n",
      " 36  AB          1440 non-null   int64  \n",
      " 37  RBI         1440 non-null   int64  \n",
      " 38  RUN         1440 non-null   int64  \n",
      " 39  HIT         1440 non-null   int64  \n",
      " 40  H2          1440 non-null   int64  \n",
      " 41  H3          1440 non-null   int64  \n",
      " 42  HR          1440 non-null   int64  \n",
      " 43  SB          1440 non-null   int64  \n",
      " 44  CS          1440 non-null   int64  \n",
      " 45  SH          1440 non-null   int64  \n",
      " 46  SF          1440 non-null   int64  \n",
      " 47  BB          1440 non-null   int64  \n",
      " 48  IB          1440 non-null   int64  \n",
      " 49  HP          1440 non-null   int64  \n",
      " 50  KK          1440 non-null   int64  \n",
      " 51  GD          1440 non-null   int64  \n",
      " 52  H_ERR       1440 non-null   int64  \n",
      " 53  LOB         1440 non-null   int64  \n",
      " 54  P_HRA_RT    1440 non-null   float64\n",
      " 55  P_AB_CN     1440 non-null   int64  \n",
      " 56  P_HIT_CN    1440 non-null   int64  \n",
      " 57  VISIT_KEY   1440 non-null   object \n",
      " 58  HOME_KEY    1440 non-null   object \n",
      " 59  GWEEK       1440 non-null   object \n",
      " 60  STADIUM     1440 non-null   object \n",
      " 61  AVG         1440 non-null   float64\n",
      " 62  ERA         1440 non-null   float64\n",
      "dtypes: float64(6), int64(48), object(9)\n",
      "memory usage: 708.9+ KB\n"
     ]
    }
   ],
   "source": [
    "team_19.info()"
   ]
  },
  {
   "cell_type": "code",
   "execution_count": 67,
   "metadata": {
    "scrolled": true
   },
   "outputs": [
    {
     "data": {
      "text/html": [
       "<div>\n",
       "<style scoped>\n",
       "    .dataframe tbody tr th:only-of-type {\n",
       "        vertical-align: middle;\n",
       "    }\n",
       "\n",
       "    .dataframe tbody tr th {\n",
       "        vertical-align: top;\n",
       "    }\n",
       "\n",
       "    .dataframe thead th {\n",
       "        text-align: right;\n",
       "    }\n",
       "</style>\n",
       "<table border=\"1\" class=\"dataframe\">\n",
       "  <thead>\n",
       "    <tr style=\"text-align: right;\">\n",
       "      <th></th>\n",
       "      <th>Unnamed: 0</th>\n",
       "      <th>G_ID</th>\n",
       "      <th>GDAY_DS</th>\n",
       "      <th>T_ID</th>\n",
       "      <th>VS_T_ID</th>\n",
       "      <th>HEADER_NO</th>\n",
       "      <th>TB_SC</th>\n",
       "      <th>CG_CK</th>\n",
       "      <th>WLS</th>\n",
       "      <th>HOLD</th>\n",
       "      <th>...</th>\n",
       "      <th>LOB</th>\n",
       "      <th>P_HRA_RT</th>\n",
       "      <th>P_AB_CN</th>\n",
       "      <th>P_HIT_CN</th>\n",
       "      <th>VISIT_KEY</th>\n",
       "      <th>HOME_KEY</th>\n",
       "      <th>GWEEK</th>\n",
       "      <th>STADIUM</th>\n",
       "      <th>AVG</th>\n",
       "      <th>ERA</th>\n",
       "    </tr>\n",
       "  </thead>\n",
       "  <tbody>\n",
       "    <tr>\n",
       "      <th>0</th>\n",
       "      <td>0</td>\n",
       "      <td>20190323HHOB0</td>\n",
       "      <td>20190323</td>\n",
       "      <td>OB</td>\n",
       "      <td>HH</td>\n",
       "      <td>0</td>\n",
       "      <td>B</td>\n",
       "      <td>0</td>\n",
       "      <td>W</td>\n",
       "      <td>1</td>\n",
       "      <td>...</td>\n",
       "      <td>4</td>\n",
       "      <td>0.500000</td>\n",
       "      <td>4</td>\n",
       "      <td>2</td>\n",
       "      <td>HH</td>\n",
       "      <td>OB</td>\n",
       "      <td>토</td>\n",
       "      <td>잠실</td>\n",
       "      <td>0.214286</td>\n",
       "      <td>4.000</td>\n",
       "    </tr>\n",
       "    <tr>\n",
       "      <th>1</th>\n",
       "      <td>1</td>\n",
       "      <td>20190323HHOB0</td>\n",
       "      <td>20190323</td>\n",
       "      <td>HH</td>\n",
       "      <td>OB</td>\n",
       "      <td>0</td>\n",
       "      <td>T</td>\n",
       "      <td>0</td>\n",
       "      <td>L</td>\n",
       "      <td>0</td>\n",
       "      <td>...</td>\n",
       "      <td>11</td>\n",
       "      <td>0.200000</td>\n",
       "      <td>10</td>\n",
       "      <td>2</td>\n",
       "      <td>HH</td>\n",
       "      <td>OB</td>\n",
       "      <td>토</td>\n",
       "      <td>잠실</td>\n",
       "      <td>0.352941</td>\n",
       "      <td>5.625</td>\n",
       "    </tr>\n",
       "    <tr>\n",
       "      <th>2</th>\n",
       "      <td>2</td>\n",
       "      <td>20190323KTSK0</td>\n",
       "      <td>20190323</td>\n",
       "      <td>SK</td>\n",
       "      <td>KT</td>\n",
       "      <td>0</td>\n",
       "      <td>B</td>\n",
       "      <td>0</td>\n",
       "      <td>W</td>\n",
       "      <td>1</td>\n",
       "      <td>...</td>\n",
       "      <td>6</td>\n",
       "      <td>0.375000</td>\n",
       "      <td>8</td>\n",
       "      <td>3</td>\n",
       "      <td>KT</td>\n",
       "      <td>SK</td>\n",
       "      <td>토</td>\n",
       "      <td>문학</td>\n",
       "      <td>0.258065</td>\n",
       "      <td>4.000</td>\n",
       "    </tr>\n",
       "    <tr>\n",
       "      <th>3</th>\n",
       "      <td>3</td>\n",
       "      <td>20190323KTSK0</td>\n",
       "      <td>20190323</td>\n",
       "      <td>KT</td>\n",
       "      <td>SK</td>\n",
       "      <td>0</td>\n",
       "      <td>T</td>\n",
       "      <td>0</td>\n",
       "      <td>L</td>\n",
       "      <td>0</td>\n",
       "      <td>...</td>\n",
       "      <td>8</td>\n",
       "      <td>0.200000</td>\n",
       "      <td>10</td>\n",
       "      <td>2</td>\n",
       "      <td>KT</td>\n",
       "      <td>SK</td>\n",
       "      <td>토</td>\n",
       "      <td>문학</td>\n",
       "      <td>0.250000</td>\n",
       "      <td>6.750</td>\n",
       "    </tr>\n",
       "    <tr>\n",
       "      <th>4</th>\n",
       "      <td>4</td>\n",
       "      <td>20190323LGHT0</td>\n",
       "      <td>20190323</td>\n",
       "      <td>HT</td>\n",
       "      <td>LG</td>\n",
       "      <td>0</td>\n",
       "      <td>B</td>\n",
       "      <td>0</td>\n",
       "      <td>L</td>\n",
       "      <td>0</td>\n",
       "      <td>...</td>\n",
       "      <td>6</td>\n",
       "      <td>0.000000</td>\n",
       "      <td>9</td>\n",
       "      <td>0</td>\n",
       "      <td>LG</td>\n",
       "      <td>HT</td>\n",
       "      <td>토</td>\n",
       "      <td>광주</td>\n",
       "      <td>0.107143</td>\n",
       "      <td>2.000</td>\n",
       "    </tr>\n",
       "    <tr>\n",
       "      <th>...</th>\n",
       "      <td>...</td>\n",
       "      <td>...</td>\n",
       "      <td>...</td>\n",
       "      <td>...</td>\n",
       "      <td>...</td>\n",
       "      <td>...</td>\n",
       "      <td>...</td>\n",
       "      <td>...</td>\n",
       "      <td>...</td>\n",
       "      <td>...</td>\n",
       "      <td>...</td>\n",
       "      <td>...</td>\n",
       "      <td>...</td>\n",
       "      <td>...</td>\n",
       "      <td>...</td>\n",
       "      <td>...</td>\n",
       "      <td>...</td>\n",
       "      <td>...</td>\n",
       "      <td>...</td>\n",
       "      <td>...</td>\n",
       "      <td>...</td>\n",
       "    </tr>\n",
       "    <tr>\n",
       "      <th>1435</th>\n",
       "      <td>1435</td>\n",
       "      <td>20190930SKHH0</td>\n",
       "      <td>20190930</td>\n",
       "      <td>SK</td>\n",
       "      <td>HH</td>\n",
       "      <td>0</td>\n",
       "      <td>T</td>\n",
       "      <td>0</td>\n",
       "      <td>W</td>\n",
       "      <td>1</td>\n",
       "      <td>...</td>\n",
       "      <td>8</td>\n",
       "      <td>0.400000</td>\n",
       "      <td>10</td>\n",
       "      <td>4</td>\n",
       "      <td>SK</td>\n",
       "      <td>HH</td>\n",
       "      <td>월</td>\n",
       "      <td>대전</td>\n",
       "      <td>0.272727</td>\n",
       "      <td>2.000</td>\n",
       "    </tr>\n",
       "    <tr>\n",
       "      <th>1436</th>\n",
       "      <td>1436</td>\n",
       "      <td>20191001NCOB0</td>\n",
       "      <td>20191001</td>\n",
       "      <td>OB</td>\n",
       "      <td>NC</td>\n",
       "      <td>0</td>\n",
       "      <td>B</td>\n",
       "      <td>0</td>\n",
       "      <td>W</td>\n",
       "      <td>0</td>\n",
       "      <td>...</td>\n",
       "      <td>11</td>\n",
       "      <td>0.266667</td>\n",
       "      <td>15</td>\n",
       "      <td>4</td>\n",
       "      <td>NC</td>\n",
       "      <td>OB</td>\n",
       "      <td>화</td>\n",
       "      <td>잠실</td>\n",
       "      <td>0.375000</td>\n",
       "      <td>5.000</td>\n",
       "    </tr>\n",
       "    <tr>\n",
       "      <th>1437</th>\n",
       "      <td>1437</td>\n",
       "      <td>20191001NCOB0</td>\n",
       "      <td>20191001</td>\n",
       "      <td>NC</td>\n",
       "      <td>OB</td>\n",
       "      <td>0</td>\n",
       "      <td>T</td>\n",
       "      <td>0</td>\n",
       "      <td>L</td>\n",
       "      <td>4</td>\n",
       "      <td>...</td>\n",
       "      <td>13</td>\n",
       "      <td>0.250000</td>\n",
       "      <td>16</td>\n",
       "      <td>4</td>\n",
       "      <td>NC</td>\n",
       "      <td>OB</td>\n",
       "      <td>화</td>\n",
       "      <td>잠실</td>\n",
       "      <td>0.395349</td>\n",
       "      <td>5.400</td>\n",
       "    </tr>\n",
       "    <tr>\n",
       "      <th>1438</th>\n",
       "      <td>1438</td>\n",
       "      <td>20191001WOLT0</td>\n",
       "      <td>20191001</td>\n",
       "      <td>LT</td>\n",
       "      <td>WO</td>\n",
       "      <td>0</td>\n",
       "      <td>B</td>\n",
       "      <td>0</td>\n",
       "      <td>L</td>\n",
       "      <td>0</td>\n",
       "      <td>...</td>\n",
       "      <td>9</td>\n",
       "      <td>0.166667</td>\n",
       "      <td>6</td>\n",
       "      <td>1</td>\n",
       "      <td>WO</td>\n",
       "      <td>LT</td>\n",
       "      <td>화</td>\n",
       "      <td>사직</td>\n",
       "      <td>0.250000</td>\n",
       "      <td>1.000</td>\n",
       "    </tr>\n",
       "    <tr>\n",
       "      <th>1439</th>\n",
       "      <td>1439</td>\n",
       "      <td>20191001WOLT0</td>\n",
       "      <td>20191001</td>\n",
       "      <td>WO</td>\n",
       "      <td>LT</td>\n",
       "      <td>0</td>\n",
       "      <td>T</td>\n",
       "      <td>0</td>\n",
       "      <td>W</td>\n",
       "      <td>5</td>\n",
       "      <td>...</td>\n",
       "      <td>8</td>\n",
       "      <td>0.300000</td>\n",
       "      <td>10</td>\n",
       "      <td>3</td>\n",
       "      <td>WO</td>\n",
       "      <td>LT</td>\n",
       "      <td>화</td>\n",
       "      <td>사직</td>\n",
       "      <td>0.228571</td>\n",
       "      <td>1.000</td>\n",
       "    </tr>\n",
       "  </tbody>\n",
       "</table>\n",
       "<p>1440 rows × 63 columns</p>\n",
       "</div>"
      ],
      "text/plain": [
       "      Unnamed: 0           G_ID   GDAY_DS T_ID VS_T_ID  HEADER_NO TB_SC  \\\n",
       "0              0  20190323HHOB0  20190323   OB      HH          0     B   \n",
       "1              1  20190323HHOB0  20190323   HH      OB          0     T   \n",
       "2              2  20190323KTSK0  20190323   SK      KT          0     B   \n",
       "3              3  20190323KTSK0  20190323   KT      SK          0     T   \n",
       "4              4  20190323LGHT0  20190323   HT      LG          0     B   \n",
       "...          ...            ...       ...  ...     ...        ...   ...   \n",
       "1435        1435  20190930SKHH0  20190930   SK      HH          0     T   \n",
       "1436        1436  20191001NCOB0  20191001   OB      NC          0     B   \n",
       "1437        1437  20191001NCOB0  20191001   NC      OB          0     T   \n",
       "1438        1438  20191001WOLT0  20191001   LT      WO          0     B   \n",
       "1439        1439  20191001WOLT0  20191001   WO      LT          0     T   \n",
       "\n",
       "      CG_CK WLS  HOLD  ...  LOB  P_HRA_RT  P_AB_CN  P_HIT_CN  VISIT_KEY  \\\n",
       "0         0   W     1  ...    4  0.500000        4         2         HH   \n",
       "1         0   L     0  ...   11  0.200000       10         2         HH   \n",
       "2         0   W     1  ...    6  0.375000        8         3         KT   \n",
       "3         0   L     0  ...    8  0.200000       10         2         KT   \n",
       "4         0   L     0  ...    6  0.000000        9         0         LG   \n",
       "...     ...  ..   ...  ...  ...       ...      ...       ...        ...   \n",
       "1435      0   W     1  ...    8  0.400000       10         4         SK   \n",
       "1436      0   W     0  ...   11  0.266667       15         4         NC   \n",
       "1437      0   L     4  ...   13  0.250000       16         4         NC   \n",
       "1438      0   L     0  ...    9  0.166667        6         1         WO   \n",
       "1439      0   W     5  ...    8  0.300000       10         3         WO   \n",
       "\n",
       "      HOME_KEY  GWEEK  STADIUM       AVG    ERA  \n",
       "0           OB      토       잠실  0.214286  4.000  \n",
       "1           OB      토       잠실  0.352941  5.625  \n",
       "2           SK      토       문학  0.258065  4.000  \n",
       "3           SK      토       문학  0.250000  6.750  \n",
       "4           HT      토       광주  0.107143  2.000  \n",
       "...        ...    ...      ...       ...    ...  \n",
       "1435        HH      월       대전  0.272727  2.000  \n",
       "1436        OB      화       잠실  0.375000  5.000  \n",
       "1437        OB      화       잠실  0.395349  5.400  \n",
       "1438        LT      화       사직  0.250000  1.000  \n",
       "1439        LT      화       사직  0.228571  1.000  \n",
       "\n",
       "[1440 rows x 63 columns]"
      ]
     },
     "execution_count": 67,
     "metadata": {},
     "output_type": "execute_result"
    }
   ],
   "source": [
    "team_19"
   ]
  },
  {
   "cell_type": "code",
   "execution_count": 234,
   "metadata": {},
   "outputs": [
    {
     "data": {
      "text/html": [
       "<div>\n",
       "<style scoped>\n",
       "    .dataframe tbody tr th:only-of-type {\n",
       "        vertical-align: middle;\n",
       "    }\n",
       "\n",
       "    .dataframe tbody tr th {\n",
       "        vertical-align: top;\n",
       "    }\n",
       "\n",
       "    .dataframe thead th {\n",
       "        text-align: right;\n",
       "    }\n",
       "</style>\n",
       "<table border=\"1\" class=\"dataframe\">\n",
       "  <thead>\n",
       "    <tr style=\"text-align: right;\">\n",
       "      <th>WLS</th>\n",
       "      <th>D</th>\n",
       "      <th>L</th>\n",
       "      <th>W</th>\n",
       "    </tr>\n",
       "    <tr>\n",
       "      <th>T_ID</th>\n",
       "      <th></th>\n",
       "      <th></th>\n",
       "      <th></th>\n",
       "    </tr>\n",
       "  </thead>\n",
       "  <tbody>\n",
       "    <tr>\n",
       "      <th>HH</th>\n",
       "      <td>0</td>\n",
       "      <td>86</td>\n",
       "      <td>58</td>\n",
       "    </tr>\n",
       "    <tr>\n",
       "      <th>HT</th>\n",
       "      <td>2</td>\n",
       "      <td>80</td>\n",
       "      <td>62</td>\n",
       "    </tr>\n",
       "    <tr>\n",
       "      <th>KT</th>\n",
       "      <td>2</td>\n",
       "      <td>71</td>\n",
       "      <td>71</td>\n",
       "    </tr>\n",
       "    <tr>\n",
       "      <th>LG</th>\n",
       "      <td>1</td>\n",
       "      <td>64</td>\n",
       "      <td>79</td>\n",
       "    </tr>\n",
       "    <tr>\n",
       "      <th>LT</th>\n",
       "      <td>3</td>\n",
       "      <td>93</td>\n",
       "      <td>48</td>\n",
       "    </tr>\n",
       "    <tr>\n",
       "      <th>NC</th>\n",
       "      <td>2</td>\n",
       "      <td>69</td>\n",
       "      <td>73</td>\n",
       "    </tr>\n",
       "    <tr>\n",
       "      <th>OB</th>\n",
       "      <td>1</td>\n",
       "      <td>55</td>\n",
       "      <td>88</td>\n",
       "    </tr>\n",
       "    <tr>\n",
       "      <th>SK</th>\n",
       "      <td>1</td>\n",
       "      <td>55</td>\n",
       "      <td>88</td>\n",
       "    </tr>\n",
       "    <tr>\n",
       "      <th>SS</th>\n",
       "      <td>1</td>\n",
       "      <td>83</td>\n",
       "      <td>60</td>\n",
       "    </tr>\n",
       "    <tr>\n",
       "      <th>WO</th>\n",
       "      <td>1</td>\n",
       "      <td>57</td>\n",
       "      <td>86</td>\n",
       "    </tr>\n",
       "  </tbody>\n",
       "</table>\n",
       "</div>"
      ],
      "text/plain": [
       "WLS   D   L   W\n",
       "T_ID           \n",
       "HH    0  86  58\n",
       "HT    2  80  62\n",
       "KT    2  71  71\n",
       "LG    1  64  79\n",
       "LT    3  93  48\n",
       "NC    2  69  73\n",
       "OB    1  55  88\n",
       "SK    1  55  88\n",
       "SS    1  83  60\n",
       "WO    1  57  86"
      ]
     },
     "execution_count": 234,
     "metadata": {},
     "output_type": "execute_result"
    }
   ],
   "source": [
    "pd.crosstab(team_19.T_ID,team_19.WLS)\n"
   ]
  },
  {
   "cell_type": "code",
   "execution_count": null,
   "metadata": {},
   "outputs": [],
   "source": []
  },
  {
   "cell_type": "code",
   "execution_count": null,
   "metadata": {},
   "outputs": [],
   "source": []
  },
  {
   "cell_type": "markdown",
   "metadata": {},
   "source": [
    "## 2019"
   ]
  },
  {
   "cell_type": "markdown",
   "metadata": {},
   "source": [
    "### 19년도 180경기씩 나누기"
   ]
  },
  {
   "cell_type": "code",
   "execution_count": 68,
   "metadata": {},
   "outputs": [],
   "source": [
    "team_19_1=team_19.iloc[0:360]\n",
    "team_19_2=team_19.iloc[360:720]\n",
    "team_19_3=team_19.iloc[720:1180]\n",
    "team_19_4=team_19.iloc[1180:1440]"
   ]
  },
  {
   "cell_type": "code",
   "execution_count": 69,
   "metadata": {},
   "outputs": [],
   "source": [
    "q=[\n",
    "    (team_19['Unnamed: 0']>=0) & (team_19['Unnamed: 0']< 360),\n",
    "    (team_19['Unnamed: 0']>=360) & (team_19['Unnamed: 0']< 720),\n",
    "    (team_19['Unnamed: 0']>=720) & (team_19['Unnamed: 0']< 1180),\n",
    "    (team_19['Unnamed: 0']>=1180) & (team_19['Unnamed: 0']< 1440)\n",
    "]\n",
    "choicelist =[1,2,3,4]\n",
    "team_19['q']=np.select(q, choicelist)"
   ]
  },
  {
   "cell_type": "code",
   "execution_count": 70,
   "metadata": {},
   "outputs": [
    {
     "data": {
      "text/html": [
       "<div>\n",
       "<style scoped>\n",
       "    .dataframe tbody tr th:only-of-type {\n",
       "        vertical-align: middle;\n",
       "    }\n",
       "\n",
       "    .dataframe tbody tr th {\n",
       "        vertical-align: top;\n",
       "    }\n",
       "\n",
       "    .dataframe thead th {\n",
       "        text-align: right;\n",
       "    }\n",
       "</style>\n",
       "<table border=\"1\" class=\"dataframe\">\n",
       "  <thead>\n",
       "    <tr style=\"text-align: right;\">\n",
       "      <th></th>\n",
       "      <th>Unnamed: 0</th>\n",
       "      <th>G_ID</th>\n",
       "      <th>GDAY_DS</th>\n",
       "      <th>T_ID</th>\n",
       "      <th>VS_T_ID</th>\n",
       "      <th>HEADER_NO</th>\n",
       "      <th>TB_SC</th>\n",
       "      <th>CG_CK</th>\n",
       "      <th>WLS</th>\n",
       "      <th>HOLD</th>\n",
       "      <th>...</th>\n",
       "      <th>P_HRA_RT</th>\n",
       "      <th>P_AB_CN</th>\n",
       "      <th>P_HIT_CN</th>\n",
       "      <th>VISIT_KEY</th>\n",
       "      <th>HOME_KEY</th>\n",
       "      <th>GWEEK</th>\n",
       "      <th>STADIUM</th>\n",
       "      <th>AVG</th>\n",
       "      <th>ERA</th>\n",
       "      <th>q</th>\n",
       "    </tr>\n",
       "  </thead>\n",
       "  <tbody>\n",
       "    <tr>\n",
       "      <th>0</th>\n",
       "      <td>0</td>\n",
       "      <td>20190323HHOB0</td>\n",
       "      <td>20190323</td>\n",
       "      <td>OB</td>\n",
       "      <td>HH</td>\n",
       "      <td>0</td>\n",
       "      <td>B</td>\n",
       "      <td>0</td>\n",
       "      <td>W</td>\n",
       "      <td>1</td>\n",
       "      <td>...</td>\n",
       "      <td>0.500000</td>\n",
       "      <td>4</td>\n",
       "      <td>2</td>\n",
       "      <td>HH</td>\n",
       "      <td>OB</td>\n",
       "      <td>토</td>\n",
       "      <td>잠실</td>\n",
       "      <td>0.214286</td>\n",
       "      <td>4.000000</td>\n",
       "      <td>1</td>\n",
       "    </tr>\n",
       "    <tr>\n",
       "      <th>1</th>\n",
       "      <td>1</td>\n",
       "      <td>20190323HHOB0</td>\n",
       "      <td>20190323</td>\n",
       "      <td>HH</td>\n",
       "      <td>OB</td>\n",
       "      <td>0</td>\n",
       "      <td>T</td>\n",
       "      <td>0</td>\n",
       "      <td>L</td>\n",
       "      <td>0</td>\n",
       "      <td>...</td>\n",
       "      <td>0.200000</td>\n",
       "      <td>10</td>\n",
       "      <td>2</td>\n",
       "      <td>HH</td>\n",
       "      <td>OB</td>\n",
       "      <td>토</td>\n",
       "      <td>잠실</td>\n",
       "      <td>0.352941</td>\n",
       "      <td>5.625000</td>\n",
       "      <td>1</td>\n",
       "    </tr>\n",
       "    <tr>\n",
       "      <th>2</th>\n",
       "      <td>2</td>\n",
       "      <td>20190323KTSK0</td>\n",
       "      <td>20190323</td>\n",
       "      <td>SK</td>\n",
       "      <td>KT</td>\n",
       "      <td>0</td>\n",
       "      <td>B</td>\n",
       "      <td>0</td>\n",
       "      <td>W</td>\n",
       "      <td>1</td>\n",
       "      <td>...</td>\n",
       "      <td>0.375000</td>\n",
       "      <td>8</td>\n",
       "      <td>3</td>\n",
       "      <td>KT</td>\n",
       "      <td>SK</td>\n",
       "      <td>토</td>\n",
       "      <td>문학</td>\n",
       "      <td>0.258065</td>\n",
       "      <td>4.000000</td>\n",
       "      <td>1</td>\n",
       "    </tr>\n",
       "    <tr>\n",
       "      <th>3</th>\n",
       "      <td>3</td>\n",
       "      <td>20190323KTSK0</td>\n",
       "      <td>20190323</td>\n",
       "      <td>KT</td>\n",
       "      <td>SK</td>\n",
       "      <td>0</td>\n",
       "      <td>T</td>\n",
       "      <td>0</td>\n",
       "      <td>L</td>\n",
       "      <td>0</td>\n",
       "      <td>...</td>\n",
       "      <td>0.200000</td>\n",
       "      <td>10</td>\n",
       "      <td>2</td>\n",
       "      <td>KT</td>\n",
       "      <td>SK</td>\n",
       "      <td>토</td>\n",
       "      <td>문학</td>\n",
       "      <td>0.250000</td>\n",
       "      <td>6.750000</td>\n",
       "      <td>1</td>\n",
       "    </tr>\n",
       "    <tr>\n",
       "      <th>4</th>\n",
       "      <td>4</td>\n",
       "      <td>20190323LGHT0</td>\n",
       "      <td>20190323</td>\n",
       "      <td>HT</td>\n",
       "      <td>LG</td>\n",
       "      <td>0</td>\n",
       "      <td>B</td>\n",
       "      <td>0</td>\n",
       "      <td>L</td>\n",
       "      <td>0</td>\n",
       "      <td>...</td>\n",
       "      <td>0.000000</td>\n",
       "      <td>9</td>\n",
       "      <td>0</td>\n",
       "      <td>LG</td>\n",
       "      <td>HT</td>\n",
       "      <td>토</td>\n",
       "      <td>광주</td>\n",
       "      <td>0.107143</td>\n",
       "      <td>2.000000</td>\n",
       "      <td>1</td>\n",
       "    </tr>\n",
       "    <tr>\n",
       "      <th>...</th>\n",
       "      <td>...</td>\n",
       "      <td>...</td>\n",
       "      <td>...</td>\n",
       "      <td>...</td>\n",
       "      <td>...</td>\n",
       "      <td>...</td>\n",
       "      <td>...</td>\n",
       "      <td>...</td>\n",
       "      <td>...</td>\n",
       "      <td>...</td>\n",
       "      <td>...</td>\n",
       "      <td>...</td>\n",
       "      <td>...</td>\n",
       "      <td>...</td>\n",
       "      <td>...</td>\n",
       "      <td>...</td>\n",
       "      <td>...</td>\n",
       "      <td>...</td>\n",
       "      <td>...</td>\n",
       "      <td>...</td>\n",
       "      <td>...</td>\n",
       "    </tr>\n",
       "    <tr>\n",
       "      <th>358</th>\n",
       "      <td>358</td>\n",
       "      <td>20190507HTOB0</td>\n",
       "      <td>20190507</td>\n",
       "      <td>OB</td>\n",
       "      <td>HT</td>\n",
       "      <td>0</td>\n",
       "      <td>B</td>\n",
       "      <td>0</td>\n",
       "      <td>W</td>\n",
       "      <td>0</td>\n",
       "      <td>...</td>\n",
       "      <td>0.285714</td>\n",
       "      <td>7</td>\n",
       "      <td>2</td>\n",
       "      <td>HT</td>\n",
       "      <td>OB</td>\n",
       "      <td>화</td>\n",
       "      <td>잠실</td>\n",
       "      <td>0.187500</td>\n",
       "      <td>3.000000</td>\n",
       "      <td>1</td>\n",
       "    </tr>\n",
       "    <tr>\n",
       "      <th>359</th>\n",
       "      <td>359</td>\n",
       "      <td>20190507HTOB0</td>\n",
       "      <td>20190507</td>\n",
       "      <td>HT</td>\n",
       "      <td>OB</td>\n",
       "      <td>0</td>\n",
       "      <td>T</td>\n",
       "      <td>0</td>\n",
       "      <td>L</td>\n",
       "      <td>0</td>\n",
       "      <td>...</td>\n",
       "      <td>0.200000</td>\n",
       "      <td>10</td>\n",
       "      <td>2</td>\n",
       "      <td>HT</td>\n",
       "      <td>OB</td>\n",
       "      <td>화</td>\n",
       "      <td>잠실</td>\n",
       "      <td>0.250000</td>\n",
       "      <td>3.115385</td>\n",
       "      <td>1</td>\n",
       "    </tr>\n",
       "    <tr>\n",
       "      <th>360</th>\n",
       "      <td>360</td>\n",
       "      <td>20190507LGWO0</td>\n",
       "      <td>20190507</td>\n",
       "      <td>WO</td>\n",
       "      <td>LG</td>\n",
       "      <td>0</td>\n",
       "      <td>B</td>\n",
       "      <td>0</td>\n",
       "      <td>L</td>\n",
       "      <td>4</td>\n",
       "      <td>...</td>\n",
       "      <td>0.312500</td>\n",
       "      <td>16</td>\n",
       "      <td>5</td>\n",
       "      <td>LG</td>\n",
       "      <td>WO</td>\n",
       "      <td>화</td>\n",
       "      <td>고척</td>\n",
       "      <td>0.307692</td>\n",
       "      <td>12.000000</td>\n",
       "      <td>2</td>\n",
       "    </tr>\n",
       "    <tr>\n",
       "      <th>361</th>\n",
       "      <td>361</td>\n",
       "      <td>20190507LGWO0</td>\n",
       "      <td>20190507</td>\n",
       "      <td>LG</td>\n",
       "      <td>WO</td>\n",
       "      <td>0</td>\n",
       "      <td>T</td>\n",
       "      <td>0</td>\n",
       "      <td>W</td>\n",
       "      <td>0</td>\n",
       "      <td>...</td>\n",
       "      <td>0.333333</td>\n",
       "      <td>24</td>\n",
       "      <td>8</td>\n",
       "      <td>LG</td>\n",
       "      <td>WO</td>\n",
       "      <td>화</td>\n",
       "      <td>고척</td>\n",
       "      <td>0.418605</td>\n",
       "      <td>10.000000</td>\n",
       "      <td>2</td>\n",
       "    </tr>\n",
       "    <tr>\n",
       "      <th>362</th>\n",
       "      <td>362</td>\n",
       "      <td>20190507LTKT0</td>\n",
       "      <td>20190507</td>\n",
       "      <td>KT</td>\n",
       "      <td>LT</td>\n",
       "      <td>0</td>\n",
       "      <td>B</td>\n",
       "      <td>0</td>\n",
       "      <td>W</td>\n",
       "      <td>0</td>\n",
       "      <td>...</td>\n",
       "      <td>0.200000</td>\n",
       "      <td>10</td>\n",
       "      <td>2</td>\n",
       "      <td>LT</td>\n",
       "      <td>KT</td>\n",
       "      <td>화</td>\n",
       "      <td>수원</td>\n",
       "      <td>0.333333</td>\n",
       "      <td>2.000000</td>\n",
       "      <td>2</td>\n",
       "    </tr>\n",
       "  </tbody>\n",
       "</table>\n",
       "<p>363 rows × 64 columns</p>\n",
       "</div>"
      ],
      "text/plain": [
       "     Unnamed: 0           G_ID   GDAY_DS T_ID VS_T_ID  HEADER_NO TB_SC  CG_CK  \\\n",
       "0             0  20190323HHOB0  20190323   OB      HH          0     B      0   \n",
       "1             1  20190323HHOB0  20190323   HH      OB          0     T      0   \n",
       "2             2  20190323KTSK0  20190323   SK      KT          0     B      0   \n",
       "3             3  20190323KTSK0  20190323   KT      SK          0     T      0   \n",
       "4             4  20190323LGHT0  20190323   HT      LG          0     B      0   \n",
       "..          ...            ...       ...  ...     ...        ...   ...    ...   \n",
       "358         358  20190507HTOB0  20190507   OB      HT          0     B      0   \n",
       "359         359  20190507HTOB0  20190507   HT      OB          0     T      0   \n",
       "360         360  20190507LGWO0  20190507   WO      LG          0     B      0   \n",
       "361         361  20190507LGWO0  20190507   LG      WO          0     T      0   \n",
       "362         362  20190507LTKT0  20190507   KT      LT          0     B      0   \n",
       "\n",
       "    WLS  HOLD  ...  P_HRA_RT  P_AB_CN  P_HIT_CN  VISIT_KEY  HOME_KEY  GWEEK  \\\n",
       "0     W     1  ...  0.500000        4         2         HH        OB      토   \n",
       "1     L     0  ...  0.200000       10         2         HH        OB      토   \n",
       "2     W     1  ...  0.375000        8         3         KT        SK      토   \n",
       "3     L     0  ...  0.200000       10         2         KT        SK      토   \n",
       "4     L     0  ...  0.000000        9         0         LG        HT      토   \n",
       "..   ..   ...  ...       ...      ...       ...        ...       ...    ...   \n",
       "358   W     0  ...  0.285714        7         2         HT        OB      화   \n",
       "359   L     0  ...  0.200000       10         2         HT        OB      화   \n",
       "360   L     4  ...  0.312500       16         5         LG        WO      화   \n",
       "361   W     0  ...  0.333333       24         8         LG        WO      화   \n",
       "362   W     0  ...  0.200000       10         2         LT        KT      화   \n",
       "\n",
       "     STADIUM       AVG        ERA  q  \n",
       "0         잠실  0.214286   4.000000  1  \n",
       "1         잠실  0.352941   5.625000  1  \n",
       "2         문학  0.258065   4.000000  1  \n",
       "3         문학  0.250000   6.750000  1  \n",
       "4         광주  0.107143   2.000000  1  \n",
       "..       ...       ...        ... ..  \n",
       "358       잠실  0.187500   3.000000  1  \n",
       "359       잠실  0.250000   3.115385  1  \n",
       "360       고척  0.307692  12.000000  2  \n",
       "361       고척  0.418605  10.000000  2  \n",
       "362       수원  0.333333   2.000000  2  \n",
       "\n",
       "[363 rows x 64 columns]"
      ]
     },
     "execution_count": 70,
     "metadata": {},
     "output_type": "execute_result"
    }
   ],
   "source": [
    "team_19.head(363)"
   ]
  },
  {
   "cell_type": "code",
   "execution_count": 71,
   "metadata": {},
   "outputs": [
    {
     "data": {
      "text/html": [
       "<div>\n",
       "<style scoped>\n",
       "    .dataframe tbody tr th:only-of-type {\n",
       "        vertical-align: middle;\n",
       "    }\n",
       "\n",
       "    .dataframe tbody tr th {\n",
       "        vertical-align: top;\n",
       "    }\n",
       "\n",
       "    .dataframe thead th {\n",
       "        text-align: right;\n",
       "    }\n",
       "</style>\n",
       "<table border=\"1\" class=\"dataframe\">\n",
       "  <thead>\n",
       "    <tr style=\"text-align: right;\">\n",
       "      <th></th>\n",
       "      <th>Unnamed: 0</th>\n",
       "      <th>G_ID</th>\n",
       "      <th>GDAY_DS</th>\n",
       "      <th>T_ID</th>\n",
       "      <th>VS_T_ID</th>\n",
       "      <th>HEADER_NO</th>\n",
       "      <th>TB_SC</th>\n",
       "      <th>CG_CK</th>\n",
       "      <th>WLS</th>\n",
       "      <th>HOLD</th>\n",
       "      <th>...</th>\n",
       "      <th>LOB</th>\n",
       "      <th>P_HRA_RT</th>\n",
       "      <th>P_AB_CN</th>\n",
       "      <th>P_HIT_CN</th>\n",
       "      <th>VISIT_KEY</th>\n",
       "      <th>HOME_KEY</th>\n",
       "      <th>GWEEK</th>\n",
       "      <th>STADIUM</th>\n",
       "      <th>AVG</th>\n",
       "      <th>ERA</th>\n",
       "    </tr>\n",
       "  </thead>\n",
       "  <tbody>\n",
       "    <tr>\n",
       "      <th>0</th>\n",
       "      <td>0</td>\n",
       "      <td>20190323HHOB0</td>\n",
       "      <td>20190323</td>\n",
       "      <td>OB</td>\n",
       "      <td>HH</td>\n",
       "      <td>0</td>\n",
       "      <td>B</td>\n",
       "      <td>0</td>\n",
       "      <td>W</td>\n",
       "      <td>1</td>\n",
       "      <td>...</td>\n",
       "      <td>4</td>\n",
       "      <td>0.500000</td>\n",
       "      <td>4</td>\n",
       "      <td>2</td>\n",
       "      <td>HH</td>\n",
       "      <td>OB</td>\n",
       "      <td>토</td>\n",
       "      <td>잠실</td>\n",
       "      <td>0.214286</td>\n",
       "      <td>4.000000</td>\n",
       "    </tr>\n",
       "    <tr>\n",
       "      <th>1</th>\n",
       "      <td>1</td>\n",
       "      <td>20190323HHOB0</td>\n",
       "      <td>20190323</td>\n",
       "      <td>HH</td>\n",
       "      <td>OB</td>\n",
       "      <td>0</td>\n",
       "      <td>T</td>\n",
       "      <td>0</td>\n",
       "      <td>L</td>\n",
       "      <td>0</td>\n",
       "      <td>...</td>\n",
       "      <td>11</td>\n",
       "      <td>0.200000</td>\n",
       "      <td>10</td>\n",
       "      <td>2</td>\n",
       "      <td>HH</td>\n",
       "      <td>OB</td>\n",
       "      <td>토</td>\n",
       "      <td>잠실</td>\n",
       "      <td>0.352941</td>\n",
       "      <td>5.625000</td>\n",
       "    </tr>\n",
       "    <tr>\n",
       "      <th>2</th>\n",
       "      <td>2</td>\n",
       "      <td>20190323KTSK0</td>\n",
       "      <td>20190323</td>\n",
       "      <td>SK</td>\n",
       "      <td>KT</td>\n",
       "      <td>0</td>\n",
       "      <td>B</td>\n",
       "      <td>0</td>\n",
       "      <td>W</td>\n",
       "      <td>1</td>\n",
       "      <td>...</td>\n",
       "      <td>6</td>\n",
       "      <td>0.375000</td>\n",
       "      <td>8</td>\n",
       "      <td>3</td>\n",
       "      <td>KT</td>\n",
       "      <td>SK</td>\n",
       "      <td>토</td>\n",
       "      <td>문학</td>\n",
       "      <td>0.258065</td>\n",
       "      <td>4.000000</td>\n",
       "    </tr>\n",
       "    <tr>\n",
       "      <th>3</th>\n",
       "      <td>3</td>\n",
       "      <td>20190323KTSK0</td>\n",
       "      <td>20190323</td>\n",
       "      <td>KT</td>\n",
       "      <td>SK</td>\n",
       "      <td>0</td>\n",
       "      <td>T</td>\n",
       "      <td>0</td>\n",
       "      <td>L</td>\n",
       "      <td>0</td>\n",
       "      <td>...</td>\n",
       "      <td>8</td>\n",
       "      <td>0.200000</td>\n",
       "      <td>10</td>\n",
       "      <td>2</td>\n",
       "      <td>KT</td>\n",
       "      <td>SK</td>\n",
       "      <td>토</td>\n",
       "      <td>문학</td>\n",
       "      <td>0.250000</td>\n",
       "      <td>6.750000</td>\n",
       "    </tr>\n",
       "    <tr>\n",
       "      <th>4</th>\n",
       "      <td>4</td>\n",
       "      <td>20190323LGHT0</td>\n",
       "      <td>20190323</td>\n",
       "      <td>HT</td>\n",
       "      <td>LG</td>\n",
       "      <td>0</td>\n",
       "      <td>B</td>\n",
       "      <td>0</td>\n",
       "      <td>L</td>\n",
       "      <td>0</td>\n",
       "      <td>...</td>\n",
       "      <td>6</td>\n",
       "      <td>0.000000</td>\n",
       "      <td>9</td>\n",
       "      <td>0</td>\n",
       "      <td>LG</td>\n",
       "      <td>HT</td>\n",
       "      <td>토</td>\n",
       "      <td>광주</td>\n",
       "      <td>0.107143</td>\n",
       "      <td>2.000000</td>\n",
       "    </tr>\n",
       "    <tr>\n",
       "      <th>...</th>\n",
       "      <td>...</td>\n",
       "      <td>...</td>\n",
       "      <td>...</td>\n",
       "      <td>...</td>\n",
       "      <td>...</td>\n",
       "      <td>...</td>\n",
       "      <td>...</td>\n",
       "      <td>...</td>\n",
       "      <td>...</td>\n",
       "      <td>...</td>\n",
       "      <td>...</td>\n",
       "      <td>...</td>\n",
       "      <td>...</td>\n",
       "      <td>...</td>\n",
       "      <td>...</td>\n",
       "      <td>...</td>\n",
       "      <td>...</td>\n",
       "      <td>...</td>\n",
       "      <td>...</td>\n",
       "      <td>...</td>\n",
       "      <td>...</td>\n",
       "    </tr>\n",
       "    <tr>\n",
       "      <th>355</th>\n",
       "      <td>355</td>\n",
       "      <td>20190505SSWO0</td>\n",
       "      <td>20190505</td>\n",
       "      <td>SS</td>\n",
       "      <td>WO</td>\n",
       "      <td>0</td>\n",
       "      <td>T</td>\n",
       "      <td>0</td>\n",
       "      <td>L</td>\n",
       "      <td>0</td>\n",
       "      <td>...</td>\n",
       "      <td>4</td>\n",
       "      <td>0.500000</td>\n",
       "      <td>2</td>\n",
       "      <td>1</td>\n",
       "      <td>SS</td>\n",
       "      <td>WO</td>\n",
       "      <td>일</td>\n",
       "      <td>고척</td>\n",
       "      <td>0.156250</td>\n",
       "      <td>13.500000</td>\n",
       "    </tr>\n",
       "    <tr>\n",
       "      <th>356</th>\n",
       "      <td>356</td>\n",
       "      <td>20190507HHSK0</td>\n",
       "      <td>20190507</td>\n",
       "      <td>SK</td>\n",
       "      <td>HH</td>\n",
       "      <td>0</td>\n",
       "      <td>B</td>\n",
       "      <td>0</td>\n",
       "      <td>W</td>\n",
       "      <td>0</td>\n",
       "      <td>...</td>\n",
       "      <td>9</td>\n",
       "      <td>0.461538</td>\n",
       "      <td>13</td>\n",
       "      <td>6</td>\n",
       "      <td>HH</td>\n",
       "      <td>SK</td>\n",
       "      <td>화</td>\n",
       "      <td>문학</td>\n",
       "      <td>0.333333</td>\n",
       "      <td>2.000000</td>\n",
       "    </tr>\n",
       "    <tr>\n",
       "      <th>357</th>\n",
       "      <td>357</td>\n",
       "      <td>20190507HHSK0</td>\n",
       "      <td>20190507</td>\n",
       "      <td>HH</td>\n",
       "      <td>SK</td>\n",
       "      <td>0</td>\n",
       "      <td>T</td>\n",
       "      <td>0</td>\n",
       "      <td>L</td>\n",
       "      <td>0</td>\n",
       "      <td>...</td>\n",
       "      <td>5</td>\n",
       "      <td>0.200000</td>\n",
       "      <td>5</td>\n",
       "      <td>1</td>\n",
       "      <td>HH</td>\n",
       "      <td>SK</td>\n",
       "      <td>화</td>\n",
       "      <td>문학</td>\n",
       "      <td>0.218750</td>\n",
       "      <td>12.375000</td>\n",
       "    </tr>\n",
       "    <tr>\n",
       "      <th>358</th>\n",
       "      <td>358</td>\n",
       "      <td>20190507HTOB0</td>\n",
       "      <td>20190507</td>\n",
       "      <td>OB</td>\n",
       "      <td>HT</td>\n",
       "      <td>0</td>\n",
       "      <td>B</td>\n",
       "      <td>0</td>\n",
       "      <td>W</td>\n",
       "      <td>0</td>\n",
       "      <td>...</td>\n",
       "      <td>7</td>\n",
       "      <td>0.285714</td>\n",
       "      <td>7</td>\n",
       "      <td>2</td>\n",
       "      <td>HT</td>\n",
       "      <td>OB</td>\n",
       "      <td>화</td>\n",
       "      <td>잠실</td>\n",
       "      <td>0.187500</td>\n",
       "      <td>3.000000</td>\n",
       "    </tr>\n",
       "    <tr>\n",
       "      <th>359</th>\n",
       "      <td>359</td>\n",
       "      <td>20190507HTOB0</td>\n",
       "      <td>20190507</td>\n",
       "      <td>HT</td>\n",
       "      <td>OB</td>\n",
       "      <td>0</td>\n",
       "      <td>T</td>\n",
       "      <td>0</td>\n",
       "      <td>L</td>\n",
       "      <td>0</td>\n",
       "      <td>...</td>\n",
       "      <td>9</td>\n",
       "      <td>0.200000</td>\n",
       "      <td>10</td>\n",
       "      <td>2</td>\n",
       "      <td>HT</td>\n",
       "      <td>OB</td>\n",
       "      <td>화</td>\n",
       "      <td>잠실</td>\n",
       "      <td>0.250000</td>\n",
       "      <td>3.115385</td>\n",
       "    </tr>\n",
       "  </tbody>\n",
       "</table>\n",
       "<p>360 rows × 63 columns</p>\n",
       "</div>"
      ],
      "text/plain": [
       "     Unnamed: 0           G_ID   GDAY_DS T_ID VS_T_ID  HEADER_NO TB_SC  CG_CK  \\\n",
       "0             0  20190323HHOB0  20190323   OB      HH          0     B      0   \n",
       "1             1  20190323HHOB0  20190323   HH      OB          0     T      0   \n",
       "2             2  20190323KTSK0  20190323   SK      KT          0     B      0   \n",
       "3             3  20190323KTSK0  20190323   KT      SK          0     T      0   \n",
       "4             4  20190323LGHT0  20190323   HT      LG          0     B      0   \n",
       "..          ...            ...       ...  ...     ...        ...   ...    ...   \n",
       "355         355  20190505SSWO0  20190505   SS      WO          0     T      0   \n",
       "356         356  20190507HHSK0  20190507   SK      HH          0     B      0   \n",
       "357         357  20190507HHSK0  20190507   HH      SK          0     T      0   \n",
       "358         358  20190507HTOB0  20190507   OB      HT          0     B      0   \n",
       "359         359  20190507HTOB0  20190507   HT      OB          0     T      0   \n",
       "\n",
       "    WLS  HOLD  ...  LOB  P_HRA_RT  P_AB_CN  P_HIT_CN  VISIT_KEY  HOME_KEY  \\\n",
       "0     W     1  ...    4  0.500000        4         2         HH        OB   \n",
       "1     L     0  ...   11  0.200000       10         2         HH        OB   \n",
       "2     W     1  ...    6  0.375000        8         3         KT        SK   \n",
       "3     L     0  ...    8  0.200000       10         2         KT        SK   \n",
       "4     L     0  ...    6  0.000000        9         0         LG        HT   \n",
       "..   ..   ...  ...  ...       ...      ...       ...        ...       ...   \n",
       "355   L     0  ...    4  0.500000        2         1         SS        WO   \n",
       "356   W     0  ...    9  0.461538       13         6         HH        SK   \n",
       "357   L     0  ...    5  0.200000        5         1         HH        SK   \n",
       "358   W     0  ...    7  0.285714        7         2         HT        OB   \n",
       "359   L     0  ...    9  0.200000       10         2         HT        OB   \n",
       "\n",
       "     GWEEK  STADIUM       AVG        ERA  \n",
       "0        토       잠실  0.214286   4.000000  \n",
       "1        토       잠실  0.352941   5.625000  \n",
       "2        토       문학  0.258065   4.000000  \n",
       "3        토       문학  0.250000   6.750000  \n",
       "4        토       광주  0.107143   2.000000  \n",
       "..     ...      ...       ...        ...  \n",
       "355      일       고척  0.156250  13.500000  \n",
       "356      화       문학  0.333333   2.000000  \n",
       "357      화       문학  0.218750  12.375000  \n",
       "358      화       잠실  0.187500   3.000000  \n",
       "359      화       잠실  0.250000   3.115385  \n",
       "\n",
       "[360 rows x 63 columns]"
      ]
     },
     "execution_count": 71,
     "metadata": {},
     "output_type": "execute_result"
    }
   ],
   "source": [
    "team_19_1"
   ]
  },
  {
   "cell_type": "code",
   "execution_count": 72,
   "metadata": {},
   "outputs": [
    {
     "data": {
      "text/html": [
       "<div>\n",
       "<style scoped>\n",
       "    .dataframe tbody tr th:only-of-type {\n",
       "        vertical-align: middle;\n",
       "    }\n",
       "\n",
       "    .dataframe tbody tr th {\n",
       "        vertical-align: top;\n",
       "    }\n",
       "\n",
       "    .dataframe thead th {\n",
       "        text-align: right;\n",
       "    }\n",
       "</style>\n",
       "<table border=\"1\" class=\"dataframe\">\n",
       "  <thead>\n",
       "    <tr style=\"text-align: right;\">\n",
       "      <th></th>\n",
       "      <th>Unnamed: 0</th>\n",
       "      <th>G_ID</th>\n",
       "      <th>GDAY_DS</th>\n",
       "      <th>T_ID</th>\n",
       "      <th>VS_T_ID</th>\n",
       "      <th>HEADER_NO</th>\n",
       "      <th>TB_SC</th>\n",
       "      <th>CG_CK</th>\n",
       "      <th>WLS</th>\n",
       "      <th>HOLD</th>\n",
       "      <th>...</th>\n",
       "      <th>LOB</th>\n",
       "      <th>P_HRA_RT</th>\n",
       "      <th>P_AB_CN</th>\n",
       "      <th>P_HIT_CN</th>\n",
       "      <th>VISIT_KEY</th>\n",
       "      <th>HOME_KEY</th>\n",
       "      <th>GWEEK</th>\n",
       "      <th>STADIUM</th>\n",
       "      <th>AVG</th>\n",
       "      <th>ERA</th>\n",
       "    </tr>\n",
       "  </thead>\n",
       "  <tbody>\n",
       "    <tr>\n",
       "      <th>360</th>\n",
       "      <td>360</td>\n",
       "      <td>20190507LGWO0</td>\n",
       "      <td>20190507</td>\n",
       "      <td>WO</td>\n",
       "      <td>LG</td>\n",
       "      <td>0</td>\n",
       "      <td>B</td>\n",
       "      <td>0</td>\n",
       "      <td>L</td>\n",
       "      <td>4</td>\n",
       "      <td>...</td>\n",
       "      <td>9</td>\n",
       "      <td>0.312500</td>\n",
       "      <td>16</td>\n",
       "      <td>5</td>\n",
       "      <td>LG</td>\n",
       "      <td>WO</td>\n",
       "      <td>화</td>\n",
       "      <td>고척</td>\n",
       "      <td>0.307692</td>\n",
       "      <td>12.000</td>\n",
       "    </tr>\n",
       "    <tr>\n",
       "      <th>361</th>\n",
       "      <td>361</td>\n",
       "      <td>20190507LGWO0</td>\n",
       "      <td>20190507</td>\n",
       "      <td>LG</td>\n",
       "      <td>WO</td>\n",
       "      <td>0</td>\n",
       "      <td>T</td>\n",
       "      <td>0</td>\n",
       "      <td>W</td>\n",
       "      <td>0</td>\n",
       "      <td>...</td>\n",
       "      <td>9</td>\n",
       "      <td>0.333333</td>\n",
       "      <td>24</td>\n",
       "      <td>8</td>\n",
       "      <td>LG</td>\n",
       "      <td>WO</td>\n",
       "      <td>화</td>\n",
       "      <td>고척</td>\n",
       "      <td>0.418605</td>\n",
       "      <td>10.000</td>\n",
       "    </tr>\n",
       "    <tr>\n",
       "      <th>362</th>\n",
       "      <td>362</td>\n",
       "      <td>20190507LTKT0</td>\n",
       "      <td>20190507</td>\n",
       "      <td>KT</td>\n",
       "      <td>LT</td>\n",
       "      <td>0</td>\n",
       "      <td>B</td>\n",
       "      <td>0</td>\n",
       "      <td>W</td>\n",
       "      <td>0</td>\n",
       "      <td>...</td>\n",
       "      <td>10</td>\n",
       "      <td>0.200000</td>\n",
       "      <td>10</td>\n",
       "      <td>2</td>\n",
       "      <td>LT</td>\n",
       "      <td>KT</td>\n",
       "      <td>화</td>\n",
       "      <td>수원</td>\n",
       "      <td>0.333333</td>\n",
       "      <td>2.000</td>\n",
       "    </tr>\n",
       "    <tr>\n",
       "      <th>363</th>\n",
       "      <td>363</td>\n",
       "      <td>20190507LTKT0</td>\n",
       "      <td>20190507</td>\n",
       "      <td>LT</td>\n",
       "      <td>KT</td>\n",
       "      <td>0</td>\n",
       "      <td>T</td>\n",
       "      <td>0</td>\n",
       "      <td>L</td>\n",
       "      <td>0</td>\n",
       "      <td>...</td>\n",
       "      <td>6</td>\n",
       "      <td>0.300000</td>\n",
       "      <td>10</td>\n",
       "      <td>3</td>\n",
       "      <td>LT</td>\n",
       "      <td>KT</td>\n",
       "      <td>화</td>\n",
       "      <td>수원</td>\n",
       "      <td>0.303030</td>\n",
       "      <td>7.875</td>\n",
       "    </tr>\n",
       "    <tr>\n",
       "      <th>364</th>\n",
       "      <td>364</td>\n",
       "      <td>20190507NCSS0</td>\n",
       "      <td>20190507</td>\n",
       "      <td>SS</td>\n",
       "      <td>NC</td>\n",
       "      <td>0</td>\n",
       "      <td>B</td>\n",
       "      <td>0</td>\n",
       "      <td>W</td>\n",
       "      <td>2</td>\n",
       "      <td>...</td>\n",
       "      <td>3</td>\n",
       "      <td>0.166667</td>\n",
       "      <td>6</td>\n",
       "      <td>1</td>\n",
       "      <td>NC</td>\n",
       "      <td>SS</td>\n",
       "      <td>화</td>\n",
       "      <td>대구</td>\n",
       "      <td>0.206897</td>\n",
       "      <td>3.000</td>\n",
       "    </tr>\n",
       "    <tr>\n",
       "      <th>...</th>\n",
       "      <td>...</td>\n",
       "      <td>...</td>\n",
       "      <td>...</td>\n",
       "      <td>...</td>\n",
       "      <td>...</td>\n",
       "      <td>...</td>\n",
       "      <td>...</td>\n",
       "      <td>...</td>\n",
       "      <td>...</td>\n",
       "      <td>...</td>\n",
       "      <td>...</td>\n",
       "      <td>...</td>\n",
       "      <td>...</td>\n",
       "      <td>...</td>\n",
       "      <td>...</td>\n",
       "      <td>...</td>\n",
       "      <td>...</td>\n",
       "      <td>...</td>\n",
       "      <td>...</td>\n",
       "      <td>...</td>\n",
       "      <td>...</td>\n",
       "    </tr>\n",
       "    <tr>\n",
       "      <th>715</th>\n",
       "      <td>715</td>\n",
       "      <td>20190618NCOB0</td>\n",
       "      <td>20190618</td>\n",
       "      <td>NC</td>\n",
       "      <td>OB</td>\n",
       "      <td>0</td>\n",
       "      <td>T</td>\n",
       "      <td>0</td>\n",
       "      <td>L</td>\n",
       "      <td>0</td>\n",
       "      <td>...</td>\n",
       "      <td>9</td>\n",
       "      <td>0.307692</td>\n",
       "      <td>13</td>\n",
       "      <td>4</td>\n",
       "      <td>NC</td>\n",
       "      <td>OB</td>\n",
       "      <td>화</td>\n",
       "      <td>잠실</td>\n",
       "      <td>0.314286</td>\n",
       "      <td>11.250</td>\n",
       "    </tr>\n",
       "    <tr>\n",
       "      <th>716</th>\n",
       "      <td>716</td>\n",
       "      <td>20190618SKHT0</td>\n",
       "      <td>20190618</td>\n",
       "      <td>HT</td>\n",
       "      <td>SK</td>\n",
       "      <td>0</td>\n",
       "      <td>B</td>\n",
       "      <td>0</td>\n",
       "      <td>W</td>\n",
       "      <td>1</td>\n",
       "      <td>...</td>\n",
       "      <td>4</td>\n",
       "      <td>0.333333</td>\n",
       "      <td>6</td>\n",
       "      <td>2</td>\n",
       "      <td>SK</td>\n",
       "      <td>HT</td>\n",
       "      <td>화</td>\n",
       "      <td>광주</td>\n",
       "      <td>0.333333</td>\n",
       "      <td>2.000</td>\n",
       "    </tr>\n",
       "    <tr>\n",
       "      <th>717</th>\n",
       "      <td>717</td>\n",
       "      <td>20190618SKHT0</td>\n",
       "      <td>20190618</td>\n",
       "      <td>SK</td>\n",
       "      <td>HT</td>\n",
       "      <td>0</td>\n",
       "      <td>T</td>\n",
       "      <td>0</td>\n",
       "      <td>L</td>\n",
       "      <td>0</td>\n",
       "      <td>...</td>\n",
       "      <td>3</td>\n",
       "      <td>0.333333</td>\n",
       "      <td>3</td>\n",
       "      <td>1</td>\n",
       "      <td>SK</td>\n",
       "      <td>HT</td>\n",
       "      <td>화</td>\n",
       "      <td>광주</td>\n",
       "      <td>0.193548</td>\n",
       "      <td>4.500</td>\n",
       "    </tr>\n",
       "    <tr>\n",
       "      <th>718</th>\n",
       "      <td>718</td>\n",
       "      <td>20190619KTWO0</td>\n",
       "      <td>20190619</td>\n",
       "      <td>WO</td>\n",
       "      <td>KT</td>\n",
       "      <td>0</td>\n",
       "      <td>B</td>\n",
       "      <td>0</td>\n",
       "      <td>W</td>\n",
       "      <td>0</td>\n",
       "      <td>...</td>\n",
       "      <td>9</td>\n",
       "      <td>0.333333</td>\n",
       "      <td>15</td>\n",
       "      <td>5</td>\n",
       "      <td>KT</td>\n",
       "      <td>WO</td>\n",
       "      <td>수</td>\n",
       "      <td>고척</td>\n",
       "      <td>0.416667</td>\n",
       "      <td>1.000</td>\n",
       "    </tr>\n",
       "    <tr>\n",
       "      <th>719</th>\n",
       "      <td>719</td>\n",
       "      <td>20190619KTWO0</td>\n",
       "      <td>20190619</td>\n",
       "      <td>KT</td>\n",
       "      <td>WO</td>\n",
       "      <td>0</td>\n",
       "      <td>T</td>\n",
       "      <td>0</td>\n",
       "      <td>L</td>\n",
       "      <td>0</td>\n",
       "      <td>...</td>\n",
       "      <td>8</td>\n",
       "      <td>0.000000</td>\n",
       "      <td>8</td>\n",
       "      <td>0</td>\n",
       "      <td>KT</td>\n",
       "      <td>WO</td>\n",
       "      <td>수</td>\n",
       "      <td>고척</td>\n",
       "      <td>0.205882</td>\n",
       "      <td>9.000</td>\n",
       "    </tr>\n",
       "  </tbody>\n",
       "</table>\n",
       "<p>360 rows × 63 columns</p>\n",
       "</div>"
      ],
      "text/plain": [
       "     Unnamed: 0           G_ID   GDAY_DS T_ID VS_T_ID  HEADER_NO TB_SC  CG_CK  \\\n",
       "360         360  20190507LGWO0  20190507   WO      LG          0     B      0   \n",
       "361         361  20190507LGWO0  20190507   LG      WO          0     T      0   \n",
       "362         362  20190507LTKT0  20190507   KT      LT          0     B      0   \n",
       "363         363  20190507LTKT0  20190507   LT      KT          0     T      0   \n",
       "364         364  20190507NCSS0  20190507   SS      NC          0     B      0   \n",
       "..          ...            ...       ...  ...     ...        ...   ...    ...   \n",
       "715         715  20190618NCOB0  20190618   NC      OB          0     T      0   \n",
       "716         716  20190618SKHT0  20190618   HT      SK          0     B      0   \n",
       "717         717  20190618SKHT0  20190618   SK      HT          0     T      0   \n",
       "718         718  20190619KTWO0  20190619   WO      KT          0     B      0   \n",
       "719         719  20190619KTWO0  20190619   KT      WO          0     T      0   \n",
       "\n",
       "    WLS  HOLD  ...  LOB  P_HRA_RT  P_AB_CN  P_HIT_CN  VISIT_KEY  HOME_KEY  \\\n",
       "360   L     4  ...    9  0.312500       16         5         LG        WO   \n",
       "361   W     0  ...    9  0.333333       24         8         LG        WO   \n",
       "362   W     0  ...   10  0.200000       10         2         LT        KT   \n",
       "363   L     0  ...    6  0.300000       10         3         LT        KT   \n",
       "364   W     2  ...    3  0.166667        6         1         NC        SS   \n",
       "..   ..   ...  ...  ...       ...      ...       ...        ...       ...   \n",
       "715   L     0  ...    9  0.307692       13         4         NC        OB   \n",
       "716   W     1  ...    4  0.333333        6         2         SK        HT   \n",
       "717   L     0  ...    3  0.333333        3         1         SK        HT   \n",
       "718   W     0  ...    9  0.333333       15         5         KT        WO   \n",
       "719   L     0  ...    8  0.000000        8         0         KT        WO   \n",
       "\n",
       "     GWEEK  STADIUM       AVG     ERA  \n",
       "360      화       고척  0.307692  12.000  \n",
       "361      화       고척  0.418605  10.000  \n",
       "362      화       수원  0.333333   2.000  \n",
       "363      화       수원  0.303030   7.875  \n",
       "364      화       대구  0.206897   3.000  \n",
       "..     ...      ...       ...     ...  \n",
       "715      화       잠실  0.314286  11.250  \n",
       "716      화       광주  0.333333   2.000  \n",
       "717      화       광주  0.193548   4.500  \n",
       "718      수       고척  0.416667   1.000  \n",
       "719      수       고척  0.205882   9.000  \n",
       "\n",
       "[360 rows x 63 columns]"
      ]
     },
     "execution_count": 72,
     "metadata": {},
     "output_type": "execute_result"
    }
   ],
   "source": [
    "team_19_2"
   ]
  },
  {
   "cell_type": "code",
   "execution_count": 73,
   "metadata": {},
   "outputs": [
    {
     "data": {
      "text/html": [
       "<div>\n",
       "<style scoped>\n",
       "    .dataframe tbody tr th:only-of-type {\n",
       "        vertical-align: middle;\n",
       "    }\n",
       "\n",
       "    .dataframe tbody tr th {\n",
       "        vertical-align: top;\n",
       "    }\n",
       "\n",
       "    .dataframe thead th {\n",
       "        text-align: right;\n",
       "    }\n",
       "</style>\n",
       "<table border=\"1\" class=\"dataframe\">\n",
       "  <thead>\n",
       "    <tr style=\"text-align: right;\">\n",
       "      <th></th>\n",
       "      <th>Unnamed: 0</th>\n",
       "      <th>G_ID</th>\n",
       "      <th>GDAY_DS</th>\n",
       "      <th>T_ID</th>\n",
       "      <th>VS_T_ID</th>\n",
       "      <th>HEADER_NO</th>\n",
       "      <th>TB_SC</th>\n",
       "      <th>CG_CK</th>\n",
       "      <th>WLS</th>\n",
       "      <th>HOLD</th>\n",
       "      <th>...</th>\n",
       "      <th>LOB</th>\n",
       "      <th>P_HRA_RT</th>\n",
       "      <th>P_AB_CN</th>\n",
       "      <th>P_HIT_CN</th>\n",
       "      <th>VISIT_KEY</th>\n",
       "      <th>HOME_KEY</th>\n",
       "      <th>GWEEK</th>\n",
       "      <th>STADIUM</th>\n",
       "      <th>AVG</th>\n",
       "      <th>ERA</th>\n",
       "    </tr>\n",
       "  </thead>\n",
       "  <tbody>\n",
       "    <tr>\n",
       "      <th>720</th>\n",
       "      <td>720</td>\n",
       "      <td>20190619LGSS0</td>\n",
       "      <td>20190619</td>\n",
       "      <td>SS</td>\n",
       "      <td>LG</td>\n",
       "      <td>0</td>\n",
       "      <td>B</td>\n",
       "      <td>0</td>\n",
       "      <td>L</td>\n",
       "      <td>0</td>\n",
       "      <td>...</td>\n",
       "      <td>6</td>\n",
       "      <td>0.300000</td>\n",
       "      <td>10</td>\n",
       "      <td>3</td>\n",
       "      <td>LG</td>\n",
       "      <td>SS</td>\n",
       "      <td>수</td>\n",
       "      <td>대구</td>\n",
       "      <td>0.205882</td>\n",
       "      <td>9.00</td>\n",
       "    </tr>\n",
       "    <tr>\n",
       "      <th>721</th>\n",
       "      <td>721</td>\n",
       "      <td>20190619LGSS0</td>\n",
       "      <td>20190619</td>\n",
       "      <td>LG</td>\n",
       "      <td>SS</td>\n",
       "      <td>0</td>\n",
       "      <td>T</td>\n",
       "      <td>0</td>\n",
       "      <td>W</td>\n",
       "      <td>0</td>\n",
       "      <td>...</td>\n",
       "      <td>9</td>\n",
       "      <td>0.500000</td>\n",
       "      <td>12</td>\n",
       "      <td>6</td>\n",
       "      <td>LG</td>\n",
       "      <td>SS</td>\n",
       "      <td>수</td>\n",
       "      <td>대구</td>\n",
       "      <td>0.350000</td>\n",
       "      <td>5.00</td>\n",
       "    </tr>\n",
       "    <tr>\n",
       "      <th>722</th>\n",
       "      <td>722</td>\n",
       "      <td>20190619LTHH0</td>\n",
       "      <td>20190619</td>\n",
       "      <td>HH</td>\n",
       "      <td>LT</td>\n",
       "      <td>0</td>\n",
       "      <td>B</td>\n",
       "      <td>0</td>\n",
       "      <td>L</td>\n",
       "      <td>1</td>\n",
       "      <td>...</td>\n",
       "      <td>8</td>\n",
       "      <td>0.363636</td>\n",
       "      <td>11</td>\n",
       "      <td>4</td>\n",
       "      <td>LT</td>\n",
       "      <td>HH</td>\n",
       "      <td>수</td>\n",
       "      <td>대전</td>\n",
       "      <td>0.307692</td>\n",
       "      <td>6.30</td>\n",
       "    </tr>\n",
       "    <tr>\n",
       "      <th>723</th>\n",
       "      <td>723</td>\n",
       "      <td>20190619LTHH0</td>\n",
       "      <td>20190619</td>\n",
       "      <td>LT</td>\n",
       "      <td>HH</td>\n",
       "      <td>0</td>\n",
       "      <td>T</td>\n",
       "      <td>0</td>\n",
       "      <td>W</td>\n",
       "      <td>0</td>\n",
       "      <td>...</td>\n",
       "      <td>5</td>\n",
       "      <td>0.333333</td>\n",
       "      <td>6</td>\n",
       "      <td>2</td>\n",
       "      <td>LT</td>\n",
       "      <td>HH</td>\n",
       "      <td>수</td>\n",
       "      <td>대전</td>\n",
       "      <td>0.216216</td>\n",
       "      <td>4.50</td>\n",
       "    </tr>\n",
       "    <tr>\n",
       "      <th>724</th>\n",
       "      <td>724</td>\n",
       "      <td>20190619NCOB0</td>\n",
       "      <td>20190619</td>\n",
       "      <td>OB</td>\n",
       "      <td>NC</td>\n",
       "      <td>0</td>\n",
       "      <td>B</td>\n",
       "      <td>0</td>\n",
       "      <td>W</td>\n",
       "      <td>2</td>\n",
       "      <td>...</td>\n",
       "      <td>5</td>\n",
       "      <td>0.333333</td>\n",
       "      <td>6</td>\n",
       "      <td>2</td>\n",
       "      <td>NC</td>\n",
       "      <td>OB</td>\n",
       "      <td>수</td>\n",
       "      <td>잠실</td>\n",
       "      <td>0.178571</td>\n",
       "      <td>0.00</td>\n",
       "    </tr>\n",
       "    <tr>\n",
       "      <th>...</th>\n",
       "      <td>...</td>\n",
       "      <td>...</td>\n",
       "      <td>...</td>\n",
       "      <td>...</td>\n",
       "      <td>...</td>\n",
       "      <td>...</td>\n",
       "      <td>...</td>\n",
       "      <td>...</td>\n",
       "      <td>...</td>\n",
       "      <td>...</td>\n",
       "      <td>...</td>\n",
       "      <td>...</td>\n",
       "      <td>...</td>\n",
       "      <td>...</td>\n",
       "      <td>...</td>\n",
       "      <td>...</td>\n",
       "      <td>...</td>\n",
       "      <td>...</td>\n",
       "      <td>...</td>\n",
       "      <td>...</td>\n",
       "      <td>...</td>\n",
       "    </tr>\n",
       "    <tr>\n",
       "      <th>1175</th>\n",
       "      <td>1175</td>\n",
       "      <td>20190824HTSK0</td>\n",
       "      <td>20190824</td>\n",
       "      <td>HT</td>\n",
       "      <td>SK</td>\n",
       "      <td>0</td>\n",
       "      <td>T</td>\n",
       "      <td>0</td>\n",
       "      <td>L</td>\n",
       "      <td>0</td>\n",
       "      <td>...</td>\n",
       "      <td>4</td>\n",
       "      <td>0.333333</td>\n",
       "      <td>6</td>\n",
       "      <td>2</td>\n",
       "      <td>HT</td>\n",
       "      <td>SK</td>\n",
       "      <td>토</td>\n",
       "      <td>문학</td>\n",
       "      <td>0.212121</td>\n",
       "      <td>4.50</td>\n",
       "    </tr>\n",
       "    <tr>\n",
       "      <th>1176</th>\n",
       "      <td>1176</td>\n",
       "      <td>20190824KTLG0</td>\n",
       "      <td>20190824</td>\n",
       "      <td>LG</td>\n",
       "      <td>KT</td>\n",
       "      <td>0</td>\n",
       "      <td>B</td>\n",
       "      <td>0</td>\n",
       "      <td>W</td>\n",
       "      <td>0</td>\n",
       "      <td>...</td>\n",
       "      <td>8</td>\n",
       "      <td>0.500000</td>\n",
       "      <td>14</td>\n",
       "      <td>7</td>\n",
       "      <td>KT</td>\n",
       "      <td>LG</td>\n",
       "      <td>토</td>\n",
       "      <td>잠실</td>\n",
       "      <td>0.341463</td>\n",
       "      <td>8.00</td>\n",
       "    </tr>\n",
       "    <tr>\n",
       "      <th>1177</th>\n",
       "      <td>1177</td>\n",
       "      <td>20190824KTLG0</td>\n",
       "      <td>20190824</td>\n",
       "      <td>KT</td>\n",
       "      <td>LG</td>\n",
       "      <td>0</td>\n",
       "      <td>T</td>\n",
       "      <td>0</td>\n",
       "      <td>L</td>\n",
       "      <td>0</td>\n",
       "      <td>...</td>\n",
       "      <td>7</td>\n",
       "      <td>0.375000</td>\n",
       "      <td>8</td>\n",
       "      <td>3</td>\n",
       "      <td>KT</td>\n",
       "      <td>LG</td>\n",
       "      <td>토</td>\n",
       "      <td>잠실</td>\n",
       "      <td>0.277778</td>\n",
       "      <td>11.25</td>\n",
       "    </tr>\n",
       "    <tr>\n",
       "      <th>1178</th>\n",
       "      <td>1178</td>\n",
       "      <td>20190824NCLT0</td>\n",
       "      <td>20190824</td>\n",
       "      <td>LT</td>\n",
       "      <td>NC</td>\n",
       "      <td>0</td>\n",
       "      <td>B</td>\n",
       "      <td>0</td>\n",
       "      <td>L</td>\n",
       "      <td>0</td>\n",
       "      <td>...</td>\n",
       "      <td>6</td>\n",
       "      <td>0.500000</td>\n",
       "      <td>2</td>\n",
       "      <td>1</td>\n",
       "      <td>NC</td>\n",
       "      <td>LT</td>\n",
       "      <td>토</td>\n",
       "      <td>사직</td>\n",
       "      <td>0.250000</td>\n",
       "      <td>8.00</td>\n",
       "    </tr>\n",
       "    <tr>\n",
       "      <th>1179</th>\n",
       "      <td>1179</td>\n",
       "      <td>20190824NCLT0</td>\n",
       "      <td>20190824</td>\n",
       "      <td>NC</td>\n",
       "      <td>LT</td>\n",
       "      <td>0</td>\n",
       "      <td>T</td>\n",
       "      <td>0</td>\n",
       "      <td>W</td>\n",
       "      <td>0</td>\n",
       "      <td>...</td>\n",
       "      <td>8</td>\n",
       "      <td>0.416667</td>\n",
       "      <td>12</td>\n",
       "      <td>5</td>\n",
       "      <td>NC</td>\n",
       "      <td>LT</td>\n",
       "      <td>토</td>\n",
       "      <td>사직</td>\n",
       "      <td>0.394737</td>\n",
       "      <td>3.00</td>\n",
       "    </tr>\n",
       "  </tbody>\n",
       "</table>\n",
       "<p>460 rows × 63 columns</p>\n",
       "</div>"
      ],
      "text/plain": [
       "      Unnamed: 0           G_ID   GDAY_DS T_ID VS_T_ID  HEADER_NO TB_SC  \\\n",
       "720          720  20190619LGSS0  20190619   SS      LG          0     B   \n",
       "721          721  20190619LGSS0  20190619   LG      SS          0     T   \n",
       "722          722  20190619LTHH0  20190619   HH      LT          0     B   \n",
       "723          723  20190619LTHH0  20190619   LT      HH          0     T   \n",
       "724          724  20190619NCOB0  20190619   OB      NC          0     B   \n",
       "...          ...            ...       ...  ...     ...        ...   ...   \n",
       "1175        1175  20190824HTSK0  20190824   HT      SK          0     T   \n",
       "1176        1176  20190824KTLG0  20190824   LG      KT          0     B   \n",
       "1177        1177  20190824KTLG0  20190824   KT      LG          0     T   \n",
       "1178        1178  20190824NCLT0  20190824   LT      NC          0     B   \n",
       "1179        1179  20190824NCLT0  20190824   NC      LT          0     T   \n",
       "\n",
       "      CG_CK WLS  HOLD  ...  LOB  P_HRA_RT  P_AB_CN  P_HIT_CN  VISIT_KEY  \\\n",
       "720       0   L     0  ...    6  0.300000       10         3         LG   \n",
       "721       0   W     0  ...    9  0.500000       12         6         LG   \n",
       "722       0   L     1  ...    8  0.363636       11         4         LT   \n",
       "723       0   W     0  ...    5  0.333333        6         2         LT   \n",
       "724       0   W     2  ...    5  0.333333        6         2         NC   \n",
       "...     ...  ..   ...  ...  ...       ...      ...       ...        ...   \n",
       "1175      0   L     0  ...    4  0.333333        6         2         HT   \n",
       "1176      0   W     0  ...    8  0.500000       14         7         KT   \n",
       "1177      0   L     0  ...    7  0.375000        8         3         KT   \n",
       "1178      0   L     0  ...    6  0.500000        2         1         NC   \n",
       "1179      0   W     0  ...    8  0.416667       12         5         NC   \n",
       "\n",
       "      HOME_KEY  GWEEK  STADIUM       AVG    ERA  \n",
       "720         SS      수       대구  0.205882   9.00  \n",
       "721         SS      수       대구  0.350000   5.00  \n",
       "722         HH      수       대전  0.307692   6.30  \n",
       "723         HH      수       대전  0.216216   4.50  \n",
       "724         OB      수       잠실  0.178571   0.00  \n",
       "...        ...    ...      ...       ...    ...  \n",
       "1175        SK      토       문학  0.212121   4.50  \n",
       "1176        LG      토       잠실  0.341463   8.00  \n",
       "1177        LG      토       잠실  0.277778  11.25  \n",
       "1178        LT      토       사직  0.250000   8.00  \n",
       "1179        LT      토       사직  0.394737   3.00  \n",
       "\n",
       "[460 rows x 63 columns]"
      ]
     },
     "execution_count": 73,
     "metadata": {},
     "output_type": "execute_result"
    }
   ],
   "source": [
    "team_19_3"
   ]
  },
  {
   "cell_type": "code",
   "execution_count": 74,
   "metadata": {},
   "outputs": [
    {
     "data": {
      "text/html": [
       "<div>\n",
       "<style scoped>\n",
       "    .dataframe tbody tr th:only-of-type {\n",
       "        vertical-align: middle;\n",
       "    }\n",
       "\n",
       "    .dataframe tbody tr th {\n",
       "        vertical-align: top;\n",
       "    }\n",
       "\n",
       "    .dataframe thead th {\n",
       "        text-align: right;\n",
       "    }\n",
       "</style>\n",
       "<table border=\"1\" class=\"dataframe\">\n",
       "  <thead>\n",
       "    <tr style=\"text-align: right;\">\n",
       "      <th></th>\n",
       "      <th>Unnamed: 0</th>\n",
       "      <th>G_ID</th>\n",
       "      <th>GDAY_DS</th>\n",
       "      <th>T_ID</th>\n",
       "      <th>VS_T_ID</th>\n",
       "      <th>HEADER_NO</th>\n",
       "      <th>TB_SC</th>\n",
       "      <th>CG_CK</th>\n",
       "      <th>WLS</th>\n",
       "      <th>HOLD</th>\n",
       "      <th>...</th>\n",
       "      <th>LOB</th>\n",
       "      <th>P_HRA_RT</th>\n",
       "      <th>P_AB_CN</th>\n",
       "      <th>P_HIT_CN</th>\n",
       "      <th>VISIT_KEY</th>\n",
       "      <th>HOME_KEY</th>\n",
       "      <th>GWEEK</th>\n",
       "      <th>STADIUM</th>\n",
       "      <th>AVG</th>\n",
       "      <th>ERA</th>\n",
       "    </tr>\n",
       "  </thead>\n",
       "  <tbody>\n",
       "    <tr>\n",
       "      <th>1180</th>\n",
       "      <td>1180</td>\n",
       "      <td>20190824OBHH0</td>\n",
       "      <td>20190824</td>\n",
       "      <td>HH</td>\n",
       "      <td>OB</td>\n",
       "      <td>0</td>\n",
       "      <td>B</td>\n",
       "      <td>0</td>\n",
       "      <td>L</td>\n",
       "      <td>0</td>\n",
       "      <td>...</td>\n",
       "      <td>6</td>\n",
       "      <td>0.125000</td>\n",
       "      <td>8</td>\n",
       "      <td>1</td>\n",
       "      <td>OB</td>\n",
       "      <td>HH</td>\n",
       "      <td>토</td>\n",
       "      <td>대전</td>\n",
       "      <td>0.294118</td>\n",
       "      <td>9.00</td>\n",
       "    </tr>\n",
       "    <tr>\n",
       "      <th>1181</th>\n",
       "      <td>1181</td>\n",
       "      <td>20190824OBHH0</td>\n",
       "      <td>20190824</td>\n",
       "      <td>OB</td>\n",
       "      <td>HH</td>\n",
       "      <td>0</td>\n",
       "      <td>T</td>\n",
       "      <td>0</td>\n",
       "      <td>W</td>\n",
       "      <td>0</td>\n",
       "      <td>...</td>\n",
       "      <td>10</td>\n",
       "      <td>0.333333</td>\n",
       "      <td>18</td>\n",
       "      <td>6</td>\n",
       "      <td>OB</td>\n",
       "      <td>HH</td>\n",
       "      <td>토</td>\n",
       "      <td>대전</td>\n",
       "      <td>0.363636</td>\n",
       "      <td>3.00</td>\n",
       "    </tr>\n",
       "    <tr>\n",
       "      <th>1182</th>\n",
       "      <td>1182</td>\n",
       "      <td>20190824WOSS0</td>\n",
       "      <td>20190824</td>\n",
       "      <td>SS</td>\n",
       "      <td>WO</td>\n",
       "      <td>0</td>\n",
       "      <td>B</td>\n",
       "      <td>0</td>\n",
       "      <td>W</td>\n",
       "      <td>2</td>\n",
       "      <td>...</td>\n",
       "      <td>6</td>\n",
       "      <td>0.200000</td>\n",
       "      <td>10</td>\n",
       "      <td>2</td>\n",
       "      <td>WO</td>\n",
       "      <td>SS</td>\n",
       "      <td>토</td>\n",
       "      <td>대구</td>\n",
       "      <td>0.233333</td>\n",
       "      <td>1.00</td>\n",
       "    </tr>\n",
       "    <tr>\n",
       "      <th>1183</th>\n",
       "      <td>1183</td>\n",
       "      <td>20190824WOSS0</td>\n",
       "      <td>20190824</td>\n",
       "      <td>WO</td>\n",
       "      <td>SS</td>\n",
       "      <td>0</td>\n",
       "      <td>T</td>\n",
       "      <td>0</td>\n",
       "      <td>L</td>\n",
       "      <td>0</td>\n",
       "      <td>...</td>\n",
       "      <td>13</td>\n",
       "      <td>0.090909</td>\n",
       "      <td>11</td>\n",
       "      <td>1</td>\n",
       "      <td>WO</td>\n",
       "      <td>SS</td>\n",
       "      <td>토</td>\n",
       "      <td>대구</td>\n",
       "      <td>0.264706</td>\n",
       "      <td>2.25</td>\n",
       "    </tr>\n",
       "    <tr>\n",
       "      <th>1184</th>\n",
       "      <td>1184</td>\n",
       "      <td>20190825HTSK0</td>\n",
       "      <td>20190825</td>\n",
       "      <td>SK</td>\n",
       "      <td>HT</td>\n",
       "      <td>0</td>\n",
       "      <td>B</td>\n",
       "      <td>0</td>\n",
       "      <td>L</td>\n",
       "      <td>0</td>\n",
       "      <td>...</td>\n",
       "      <td>5</td>\n",
       "      <td>0.400000</td>\n",
       "      <td>5</td>\n",
       "      <td>2</td>\n",
       "      <td>HT</td>\n",
       "      <td>SK</td>\n",
       "      <td>일</td>\n",
       "      <td>문학</td>\n",
       "      <td>0.250000</td>\n",
       "      <td>4.00</td>\n",
       "    </tr>\n",
       "    <tr>\n",
       "      <th>...</th>\n",
       "      <td>...</td>\n",
       "      <td>...</td>\n",
       "      <td>...</td>\n",
       "      <td>...</td>\n",
       "      <td>...</td>\n",
       "      <td>...</td>\n",
       "      <td>...</td>\n",
       "      <td>...</td>\n",
       "      <td>...</td>\n",
       "      <td>...</td>\n",
       "      <td>...</td>\n",
       "      <td>...</td>\n",
       "      <td>...</td>\n",
       "      <td>...</td>\n",
       "      <td>...</td>\n",
       "      <td>...</td>\n",
       "      <td>...</td>\n",
       "      <td>...</td>\n",
       "      <td>...</td>\n",
       "      <td>...</td>\n",
       "      <td>...</td>\n",
       "    </tr>\n",
       "    <tr>\n",
       "      <th>1435</th>\n",
       "      <td>1435</td>\n",
       "      <td>20190930SKHH0</td>\n",
       "      <td>20190930</td>\n",
       "      <td>SK</td>\n",
       "      <td>HH</td>\n",
       "      <td>0</td>\n",
       "      <td>T</td>\n",
       "      <td>0</td>\n",
       "      <td>W</td>\n",
       "      <td>1</td>\n",
       "      <td>...</td>\n",
       "      <td>8</td>\n",
       "      <td>0.400000</td>\n",
       "      <td>10</td>\n",
       "      <td>4</td>\n",
       "      <td>SK</td>\n",
       "      <td>HH</td>\n",
       "      <td>월</td>\n",
       "      <td>대전</td>\n",
       "      <td>0.272727</td>\n",
       "      <td>2.00</td>\n",
       "    </tr>\n",
       "    <tr>\n",
       "      <th>1436</th>\n",
       "      <td>1436</td>\n",
       "      <td>20191001NCOB0</td>\n",
       "      <td>20191001</td>\n",
       "      <td>OB</td>\n",
       "      <td>NC</td>\n",
       "      <td>0</td>\n",
       "      <td>B</td>\n",
       "      <td>0</td>\n",
       "      <td>W</td>\n",
       "      <td>0</td>\n",
       "      <td>...</td>\n",
       "      <td>11</td>\n",
       "      <td>0.266667</td>\n",
       "      <td>15</td>\n",
       "      <td>4</td>\n",
       "      <td>NC</td>\n",
       "      <td>OB</td>\n",
       "      <td>화</td>\n",
       "      <td>잠실</td>\n",
       "      <td>0.375000</td>\n",
       "      <td>5.00</td>\n",
       "    </tr>\n",
       "    <tr>\n",
       "      <th>1437</th>\n",
       "      <td>1437</td>\n",
       "      <td>20191001NCOB0</td>\n",
       "      <td>20191001</td>\n",
       "      <td>NC</td>\n",
       "      <td>OB</td>\n",
       "      <td>0</td>\n",
       "      <td>T</td>\n",
       "      <td>0</td>\n",
       "      <td>L</td>\n",
       "      <td>4</td>\n",
       "      <td>...</td>\n",
       "      <td>13</td>\n",
       "      <td>0.250000</td>\n",
       "      <td>16</td>\n",
       "      <td>4</td>\n",
       "      <td>NC</td>\n",
       "      <td>OB</td>\n",
       "      <td>화</td>\n",
       "      <td>잠실</td>\n",
       "      <td>0.395349</td>\n",
       "      <td>5.40</td>\n",
       "    </tr>\n",
       "    <tr>\n",
       "      <th>1438</th>\n",
       "      <td>1438</td>\n",
       "      <td>20191001WOLT0</td>\n",
       "      <td>20191001</td>\n",
       "      <td>LT</td>\n",
       "      <td>WO</td>\n",
       "      <td>0</td>\n",
       "      <td>B</td>\n",
       "      <td>0</td>\n",
       "      <td>L</td>\n",
       "      <td>0</td>\n",
       "      <td>...</td>\n",
       "      <td>9</td>\n",
       "      <td>0.166667</td>\n",
       "      <td>6</td>\n",
       "      <td>1</td>\n",
       "      <td>WO</td>\n",
       "      <td>LT</td>\n",
       "      <td>화</td>\n",
       "      <td>사직</td>\n",
       "      <td>0.250000</td>\n",
       "      <td>1.00</td>\n",
       "    </tr>\n",
       "    <tr>\n",
       "      <th>1439</th>\n",
       "      <td>1439</td>\n",
       "      <td>20191001WOLT0</td>\n",
       "      <td>20191001</td>\n",
       "      <td>WO</td>\n",
       "      <td>LT</td>\n",
       "      <td>0</td>\n",
       "      <td>T</td>\n",
       "      <td>0</td>\n",
       "      <td>W</td>\n",
       "      <td>5</td>\n",
       "      <td>...</td>\n",
       "      <td>8</td>\n",
       "      <td>0.300000</td>\n",
       "      <td>10</td>\n",
       "      <td>3</td>\n",
       "      <td>WO</td>\n",
       "      <td>LT</td>\n",
       "      <td>화</td>\n",
       "      <td>사직</td>\n",
       "      <td>0.228571</td>\n",
       "      <td>1.00</td>\n",
       "    </tr>\n",
       "  </tbody>\n",
       "</table>\n",
       "<p>260 rows × 63 columns</p>\n",
       "</div>"
      ],
      "text/plain": [
       "      Unnamed: 0           G_ID   GDAY_DS T_ID VS_T_ID  HEADER_NO TB_SC  \\\n",
       "1180        1180  20190824OBHH0  20190824   HH      OB          0     B   \n",
       "1181        1181  20190824OBHH0  20190824   OB      HH          0     T   \n",
       "1182        1182  20190824WOSS0  20190824   SS      WO          0     B   \n",
       "1183        1183  20190824WOSS0  20190824   WO      SS          0     T   \n",
       "1184        1184  20190825HTSK0  20190825   SK      HT          0     B   \n",
       "...          ...            ...       ...  ...     ...        ...   ...   \n",
       "1435        1435  20190930SKHH0  20190930   SK      HH          0     T   \n",
       "1436        1436  20191001NCOB0  20191001   OB      NC          0     B   \n",
       "1437        1437  20191001NCOB0  20191001   NC      OB          0     T   \n",
       "1438        1438  20191001WOLT0  20191001   LT      WO          0     B   \n",
       "1439        1439  20191001WOLT0  20191001   WO      LT          0     T   \n",
       "\n",
       "      CG_CK WLS  HOLD  ...  LOB  P_HRA_RT  P_AB_CN  P_HIT_CN  VISIT_KEY  \\\n",
       "1180      0   L     0  ...    6  0.125000        8         1         OB   \n",
       "1181      0   W     0  ...   10  0.333333       18         6         OB   \n",
       "1182      0   W     2  ...    6  0.200000       10         2         WO   \n",
       "1183      0   L     0  ...   13  0.090909       11         1         WO   \n",
       "1184      0   L     0  ...    5  0.400000        5         2         HT   \n",
       "...     ...  ..   ...  ...  ...       ...      ...       ...        ...   \n",
       "1435      0   W     1  ...    8  0.400000       10         4         SK   \n",
       "1436      0   W     0  ...   11  0.266667       15         4         NC   \n",
       "1437      0   L     4  ...   13  0.250000       16         4         NC   \n",
       "1438      0   L     0  ...    9  0.166667        6         1         WO   \n",
       "1439      0   W     5  ...    8  0.300000       10         3         WO   \n",
       "\n",
       "      HOME_KEY  GWEEK  STADIUM       AVG   ERA  \n",
       "1180        HH      토       대전  0.294118  9.00  \n",
       "1181        HH      토       대전  0.363636  3.00  \n",
       "1182        SS      토       대구  0.233333  1.00  \n",
       "1183        SS      토       대구  0.264706  2.25  \n",
       "1184        SK      일       문학  0.250000  4.00  \n",
       "...        ...    ...      ...       ...   ...  \n",
       "1435        HH      월       대전  0.272727  2.00  \n",
       "1436        OB      화       잠실  0.375000  5.00  \n",
       "1437        OB      화       잠실  0.395349  5.40  \n",
       "1438        LT      화       사직  0.250000  1.00  \n",
       "1439        LT      화       사직  0.228571  1.00  \n",
       "\n",
       "[260 rows x 63 columns]"
      ]
     },
     "execution_count": 74,
     "metadata": {},
     "output_type": "execute_result"
    }
   ],
   "source": [
    "team_19_4"
   ]
  },
  {
   "cell_type": "code",
   "execution_count": 75,
   "metadata": {},
   "outputs": [
    {
     "data": {
      "text/html": [
       "<div>\n",
       "<style scoped>\n",
       "    .dataframe tbody tr th:only-of-type {\n",
       "        vertical-align: middle;\n",
       "    }\n",
       "\n",
       "    .dataframe tbody tr th {\n",
       "        vertical-align: top;\n",
       "    }\n",
       "\n",
       "    .dataframe thead th {\n",
       "        text-align: right;\n",
       "    }\n",
       "</style>\n",
       "<table border=\"1\" class=\"dataframe\">\n",
       "  <thead>\n",
       "    <tr style=\"text-align: right;\">\n",
       "      <th>WLS</th>\n",
       "      <th>D</th>\n",
       "      <th>L</th>\n",
       "      <th>W</th>\n",
       "    </tr>\n",
       "    <tr>\n",
       "      <th>T_ID</th>\n",
       "      <th></th>\n",
       "      <th></th>\n",
       "      <th></th>\n",
       "    </tr>\n",
       "  </thead>\n",
       "  <tbody>\n",
       "    <tr>\n",
       "      <th>HH</th>\n",
       "      <td>0</td>\n",
       "      <td>19</td>\n",
       "      <td>16</td>\n",
       "    </tr>\n",
       "    <tr>\n",
       "      <th>HT</th>\n",
       "      <td>1</td>\n",
       "      <td>23</td>\n",
       "      <td>12</td>\n",
       "    </tr>\n",
       "    <tr>\n",
       "      <th>KT</th>\n",
       "      <td>0</td>\n",
       "      <td>26</td>\n",
       "      <td>11</td>\n",
       "    </tr>\n",
       "    <tr>\n",
       "      <th>LG</th>\n",
       "      <td>0</td>\n",
       "      <td>14</td>\n",
       "      <td>21</td>\n",
       "    </tr>\n",
       "    <tr>\n",
       "      <th>LT</th>\n",
       "      <td>0</td>\n",
       "      <td>23</td>\n",
       "      <td>12</td>\n",
       "    </tr>\n",
       "    <tr>\n",
       "      <th>NC</th>\n",
       "      <td>0</td>\n",
       "      <td>13</td>\n",
       "      <td>22</td>\n",
       "    </tr>\n",
       "    <tr>\n",
       "      <th>OB</th>\n",
       "      <td>0</td>\n",
       "      <td>12</td>\n",
       "      <td>26</td>\n",
       "    </tr>\n",
       "    <tr>\n",
       "      <th>SK</th>\n",
       "      <td>1</td>\n",
       "      <td>11</td>\n",
       "      <td>25</td>\n",
       "    </tr>\n",
       "    <tr>\n",
       "      <th>SS</th>\n",
       "      <td>0</td>\n",
       "      <td>23</td>\n",
       "      <td>12</td>\n",
       "    </tr>\n",
       "    <tr>\n",
       "      <th>WO</th>\n",
       "      <td>0</td>\n",
       "      <td>15</td>\n",
       "      <td>22</td>\n",
       "    </tr>\n",
       "  </tbody>\n",
       "</table>\n",
       "</div>"
      ],
      "text/plain": [
       "WLS   D   L   W\n",
       "T_ID           \n",
       "HH    0  19  16\n",
       "HT    1  23  12\n",
       "KT    0  26  11\n",
       "LG    0  14  21\n",
       "LT    0  23  12\n",
       "NC    0  13  22\n",
       "OB    0  12  26\n",
       "SK    1  11  25\n",
       "SS    0  23  12\n",
       "WO    0  15  22"
      ]
     },
     "execution_count": 75,
     "metadata": {},
     "output_type": "execute_result"
    }
   ],
   "source": [
    "pd.crosstab(team_19_1.T_ID,team_19_1.WLS)"
   ]
  },
  {
   "cell_type": "code",
   "execution_count": 38,
   "metadata": {},
   "outputs": [
    {
     "data": {
      "text/plain": [
       "<matplotlib.axes._subplots.AxesSubplot at 0x17e224c2408>"
      ]
     },
     "execution_count": 38,
     "metadata": {},
     "output_type": "execute_result"
    },
    {
     "data": {
      "image/png": "[encoded data removed]",
      "text/plain": [
       "<Figure size 432x288 with 1 Axes>"
      ]
     },
     "metadata": {
      "needs_background": "light"
     },
     "output_type": "display_data"
    }
   ],
   "source": [
    "pd.crosstab(team_19_1.T_ID,team_19_1.WLS).plot(kind='bar')"
   ]
  },
  {
   "cell_type": "code",
   "execution_count": 39,
   "metadata": {},
   "outputs": [
    {
     "data": {
      "text/html": [
       "<div>\n",
       "<style scoped>\n",
       "    .dataframe tbody tr th:only-of-type {\n",
       "        vertical-align: middle;\n",
       "    }\n",
       "\n",
       "    .dataframe tbody tr th {\n",
       "        vertical-align: top;\n",
       "    }\n",
       "\n",
       "    .dataframe thead th {\n",
       "        text-align: right;\n",
       "    }\n",
       "</style>\n",
       "<table border=\"1\" class=\"dataframe\">\n",
       "  <thead>\n",
       "    <tr style=\"text-align: right;\">\n",
       "      <th>WLS</th>\n",
       "      <th>D</th>\n",
       "      <th>L</th>\n",
       "      <th>W</th>\n",
       "    </tr>\n",
       "    <tr>\n",
       "      <th>T_ID</th>\n",
       "      <th></th>\n",
       "      <th></th>\n",
       "      <th></th>\n",
       "    </tr>\n",
       "  </thead>\n",
       "  <tbody>\n",
       "    <tr>\n",
       "      <th>HH</th>\n",
       "      <td>0</td>\n",
       "      <td>23</td>\n",
       "      <td>13</td>\n",
       "    </tr>\n",
       "    <tr>\n",
       "      <th>HT</th>\n",
       "      <td>0</td>\n",
       "      <td>18</td>\n",
       "      <td>17</td>\n",
       "    </tr>\n",
       "    <tr>\n",
       "      <th>KT</th>\n",
       "      <td>0</td>\n",
       "      <td>17</td>\n",
       "      <td>20</td>\n",
       "    </tr>\n",
       "    <tr>\n",
       "      <th>LG</th>\n",
       "      <td>1</td>\n",
       "      <td>16</td>\n",
       "      <td>19</td>\n",
       "    </tr>\n",
       "    <tr>\n",
       "      <th>LT</th>\n",
       "      <td>1</td>\n",
       "      <td>21</td>\n",
       "      <td>14</td>\n",
       "    </tr>\n",
       "    <tr>\n",
       "      <th>NC</th>\n",
       "      <td>0</td>\n",
       "      <td>22</td>\n",
       "      <td>14</td>\n",
       "    </tr>\n",
       "    <tr>\n",
       "      <th>OB</th>\n",
       "      <td>0</td>\n",
       "      <td>15</td>\n",
       "      <td>20</td>\n",
       "    </tr>\n",
       "    <tr>\n",
       "      <th>SK</th>\n",
       "      <td>0</td>\n",
       "      <td>13</td>\n",
       "      <td>22</td>\n",
       "    </tr>\n",
       "    <tr>\n",
       "      <th>SS</th>\n",
       "      <td>0</td>\n",
       "      <td>17</td>\n",
       "      <td>19</td>\n",
       "    </tr>\n",
       "    <tr>\n",
       "      <th>WO</th>\n",
       "      <td>0</td>\n",
       "      <td>17</td>\n",
       "      <td>21</td>\n",
       "    </tr>\n",
       "  </tbody>\n",
       "</table>\n",
       "</div>"
      ],
      "text/plain": [
       "WLS   D   L   W\n",
       "T_ID           \n",
       "HH    0  23  13\n",
       "HT    0  18  17\n",
       "KT    0  17  20\n",
       "LG    1  16  19\n",
       "LT    1  21  14\n",
       "NC    0  22  14\n",
       "OB    0  15  20\n",
       "SK    0  13  22\n",
       "SS    0  17  19\n",
       "WO    0  17  21"
      ]
     },
     "execution_count": 39,
     "metadata": {},
     "output_type": "execute_result"
    }
   ],
   "source": [
    "pd.crosstab(team_19_2.T_ID,team_19_2.WLS)"
   ]
  },
  {
   "cell_type": "code",
   "execution_count": 40,
   "metadata": {},
   "outputs": [
    {
     "data": {
      "text/plain": [
       "<matplotlib.axes._subplots.AxesSubplot at 0x17e24153688>"
      ]
     },
     "execution_count": 40,
     "metadata": {},
     "output_type": "execute_result"
    },
    {
     "data": {
      "image/png": "[encoded data removed]",
      "text/plain": [
       "<Figure size 432x288 with 1 Axes>"
      ]
     },
     "metadata": {
      "needs_background": "light"
     },
     "output_type": "display_data"
    }
   ],
   "source": [
    "pd.crosstab(team_19_2.T_ID,team_19_2.WLS).plot(kind='bar')"
   ]
  },
  {
   "cell_type": "code",
   "execution_count": 41,
   "metadata": {},
   "outputs": [
    {
     "data": {
      "text/html": [
       "<div>\n",
       "<style scoped>\n",
       "    .dataframe tbody tr th:only-of-type {\n",
       "        vertical-align: middle;\n",
       "    }\n",
       "\n",
       "    .dataframe tbody tr th {\n",
       "        vertical-align: top;\n",
       "    }\n",
       "\n",
       "    .dataframe thead th {\n",
       "        text-align: right;\n",
       "    }\n",
       "</style>\n",
       "<table border=\"1\" class=\"dataframe\">\n",
       "  <thead>\n",
       "    <tr style=\"text-align: right;\">\n",
       "      <th>WLS</th>\n",
       "      <th>D</th>\n",
       "      <th>L</th>\n",
       "      <th>W</th>\n",
       "    </tr>\n",
       "    <tr>\n",
       "      <th>T_ID</th>\n",
       "      <th></th>\n",
       "      <th></th>\n",
       "      <th></th>\n",
       "    </tr>\n",
       "  </thead>\n",
       "  <tbody>\n",
       "    <tr>\n",
       "      <th>HH</th>\n",
       "      <td>0</td>\n",
       "      <td>31</td>\n",
       "      <td>15</td>\n",
       "    </tr>\n",
       "    <tr>\n",
       "      <th>HT</th>\n",
       "      <td>1</td>\n",
       "      <td>26</td>\n",
       "      <td>20</td>\n",
       "    </tr>\n",
       "    <tr>\n",
       "      <th>KT</th>\n",
       "      <td>2</td>\n",
       "      <td>17</td>\n",
       "      <td>27</td>\n",
       "    </tr>\n",
       "    <tr>\n",
       "      <th>LG</th>\n",
       "      <td>0</td>\n",
       "      <td>22</td>\n",
       "      <td>25</td>\n",
       "    </tr>\n",
       "    <tr>\n",
       "      <th>LT</th>\n",
       "      <td>2</td>\n",
       "      <td>29</td>\n",
       "      <td>16</td>\n",
       "    </tr>\n",
       "    <tr>\n",
       "      <th>NC</th>\n",
       "      <td>1</td>\n",
       "      <td>22</td>\n",
       "      <td>23</td>\n",
       "    </tr>\n",
       "    <tr>\n",
       "      <th>OB</th>\n",
       "      <td>0</td>\n",
       "      <td>20</td>\n",
       "      <td>24</td>\n",
       "    </tr>\n",
       "    <tr>\n",
       "      <th>SK</th>\n",
       "      <td>0</td>\n",
       "      <td>16</td>\n",
       "      <td>32</td>\n",
       "    </tr>\n",
       "    <tr>\n",
       "      <th>SS</th>\n",
       "      <td>1</td>\n",
       "      <td>26</td>\n",
       "      <td>16</td>\n",
       "    </tr>\n",
       "    <tr>\n",
       "      <th>WO</th>\n",
       "      <td>1</td>\n",
       "      <td>17</td>\n",
       "      <td>28</td>\n",
       "    </tr>\n",
       "  </tbody>\n",
       "</table>\n",
       "</div>"
      ],
      "text/plain": [
       "WLS   D   L   W\n",
       "T_ID           \n",
       "HH    0  31  15\n",
       "HT    1  26  20\n",
       "KT    2  17  27\n",
       "LG    0  22  25\n",
       "LT    2  29  16\n",
       "NC    1  22  23\n",
       "OB    0  20  24\n",
       "SK    0  16  32\n",
       "SS    1  26  16\n",
       "WO    1  17  28"
      ]
     },
     "execution_count": 41,
     "metadata": {},
     "output_type": "execute_result"
    }
   ],
   "source": [
    "pd.crosstab(team_19_3.T_ID,team_19_3.WLS)"
   ]
  },
  {
   "cell_type": "code",
   "execution_count": 42,
   "metadata": {},
   "outputs": [
    {
     "data": {
      "text/plain": [
       "<matplotlib.axes._subplots.AxesSubplot at 0x17e2421a9c8>"
      ]
     },
     "execution_count": 42,
     "metadata": {},
     "output_type": "execute_result"
    },
    {
     "data": {
      "image/png": "[encoded data removed]",
      "text/plain": [
       "<Figure size 432x288 with 1 Axes>"
      ]
     },
     "metadata": {
      "needs_background": "light"
     },
     "output_type": "display_data"
    }
   ],
   "source": [
    "pd.crosstab(team_19_3.T_ID,team_19_3.WLS).plot(kind='bar')"
   ]
  },
  {
   "cell_type": "code",
   "execution_count": 43,
   "metadata": {},
   "outputs": [
    {
     "data": {
      "text/html": [
       "<div>\n",
       "<style scoped>\n",
       "    .dataframe tbody tr th:only-of-type {\n",
       "        vertical-align: middle;\n",
       "    }\n",
       "\n",
       "    .dataframe tbody tr th {\n",
       "        vertical-align: top;\n",
       "    }\n",
       "\n",
       "    .dataframe thead th {\n",
       "        text-align: right;\n",
       "    }\n",
       "</style>\n",
       "<table border=\"1\" class=\"dataframe\">\n",
       "  <thead>\n",
       "    <tr style=\"text-align: right;\">\n",
       "      <th>WLS</th>\n",
       "      <th>D</th>\n",
       "      <th>L</th>\n",
       "      <th>W</th>\n",
       "    </tr>\n",
       "    <tr>\n",
       "      <th>T_ID</th>\n",
       "      <th></th>\n",
       "      <th></th>\n",
       "      <th></th>\n",
       "    </tr>\n",
       "  </thead>\n",
       "  <tbody>\n",
       "    <tr>\n",
       "      <th>HH</th>\n",
       "      <td>0</td>\n",
       "      <td>13</td>\n",
       "      <td>14</td>\n",
       "    </tr>\n",
       "    <tr>\n",
       "      <th>HT</th>\n",
       "      <td>0</td>\n",
       "      <td>13</td>\n",
       "      <td>13</td>\n",
       "    </tr>\n",
       "    <tr>\n",
       "      <th>KT</th>\n",
       "      <td>0</td>\n",
       "      <td>11</td>\n",
       "      <td>13</td>\n",
       "    </tr>\n",
       "    <tr>\n",
       "      <th>LG</th>\n",
       "      <td>0</td>\n",
       "      <td>12</td>\n",
       "      <td>14</td>\n",
       "    </tr>\n",
       "    <tr>\n",
       "      <th>LT</th>\n",
       "      <td>0</td>\n",
       "      <td>20</td>\n",
       "      <td>6</td>\n",
       "    </tr>\n",
       "    <tr>\n",
       "      <th>NC</th>\n",
       "      <td>1</td>\n",
       "      <td>12</td>\n",
       "      <td>14</td>\n",
       "    </tr>\n",
       "    <tr>\n",
       "      <th>OB</th>\n",
       "      <td>1</td>\n",
       "      <td>8</td>\n",
       "      <td>18</td>\n",
       "    </tr>\n",
       "    <tr>\n",
       "      <th>SK</th>\n",
       "      <td>0</td>\n",
       "      <td>15</td>\n",
       "      <td>9</td>\n",
       "    </tr>\n",
       "    <tr>\n",
       "      <th>SS</th>\n",
       "      <td>0</td>\n",
       "      <td>17</td>\n",
       "      <td>13</td>\n",
       "    </tr>\n",
       "    <tr>\n",
       "      <th>WO</th>\n",
       "      <td>0</td>\n",
       "      <td>8</td>\n",
       "      <td>15</td>\n",
       "    </tr>\n",
       "  </tbody>\n",
       "</table>\n",
       "</div>"
      ],
      "text/plain": [
       "WLS   D   L   W\n",
       "T_ID           \n",
       "HH    0  13  14\n",
       "HT    0  13  13\n",
       "KT    0  11  13\n",
       "LG    0  12  14\n",
       "LT    0  20   6\n",
       "NC    1  12  14\n",
       "OB    1   8  18\n",
       "SK    0  15   9\n",
       "SS    0  17  13\n",
       "WO    0   8  15"
      ]
     },
     "execution_count": 43,
     "metadata": {},
     "output_type": "execute_result"
    }
   ],
   "source": [
    "pd.crosstab(team_19_4.T_ID,team_19_4.WLS)"
   ]
  },
  {
   "cell_type": "code",
   "execution_count": 44,
   "metadata": {},
   "outputs": [
    {
     "data": {
      "text/plain": [
       "<matplotlib.axes._subplots.AxesSubplot at 0x17e242d84c8>"
      ]
     },
     "execution_count": 44,
     "metadata": {},
     "output_type": "execute_result"
    },
    {
     "data": {
      "image/png": "[encoded data removed]",
      "text/plain": [
       "<Figure size 432x288 with 1 Axes>"
      ]
     },
     "metadata": {
      "needs_background": "light"
     },
     "output_type": "display_data"
    }
   ],
   "source": [
    "pd.crosstab(team_19_4.T_ID,team_19_4.WLS).plot(kind='bar')"
   ]
  },
  {
   "cell_type": "code",
   "execution_count": 46,
   "metadata": {},
   "outputs": [
    {
     "data": {
      "image/png": "[encoded data removed]",
      "text/plain": [
       "<Figure size 432x288 with 1 Axes>"
      ]
     },
     "metadata": {
      "needs_background": "light"
     },
     "output_type": "display_data"
    }
   ],
   "source": [
    "sns.boxplot(x=\"T_ID\",y=\"AVG\",data=team_19_1)\n",
    "plt.show()"
   ]
  },
  {
   "cell_type": "code",
   "execution_count": 61,
   "metadata": {},
   "outputs": [
    {
     "data": {
      "image/png": "[encoded data removed]",
      "text/plain": [
       "<Figure size 432x288 with 1 Axes>"
      ]
     },
     "metadata": {
      "needs_background": "light"
     },
     "output_type": "display_data"
    }
   ],
   "source": [
    "sns.boxplot(x='T_ID',y='AVG',hue='q',data=team_19)\n",
    "plt.show()"
   ]
  },
  {
   "cell_type": "markdown",
   "metadata": {},
   "source": [
    "### 팀별로 나눠서 확인"
   ]
  },
  {
   "cell_type": "code",
   "execution_count": 76,
   "metadata": {},
   "outputs": [],
   "source": [
    "NC_19=team_19[team_19['T_ID']=='NC']\n",
    "OB_19=team_19[team_19['T_ID']=='OB']\n",
    "WO_19=team_19[team_19['T_ID']=='WO']\n",
    "LG_19=team_19[team_19['T_ID']=='LG']\n",
    "HT_19=team_19[team_19['T_ID']=='HT']\n",
    "KT_19=team_19[team_19['T_ID']=='KT']\n",
    "SS_19=team_19[team_19['T_ID']=='SS']\n",
    "LT_19=team_19[team_19['T_ID']=='LT']\n",
    "SK_19=team_19[team_19['T_ID']=='SK']\n",
    "HH_19=team_19[team_19['T_ID']=='HH']"
   ]
  },
  {
   "cell_type": "code",
   "execution_count": 235,
   "metadata": {},
   "outputs": [
    {
     "data": {
      "text/html": [
       "<div>\n",
       "<style scoped>\n",
       "    .dataframe tbody tr th:only-of-type {\n",
       "        vertical-align: middle;\n",
       "    }\n",
       "\n",
       "    .dataframe tbody tr th {\n",
       "        vertical-align: top;\n",
       "    }\n",
       "\n",
       "    .dataframe thead th {\n",
       "        text-align: right;\n",
       "    }\n",
       "</style>\n",
       "<table border=\"1\" class=\"dataframe\">\n",
       "  <thead>\n",
       "    <tr style=\"text-align: right;\">\n",
       "      <th>WLS</th>\n",
       "      <th>D</th>\n",
       "      <th>L</th>\n",
       "      <th>W</th>\n",
       "    </tr>\n",
       "    <tr>\n",
       "      <th>q</th>\n",
       "      <th></th>\n",
       "      <th></th>\n",
       "      <th></th>\n",
       "    </tr>\n",
       "  </thead>\n",
       "  <tbody>\n",
       "    <tr>\n",
       "      <th>1</th>\n",
       "      <td>0</td>\n",
       "      <td>13</td>\n",
       "      <td>22</td>\n",
       "    </tr>\n",
       "    <tr>\n",
       "      <th>2</th>\n",
       "      <td>0</td>\n",
       "      <td>22</td>\n",
       "      <td>14</td>\n",
       "    </tr>\n",
       "    <tr>\n",
       "      <th>3</th>\n",
       "      <td>1</td>\n",
       "      <td>22</td>\n",
       "      <td>23</td>\n",
       "    </tr>\n",
       "    <tr>\n",
       "      <th>4</th>\n",
       "      <td>1</td>\n",
       "      <td>12</td>\n",
       "      <td>14</td>\n",
       "    </tr>\n",
       "  </tbody>\n",
       "</table>\n",
       "</div>"
      ],
      "text/plain": [
       "WLS  D   L   W\n",
       "q             \n",
       "1    0  13  22\n",
       "2    0  22  14\n",
       "3    1  22  23\n",
       "4    1  12  14"
      ]
     },
     "execution_count": 235,
     "metadata": {},
     "output_type": "execute_result"
    }
   ],
   "source": [
    "# 2019 NC 승률\n",
    "pd.crosstab(NC_19.q,NC_19.WLS)"
   ]
  },
  {
   "cell_type": "code",
   "execution_count": 240,
   "metadata": {},
   "outputs": [],
   "source": [
    "NC_19_ODD_1=22/(13+22)\n",
    "NC_19_ODD_2=14/(22+14)\n",
    "NC_19_ODD_3=23/(22+23)\n",
    "NC_19_ODD_4=12/(12+14)"
   ]
  },
  {
   "cell_type": "code",
   "execution_count": 241,
   "metadata": {},
   "outputs": [
    {
     "data": {
      "image/png": "[encoded data removed]",
      "text/plain": [
       "<Figure size 432x288 with 1 Axes>"
      ]
     },
     "metadata": {
      "needs_background": "light"
     },
     "output_type": "display_data"
    }
   ],
   "source": [
    "index=('1','2','3','4')\n",
    "y=(NC_19_ODD_1,NC_19_ODD_2,NC_19_ODD_3,NC_19_ODD_4)\n",
    "plt.bar(index,y)\n",
    "plt.show()"
   ]
  },
  {
   "cell_type": "code",
   "execution_count": 242,
   "metadata": {},
   "outputs": [
    {
     "data": {
      "text/html": [
       "<div>\n",
       "<style scoped>\n",
       "    .dataframe tbody tr th:only-of-type {\n",
       "        vertical-align: middle;\n",
       "    }\n",
       "\n",
       "    .dataframe tbody tr th {\n",
       "        vertical-align: top;\n",
       "    }\n",
       "\n",
       "    .dataframe thead th {\n",
       "        text-align: right;\n",
       "    }\n",
       "</style>\n",
       "<table border=\"1\" class=\"dataframe\">\n",
       "  <thead>\n",
       "    <tr style=\"text-align: right;\">\n",
       "      <th>WLS</th>\n",
       "      <th>D</th>\n",
       "      <th>L</th>\n",
       "      <th>W</th>\n",
       "    </tr>\n",
       "    <tr>\n",
       "      <th>q</th>\n",
       "      <th></th>\n",
       "      <th></th>\n",
       "      <th></th>\n",
       "    </tr>\n",
       "  </thead>\n",
       "  <tbody>\n",
       "    <tr>\n",
       "      <th>1</th>\n",
       "      <td>0</td>\n",
       "      <td>12</td>\n",
       "      <td>26</td>\n",
       "    </tr>\n",
       "    <tr>\n",
       "      <th>2</th>\n",
       "      <td>0</td>\n",
       "      <td>15</td>\n",
       "      <td>20</td>\n",
       "    </tr>\n",
       "    <tr>\n",
       "      <th>3</th>\n",
       "      <td>0</td>\n",
       "      <td>20</td>\n",
       "      <td>24</td>\n",
       "    </tr>\n",
       "    <tr>\n",
       "      <th>4</th>\n",
       "      <td>1</td>\n",
       "      <td>8</td>\n",
       "      <td>18</td>\n",
       "    </tr>\n",
       "  </tbody>\n",
       "</table>\n",
       "</div>"
      ],
      "text/plain": [
       "WLS  D   L   W\n",
       "q             \n",
       "1    0  12  26\n",
       "2    0  15  20\n",
       "3    0  20  24\n",
       "4    1   8  18"
      ]
     },
     "execution_count": 242,
     "metadata": {},
     "output_type": "execute_result"
    }
   ],
   "source": [
    "# 2019 OB 승률\n",
    "pd.crosstab(OB_19.q,OB_19.WLS)"
   ]
  },
  {
   "cell_type": "code",
   "execution_count": 243,
   "metadata": {},
   "outputs": [],
   "source": [
    "OB_19_ODD_1=26/(12+26)\n",
    "OB_19_ODD_2=20/(15+20)\n",
    "OB_19_ODD_3=24/(20+24)\n",
    "OB_19_ODD_4=18/(8+18)"
   ]
  },
  {
   "cell_type": "code",
   "execution_count": 244,
   "metadata": {},
   "outputs": [
    {
     "data": {
      "image/png": "[encoded data removed]",
      "text/plain": [
       "<Figure size 432x288 with 1 Axes>"
      ]
     },
     "metadata": {
      "needs_background": "light"
     },
     "output_type": "display_data"
    }
   ],
   "source": [
    "index=('1','2','3','4')\n",
    "y=(OB_19_ODD_1,OB_19_ODD_2,OB_19_ODD_3,OB_19_ODD_4)\n",
    "plt.bar(index,y)\n",
    "plt.show()"
   ]
  },
  {
   "cell_type": "code",
   "execution_count": 245,
   "metadata": {},
   "outputs": [
    {
     "data": {
      "text/html": [
       "<div>\n",
       "<style scoped>\n",
       "    .dataframe tbody tr th:only-of-type {\n",
       "        vertical-align: middle;\n",
       "    }\n",
       "\n",
       "    .dataframe tbody tr th {\n",
       "        vertical-align: top;\n",
       "    }\n",
       "\n",
       "    .dataframe thead th {\n",
       "        text-align: right;\n",
       "    }\n",
       "</style>\n",
       "<table border=\"1\" class=\"dataframe\">\n",
       "  <thead>\n",
       "    <tr style=\"text-align: right;\">\n",
       "      <th>WLS</th>\n",
       "      <th>D</th>\n",
       "      <th>L</th>\n",
       "      <th>W</th>\n",
       "    </tr>\n",
       "    <tr>\n",
       "      <th>q</th>\n",
       "      <th></th>\n",
       "      <th></th>\n",
       "      <th></th>\n",
       "    </tr>\n",
       "  </thead>\n",
       "  <tbody>\n",
       "    <tr>\n",
       "      <th>1</th>\n",
       "      <td>0</td>\n",
       "      <td>15</td>\n",
       "      <td>22</td>\n",
       "    </tr>\n",
       "    <tr>\n",
       "      <th>2</th>\n",
       "      <td>0</td>\n",
       "      <td>17</td>\n",
       "      <td>21</td>\n",
       "    </tr>\n",
       "    <tr>\n",
       "      <th>3</th>\n",
       "      <td>1</td>\n",
       "      <td>17</td>\n",
       "      <td>28</td>\n",
       "    </tr>\n",
       "    <tr>\n",
       "      <th>4</th>\n",
       "      <td>0</td>\n",
       "      <td>8</td>\n",
       "      <td>15</td>\n",
       "    </tr>\n",
       "  </tbody>\n",
       "</table>\n",
       "</div>"
      ],
      "text/plain": [
       "WLS  D   L   W\n",
       "q             \n",
       "1    0  15  22\n",
       "2    0  17  21\n",
       "3    1  17  28\n",
       "4    0   8  15"
      ]
     },
     "execution_count": 245,
     "metadata": {},
     "output_type": "execute_result"
    }
   ],
   "source": [
    "# 2019 WO 승률\n",
    "pd.crosstab(WO_19.q,WO_19.WLS)"
   ]
  },
  {
   "cell_type": "code",
   "execution_count": 246,
   "metadata": {},
   "outputs": [],
   "source": [
    "WO_19_ODD_1=22/(15+22)\n",
    "WO_19_ODD_2=21/(17+21)\n",
    "WO_19_ODD_3=28/(17+28)\n",
    "WO_19_ODD_4=15/(8+15)"
   ]
  },
  {
   "cell_type": "code",
   "execution_count": 247,
   "metadata": {},
   "outputs": [
    {
     "data": {
      "image/png": "[encoded data removed]",
      "text/plain": [
       "<Figure size 432x288 with 1 Axes>"
      ]
     },
     "metadata": {
      "needs_background": "light"
     },
     "output_type": "display_data"
    }
   ],
   "source": [
    "index=('1','2','3','4')\n",
    "y=(WO_19_ODD_1,WO_19_ODD_2,WO_19_ODD_3,WO_19_ODD_4)\n",
    "plt.bar(index,y)\n",
    "plt.show()"
   ]
  },
  {
   "cell_type": "code",
   "execution_count": 248,
   "metadata": {},
   "outputs": [
    {
     "data": {
      "text/html": [
       "<div>\n",
       "<style scoped>\n",
       "    .dataframe tbody tr th:only-of-type {\n",
       "        vertical-align: middle;\n",
       "    }\n",
       "\n",
       "    .dataframe tbody tr th {\n",
       "        vertical-align: top;\n",
       "    }\n",
       "\n",
       "    .dataframe thead th {\n",
       "        text-align: right;\n",
       "    }\n",
       "</style>\n",
       "<table border=\"1\" class=\"dataframe\">\n",
       "  <thead>\n",
       "    <tr style=\"text-align: right;\">\n",
       "      <th>WLS</th>\n",
       "      <th>D</th>\n",
       "      <th>L</th>\n",
       "      <th>W</th>\n",
       "    </tr>\n",
       "    <tr>\n",
       "      <th>q</th>\n",
       "      <th></th>\n",
       "      <th></th>\n",
       "      <th></th>\n",
       "    </tr>\n",
       "  </thead>\n",
       "  <tbody>\n",
       "    <tr>\n",
       "      <th>1</th>\n",
       "      <td>0</td>\n",
       "      <td>14</td>\n",
       "      <td>21</td>\n",
       "    </tr>\n",
       "    <tr>\n",
       "      <th>2</th>\n",
       "      <td>1</td>\n",
       "      <td>16</td>\n",
       "      <td>19</td>\n",
       "    </tr>\n",
       "    <tr>\n",
       "      <th>3</th>\n",
       "      <td>0</td>\n",
       "      <td>22</td>\n",
       "      <td>25</td>\n",
       "    </tr>\n",
       "    <tr>\n",
       "      <th>4</th>\n",
       "      <td>0</td>\n",
       "      <td>12</td>\n",
       "      <td>14</td>\n",
       "    </tr>\n",
       "  </tbody>\n",
       "</table>\n",
       "</div>"
      ],
      "text/plain": [
       "WLS  D   L   W\n",
       "q             \n",
       "1    0  14  21\n",
       "2    1  16  19\n",
       "3    0  22  25\n",
       "4    0  12  14"
      ]
     },
     "execution_count": 248,
     "metadata": {},
     "output_type": "execute_result"
    }
   ],
   "source": [
    "# 2019 LG 승률\n",
    "pd.crosstab(LG_19.q,LG_19.WLS)"
   ]
  },
  {
   "cell_type": "code",
   "execution_count": 249,
   "metadata": {},
   "outputs": [],
   "source": [
    "LG_19_ODD_1=21/(14+21)\n",
    "LG_19_ODD_2=19/(16+19)\n",
    "LG_19_ODD_3=25/(22+25)\n",
    "LG_19_ODD_4=14/(12+14)"
   ]
  },
  {
   "cell_type": "code",
   "execution_count": 250,
   "metadata": {},
   "outputs": [
    {
     "data": {
      "image/png": "[encoded data removed]",
      "text/plain": [
       "<Figure size 432x288 with 1 Axes>"
      ]
     },
     "metadata": {
      "needs_background": "light"
     },
     "output_type": "display_data"
    }
   ],
   "source": [
    "index=('1','2','3','4')\n",
    "y=(LG_19_ODD_1,LG_19_ODD_2,LG_19_ODD_3,LG_19_ODD_4)\n",
    "plt.bar(index,y)\n",
    "plt.show()"
   ]
  },
  {
   "cell_type": "code",
   "execution_count": 251,
   "metadata": {},
   "outputs": [
    {
     "data": {
      "text/html": [
       "<div>\n",
       "<style scoped>\n",
       "    .dataframe tbody tr th:only-of-type {\n",
       "        vertical-align: middle;\n",
       "    }\n",
       "\n",
       "    .dataframe tbody tr th {\n",
       "        vertical-align: top;\n",
       "    }\n",
       "\n",
       "    .dataframe thead th {\n",
       "        text-align: right;\n",
       "    }\n",
       "</style>\n",
       "<table border=\"1\" class=\"dataframe\">\n",
       "  <thead>\n",
       "    <tr style=\"text-align: right;\">\n",
       "      <th>WLS</th>\n",
       "      <th>D</th>\n",
       "      <th>L</th>\n",
       "      <th>W</th>\n",
       "    </tr>\n",
       "    <tr>\n",
       "      <th>q</th>\n",
       "      <th></th>\n",
       "      <th></th>\n",
       "      <th></th>\n",
       "    </tr>\n",
       "  </thead>\n",
       "  <tbody>\n",
       "    <tr>\n",
       "      <th>1</th>\n",
       "      <td>1</td>\n",
       "      <td>23</td>\n",
       "      <td>12</td>\n",
       "    </tr>\n",
       "    <tr>\n",
       "      <th>2</th>\n",
       "      <td>0</td>\n",
       "      <td>18</td>\n",
       "      <td>17</td>\n",
       "    </tr>\n",
       "    <tr>\n",
       "      <th>3</th>\n",
       "      <td>1</td>\n",
       "      <td>26</td>\n",
       "      <td>20</td>\n",
       "    </tr>\n",
       "    <tr>\n",
       "      <th>4</th>\n",
       "      <td>0</td>\n",
       "      <td>13</td>\n",
       "      <td>13</td>\n",
       "    </tr>\n",
       "  </tbody>\n",
       "</table>\n",
       "</div>"
      ],
      "text/plain": [
       "WLS  D   L   W\n",
       "q             \n",
       "1    1  23  12\n",
       "2    0  18  17\n",
       "3    1  26  20\n",
       "4    0  13  13"
      ]
     },
     "execution_count": 251,
     "metadata": {},
     "output_type": "execute_result"
    }
   ],
   "source": [
    "# 2019 HT 승률\n",
    "pd.crosstab(HT_19.q,HT_19.WLS)"
   ]
  },
  {
   "cell_type": "code",
   "execution_count": 255,
   "metadata": {},
   "outputs": [],
   "source": [
    "HT_19_ODD_1=12/(23+12)\n",
    "HT_19_ODD_2=17/(18+17)\n",
    "HT_19_ODD_3=20/(26+20)\n",
    "HT_19_ODD_4=13/(13+13)"
   ]
  },
  {
   "cell_type": "code",
   "execution_count": 256,
   "metadata": {},
   "outputs": [
    {
     "data": {
      "image/png": "[encoded data removed]",
      "text/plain": [
       "<Figure size 432x288 with 1 Axes>"
      ]
     },
     "metadata": {
      "needs_background": "light"
     },
     "output_type": "display_data"
    }
   ],
   "source": [
    "index=('1','2','3','4')\n",
    "y=(HT_19_ODD_1,HT_19_ODD_2,HT_19_ODD_3,HT_19_ODD_4)\n",
    "plt.bar(index,y)\n",
    "plt.show()"
   ]
  },
  {
   "cell_type": "code",
   "execution_count": 257,
   "metadata": {},
   "outputs": [
    {
     "data": {
      "text/html": [
       "<div>\n",
       "<style scoped>\n",
       "    .dataframe tbody tr th:only-of-type {\n",
       "        vertical-align: middle;\n",
       "    }\n",
       "\n",
       "    .dataframe tbody tr th {\n",
       "        vertical-align: top;\n",
       "    }\n",
       "\n",
       "    .dataframe thead th {\n",
       "        text-align: right;\n",
       "    }\n",
       "</style>\n",
       "<table border=\"1\" class=\"dataframe\">\n",
       "  <thead>\n",
       "    <tr style=\"text-align: right;\">\n",
       "      <th>WLS</th>\n",
       "      <th>D</th>\n",
       "      <th>L</th>\n",
       "      <th>W</th>\n",
       "    </tr>\n",
       "    <tr>\n",
       "      <th>q</th>\n",
       "      <th></th>\n",
       "      <th></th>\n",
       "      <th></th>\n",
       "    </tr>\n",
       "  </thead>\n",
       "  <tbody>\n",
       "    <tr>\n",
       "      <th>1</th>\n",
       "      <td>0</td>\n",
       "      <td>26</td>\n",
       "      <td>11</td>\n",
       "    </tr>\n",
       "    <tr>\n",
       "      <th>2</th>\n",
       "      <td>0</td>\n",
       "      <td>17</td>\n",
       "      <td>20</td>\n",
       "    </tr>\n",
       "    <tr>\n",
       "      <th>3</th>\n",
       "      <td>2</td>\n",
       "      <td>17</td>\n",
       "      <td>27</td>\n",
       "    </tr>\n",
       "    <tr>\n",
       "      <th>4</th>\n",
       "      <td>0</td>\n",
       "      <td>11</td>\n",
       "      <td>13</td>\n",
       "    </tr>\n",
       "  </tbody>\n",
       "</table>\n",
       "</div>"
      ],
      "text/plain": [
       "WLS  D   L   W\n",
       "q             \n",
       "1    0  26  11\n",
       "2    0  17  20\n",
       "3    2  17  27\n",
       "4    0  11  13"
      ]
     },
     "execution_count": 257,
     "metadata": {},
     "output_type": "execute_result"
    }
   ],
   "source": [
    "# 2019 KT 승률\n",
    "pd.crosstab(KT_19.q,KT_19.WLS)"
   ]
  },
  {
   "cell_type": "code",
   "execution_count": 258,
   "metadata": {},
   "outputs": [],
   "source": [
    "KT_19_ODD_1=11/(26+11)\n",
    "KT_19_ODD_2=20/(17+20)\n",
    "KT_19_ODD_3=27/(17+27)\n",
    "KT_19_ODD_4=13/(11+13)"
   ]
  },
  {
   "cell_type": "code",
   "execution_count": 259,
   "metadata": {},
   "outputs": [
    {
     "data": {
      "image/png": "[encoded data removed]",
      "text/plain": [
       "<Figure size 432x288 with 1 Axes>"
      ]
     },
     "metadata": {
      "needs_background": "light"
     },
     "output_type": "display_data"
    }
   ],
   "source": [
    "index=('1','2','3','4')\n",
    "y=(KT_19_ODD_1,KT_19_ODD_2,KT_19_ODD_3,KT_19_ODD_4)\n",
    "plt.bar(index,y)\n",
    "plt.show()"
   ]
  },
  {
   "cell_type": "code",
   "execution_count": 260,
   "metadata": {},
   "outputs": [
    {
     "data": {
      "text/html": [
       "<div>\n",
       "<style scoped>\n",
       "    .dataframe tbody tr th:only-of-type {\n",
       "        vertical-align: middle;\n",
       "    }\n",
       "\n",
       "    .dataframe tbody tr th {\n",
       "        vertical-align: top;\n",
       "    }\n",
       "\n",
       "    .dataframe thead th {\n",
       "        text-align: right;\n",
       "    }\n",
       "</style>\n",
       "<table border=\"1\" class=\"dataframe\">\n",
       "  <thead>\n",
       "    <tr style=\"text-align: right;\">\n",
       "      <th>WLS</th>\n",
       "      <th>D</th>\n",
       "      <th>L</th>\n",
       "      <th>W</th>\n",
       "    </tr>\n",
       "    <tr>\n",
       "      <th>q</th>\n",
       "      <th></th>\n",
       "      <th></th>\n",
       "      <th></th>\n",
       "    </tr>\n",
       "  </thead>\n",
       "  <tbody>\n",
       "    <tr>\n",
       "      <th>1</th>\n",
       "      <td>0</td>\n",
       "      <td>23</td>\n",
       "      <td>12</td>\n",
       "    </tr>\n",
       "    <tr>\n",
       "      <th>2</th>\n",
       "      <td>0</td>\n",
       "      <td>17</td>\n",
       "      <td>19</td>\n",
       "    </tr>\n",
       "    <tr>\n",
       "      <th>3</th>\n",
       "      <td>1</td>\n",
       "      <td>26</td>\n",
       "      <td>16</td>\n",
       "    </tr>\n",
       "    <tr>\n",
       "      <th>4</th>\n",
       "      <td>0</td>\n",
       "      <td>17</td>\n",
       "      <td>13</td>\n",
       "    </tr>\n",
       "  </tbody>\n",
       "</table>\n",
       "</div>"
      ],
      "text/plain": [
       "WLS  D   L   W\n",
       "q             \n",
       "1    0  23  12\n",
       "2    0  17  19\n",
       "3    1  26  16\n",
       "4    0  17  13"
      ]
     },
     "execution_count": 260,
     "metadata": {},
     "output_type": "execute_result"
    }
   ],
   "source": [
    "# 2019 SS 승률\n",
    "pd.crosstab(SS_19.q,SS_19.WLS)"
   ]
  },
  {
   "cell_type": "code",
   "execution_count": 261,
   "metadata": {},
   "outputs": [],
   "source": [
    "SS_19_ODD_1=12/(23+12)\n",
    "SS_19_ODD_2=19/(17+19)\n",
    "SS_19_ODD_3=16/(26+16)\n",
    "SS_19_ODD_4=13/(17+13)"
   ]
  },
  {
   "cell_type": "code",
   "execution_count": 262,
   "metadata": {},
   "outputs": [
    {
     "data": {
      "image/png": "[encoded data removed]",
      "text/plain": [
       "<Figure size 432x288 with 1 Axes>"
      ]
     },
     "metadata": {
      "needs_background": "light"
     },
     "output_type": "display_data"
    }
   ],
   "source": [
    "index=('1','2','3','4')\n",
    "y=(SS_19_ODD_1,SS_19_ODD_2,SS_19_ODD_3,SS_19_ODD_4)\n",
    "plt.bar(index,y)\n",
    "plt.show()"
   ]
  },
  {
   "cell_type": "code",
   "execution_count": 263,
   "metadata": {},
   "outputs": [
    {
     "data": {
      "text/html": [
       "<div>\n",
       "<style scoped>\n",
       "    .dataframe tbody tr th:only-of-type {\n",
       "        vertical-align: middle;\n",
       "    }\n",
       "\n",
       "    .dataframe tbody tr th {\n",
       "        vertical-align: top;\n",
       "    }\n",
       "\n",
       "    .dataframe thead th {\n",
       "        text-align: right;\n",
       "    }\n",
       "</style>\n",
       "<table border=\"1\" class=\"dataframe\">\n",
       "  <thead>\n",
       "    <tr style=\"text-align: right;\">\n",
       "      <th>WLS</th>\n",
       "      <th>D</th>\n",
       "      <th>L</th>\n",
       "      <th>W</th>\n",
       "    </tr>\n",
       "    <tr>\n",
       "      <th>q</th>\n",
       "      <th></th>\n",
       "      <th></th>\n",
       "      <th></th>\n",
       "    </tr>\n",
       "  </thead>\n",
       "  <tbody>\n",
       "    <tr>\n",
       "      <th>1</th>\n",
       "      <td>0</td>\n",
       "      <td>23</td>\n",
       "      <td>12</td>\n",
       "    </tr>\n",
       "    <tr>\n",
       "      <th>2</th>\n",
       "      <td>1</td>\n",
       "      <td>21</td>\n",
       "      <td>14</td>\n",
       "    </tr>\n",
       "    <tr>\n",
       "      <th>3</th>\n",
       "      <td>2</td>\n",
       "      <td>29</td>\n",
       "      <td>16</td>\n",
       "    </tr>\n",
       "    <tr>\n",
       "      <th>4</th>\n",
       "      <td>0</td>\n",
       "      <td>20</td>\n",
       "      <td>6</td>\n",
       "    </tr>\n",
       "  </tbody>\n",
       "</table>\n",
       "</div>"
      ],
      "text/plain": [
       "WLS  D   L   W\n",
       "q             \n",
       "1    0  23  12\n",
       "2    1  21  14\n",
       "3    2  29  16\n",
       "4    0  20   6"
      ]
     },
     "execution_count": 263,
     "metadata": {},
     "output_type": "execute_result"
    }
   ],
   "source": [
    "# 2019 LT 승률\n",
    "pd.crosstab(LT_19.q,LT_19.WLS)"
   ]
  },
  {
   "cell_type": "code",
   "execution_count": 264,
   "metadata": {},
   "outputs": [],
   "source": [
    "LT_19_ODD_1=12/(23+12)\n",
    "LT_19_ODD_2=14/(21+14)\n",
    "LT_19_ODD_3=16/(29+16)\n",
    "LT_19_ODD_4=6/(20+6)"
   ]
  },
  {
   "cell_type": "code",
   "execution_count": 265,
   "metadata": {},
   "outputs": [
    {
     "data": {
      "image/png": "[encoded data removed]",
      "text/plain": [
       "<Figure size 432x288 with 1 Axes>"
      ]
     },
     "metadata": {
      "needs_background": "light"
     },
     "output_type": "display_data"
    }
   ],
   "source": [
    "index=('1','2','3','4')\n",
    "y=(LT_19_ODD_1,LT_19_ODD_2,LT_19_ODD_3,LT_19_ODD_4)\n",
    "plt.bar(index,y)\n",
    "plt.show()"
   ]
  },
  {
   "cell_type": "code",
   "execution_count": 266,
   "metadata": {},
   "outputs": [
    {
     "data": {
      "text/html": [
       "<div>\n",
       "<style scoped>\n",
       "    .dataframe tbody tr th:only-of-type {\n",
       "        vertical-align: middle;\n",
       "    }\n",
       "\n",
       "    .dataframe tbody tr th {\n",
       "        vertical-align: top;\n",
       "    }\n",
       "\n",
       "    .dataframe thead th {\n",
       "        text-align: right;\n",
       "    }\n",
       "</style>\n",
       "<table border=\"1\" class=\"dataframe\">\n",
       "  <thead>\n",
       "    <tr style=\"text-align: right;\">\n",
       "      <th>WLS</th>\n",
       "      <th>D</th>\n",
       "      <th>L</th>\n",
       "      <th>W</th>\n",
       "    </tr>\n",
       "    <tr>\n",
       "      <th>q</th>\n",
       "      <th></th>\n",
       "      <th></th>\n",
       "      <th></th>\n",
       "    </tr>\n",
       "  </thead>\n",
       "  <tbody>\n",
       "    <tr>\n",
       "      <th>1</th>\n",
       "      <td>1</td>\n",
       "      <td>11</td>\n",
       "      <td>25</td>\n",
       "    </tr>\n",
       "    <tr>\n",
       "      <th>2</th>\n",
       "      <td>0</td>\n",
       "      <td>13</td>\n",
       "      <td>22</td>\n",
       "    </tr>\n",
       "    <tr>\n",
       "      <th>3</th>\n",
       "      <td>0</td>\n",
       "      <td>16</td>\n",
       "      <td>32</td>\n",
       "    </tr>\n",
       "    <tr>\n",
       "      <th>4</th>\n",
       "      <td>0</td>\n",
       "      <td>15</td>\n",
       "      <td>9</td>\n",
       "    </tr>\n",
       "  </tbody>\n",
       "</table>\n",
       "</div>"
      ],
      "text/plain": [
       "WLS  D   L   W\n",
       "q             \n",
       "1    1  11  25\n",
       "2    0  13  22\n",
       "3    0  16  32\n",
       "4    0  15   9"
      ]
     },
     "execution_count": 266,
     "metadata": {},
     "output_type": "execute_result"
    }
   ],
   "source": [
    "# 2019 SK 승률\n",
    "pd.crosstab(SK_19.q,SK_19.WLS)"
   ]
  },
  {
   "cell_type": "code",
   "execution_count": 267,
   "metadata": {},
   "outputs": [],
   "source": [
    "SK_19_ODD_1=25/(11+25)\n",
    "SK_19_ODD_2=22/(13+22)\n",
    "SK_19_ODD_3=32/(16+32)\n",
    "SK_19_ODD_4=9/(15+9)"
   ]
  },
  {
   "cell_type": "code",
   "execution_count": 268,
   "metadata": {},
   "outputs": [
    {
     "data": {
      "image/png": "[encoded data removed]",
      "text/plain": [
       "<Figure size 432x288 with 1 Axes>"
      ]
     },
     "metadata": {
      "needs_background": "light"
     },
     "output_type": "display_data"
    }
   ],
   "source": [
    "index=('1','2','3','4')\n",
    "y=(SK_19_ODD_1,SK_19_ODD_2,SK_19_ODD_3,SK_19_ODD_4)\n",
    "plt.bar(index,y)\n",
    "plt.show()"
   ]
  },
  {
   "cell_type": "code",
   "execution_count": 269,
   "metadata": {},
   "outputs": [
    {
     "data": {
      "text/html": [
       "<div>\n",
       "<style scoped>\n",
       "    .dataframe tbody tr th:only-of-type {\n",
       "        vertical-align: middle;\n",
       "    }\n",
       "\n",
       "    .dataframe tbody tr th {\n",
       "        vertical-align: top;\n",
       "    }\n",
       "\n",
       "    .dataframe thead th {\n",
       "        text-align: right;\n",
       "    }\n",
       "</style>\n",
       "<table border=\"1\" class=\"dataframe\">\n",
       "  <thead>\n",
       "    <tr style=\"text-align: right;\">\n",
       "      <th>WLS</th>\n",
       "      <th>L</th>\n",
       "      <th>W</th>\n",
       "    </tr>\n",
       "    <tr>\n",
       "      <th>q</th>\n",
       "      <th></th>\n",
       "      <th></th>\n",
       "    </tr>\n",
       "  </thead>\n",
       "  <tbody>\n",
       "    <tr>\n",
       "      <th>1</th>\n",
       "      <td>19</td>\n",
       "      <td>16</td>\n",
       "    </tr>\n",
       "    <tr>\n",
       "      <th>2</th>\n",
       "      <td>23</td>\n",
       "      <td>13</td>\n",
       "    </tr>\n",
       "    <tr>\n",
       "      <th>3</th>\n",
       "      <td>31</td>\n",
       "      <td>15</td>\n",
       "    </tr>\n",
       "    <tr>\n",
       "      <th>4</th>\n",
       "      <td>13</td>\n",
       "      <td>14</td>\n",
       "    </tr>\n",
       "  </tbody>\n",
       "</table>\n",
       "</div>"
      ],
      "text/plain": [
       "WLS   L   W\n",
       "q          \n",
       "1    19  16\n",
       "2    23  13\n",
       "3    31  15\n",
       "4    13  14"
      ]
     },
     "execution_count": 269,
     "metadata": {},
     "output_type": "execute_result"
    }
   ],
   "source": [
    "# 2019 HH 승률\n",
    "pd.crosstab(HH_19.q,HH_19.WLS)"
   ]
  },
  {
   "cell_type": "code",
   "execution_count": 270,
   "metadata": {},
   "outputs": [],
   "source": [
    "HH_19_ODD_1=16/(19+16)\n",
    "HH_19_ODD_2=13/(23+13)\n",
    "HH_19_ODD_3=15/(31+15)\n",
    "HH_19_ODD_4=14/(13+14)"
   ]
  },
  {
   "cell_type": "code",
   "execution_count": 271,
   "metadata": {},
   "outputs": [
    {
     "data": {
      "image/png": "[encoded data removed]",
      "text/plain": [
       "<Figure size 432x288 with 1 Axes>"
      ]
     },
     "metadata": {
      "needs_background": "light"
     },
     "output_type": "display_data"
    }
   ],
   "source": [
    "index=('1','2','3','4')\n",
    "y=(HH_19_ODD_1,HH_19_ODD_2,HH_19_ODD_3,HH_19_ODD_4)\n",
    "plt.bar(index,y)\n",
    "plt.show()"
   ]
  },
  {
   "cell_type": "code",
   "execution_count": 117,
   "metadata": {},
   "outputs": [
    {
     "data": {
      "text/plain": [
       "q\n",
       "1    0.295\n",
       "2    0.269\n",
       "3    0.274\n",
       "4    0.275\n",
       "dtype: float64"
      ]
     },
     "execution_count": 117,
     "metadata": {},
     "output_type": "execute_result"
    }
   ],
   "source": [
    "# 2019 NC 타율\n",
    "NC_19_H=NC_19.groupby('q').HIT.sum()\n",
    "NC_19_A=NC_19.groupby('q').AB.sum()\n",
    "\n",
    "NC_19_AVG=(NC_19_H)/(NC_19_A)\n",
    "\n",
    "y_n=NC_19_AVG.round(3)\n",
    "y_n"
   ]
  },
  {
   "cell_type": "code",
   "execution_count": 118,
   "metadata": {},
   "outputs": [
    {
     "data": {
      "image/png": "[encoded data removed]",
      "text/plain": [
       "<Figure size 432x288 with 1 Axes>"
      ]
     },
     "metadata": {
      "needs_background": "light"
     },
     "output_type": "display_data"
    }
   ],
   "source": [
    "index=('1','2','3','4')\n",
    "plt.bar(index,y_n)\n",
    "plt.show()"
   ]
  },
  {
   "cell_type": "code",
   "execution_count": 119,
   "metadata": {},
   "outputs": [
    {
     "data": {
      "text/plain": [
       "q\n",
       "1    0.279\n",
       "2    0.275\n",
       "3    0.274\n",
       "4    0.285\n",
       "dtype: float64"
      ]
     },
     "execution_count": 119,
     "metadata": {},
     "output_type": "execute_result"
    }
   ],
   "source": [
    "# 2019 OB 타율\n",
    "OB_19_H=OB_19.groupby('q').HIT.sum()\n",
    "OB_19_A=OB_19.groupby('q').AB.sum()\n",
    "\n",
    "OB_19_AVG=(OB_19_H)/(OB_19_A)\n",
    "\n",
    "y_o=OB_19_AVG.round(3)\n",
    "y_o"
   ]
  },
  {
   "cell_type": "code",
   "execution_count": 120,
   "metadata": {},
   "outputs": [
    {
     "data": {
      "image/png": "[encoded data removed]",
      "text/plain": [
       "<Figure size 432x288 with 1 Axes>"
      ]
     },
     "metadata": {
      "needs_background": "light"
     },
     "output_type": "display_data"
    }
   ],
   "source": [
    "index=('1','2','3','4')\n",
    "plt.bar(index,y_o)\n",
    "plt.show()"
   ]
  },
  {
   "cell_type": "code",
   "execution_count": 121,
   "metadata": {},
   "outputs": [
    {
     "data": {
      "text/plain": [
       "q\n",
       "1    0.296\n",
       "2    0.266\n",
       "3    0.286\n",
       "4    0.273\n",
       "dtype: float64"
      ]
     },
     "execution_count": 121,
     "metadata": {},
     "output_type": "execute_result"
    }
   ],
   "source": [
    "# 2019 WO 타율\n",
    "WO_19_H=WO_19.groupby('q').HIT.sum()\n",
    "WO_19_A=WO_19.groupby('q').AB.sum()\n",
    "\n",
    "WO_19_AVG=(WO_19_H)/(WO_19_A)\n",
    "\n",
    "y_w=WO_19_AVG.round(3)\n",
    "y_w"
   ]
  },
  {
   "cell_type": "code",
   "execution_count": 122,
   "metadata": {},
   "outputs": [
    {
     "data": {
      "image/png": "[encoded data removed]",
      "text/plain": [
       "<Figure size 432x288 with 1 Axes>"
      ]
     },
     "metadata": {
      "needs_background": "light"
     },
     "output_type": "display_data"
    }
   ],
   "source": [
    "index=('1','2','3','4')\n",
    "plt.bar(index,y_w)\n",
    "plt.show()"
   ]
  },
  {
   "cell_type": "code",
   "execution_count": 123,
   "metadata": {},
   "outputs": [
    {
     "data": {
      "text/plain": [
       "q\n",
       "1    0.265\n",
       "2    0.251\n",
       "3    0.286\n",
       "4    0.260\n",
       "dtype: float64"
      ]
     },
     "execution_count": 123,
     "metadata": {},
     "output_type": "execute_result"
    }
   ],
   "source": [
    "# 2019 LG 타율\n",
    "LG_19_H=LG_19.groupby('q').HIT.sum()\n",
    "LG_19_A=LG_19.groupby('q').AB.sum()\n",
    "\n",
    "LG_19_AVG=(LG_19_H)/(LG_19_A)\n",
    "\n",
    "y_l=LG_19_AVG.round(3)\n",
    "y_l"
   ]
  },
  {
   "cell_type": "code",
   "execution_count": 124,
   "metadata": {},
   "outputs": [
    {
     "data": {
      "image/png": "[encoded data removed]",
      "text/plain": [
       "<Figure size 432x288 with 1 Axes>"
      ]
     },
     "metadata": {
      "needs_background": "light"
     },
     "output_type": "display_data"
    }
   ],
   "source": [
    "index=('1','2','3','4')\n",
    "plt.bar(index,y_l)\n",
    "plt.show()"
   ]
  },
  {
   "cell_type": "code",
   "execution_count": 125,
   "metadata": {},
   "outputs": [
    {
     "data": {
      "text/plain": [
       "q\n",
       "1    0.257\n",
       "2    0.279\n",
       "3    0.263\n",
       "4    0.254\n",
       "dtype: float64"
      ]
     },
     "execution_count": 125,
     "metadata": {},
     "output_type": "execute_result"
    }
   ],
   "source": [
    "# 2019 HT 타율\n",
    "HT_19_H=HT_19.groupby('q').HIT.sum()\n",
    "HT_19_A=HT_19.groupby('q').AB.sum()\n",
    "\n",
    "HT_19_AVG=(HT_19_H)/(HT_19_A)\n",
    "\n",
    "y_h=HT_19_AVG.round(3)\n",
    "y_h"
   ]
  },
  {
   "cell_type": "code",
   "execution_count": 126,
   "metadata": {},
   "outputs": [
    {
     "data": {
      "image/png": "[encoded data removed]",
      "text/plain": [
       "<Figure size 432x288 with 1 Axes>"
      ]
     },
     "metadata": {
      "needs_background": "light"
     },
     "output_type": "display_data"
    }
   ],
   "source": [
    "index=('1','2','3','4')\n",
    "plt.bar(index,y_h)\n",
    "plt.show()"
   ]
  },
  {
   "cell_type": "code",
   "execution_count": 127,
   "metadata": {},
   "outputs": [
    {
     "data": {
      "text/plain": [
       "q\n",
       "1    0.257\n",
       "2    0.282\n",
       "3    0.288\n",
       "4    0.279\n",
       "dtype: float64"
      ]
     },
     "execution_count": 127,
     "metadata": {},
     "output_type": "execute_result"
    }
   ],
   "source": [
    "# 2019 KT 타율\n",
    "KT_19_H=KT_19.groupby('q').HIT.sum()\n",
    "KT_19_A=KT_19.groupby('q').AB.sum()\n",
    "\n",
    "KT_19_AVG=(KT_19_H)/(KT_19_A)\n",
    "\n",
    "y_k=KT_19_AVG.round(3)\n",
    "y_k"
   ]
  },
  {
   "cell_type": "code",
   "execution_count": 128,
   "metadata": {},
   "outputs": [
    {
     "data": {
      "image/png": "[encoded data removed]",
      "text/plain": [
       "<Figure size 432x288 with 1 Axes>"
      ]
     },
     "metadata": {
      "needs_background": "light"
     },
     "output_type": "display_data"
    }
   ],
   "source": [
    "index=('1','2','3','4')\n",
    "plt.bar(index,y_k)\n",
    "plt.show()"
   ]
  },
  {
   "cell_type": "code",
   "execution_count": 129,
   "metadata": {},
   "outputs": [
    {
     "data": {
      "text/plain": [
       "q\n",
       "1    0.263\n",
       "2    0.274\n",
       "3    0.244\n",
       "4    0.243\n",
       "dtype: float64"
      ]
     },
     "execution_count": 129,
     "metadata": {},
     "output_type": "execute_result"
    }
   ],
   "source": [
    "# 2019 SS 타율\n",
    "SS_19_H=SS_19.groupby('q').HIT.sum()\n",
    "SS_19_A=SS_19.groupby('q').AB.sum()\n",
    "\n",
    "SS_19_AVG=(SS_19_H)/(SS_19_A)\n",
    "\n",
    "y_s=SS_19_AVG.round(3)\n",
    "y_s"
   ]
  },
  {
   "cell_type": "code",
   "execution_count": 130,
   "metadata": {},
   "outputs": [
    {
     "data": {
      "image/png": "[encoded data removed]",
      "text/plain": [
       "<Figure size 432x288 with 1 Axes>"
      ]
     },
     "metadata": {
      "needs_background": "light"
     },
     "output_type": "display_data"
    }
   ],
   "source": [
    "index=('1','2','3','4')\n",
    "plt.bar(index,y_s)\n",
    "plt.show()"
   ]
  },
  {
   "cell_type": "code",
   "execution_count": 132,
   "metadata": {},
   "outputs": [
    {
     "data": {
      "text/plain": [
       "q\n",
       "1    0.258\n",
       "2    0.263\n",
       "3    0.250\n",
       "4    0.220\n",
       "dtype: float64"
      ]
     },
     "execution_count": 132,
     "metadata": {},
     "output_type": "execute_result"
    }
   ],
   "source": [
    "# 2019 LT 타율\n",
    "LT_19_H=LT_19.groupby('q').HIT.sum()\n",
    "LT_19_A=LT_19.groupby('q').AB.sum()\n",
    "\n",
    "LT_19_AVG=(LT_19_H)/(LT_19_A)\n",
    "\n",
    "y_lt=LT_19_AVG.round(3)\n",
    "y_lt"
   ]
  },
  {
   "cell_type": "code",
   "execution_count": 133,
   "metadata": {},
   "outputs": [
    {
     "data": {
      "image/png": "[encoded data removed]",
      "text/plain": [
       "<Figure size 432x288 with 1 Axes>"
      ]
     },
     "metadata": {
      "needs_background": "light"
     },
     "output_type": "display_data"
    }
   ],
   "source": [
    "index=('1','2','3','4')\n",
    "plt.bar(index,y_lt)\n",
    "plt.show()"
   ]
  },
  {
   "cell_type": "code",
   "execution_count": 131,
   "metadata": {},
   "outputs": [
    {
     "data": {
      "text/plain": [
       "q\n",
       "1    0.248\n",
       "2    0.277\n",
       "3    0.275\n",
       "4    0.236\n",
       "dtype: float64"
      ]
     },
     "execution_count": 131,
     "metadata": {},
     "output_type": "execute_result"
    }
   ],
   "source": [
    "# 2019 SK 타율\n",
    "SK_19_H=SK_19.groupby('q').HIT.sum()\n",
    "SK_19_A=SK_19.groupby('q').AB.sum()\n",
    "\n",
    "SK_19_AVG=(SK_19_H)/(SK_19_A)\n",
    "\n",
    "y_sk=SK_19_AVG.round(3)\n",
    "y_sk"
   ]
  },
  {
   "cell_type": "code",
   "execution_count": 134,
   "metadata": {},
   "outputs": [
    {
     "data": {
      "image/png": "[encoded data removed]",
      "text/plain": [
       "<Figure size 432x288 with 1 Axes>"
      ]
     },
     "metadata": {
      "needs_background": "light"
     },
     "output_type": "display_data"
    }
   ],
   "source": [
    "index=('1','2','3','4')\n",
    "plt.bar(index,y_sk)\n",
    "plt.show()"
   ]
  },
  {
   "cell_type": "code",
   "execution_count": 135,
   "metadata": {},
   "outputs": [
    {
     "data": {
      "text/plain": [
       "q\n",
       "1    0.265\n",
       "2    0.232\n",
       "3    0.266\n",
       "4    0.259\n",
       "dtype: float64"
      ]
     },
     "execution_count": 135,
     "metadata": {},
     "output_type": "execute_result"
    }
   ],
   "source": [
    "# 2019 HH 타율\n",
    "HH_19_H=HH_19.groupby('q').HIT.sum()\n",
    "HH_19_A=HH_19.groupby('q').AB.sum()\n",
    "\n",
    "HH_19_AVG=(HH_19_H)/(HH_19_A)\n",
    "\n",
    "y_hh=HH_19_AVG.round(3)\n",
    "y_hh"
   ]
  },
  {
   "cell_type": "code",
   "execution_count": 136,
   "metadata": {
    "scrolled": false
   },
   "outputs": [
    {
     "data": {
      "image/png": "[encoded data removed]",
      "text/plain": [
       "<Figure size 432x288 with 1 Axes>"
      ]
     },
     "metadata": {
      "needs_background": "light"
     },
     "output_type": "display_data"
    }
   ],
   "source": [
    "index=('1','2','3','4')\n",
    "plt.bar(index,y_hh)\n",
    "plt.show()"
   ]
  },
  {
   "cell_type": "code",
   "execution_count": 212,
   "metadata": {},
   "outputs": [
    {
     "data": {
      "image/png": "[encoded data removed]",
      "text/plain": [
       "<Figure size 432x288 with 1 Axes>"
      ]
     },
     "metadata": {
      "needs_background": "light"
     },
     "output_type": "display_data"
    }
   ],
   "source": [
    "x=[1,2,3,4]\n",
    "y1=[0.295,0.269,0.274,0.275]\n",
    "y2=[0.279,0.275,0.274,0.285]\n",
    "y3=[0.296,0.266,0.286,0.273]\n",
    "y4=[0.265,0.251,0.286,0.260]\n",
    "y5=[0.257,0.279,0.263,0.254]\n",
    "y6=[0.257,0.282,0.288,0.279]\n",
    "y7=[0.263,0.274,0.244,0.243]\n",
    "y8=[0.258,0.263,0.250,0.220]\n",
    "y9=[0.248,0.277,0.275,0.236]\n",
    "y10=[0.265,0.232,0.266,0.259]\n",
    "plt.plot(x,y1)\n",
    "plt.plot(x,y2)\n",
    "plt.plot(x,y3)\n",
    "plt.plot(x,y4)\n",
    "plt.plot(x,y5)\n",
    "plt.plot(x,y6)\n",
    "plt.plot(x,y7)\n",
    "plt.plot(x,y8)\n",
    "plt.plot(x,y9)\n",
    "plt.plot(x,y10)\n",
    "\n",
    "plt.legend(['NC','OB','WO','LG','HT','KT','SS','LT','SK','HH'])\n",
    "plt.show()"
   ]
  },
  {
   "cell_type": "code",
   "execution_count": 157,
   "metadata": {},
   "outputs": [
    {
     "data": {
      "text/plain": [
       "q\n",
       "1    3.817\n",
       "2    4.643\n",
       "3    3.936\n",
       "4    3.558\n",
       "dtype: float64"
      ]
     },
     "execution_count": 157,
     "metadata": {},
     "output_type": "execute_result"
    }
   ],
   "source": [
    "# 2019 NC 방어율\n",
    "NC_19_E=NC_19.groupby('q').ER.sum()\n",
    "NC_19_I=NC_19.groupby('q').INN2.sum()\n",
    "\n",
    "NC_19_ERA=((NC_19_E)*9)/((NC_19_I)/3)\n",
    "\n",
    "e_n=NC_19_ERA.round(3)\n",
    "e_n"
   ]
  },
  {
   "cell_type": "code",
   "execution_count": 158,
   "metadata": {},
   "outputs": [
    {
     "data": {
      "image/png": "[encoded data removed]",
      "text/plain": [
       "<Figure size 432x288 with 1 Axes>"
      ]
     },
     "metadata": {
      "needs_background": "light"
     },
     "output_type": "display_data"
    }
   ],
   "source": [
    "index=('1','2','3','4')\n",
    "plt.bar(index,e_n)\n",
    "plt.show()"
   ]
  },
  {
   "cell_type": "code",
   "execution_count": 159,
   "metadata": {},
   "outputs": [
    {
     "data": {
      "text/plain": [
       "q\n",
       "1    3.098\n",
       "2    3.619\n",
       "3    3.841\n",
       "4    3.389\n",
       "dtype: float64"
      ]
     },
     "execution_count": 159,
     "metadata": {},
     "output_type": "execute_result"
    }
   ],
   "source": [
    "# 2019 OB 방어율\n",
    "OB_19_E=OB_19.groupby('q').ER.sum()\n",
    "OB_19_I=OB_19.groupby('q').INN2.sum()\n",
    "\n",
    "OB_19_ERA=((OB_19_E)*9)/((OB_19_I)/3)\n",
    "\n",
    "e_o=OB_19_ERA.round(3)\n",
    "e_o"
   ]
  },
  {
   "cell_type": "code",
   "execution_count": 160,
   "metadata": {},
   "outputs": [
    {
     "data": {
      "image/png": "[encoded data removed]",
      "text/plain": [
       "<Figure size 432x288 with 1 Axes>"
      ]
     },
     "metadata": {
      "needs_background": "light"
     },
     "output_type": "display_data"
    }
   ],
   "source": [
    "index=('1','2','3','4')\n",
    "plt.bar(index,e_o)\n",
    "plt.show()"
   ]
  },
  {
   "cell_type": "code",
   "execution_count": 161,
   "metadata": {},
   "outputs": [
    {
     "data": {
      "text/plain": [
       "q\n",
       "1    4.177\n",
       "2    4.047\n",
       "3    3.531\n",
       "4    2.104\n",
       "dtype: float64"
      ]
     },
     "execution_count": 161,
     "metadata": {},
     "output_type": "execute_result"
    }
   ],
   "source": [
    "# 2019 WO 방어율\n",
    "WO_19_E=WO_19.groupby('q').ER.sum()\n",
    "WO_19_I=WO_19.groupby('q').INN2.sum()\n",
    "\n",
    "WO_19_ERA=((WO_19_E)*9)/((WO_19_I)/3)\n",
    "\n",
    "e_w=WO_19_ERA.round(3)\n",
    "e_w"
   ]
  },
  {
   "cell_type": "code",
   "execution_count": 162,
   "metadata": {},
   "outputs": [
    {
     "data": {
      "image/png": "[encoded data removed]",
      "text/plain": [
       "<Figure size 432x288 with 1 Axes>"
      ]
     },
     "metadata": {
      "needs_background": "light"
     },
     "output_type": "display_data"
    }
   ],
   "source": [
    "index=('1','2','3','4')\n",
    "plt.bar(index,e_w)\n",
    "plt.show()"
   ]
  },
  {
   "cell_type": "code",
   "execution_count": 163,
   "metadata": {},
   "outputs": [
    {
     "data": {
      "text/plain": [
       "q\n",
       "1    3.031\n",
       "2    3.421\n",
       "3    5.227\n",
       "4    3.174\n",
       "dtype: float64"
      ]
     },
     "execution_count": 163,
     "metadata": {},
     "output_type": "execute_result"
    }
   ],
   "source": [
    "# 2019 LG 방어율\n",
    "LG_19_E=LG_19.groupby('q').ER.sum()\n",
    "LG_19_I=LG_19.groupby('q').INN2.sum()\n",
    "\n",
    "LG_19_ERA=((LG_19_E)*9)/((LG_19_I)/3)\n",
    "\n",
    "e_l=LG_19_ERA.round(3)\n",
    "e_l"
   ]
  },
  {
   "cell_type": "code",
   "execution_count": 164,
   "metadata": {},
   "outputs": [
    {
     "data": {
      "image/png": "[encoded data removed]",
      "text/plain": [
       "<Figure size 432x288 with 1 Axes>"
      ]
     },
     "metadata": {
      "needs_background": "light"
     },
     "output_type": "display_data"
    }
   ],
   "source": [
    "index=('1','2','3','4')\n",
    "plt.bar(index,e_l)\n",
    "plt.show()"
   ]
  },
  {
   "cell_type": "code",
   "execution_count": 155,
   "metadata": {},
   "outputs": [
    {
     "data": {
      "text/plain": [
       "q\n",
       "1    6.054\n",
       "2    3.736\n",
       "3    4.684\n",
       "4    3.857\n",
       "dtype: float64"
      ]
     },
     "execution_count": 155,
     "metadata": {},
     "output_type": "execute_result"
    }
   ],
   "source": [
    "# 2019 HT 방어율\n",
    "HT_19_E=HT_19.groupby('q').ER.sum()\n",
    "HT_19_I=HT_19.groupby('q').INN2.sum()\n",
    "\n",
    "HT_19_ERA=((HT_19_E)*9)/((HT_19_I)/3)\n",
    "\n",
    "e_h=HT_19_ERA.round(3)\n",
    "e_h"
   ]
  },
  {
   "cell_type": "code",
   "execution_count": 156,
   "metadata": {},
   "outputs": [
    {
     "data": {
      "image/png": "[encoded data removed]",
      "text/plain": [
       "<Figure size 432x288 with 1 Axes>"
      ]
     },
     "metadata": {
      "needs_background": "light"
     },
     "output_type": "display_data"
    }
   ],
   "source": [
    "index=('1','2','3','4')\n",
    "plt.bar(index,e_h)\n",
    "plt.show()"
   ]
  },
  {
   "cell_type": "code",
   "execution_count": 152,
   "metadata": {},
   "outputs": [
    {
     "data": {
      "text/plain": [
       "q\n",
       "1    4.858\n",
       "2    5.075\n",
       "3    3.653\n",
       "4    3.439\n",
       "dtype: float64"
      ]
     },
     "execution_count": 152,
     "metadata": {},
     "output_type": "execute_result"
    }
   ],
   "source": [
    "# 2019 KT 방어율\n",
    "KT_19_E=KT_19.groupby('q').ER.sum()\n",
    "KT_19_I=KT_19.groupby('q').INN2.sum()\n",
    "\n",
    "KT_19_ERA=((KT_19_E)*9)/((KT_19_I)/3)\n",
    "\n",
    "e_k=KT_19_ERA.round(3)\n",
    "e_k"
   ]
  },
  {
   "cell_type": "code",
   "execution_count": 153,
   "metadata": {},
   "outputs": [
    {
     "data": {
      "image/png": "[encoded data removed]",
      "text/plain": [
       "<Figure size 432x288 with 1 Axes>"
      ]
     },
     "metadata": {
      "needs_background": "light"
     },
     "output_type": "display_data"
    }
   ],
   "source": [
    "index=('1','2','3','4')\n",
    "plt.bar(index,e_k)\n",
    "plt.show()"
   ]
  },
  {
   "cell_type": "code",
   "execution_count": 151,
   "metadata": {},
   "outputs": [
    {
     "data": {
      "text/plain": [
       "q\n",
       "1    4.683\n",
       "2    3.877\n",
       "3    5.291\n",
       "4    4.603\n",
       "dtype: float64"
      ]
     },
     "execution_count": 151,
     "metadata": {},
     "output_type": "execute_result"
    }
   ],
   "source": [
    "# 2019 SS 방어율\n",
    "SS_19_E=SS_19.groupby('q').ER.sum()\n",
    "SS_19_I=SS_19.groupby('q').INN2.sum()\n",
    "\n",
    "SS_19_ERA=((SS_19_E)*9)/((SS_19_I)/3)\n",
    "\n",
    "e_s=SS_19_ERA.round(3)\n",
    "e_s"
   ]
  },
  {
   "cell_type": "code",
   "execution_count": 154,
   "metadata": {},
   "outputs": [
    {
     "data": {
      "image/png": "[encoded data removed]",
      "text/plain": [
       "<Figure size 432x288 with 1 Axes>"
      ]
     },
     "metadata": {
      "needs_background": "light"
     },
     "output_type": "display_data"
    }
   ],
   "source": [
    "index=('1','2','3','4')\n",
    "plt.bar(index,e_s)\n",
    "plt.show()"
   ]
  },
  {
   "cell_type": "code",
   "execution_count": 165,
   "metadata": {},
   "outputs": [
    {
     "data": {
      "text/plain": [
       "q\n",
       "1    5.872\n",
       "2    4.871\n",
       "3    4.721\n",
       "4    3.520\n",
       "dtype: float64"
      ]
     },
     "execution_count": 165,
     "metadata": {},
     "output_type": "execute_result"
    }
   ],
   "source": [
    "# 2019 LT 방어율\n",
    "LT_19_E=LT_19.groupby('q').ER.sum()\n",
    "LT_19_I=LT_19.groupby('q').INN2.sum()\n",
    "\n",
    "LT_19_ERA=((LT_19_E)*9)/((LT_19_I)/3)\n",
    "\n",
    "e_lt=LT_19_ERA.round(3)\n",
    "e_lt"
   ]
  },
  {
   "cell_type": "code",
   "execution_count": 166,
   "metadata": {},
   "outputs": [
    {
     "data": {
      "image/png": "[encoded data removed]",
      "text/plain": [
       "<Figure size 432x288 with 1 Axes>"
      ]
     },
     "metadata": {
      "needs_background": "light"
     },
     "output_type": "display_data"
    }
   ],
   "source": [
    "index=('1','2','3','4')\n",
    "plt.bar(index,e_lt)\n",
    "plt.show()"
   ]
  },
  {
   "cell_type": "code",
   "execution_count": 167,
   "metadata": {},
   "outputs": [
    {
     "data": {
      "text/plain": [
       "q\n",
       "1    3.838\n",
       "2    3.060\n",
       "3    3.307\n",
       "4    3.894\n",
       "dtype: float64"
      ]
     },
     "execution_count": 167,
     "metadata": {},
     "output_type": "execute_result"
    }
   ],
   "source": [
    "# 2019 SK 방어율\n",
    "SK_19_E=SK_19.groupby('q').ER.sum()\n",
    "SK_19_I=SK_19.groupby('q').INN2.sum()\n",
    "\n",
    "SK_19_ERA=((SK_19_E)*9)/((SK_19_I)/3)\n",
    "\n",
    "e_sk=SK_19_ERA.round(3)\n",
    "e_sk"
   ]
  },
  {
   "cell_type": "code",
   "execution_count": 168,
   "metadata": {},
   "outputs": [
    {
     "data": {
      "image/png": "[encoded data removed]",
      "text/plain": [
       "<Figure size 432x288 with 1 Axes>"
      ]
     },
     "metadata": {
      "needs_background": "light"
     },
     "output_type": "display_data"
    }
   ],
   "source": [
    "index=('1','2','3','4')\n",
    "plt.bar(index,e_sk)\n",
    "plt.show()"
   ]
  },
  {
   "cell_type": "code",
   "execution_count": 169,
   "metadata": {},
   "outputs": [
    {
     "data": {
      "text/plain": [
       "q\n",
       "1    5.282\n",
       "2    4.130\n",
       "3    5.633\n",
       "4    3.714\n",
       "dtype: float64"
      ]
     },
     "execution_count": 169,
     "metadata": {},
     "output_type": "execute_result"
    }
   ],
   "source": [
    "# 2019 HH 방어율\n",
    "HH_19_E=HH_19.groupby('q').ER.sum()\n",
    "HH_19_I=HH_19.groupby('q').INN2.sum()\n",
    "\n",
    "HH_19_ERA=((HH_19_E)*9)/((HH_19_I)/3)\n",
    "\n",
    "e_hh=HH_19_ERA.round(3)\n",
    "e_hh"
   ]
  },
  {
   "cell_type": "code",
   "execution_count": 170,
   "metadata": {},
   "outputs": [
    {
     "data": {
      "image/png": "[encoded data removed]",
      "text/plain": [
       "<Figure size 432x288 with 1 Axes>"
      ]
     },
     "metadata": {
      "needs_background": "light"
     },
     "output_type": "display_data"
    }
   ],
   "source": [
    "index=('1','2','3','4')\n",
    "plt.bar(index,e_hh)\n",
    "plt.show()"
   ]
  },
  {
   "cell_type": "markdown",
   "metadata": {},
   "source": [
    "### 18년도 180경기씩 나누기"
   ]
  },
  {
   "cell_type": "code",
   "execution_count": 179,
   "metadata": {},
   "outputs": [],
   "source": [
    "q=[\n",
    "    (team_18['Unnamed: 0']>=0) & (team_18['Unnamed: 0']< 360),\n",
    "    (team_18['Unnamed: 0']>=360) & (team_18['Unnamed: 0']< 720),\n",
    "    (team_18['Unnamed: 0']>=720) & (team_18['Unnamed: 0']< 1180),\n",
    "    (team_18['Unnamed: 0']>=1180) & (team_18['Unnamed: 0']< 1440)\n",
    "]\n",
    "choicelist =[1,2,3,4]\n",
    "team_18['q']=np.select(q, choicelist)"
   ]
  },
  {
   "cell_type": "code",
   "execution_count": 183,
   "metadata": {},
   "outputs": [],
   "source": [
    "team_18_1=team_18.iloc[0:360]\n",
    "team_18_2=team_18.iloc[360:720]\n",
    "team_18_3=team_18.iloc[720:1180]\n",
    "team_18_4=team_18.iloc[1180:1440]"
   ]
  },
  {
   "cell_type": "code",
   "execution_count": 184,
   "metadata": {},
   "outputs": [
    {
     "data": {
      "text/html": [
       "<div>\n",
       "<style scoped>\n",
       "    .dataframe tbody tr th:only-of-type {\n",
       "        vertical-align: middle;\n",
       "    }\n",
       "\n",
       "    .dataframe tbody tr th {\n",
       "        vertical-align: top;\n",
       "    }\n",
       "\n",
       "    .dataframe thead th {\n",
       "        text-align: right;\n",
       "    }\n",
       "</style>\n",
       "<table border=\"1\" class=\"dataframe\">\n",
       "  <thead>\n",
       "    <tr style=\"text-align: right;\">\n",
       "      <th>WLS</th>\n",
       "      <th>L</th>\n",
       "      <th>W</th>\n",
       "    </tr>\n",
       "    <tr>\n",
       "      <th>T_ID</th>\n",
       "      <th></th>\n",
       "      <th></th>\n",
       "    </tr>\n",
       "  </thead>\n",
       "  <tbody>\n",
       "    <tr>\n",
       "      <th>HH</th>\n",
       "      <td>16</td>\n",
       "      <td>19</td>\n",
       "    </tr>\n",
       "    <tr>\n",
       "      <th>HT</th>\n",
       "      <td>18</td>\n",
       "      <td>17</td>\n",
       "    </tr>\n",
       "    <tr>\n",
       "      <th>KT</th>\n",
       "      <td>19</td>\n",
       "      <td>16</td>\n",
       "    </tr>\n",
       "    <tr>\n",
       "      <th>LG</th>\n",
       "      <td>20</td>\n",
       "      <td>18</td>\n",
       "    </tr>\n",
       "    <tr>\n",
       "      <th>LT</th>\n",
       "      <td>19</td>\n",
       "      <td>16</td>\n",
       "    </tr>\n",
       "    <tr>\n",
       "      <th>NC</th>\n",
       "      <td>22</td>\n",
       "      <td>15</td>\n",
       "    </tr>\n",
       "    <tr>\n",
       "      <th>OB</th>\n",
       "      <td>11</td>\n",
       "      <td>25</td>\n",
       "    </tr>\n",
       "    <tr>\n",
       "      <th>SK</th>\n",
       "      <td>12</td>\n",
       "      <td>23</td>\n",
       "    </tr>\n",
       "    <tr>\n",
       "      <th>SS</th>\n",
       "      <td>23</td>\n",
       "      <td>13</td>\n",
       "    </tr>\n",
       "    <tr>\n",
       "      <th>WO</th>\n",
       "      <td>20</td>\n",
       "      <td>18</td>\n",
       "    </tr>\n",
       "  </tbody>\n",
       "</table>\n",
       "</div>"
      ],
      "text/plain": [
       "WLS    L   W\n",
       "T_ID        \n",
       "HH    16  19\n",
       "HT    18  17\n",
       "KT    19  16\n",
       "LG    20  18\n",
       "LT    19  16\n",
       "NC    22  15\n",
       "OB    11  25\n",
       "SK    12  23\n",
       "SS    23  13\n",
       "WO    20  18"
      ]
     },
     "execution_count": 184,
     "metadata": {},
     "output_type": "execute_result"
    }
   ],
   "source": [
    "pd.crosstab(team_18_1.T_ID,team_18_1.WLS)"
   ]
  },
  {
   "cell_type": "code",
   "execution_count": 185,
   "metadata": {},
   "outputs": [
    {
     "data": {
      "text/html": [
       "<div>\n",
       "<style scoped>\n",
       "    .dataframe tbody tr th:only-of-type {\n",
       "        vertical-align: middle;\n",
       "    }\n",
       "\n",
       "    .dataframe tbody tr th {\n",
       "        vertical-align: top;\n",
       "    }\n",
       "\n",
       "    .dataframe thead th {\n",
       "        text-align: right;\n",
       "    }\n",
       "</style>\n",
       "<table border=\"1\" class=\"dataframe\">\n",
       "  <thead>\n",
       "    <tr style=\"text-align: right;\">\n",
       "      <th>WLS</th>\n",
       "      <th>D</th>\n",
       "      <th>L</th>\n",
       "      <th>W</th>\n",
       "    </tr>\n",
       "    <tr>\n",
       "      <th>T_ID</th>\n",
       "      <th></th>\n",
       "      <th></th>\n",
       "      <th></th>\n",
       "    </tr>\n",
       "  </thead>\n",
       "  <tbody>\n",
       "    <tr>\n",
       "      <th>HH</th>\n",
       "      <td>0</td>\n",
       "      <td>15</td>\n",
       "      <td>22</td>\n",
       "    </tr>\n",
       "    <tr>\n",
       "      <th>HT</th>\n",
       "      <td>0</td>\n",
       "      <td>18</td>\n",
       "      <td>17</td>\n",
       "    </tr>\n",
       "    <tr>\n",
       "      <th>KT</th>\n",
       "      <td>1</td>\n",
       "      <td>25</td>\n",
       "      <td>12</td>\n",
       "    </tr>\n",
       "    <tr>\n",
       "      <th>LG</th>\n",
       "      <td>0</td>\n",
       "      <td>14</td>\n",
       "      <td>23</td>\n",
       "    </tr>\n",
       "    <tr>\n",
       "      <th>LT</th>\n",
       "      <td>1</td>\n",
       "      <td>17</td>\n",
       "      <td>17</td>\n",
       "    </tr>\n",
       "    <tr>\n",
       "      <th>NC</th>\n",
       "      <td>0</td>\n",
       "      <td>24</td>\n",
       "      <td>12</td>\n",
       "    </tr>\n",
       "    <tr>\n",
       "      <th>OB</th>\n",
       "      <td>0</td>\n",
       "      <td>12</td>\n",
       "      <td>22</td>\n",
       "    </tr>\n",
       "    <tr>\n",
       "      <th>SK</th>\n",
       "      <td>1</td>\n",
       "      <td>20</td>\n",
       "      <td>14</td>\n",
       "    </tr>\n",
       "    <tr>\n",
       "      <th>SS</th>\n",
       "      <td>1</td>\n",
       "      <td>16</td>\n",
       "      <td>20</td>\n",
       "    </tr>\n",
       "    <tr>\n",
       "      <th>WO</th>\n",
       "      <td>0</td>\n",
       "      <td>17</td>\n",
       "      <td>19</td>\n",
       "    </tr>\n",
       "  </tbody>\n",
       "</table>\n",
       "</div>"
      ],
      "text/plain": [
       "WLS   D   L   W\n",
       "T_ID           \n",
       "HH    0  15  22\n",
       "HT    0  18  17\n",
       "KT    1  25  12\n",
       "LG    0  14  23\n",
       "LT    1  17  17\n",
       "NC    0  24  12\n",
       "OB    0  12  22\n",
       "SK    1  20  14\n",
       "SS    1  16  20\n",
       "WO    0  17  19"
      ]
     },
     "execution_count": 185,
     "metadata": {},
     "output_type": "execute_result"
    }
   ],
   "source": [
    "pd.crosstab(team_18_2.T_ID,team_18_2.WLS)"
   ]
  },
  {
   "cell_type": "code",
   "execution_count": 186,
   "metadata": {},
   "outputs": [
    {
     "data": {
      "text/html": [
       "<div>\n",
       "<style scoped>\n",
       "    .dataframe tbody tr th:only-of-type {\n",
       "        vertical-align: middle;\n",
       "    }\n",
       "\n",
       "    .dataframe tbody tr th {\n",
       "        vertical-align: top;\n",
       "    }\n",
       "\n",
       "    .dataframe thead th {\n",
       "        text-align: right;\n",
       "    }\n",
       "</style>\n",
       "<table border=\"1\" class=\"dataframe\">\n",
       "  <thead>\n",
       "    <tr style=\"text-align: right;\">\n",
       "      <th>WLS</th>\n",
       "      <th>D</th>\n",
       "      <th>L</th>\n",
       "      <th>W</th>\n",
       "    </tr>\n",
       "    <tr>\n",
       "      <th>T_ID</th>\n",
       "      <th></th>\n",
       "      <th></th>\n",
       "      <th></th>\n",
       "    </tr>\n",
       "  </thead>\n",
       "  <tbody>\n",
       "    <tr>\n",
       "      <th>HH</th>\n",
       "      <td>0</td>\n",
       "      <td>23</td>\n",
       "      <td>24</td>\n",
       "    </tr>\n",
       "    <tr>\n",
       "      <th>HT</th>\n",
       "      <td>0</td>\n",
       "      <td>24</td>\n",
       "      <td>20</td>\n",
       "    </tr>\n",
       "    <tr>\n",
       "      <th>KT</th>\n",
       "      <td>1</td>\n",
       "      <td>22</td>\n",
       "      <td>21</td>\n",
       "    </tr>\n",
       "    <tr>\n",
       "      <th>LG</th>\n",
       "      <td>1</td>\n",
       "      <td>27</td>\n",
       "      <td>18</td>\n",
       "    </tr>\n",
       "    <tr>\n",
       "      <th>LT</th>\n",
       "      <td>1</td>\n",
       "      <td>24</td>\n",
       "      <td>19</td>\n",
       "    </tr>\n",
       "    <tr>\n",
       "      <th>NC</th>\n",
       "      <td>1</td>\n",
       "      <td>25</td>\n",
       "      <td>21</td>\n",
       "    </tr>\n",
       "    <tr>\n",
       "      <th>OB</th>\n",
       "      <td>0</td>\n",
       "      <td>18</td>\n",
       "      <td>29</td>\n",
       "    </tr>\n",
       "    <tr>\n",
       "      <th>SK</th>\n",
       "      <td>0</td>\n",
       "      <td>19</td>\n",
       "      <td>27</td>\n",
       "    </tr>\n",
       "    <tr>\n",
       "      <th>SS</th>\n",
       "      <td>2</td>\n",
       "      <td>22</td>\n",
       "      <td>23</td>\n",
       "    </tr>\n",
       "    <tr>\n",
       "      <th>WO</th>\n",
       "      <td>0</td>\n",
       "      <td>23</td>\n",
       "      <td>25</td>\n",
       "    </tr>\n",
       "  </tbody>\n",
       "</table>\n",
       "</div>"
      ],
      "text/plain": [
       "WLS   D   L   W\n",
       "T_ID           \n",
       "HH    0  23  24\n",
       "HT    0  24  20\n",
       "KT    1  22  21\n",
       "LG    1  27  18\n",
       "LT    1  24  19\n",
       "NC    1  25  21\n",
       "OB    0  18  29\n",
       "SK    0  19  27\n",
       "SS    2  22  23\n",
       "WO    0  23  25"
      ]
     },
     "execution_count": 186,
     "metadata": {},
     "output_type": "execute_result"
    }
   ],
   "source": [
    "pd.crosstab(team_18_3.T_ID,team_18_3.WLS)"
   ]
  },
  {
   "cell_type": "code",
   "execution_count": 187,
   "metadata": {},
   "outputs": [
    {
     "data": {
      "text/html": [
       "<div>\n",
       "<style scoped>\n",
       "    .dataframe tbody tr th:only-of-type {\n",
       "        vertical-align: middle;\n",
       "    }\n",
       "\n",
       "    .dataframe tbody tr th {\n",
       "        vertical-align: top;\n",
       "    }\n",
       "\n",
       "    .dataframe thead th {\n",
       "        text-align: right;\n",
       "    }\n",
       "</style>\n",
       "<table border=\"1\" class=\"dataframe\">\n",
       "  <thead>\n",
       "    <tr style=\"text-align: right;\">\n",
       "      <th>WLS</th>\n",
       "      <th>D</th>\n",
       "      <th>L</th>\n",
       "      <th>W</th>\n",
       "    </tr>\n",
       "    <tr>\n",
       "      <th>T_ID</th>\n",
       "      <th></th>\n",
       "      <th></th>\n",
       "      <th></th>\n",
       "    </tr>\n",
       "  </thead>\n",
       "  <tbody>\n",
       "    <tr>\n",
       "      <th>HH</th>\n",
       "      <td>0</td>\n",
       "      <td>13</td>\n",
       "      <td>12</td>\n",
       "    </tr>\n",
       "    <tr>\n",
       "      <th>HT</th>\n",
       "      <td>0</td>\n",
       "      <td>14</td>\n",
       "      <td>16</td>\n",
       "    </tr>\n",
       "    <tr>\n",
       "      <th>KT</th>\n",
       "      <td>1</td>\n",
       "      <td>16</td>\n",
       "      <td>10</td>\n",
       "    </tr>\n",
       "    <tr>\n",
       "      <th>LG</th>\n",
       "      <td>0</td>\n",
       "      <td>14</td>\n",
       "      <td>9</td>\n",
       "    </tr>\n",
       "    <tr>\n",
       "      <th>LT</th>\n",
       "      <td>0</td>\n",
       "      <td>14</td>\n",
       "      <td>16</td>\n",
       "    </tr>\n",
       "    <tr>\n",
       "      <th>NC</th>\n",
       "      <td>0</td>\n",
       "      <td>14</td>\n",
       "      <td>10</td>\n",
       "    </tr>\n",
       "    <tr>\n",
       "      <th>OB</th>\n",
       "      <td>0</td>\n",
       "      <td>10</td>\n",
       "      <td>17</td>\n",
       "    </tr>\n",
       "    <tr>\n",
       "      <th>SK</th>\n",
       "      <td>0</td>\n",
       "      <td>14</td>\n",
       "      <td>14</td>\n",
       "    </tr>\n",
       "    <tr>\n",
       "      <th>SS</th>\n",
       "      <td>1</td>\n",
       "      <td>11</td>\n",
       "      <td>12</td>\n",
       "    </tr>\n",
       "    <tr>\n",
       "      <th>WO</th>\n",
       "      <td>0</td>\n",
       "      <td>9</td>\n",
       "      <td>13</td>\n",
       "    </tr>\n",
       "  </tbody>\n",
       "</table>\n",
       "</div>"
      ],
      "text/plain": [
       "WLS   D   L   W\n",
       "T_ID           \n",
       "HH    0  13  12\n",
       "HT    0  14  16\n",
       "KT    1  16  10\n",
       "LG    0  14   9\n",
       "LT    0  14  16\n",
       "NC    0  14  10\n",
       "OB    0  10  17\n",
       "SK    0  14  14\n",
       "SS    1  11  12\n",
       "WO    0   9  13"
      ]
     },
     "execution_count": 187,
     "metadata": {},
     "output_type": "execute_result"
    }
   ],
   "source": [
    "pd.crosstab(team_18_4.T_ID,team_18_4.WLS)"
   ]
  },
  {
   "cell_type": "code",
   "execution_count": 188,
   "metadata": {},
   "outputs": [
    {
     "data": {
      "image/png": "[encoded data removed]",
      "text/plain": [
       "<Figure size 432x288 with 1 Axes>"
      ]
     },
     "metadata": {
      "needs_background": "light"
     },
     "output_type": "display_data"
    }
   ],
   "source": [
    "sns.boxplot(x='T_ID',y='AVG',hue='q',data=team_18)\n",
    "plt.show()"
   ]
  },
  {
   "cell_type": "code",
   "execution_count": 189,
   "metadata": {},
   "outputs": [
    {
     "data": {
      "image/png": "[encoded data removed]",
      "text/plain": [
       "<Figure size 432x288 with 1 Axes>"
      ]
     },
     "metadata": {
      "needs_background": "light"
     },
     "output_type": "display_data"
    }
   ],
   "source": [
    "sns.boxplot(x='T_ID',y='ERA',hue='q',data=team_18)\n",
    "plt.show()"
   ]
  },
  {
   "cell_type": "markdown",
   "metadata": {},
   "source": [
    "### 팀별로 나눠기"
   ]
  },
  {
   "cell_type": "code",
   "execution_count": 190,
   "metadata": {},
   "outputs": [],
   "source": [
    "NC_18=team_18[team_18['T_ID']=='NC']\n",
    "OB_18=team_18[team_18['T_ID']=='OB']\n",
    "WO_18=team_18[team_18['T_ID']=='WO']\n",
    "LG_18=team_18[team_18['T_ID']=='LG']\n",
    "HT_18=team_18[team_18['T_ID']=='HT']\n",
    "KT_18=team_18[team_18['T_ID']=='KT']\n",
    "SS_18=team_18[team_18['T_ID']=='SS']\n",
    "LT_18=team_18[team_18['T_ID']=='LT']\n",
    "SK_18=team_18[team_18['T_ID']=='SK']\n",
    "HH_18=team_18[team_18['T_ID']=='HH']"
   ]
  },
  {
   "cell_type": "code",
   "execution_count": 192,
   "metadata": {},
   "outputs": [
    {
     "data": {
      "text/plain": [
       "q\n",
       "1    0.252\n",
       "2    0.250\n",
       "3    0.266\n",
       "4    0.284\n",
       "dtype: float64"
      ]
     },
     "execution_count": 192,
     "metadata": {},
     "output_type": "execute_result"
    }
   ],
   "source": [
    "# 2018 NC 타율\n",
    "NC_18_H=NC_18.groupby('q').HIT.sum()\n",
    "NC_18_A=NC_18.groupby('q').AB.sum()\n",
    "\n",
    "NC_18_AVG=(NC_18_H)/(NC_18_A)\n",
    "\n",
    "y_n_18=NC_18_AVG.round(3)\n",
    "y_n_18"
   ]
  },
  {
   "cell_type": "code",
   "execution_count": 193,
   "metadata": {},
   "outputs": [
    {
     "data": {
      "image/png": "[encoded data removed]",
      "text/plain": [
       "<Figure size 432x288 with 1 Axes>"
      ]
     },
     "metadata": {
      "needs_background": "light"
     },
     "output_type": "display_data"
    }
   ],
   "source": [
    "index=('1','2','3','4')\n",
    "plt.bar(index,y_n_18)\n",
    "plt.show()"
   ]
  },
  {
   "cell_type": "code",
   "execution_count": 194,
   "metadata": {},
   "outputs": [
    {
     "data": {
      "text/plain": [
       "q\n",
       "1    0.291\n",
       "2    0.303\n",
       "3    0.325\n",
       "4    0.313\n",
       "dtype: float64"
      ]
     },
     "execution_count": 194,
     "metadata": {},
     "output_type": "execute_result"
    }
   ],
   "source": [
    "# 2018 OB 타율\n",
    "OB_18_H=OB_18.groupby('q').HIT.sum()\n",
    "OB_18_A=OB_18.groupby('q').AB.sum()\n",
    "\n",
    "OB_18_AVG=(OB_18_H)/(OB_18_A)\n",
    "\n",
    "y_o_18=OB_18_AVG.round(3)\n",
    "y_o_18"
   ]
  },
  {
   "cell_type": "code",
   "execution_count": 195,
   "metadata": {},
   "outputs": [
    {
     "data": {
      "image/png": "[encoded data removed]",
      "text/plain": [
       "<Figure size 432x288 with 1 Axes>"
      ]
     },
     "metadata": {
      "needs_background": "light"
     },
     "output_type": "display_data"
    }
   ],
   "source": [
    "index=('1','2','3','4')\n",
    "plt.bar(index,y_o_18)\n",
    "plt.show()"
   ]
  },
  {
   "cell_type": "code",
   "execution_count": 196,
   "metadata": {},
   "outputs": [
    {
     "data": {
      "text/plain": [
       "q\n",
       "1    0.279\n",
       "2    0.289\n",
       "3    0.304\n",
       "4    0.266\n",
       "dtype: float64"
      ]
     },
     "execution_count": 196,
     "metadata": {},
     "output_type": "execute_result"
    }
   ],
   "source": [
    "# 2018 WO 타율\n",
    "WO_18_H=WO_18.groupby('q').HIT.sum()\n",
    "WO_18_A=WO_18.groupby('q').AB.sum()\n",
    "\n",
    "WO_18_AVG=(WO_18_H)/(WO_18_A)\n",
    "\n",
    "y_w_18=WO_18_AVG.round(3)\n",
    "y_w_18"
   ]
  },
  {
   "cell_type": "code",
   "execution_count": 197,
   "metadata": {},
   "outputs": [
    {
     "data": {
      "image/png": "[encoded data removed]",
      "text/plain": [
       "<Figure size 432x288 with 1 Axes>"
      ]
     },
     "metadata": {
      "needs_background": "light"
     },
     "output_type": "display_data"
    }
   ],
   "source": [
    "index=('1','2','3','4')\n",
    "plt.bar(index,y_w_18)\n",
    "plt.show()"
   ]
  },
  {
   "cell_type": "code",
   "execution_count": 198,
   "metadata": {},
   "outputs": [
    {
     "data": {
      "text/plain": [
       "q\n",
       "1    0.287\n",
       "2    0.316\n",
       "3    0.292\n",
       "4    0.269\n",
       "dtype: float64"
      ]
     },
     "execution_count": 198,
     "metadata": {},
     "output_type": "execute_result"
    }
   ],
   "source": [
    "# 2018 LG 타율\n",
    "LG_18_H=LG_18.groupby('q').HIT.sum()\n",
    "LG_18_A=LG_18.groupby('q').AB.sum()\n",
    "\n",
    "LG_18_AVG=(LG_18_H)/(LG_18_A)\n",
    "\n",
    "y_l_18=LG_18_AVG.round(3)\n",
    "y_l_18"
   ]
  },
  {
   "cell_type": "code",
   "execution_count": 199,
   "metadata": {},
   "outputs": [
    {
     "data": {
      "image/png": "[encoded data removed]",
      "text/plain": [
       "<Figure size 432x288 with 1 Axes>"
      ]
     },
     "metadata": {
      "needs_background": "light"
     },
     "output_type": "display_data"
    }
   ],
   "source": [
    "index=('1','2','3','4')\n",
    "plt.bar(index,y_l_18)\n",
    "plt.show()"
   ]
  },
  {
   "cell_type": "code",
   "execution_count": 200,
   "metadata": {},
   "outputs": [
    {
     "data": {
      "text/plain": [
       "q\n",
       "1    0.311\n",
       "2    0.281\n",
       "3    0.296\n",
       "4    0.292\n",
       "dtype: float64"
      ]
     },
     "execution_count": 200,
     "metadata": {},
     "output_type": "execute_result"
    }
   ],
   "source": [
    "# 2018 HT 타율\n",
    "HT_18_H=HT_18.groupby('q').HIT.sum()\n",
    "HT_18_A=HT_18.groupby('q').AB.sum()\n",
    "\n",
    "HT_18_AVG=(HT_18_H)/(HT_18_A)\n",
    "\n",
    "y_h_18=HT_18_AVG.round(3)\n",
    "y_h_18"
   ]
  },
  {
   "cell_type": "code",
   "execution_count": 201,
   "metadata": {},
   "outputs": [
    {
     "data": {
      "image/png": "[encoded data removed]",
      "text/plain": [
       "<Figure size 432x288 with 1 Axes>"
      ]
     },
     "metadata": {
      "needs_background": "light"
     },
     "output_type": "display_data"
    }
   ],
   "source": [
    "index=('1','2','3','4')\n",
    "plt.bar(index,y_h_18)\n",
    "plt.show()"
   ]
  },
  {
   "cell_type": "code",
   "execution_count": 202,
   "metadata": {},
   "outputs": [
    {
     "data": {
      "text/plain": [
       "q\n",
       "1    0.284\n",
       "2    0.264\n",
       "3    0.272\n",
       "4    0.283\n",
       "dtype: float64"
      ]
     },
     "execution_count": 202,
     "metadata": {},
     "output_type": "execute_result"
    }
   ],
   "source": [
    "# 2018 KT 타율\n",
    "KT_18_H=KT_18.groupby('q').HIT.sum()\n",
    "KT_18_A=KT_18.groupby('q').AB.sum()\n",
    "\n",
    "KT_18_AVG=(KT_18_H)/(KT_18_A)\n",
    "\n",
    "y_k_18=KT_18_AVG.round(3)\n",
    "y_k_18"
   ]
  },
  {
   "cell_type": "code",
   "execution_count": 203,
   "metadata": {},
   "outputs": [
    {
     "data": {
      "image/png": "[encoded data removed]",
      "text/plain": [
       "<Figure size 432x288 with 1 Axes>"
      ]
     },
     "metadata": {
      "needs_background": "light"
     },
     "output_type": "display_data"
    }
   ],
   "source": [
    "index=('1','2','3','4')\n",
    "plt.bar(index,y_k_18)\n",
    "plt.show()"
   ]
  },
  {
   "cell_type": "code",
   "execution_count": 204,
   "metadata": {},
   "outputs": [
    {
     "data": {
      "text/plain": [
       "q\n",
       "1    0.274\n",
       "2    0.292\n",
       "3    0.292\n",
       "4    0.295\n",
       "dtype: float64"
      ]
     },
     "execution_count": 204,
     "metadata": {},
     "output_type": "execute_result"
    }
   ],
   "source": [
    "# 2018 SS 타율\n",
    "SS_18_H=SS_18.groupby('q').HIT.sum()\n",
    "SS_18_A=SS_18.groupby('q').AB.sum()\n",
    "\n",
    "SS_18_AVG=(SS_18_H)/(SS_18_A)\n",
    "\n",
    "y_s_18=SS_18_AVG.round(3)\n",
    "y_s_18"
   ]
  },
  {
   "cell_type": "code",
   "execution_count": 205,
   "metadata": {},
   "outputs": [
    {
     "data": {
      "image/png": "[encoded data removed]",
      "text/plain": [
       "<Figure size 432x288 with 1 Axes>"
      ]
     },
     "metadata": {
      "needs_background": "light"
     },
     "output_type": "display_data"
    }
   ],
   "source": [
    "index=('1','2','3','4')\n",
    "plt.bar(index,y_s_18)\n",
    "plt.show()"
   ]
  },
  {
   "cell_type": "code",
   "execution_count": 206,
   "metadata": {},
   "outputs": [
    {
     "data": {
      "text/plain": [
       "q\n",
       "1    0.283\n",
       "2    0.299\n",
       "3    0.285\n",
       "4    0.291\n",
       "dtype: float64"
      ]
     },
     "execution_count": 206,
     "metadata": {},
     "output_type": "execute_result"
    }
   ],
   "source": [
    "# 2018 LT 타율\n",
    "LT_18_H=LT_18.groupby('q').HIT.sum()\n",
    "LT_18_A=LT_18.groupby('q').AB.sum()\n",
    "\n",
    "LT_18_AVG=(LT_18_H)/(LT_18_A)\n",
    "\n",
    "y_lt_18=LT_18_AVG.round(3)\n",
    "y_lt_18"
   ]
  },
  {
   "cell_type": "code",
   "execution_count": 207,
   "metadata": {},
   "outputs": [
    {
     "data": {
      "image/png": "[encoded data removed]",
      "text/plain": [
       "<Figure size 432x288 with 1 Axes>"
      ]
     },
     "metadata": {
      "needs_background": "light"
     },
     "output_type": "display_data"
    }
   ],
   "source": [
    "index=('1','2','3','4')\n",
    "plt.bar(index,y_lt_18)\n",
    "plt.show()"
   ]
  },
  {
   "cell_type": "code",
   "execution_count": 208,
   "metadata": {},
   "outputs": [
    {
     "data": {
      "text/plain": [
       "q\n",
       "1    0.288\n",
       "2    0.270\n",
       "3    0.285\n",
       "4    0.279\n",
       "dtype: float64"
      ]
     },
     "execution_count": 208,
     "metadata": {},
     "output_type": "execute_result"
    }
   ],
   "source": [
    "# 2018 SK 타율\n",
    "SK_18_H=SK_18.groupby('q').HIT.sum()\n",
    "SK_18_A=SK_18.groupby('q').AB.sum()\n",
    "\n",
    "SK_18_AVG=(SK_18_H)/(SK_18_A)\n",
    "\n",
    "y_sk_18=SK_18_AVG.round(3)\n",
    "y_sk_18"
   ]
  },
  {
   "cell_type": "code",
   "execution_count": 209,
   "metadata": {},
   "outputs": [
    {
     "data": {
      "image/png": "[encoded data removed]",
      "text/plain": [
       "<Figure size 432x288 with 1 Axes>"
      ]
     },
     "metadata": {
      "needs_background": "light"
     },
     "output_type": "display_data"
    }
   ],
   "source": [
    "index=('1','2','3','4')\n",
    "plt.bar(index,y_sk_18)\n",
    "plt.show()"
   ]
  },
  {
   "cell_type": "code",
   "execution_count": 210,
   "metadata": {},
   "outputs": [
    {
     "data": {
      "text/plain": [
       "q\n",
       "1    0.285\n",
       "2    0.264\n",
       "3    0.281\n",
       "4    0.267\n",
       "dtype: float64"
      ]
     },
     "execution_count": 210,
     "metadata": {},
     "output_type": "execute_result"
    }
   ],
   "source": [
    "# 2018 HH 타율\n",
    "HH_18_H=HH_18.groupby('q').HIT.sum()\n",
    "HH_18_A=HH_18.groupby('q').AB.sum()\n",
    "\n",
    "HH_18_AVG=(HH_18_H)/(HH_18_A)\n",
    "\n",
    "y_hh_18=HH_18_AVG.round(3)\n",
    "y_hh_18"
   ]
  },
  {
   "cell_type": "code",
   "execution_count": 211,
   "metadata": {},
   "outputs": [
    {
     "data": {
      "image/png": "[encoded data removed]",
      "text/plain": [
       "<Figure size 432x288 with 1 Axes>"
      ]
     },
     "metadata": {
      "needs_background": "light"
     },
     "output_type": "display_data"
    }
   ],
   "source": [
    "index=('1','2','3','4')\n",
    "plt.bar(index,y_hh_18)\n",
    "plt.show()"
   ]
  },
  {
   "cell_type": "code",
   "execution_count": 213,
   "metadata": {},
   "outputs": [
    {
     "data": {
      "text/plain": [
       "q\n",
       "1    5.461\n",
       "2    5.519\n",
       "3    5.139\n",
       "4    6.101\n",
       "dtype: float64"
      ]
     },
     "execution_count": 213,
     "metadata": {},
     "output_type": "execute_result"
    }
   ],
   "source": [
    "# 2018 NC 방어율\n",
    "NC_18_E=NC_18.groupby('q').ER.sum()\n",
    "NC_18_I=NC_18.groupby('q').INN2.sum()\n",
    "\n",
    "NC_18_ERA=((NC_18_E)*9)/((NC_18_I)/3)\n",
    "\n",
    "e_n_18=NC_18_ERA.round(3)\n",
    "e_n_18"
   ]
  },
  {
   "cell_type": "code",
   "execution_count": 214,
   "metadata": {},
   "outputs": [
    {
     "data": {
      "image/png": "[encoded data removed]",
      "text/plain": [
       "<Figure size 432x288 with 1 Axes>"
      ]
     },
     "metadata": {
      "needs_background": "light"
     },
     "output_type": "display_data"
    }
   ],
   "source": [
    "index=('1','2','3','4')\n",
    "plt.bar(index,e_n_18)\n",
    "plt.show()"
   ]
  },
  {
   "cell_type": "code",
   "execution_count": 215,
   "metadata": {},
   "outputs": [
    {
     "data": {
      "text/plain": [
       "q\n",
       "1    4.798\n",
       "2    4.451\n",
       "3    5.547\n",
       "4    4.916\n",
       "dtype: float64"
      ]
     },
     "execution_count": 215,
     "metadata": {},
     "output_type": "execute_result"
    }
   ],
   "source": [
    "# 2018 OB 방어율\n",
    "OB_18_E=OB_18.groupby('q').ER.sum()\n",
    "OB_18_I=OB_18.groupby('q').INN2.sum()\n",
    "\n",
    "OB_18_ERA=((OB_18_E)*9)/((OB_18_I)/3)\n",
    "\n",
    "e_o_18=OB_18_ERA.round(3)\n",
    "e_o_18"
   ]
  },
  {
   "cell_type": "code",
   "execution_count": 216,
   "metadata": {},
   "outputs": [
    {
     "data": {
      "image/png": "[encoded data removed]",
      "text/plain": [
       "<Figure size 432x288 with 1 Axes>"
      ]
     },
     "metadata": {
      "needs_background": "light"
     },
     "output_type": "display_data"
    }
   ],
   "source": [
    "index=('1','2','3','4')\n",
    "plt.bar(index,e_o_18)\n",
    "plt.show()"
   ]
  },
  {
   "cell_type": "code",
   "execution_count": 217,
   "metadata": {},
   "outputs": [
    {
     "data": {
      "text/plain": [
       "q\n",
       "1    4.991\n",
       "2    4.415\n",
       "3    5.421\n",
       "4    5.538\n",
       "dtype: float64"
      ]
     },
     "execution_count": 217,
     "metadata": {},
     "output_type": "execute_result"
    }
   ],
   "source": [
    "# 2018 WO 방어율\n",
    "WO_18_E=WO_18.groupby('q').ER.sum()\n",
    "WO_18_I=WO_18.groupby('q').INN2.sum()\n",
    "\n",
    "WO_18_ERA=((WO_18_E)*9)/((WO_18_I)/3)\n",
    "\n",
    "e_w_18=WO_18_ERA.round(3)\n",
    "e_w_18"
   ]
  },
  {
   "cell_type": "code",
   "execution_count": 218,
   "metadata": {},
   "outputs": [
    {
     "data": {
      "image/png": "[encoded data removed]",
      "text/plain": [
       "<Figure size 432x288 with 1 Axes>"
      ]
     },
     "metadata": {
      "needs_background": "light"
     },
     "output_type": "display_data"
    }
   ],
   "source": [
    "index=('1','2','3','4')\n",
    "plt.bar(index,e_w_18)\n",
    "plt.show()"
   ]
  },
  {
   "cell_type": "code",
   "execution_count": 219,
   "metadata": {},
   "outputs": [
    {
     "data": {
      "text/plain": [
       "q\n",
       "1    4.374\n",
       "2    4.811\n",
       "3    6.358\n",
       "4    5.426\n",
       "dtype: float64"
      ]
     },
     "execution_count": 219,
     "metadata": {},
     "output_type": "execute_result"
    }
   ],
   "source": [
    "# 2018 LG 방어율\n",
    "LG_18_E=LG_18.groupby('q').ER.sum()\n",
    "LG_18_I=LG_18.groupby('q').INN2.sum()\n",
    "\n",
    "LG_18_ERA=((LG_18_E)*9)/((LG_18_I)/3)\n",
    "\n",
    "e_l_18=LG_18_ERA.round(3)\n",
    "e_l_18"
   ]
  },
  {
   "cell_type": "code",
   "execution_count": 220,
   "metadata": {},
   "outputs": [
    {
     "data": {
      "image/png": "[encoded data removed]",
      "text/plain": [
       "<Figure size 432x288 with 1 Axes>"
      ]
     },
     "metadata": {
      "needs_background": "light"
     },
     "output_type": "display_data"
    }
   ],
   "source": [
    "index=('1','2','3','4')\n",
    "plt.bar(index,e_l_18)\n",
    "plt.show()"
   ]
  },
  {
   "cell_type": "code",
   "execution_count": 221,
   "metadata": {},
   "outputs": [
    {
     "data": {
      "text/plain": [
       "q\n",
       "1    4.692\n",
       "2    5.146\n",
       "3    6.173\n",
       "4    5.407\n",
       "dtype: float64"
      ]
     },
     "execution_count": 221,
     "metadata": {},
     "output_type": "execute_result"
    }
   ],
   "source": [
    "# 2018 HT 방어율\n",
    "HT_18_E=HT_18.groupby('q').ER.sum()\n",
    "HT_18_I=HT_18.groupby('q').INN2.sum()\n",
    "\n",
    "HT_18_ERA=((HT_18_E)*9)/((HT_18_I)/3)\n",
    "\n",
    "e_h_18=HT_18_ERA.round(3)\n",
    "e_h_18"
   ]
  },
  {
   "cell_type": "code",
   "execution_count": 222,
   "metadata": {},
   "outputs": [
    {
     "data": {
      "image/png": "[encoded data removed]",
      "text/plain": [
       "<Figure size 432x288 with 1 Axes>"
      ]
     },
     "metadata": {
      "needs_background": "light"
     },
     "output_type": "display_data"
    }
   ],
   "source": [
    "index=('1','2','3','4')\n",
    "plt.bar(index,e_h_18)\n",
    "plt.show()"
   ]
  },
  {
   "cell_type": "code",
   "execution_count": 223,
   "metadata": {},
   "outputs": [
    {
     "data": {
      "text/plain": [
       "q\n",
       "1    5.481\n",
       "2    5.108\n",
       "3    5.335\n",
       "4    5.482\n",
       "dtype: float64"
      ]
     },
     "execution_count": 223,
     "metadata": {},
     "output_type": "execute_result"
    }
   ],
   "source": [
    "# 2018 KT 방어율\n",
    "KT_18_E=KT_18.groupby('q').ER.sum()\n",
    "KT_18_I=KT_18.groupby('q').INN2.sum()\n",
    "\n",
    "KT_18_ERA=((KT_18_E)*9)/((KT_18_I)/3)\n",
    "\n",
    "e_k_18=KT_18_ERA.round(3)\n",
    "e_k_18"
   ]
  },
  {
   "cell_type": "code",
   "execution_count": 225,
   "metadata": {},
   "outputs": [
    {
     "data": {
      "image/png": "[encoded data removed]",
      "text/plain": [
       "<Figure size 432x288 with 1 Axes>"
      ]
     },
     "metadata": {
      "needs_background": "light"
     },
     "output_type": "display_data"
    }
   ],
   "source": [
    "index=('1','2','3','4')\n",
    "plt.bar(index,e_k_18)\n",
    "plt.show()"
   ]
  },
  {
   "cell_type": "code",
   "execution_count": 226,
   "metadata": {},
   "outputs": [
    {
     "data": {
      "text/plain": [
       "q\n",
       "1    5.528\n",
       "2    5.167\n",
       "3    4.860\n",
       "4    5.350\n",
       "dtype: float64"
      ]
     },
     "execution_count": 226,
     "metadata": {},
     "output_type": "execute_result"
    }
   ],
   "source": [
    "# 2018 SS 방어율\n",
    "SS_18_E=SS_18.groupby('q').ER.sum()\n",
    "SS_18_I=SS_18.groupby('q').INN2.sum()\n",
    "\n",
    "SS_18_ERA=((SS_18_E)*9)/((SS_18_I)/3)\n",
    "\n",
    "e_s_18=SS_18_ERA.round(3)\n",
    "e_s_18"
   ]
  },
  {
   "cell_type": "code",
   "execution_count": 227,
   "metadata": {},
   "outputs": [
    {
     "data": {
      "image/png": "[encoded data removed]",
      "text/plain": [
       "<Figure size 432x288 with 1 Axes>"
      ]
     },
     "metadata": {
      "needs_background": "light"
     },
     "output_type": "display_data"
    }
   ],
   "source": [
    "index=('1','2','3','4')\n",
    "plt.bar(index,e_s_18)\n",
    "plt.show()"
   ]
  },
  {
   "cell_type": "code",
   "execution_count": 228,
   "metadata": {},
   "outputs": [
    {
     "data": {
      "text/plain": [
       "q\n",
       "1    5.068\n",
       "2    5.143\n",
       "3    5.446\n",
       "4    5.877\n",
       "dtype: float64"
      ]
     },
     "execution_count": 228,
     "metadata": {},
     "output_type": "execute_result"
    }
   ],
   "source": [
    "# 2018 LT 방어율\n",
    "LT_18_E=LT_18.groupby('q').ER.sum()\n",
    "LT_18_I=LT_18.groupby('q').INN2.sum()\n",
    "\n",
    "LT_18_ERA=((LT_18_E)*9)/((LT_18_I)/3)\n",
    "\n",
    "e_lt_18=LT_18_ERA.round(3)\n",
    "e_lt_18"
   ]
  },
  {
   "cell_type": "code",
   "execution_count": 229,
   "metadata": {},
   "outputs": [
    {
     "data": {
      "image/png": "[encoded data removed]",
      "text/plain": [
       "<Figure size 432x288 with 1 Axes>"
      ]
     },
     "metadata": {
      "needs_background": "light"
     },
     "output_type": "display_data"
    }
   ],
   "source": [
    "index=('1','2','3','4')\n",
    "plt.bar(index,e_lt_18)\n",
    "plt.show()"
   ]
  },
  {
   "cell_type": "code",
   "execution_count": 230,
   "metadata": {},
   "outputs": [
    {
     "data": {
      "text/plain": [
       "q\n",
       "1    4.257\n",
       "2    5.055\n",
       "3    4.625\n",
       "4    4.820\n",
       "dtype: float64"
      ]
     },
     "execution_count": 230,
     "metadata": {},
     "output_type": "execute_result"
    }
   ],
   "source": [
    "# 2018 SK 방어율\n",
    "SK_18_E=SK_18.groupby('q').ER.sum()\n",
    "SK_18_I=SK_18.groupby('q').INN2.sum()\n",
    "\n",
    "SK_18_ERA=((SK_18_E)*9)/((SK_18_I)/3)\n",
    "\n",
    "e_sk_18=SK_18_ERA.round(3)\n",
    "e_sk_18"
   ]
  },
  {
   "cell_type": "code",
   "execution_count": 231,
   "metadata": {},
   "outputs": [
    {
     "data": {
      "image/png": "[encoded data removed]",
      "text/plain": [
       "<Figure size 432x288 with 1 Axes>"
      ]
     },
     "metadata": {
      "needs_background": "light"
     },
     "output_type": "display_data"
    }
   ],
   "source": [
    "index=('1','2','3','4')\n",
    "plt.bar(index,e_sk_18)\n",
    "plt.show()"
   ]
  },
  {
   "cell_type": "code",
   "execution_count": 232,
   "metadata": {},
   "outputs": [
    {
     "data": {
      "text/plain": [
       "q\n",
       "1    4.925\n",
       "2    4.364\n",
       "3    4.990\n",
       "4    5.676\n",
       "dtype: float64"
      ]
     },
     "execution_count": 232,
     "metadata": {},
     "output_type": "execute_result"
    }
   ],
   "source": [
    "# 2018 HH 방어율\n",
    "HH_18_E=HH_18.groupby('q').ER.sum()\n",
    "HH_18_I=HH_18.groupby('q').INN2.sum()\n",
    "\n",
    "HH_18_ERA=((HH_18_E)*9)/((HH_18_I)/3)\n",
    "\n",
    "e_hh_18=HH_18_ERA.round(3)\n",
    "e_hh_18"
   ]
  },
  {
   "cell_type": "code",
   "execution_count": 233,
   "metadata": {},
   "outputs": [
    {
     "data": {
      "image/png": "[encoded data removed]",
      "text/plain": [
       "<Figure size 432x288 with 1 Axes>"
      ]
     },
     "metadata": {
      "needs_background": "light"
     },
     "output_type": "display_data"
    }
   ],
   "source": [
    "index=('1','2','3','4')\n",
    "plt.bar(index,e_hh_18)\n",
    "plt.show()"
   ]
  },
  {
   "cell_type": "markdown",
   "metadata": {},
   "source": [
    "### 19년도 90경기씩 나누기"
   ]
  },
  {
   "cell_type": "code",
   "execution_count": 272,
   "metadata": {},
   "outputs": [],
   "source": [
    "qq=[\n",
    "    (team_19['Unnamed: 0']>=0) & (team_19['Unnamed: 0']< 180),\n",
    "    (team_19['Unnamed: 0']>=180) & (team_19['Unnamed: 0']< 360),\n",
    "    (team_19['Unnamed: 0']>=360) & (team_19['Unnamed: 0']< 540),\n",
    "    (team_19['Unnamed: 0']>=540) & (team_19['Unnamed: 0']< 720),\n",
    "    (team_19['Unnamed: 0']>=720) & (team_19['Unnamed: 0']< 900),\n",
    "    (team_19['Unnamed: 0']>=900) & (team_19['Unnamed: 0']< 1080),\n",
    "    (team_19['Unnamed: 0']>=1080) & (team_19['Unnamed: 0']< 1260),\n",
    "    (team_19['Unnamed: 0']>=1260) & (team_19['Unnamed: 0']< 1440)\n",
    "]\n",
    "choicelist =[1,2,3,4,5,6,7,8]\n",
    "team_19['qq']=np.select(qq, choicelist)"
   ]
  },
  {
   "cell_type": "code",
   "execution_count": 275,
   "metadata": {},
   "outputs": [
    {
     "data": {
      "image/png": "[encoded data removed]",
      "text/plain": [
       "<Figure size 432x288 with 1 Axes>"
      ]
     },
     "metadata": {
      "needs_background": "light"
     },
     "output_type": "display_data"
    }
   ],
   "source": [
    "sns.boxplot(x='T_ID',y='AVG',hue='qq',data=team_19)\n",
    "plt.show()"
   ]
  },
  {
   "cell_type": "code",
   "execution_count": 276,
   "metadata": {},
   "outputs": [],
   "source": [
    "NC_19=team_19[team_19['T_ID']=='NC']\n",
    "OB_19=team_19[team_19['T_ID']=='OB']\n",
    "WO_19=team_19[team_19['T_ID']=='WO']\n",
    "LG_19=team_19[team_19['T_ID']=='LG']\n",
    "HT_19=team_19[team_19['T_ID']=='HT']\n",
    "KT_19=team_19[team_19['T_ID']=='KT']\n",
    "SS_19=team_19[team_19['T_ID']=='SS']\n",
    "LT_19=team_19[team_19['T_ID']=='LT']\n",
    "SK_19=team_19[team_19['T_ID']=='SK']\n",
    "HH_19=team_19[team_19['T_ID']=='HH']"
   ]
  },
  {
   "cell_type": "code",
   "execution_count": 277,
   "metadata": {},
   "outputs": [
    {
     "data": {
      "text/html": [
       "<div>\n",
       "<style scoped>\n",
       "    .dataframe tbody tr th:only-of-type {\n",
       "        vertical-align: middle;\n",
       "    }\n",
       "\n",
       "    .dataframe tbody tr th {\n",
       "        vertical-align: top;\n",
       "    }\n",
       "\n",
       "    .dataframe thead th {\n",
       "        text-align: right;\n",
       "    }\n",
       "</style>\n",
       "<table border=\"1\" class=\"dataframe\">\n",
       "  <thead>\n",
       "    <tr style=\"text-align: right;\">\n",
       "      <th>WLS</th>\n",
       "      <th>D</th>\n",
       "      <th>L</th>\n",
       "      <th>W</th>\n",
       "    </tr>\n",
       "    <tr>\n",
       "      <th>qq</th>\n",
       "      <th></th>\n",
       "      <th></th>\n",
       "      <th></th>\n",
       "    </tr>\n",
       "  </thead>\n",
       "  <tbody>\n",
       "    <tr>\n",
       "      <th>1</th>\n",
       "      <td>0</td>\n",
       "      <td>6</td>\n",
       "      <td>12</td>\n",
       "    </tr>\n",
       "    <tr>\n",
       "      <th>2</th>\n",
       "      <td>0</td>\n",
       "      <td>7</td>\n",
       "      <td>10</td>\n",
       "    </tr>\n",
       "    <tr>\n",
       "      <th>3</th>\n",
       "      <td>0</td>\n",
       "      <td>10</td>\n",
       "      <td>8</td>\n",
       "    </tr>\n",
       "    <tr>\n",
       "      <th>4</th>\n",
       "      <td>0</td>\n",
       "      <td>12</td>\n",
       "      <td>6</td>\n",
       "    </tr>\n",
       "    <tr>\n",
       "      <th>5</th>\n",
       "      <td>1</td>\n",
       "      <td>9</td>\n",
       "      <td>8</td>\n",
       "    </tr>\n",
       "    <tr>\n",
       "      <th>6</th>\n",
       "      <td>0</td>\n",
       "      <td>9</td>\n",
       "      <td>9</td>\n",
       "    </tr>\n",
       "    <tr>\n",
       "      <th>7</th>\n",
       "      <td>0</td>\n",
       "      <td>9</td>\n",
       "      <td>9</td>\n",
       "    </tr>\n",
       "    <tr>\n",
       "      <th>8</th>\n",
       "      <td>1</td>\n",
       "      <td>7</td>\n",
       "      <td>11</td>\n",
       "    </tr>\n",
       "  </tbody>\n",
       "</table>\n",
       "</div>"
      ],
      "text/plain": [
       "WLS  D   L   W\n",
       "qq            \n",
       "1    0   6  12\n",
       "2    0   7  10\n",
       "3    0  10   8\n",
       "4    0  12   6\n",
       "5    1   9   8\n",
       "6    0   9   9\n",
       "7    0   9   9\n",
       "8    1   7  11"
      ]
     },
     "execution_count": 277,
     "metadata": {},
     "output_type": "execute_result"
    }
   ],
   "source": [
    "# 2019 NC 승률\n",
    "pd.crosstab(NC_19.qq,NC_19.WLS)"
   ]
  },
  {
   "cell_type": "code",
   "execution_count": 278,
   "metadata": {},
   "outputs": [],
   "source": [
    "NC_19_ODD_1=12/(6+12)\n",
    "NC_19_ODD_2=10/(7+10)\n",
    "NC_19_ODD_3=8/(10+8)\n",
    "NC_19_ODD_4=6/(12+6)\n",
    "NC_19_ODD_5=8/(9+8)\n",
    "NC_19_ODD_6=9/(9+9)\n",
    "NC_19_ODD_7=9/(9+9)\n",
    "NC_19_ODD_8=11/(7+11)"
   ]
  },
  {
   "cell_type": "code",
   "execution_count": 279,
   "metadata": {},
   "outputs": [
    {
     "data": {
      "image/png": "[encoded data removed]",
      "text/plain": [
       "<Figure size 432x288 with 1 Axes>"
      ]
     },
     "metadata": {
      "needs_background": "light"
     },
     "output_type": "display_data"
    }
   ],
   "source": [
    "index=('1','2','3','4','5','6','7','8')\n",
    "y=(NC_19_ODD_1,NC_19_ODD_2,NC_19_ODD_3,NC_19_ODD_4,NC_19_ODD_5,NC_19_ODD_6,NC_19_ODD_7,NC_19_ODD_8)\n",
    "plt.bar(index,y)\n",
    "plt.show()"
   ]
  },
  {
   "cell_type": "code",
   "execution_count": 280,
   "metadata": {},
   "outputs": [
    {
     "data": {
      "text/html": [
       "<div>\n",
       "<style scoped>\n",
       "    .dataframe tbody tr th:only-of-type {\n",
       "        vertical-align: middle;\n",
       "    }\n",
       "\n",
       "    .dataframe tbody tr th {\n",
       "        vertical-align: top;\n",
       "    }\n",
       "\n",
       "    .dataframe thead th {\n",
       "        text-align: right;\n",
       "    }\n",
       "</style>\n",
       "<table border=\"1\" class=\"dataframe\">\n",
       "  <thead>\n",
       "    <tr style=\"text-align: right;\">\n",
       "      <th>WLS</th>\n",
       "      <th>D</th>\n",
       "      <th>L</th>\n",
       "      <th>W</th>\n",
       "    </tr>\n",
       "    <tr>\n",
       "      <th>qq</th>\n",
       "      <th></th>\n",
       "      <th></th>\n",
       "      <th></th>\n",
       "    </tr>\n",
       "  </thead>\n",
       "  <tbody>\n",
       "    <tr>\n",
       "      <th>1</th>\n",
       "      <td>0</td>\n",
       "      <td>7</td>\n",
       "      <td>11</td>\n",
       "    </tr>\n",
       "    <tr>\n",
       "      <th>2</th>\n",
       "      <td>0</td>\n",
       "      <td>5</td>\n",
       "      <td>15</td>\n",
       "    </tr>\n",
       "    <tr>\n",
       "      <th>3</th>\n",
       "      <td>0</td>\n",
       "      <td>7</td>\n",
       "      <td>10</td>\n",
       "    </tr>\n",
       "    <tr>\n",
       "      <th>4</th>\n",
       "      <td>0</td>\n",
       "      <td>8</td>\n",
       "      <td>10</td>\n",
       "    </tr>\n",
       "    <tr>\n",
       "      <th>5</th>\n",
       "      <td>0</td>\n",
       "      <td>9</td>\n",
       "      <td>9</td>\n",
       "    </tr>\n",
       "    <tr>\n",
       "      <th>6</th>\n",
       "      <td>0</td>\n",
       "      <td>9</td>\n",
       "      <td>8</td>\n",
       "    </tr>\n",
       "    <tr>\n",
       "      <th>7</th>\n",
       "      <td>0</td>\n",
       "      <td>3</td>\n",
       "      <td>14</td>\n",
       "    </tr>\n",
       "    <tr>\n",
       "      <th>8</th>\n",
       "      <td>1</td>\n",
       "      <td>7</td>\n",
       "      <td>11</td>\n",
       "    </tr>\n",
       "  </tbody>\n",
       "</table>\n",
       "</div>"
      ],
      "text/plain": [
       "WLS  D  L   W\n",
       "qq           \n",
       "1    0  7  11\n",
       "2    0  5  15\n",
       "3    0  7  10\n",
       "4    0  8  10\n",
       "5    0  9   9\n",
       "6    0  9   8\n",
       "7    0  3  14\n",
       "8    1  7  11"
      ]
     },
     "execution_count": 280,
     "metadata": {},
     "output_type": "execute_result"
    }
   ],
   "source": [
    "# 2019 OB 승률\n",
    "pd.crosstab(OB_19.qq,OB_19.WLS)"
   ]
  },
  {
   "cell_type": "code",
   "execution_count": 281,
   "metadata": {},
   "outputs": [],
   "source": [
    "OB_19_ODD_1=11/(7+11)\n",
    "OB_19_ODD_2=15/(5+15)\n",
    "OB_19_ODD_3=10/(7+10)\n",
    "OB_19_ODD_4=10/(8+10)\n",
    "OB_19_ODD_5=9/(9+9)\n",
    "OB_19_ODD_6=8/(9+8)\n",
    "OB_19_ODD_7=14/(3+14)\n",
    "OB_19_ODD_8=11/(7+11)"
   ]
  },
  {
   "cell_type": "code",
   "execution_count": 282,
   "metadata": {},
   "outputs": [
    {
     "data": {
      "image/png": "[encoded data removed]",
      "text/plain": [
       "<Figure size 432x288 with 1 Axes>"
      ]
     },
     "metadata": {
      "needs_background": "light"
     },
     "output_type": "display_data"
    }
   ],
   "source": [
    "index=('1','2','3','4','5','6','7','8')\n",
    "y=(OB_19_ODD_1,OB_19_ODD_2,OB_19_ODD_3,OB_19_ODD_4,OB_19_ODD_5,OB_19_ODD_6,OB_19_ODD_7,OB_19_ODD_8)\n",
    "plt.bar(index,y)\n",
    "plt.show()"
   ]
  },
  {
   "cell_type": "code",
   "execution_count": 283,
   "metadata": {},
   "outputs": [
    {
     "data": {
      "text/html": [
       "<div>\n",
       "<style scoped>\n",
       "    .dataframe tbody tr th:only-of-type {\n",
       "        vertical-align: middle;\n",
       "    }\n",
       "\n",
       "    .dataframe tbody tr th {\n",
       "        vertical-align: top;\n",
       "    }\n",
       "\n",
       "    .dataframe thead th {\n",
       "        text-align: right;\n",
       "    }\n",
       "</style>\n",
       "<table border=\"1\" class=\"dataframe\">\n",
       "  <thead>\n",
       "    <tr style=\"text-align: right;\">\n",
       "      <th>WLS</th>\n",
       "      <th>D</th>\n",
       "      <th>L</th>\n",
       "      <th>W</th>\n",
       "    </tr>\n",
       "    <tr>\n",
       "      <th>qq</th>\n",
       "      <th></th>\n",
       "      <th></th>\n",
       "      <th></th>\n",
       "    </tr>\n",
       "  </thead>\n",
       "  <tbody>\n",
       "    <tr>\n",
       "      <th>1</th>\n",
       "      <td>0</td>\n",
       "      <td>8</td>\n",
       "      <td>10</td>\n",
       "    </tr>\n",
       "    <tr>\n",
       "      <th>2</th>\n",
       "      <td>0</td>\n",
       "      <td>7</td>\n",
       "      <td>12</td>\n",
       "    </tr>\n",
       "    <tr>\n",
       "      <th>3</th>\n",
       "      <td>0</td>\n",
       "      <td>10</td>\n",
       "      <td>9</td>\n",
       "    </tr>\n",
       "    <tr>\n",
       "      <th>4</th>\n",
       "      <td>0</td>\n",
       "      <td>7</td>\n",
       "      <td>12</td>\n",
       "    </tr>\n",
       "    <tr>\n",
       "      <th>5</th>\n",
       "      <td>0</td>\n",
       "      <td>5</td>\n",
       "      <td>12</td>\n",
       "    </tr>\n",
       "    <tr>\n",
       "      <th>6</th>\n",
       "      <td>0</td>\n",
       "      <td>7</td>\n",
       "      <td>11</td>\n",
       "    </tr>\n",
       "    <tr>\n",
       "      <th>7</th>\n",
       "      <td>1</td>\n",
       "      <td>8</td>\n",
       "      <td>10</td>\n",
       "    </tr>\n",
       "    <tr>\n",
       "      <th>8</th>\n",
       "      <td>0</td>\n",
       "      <td>5</td>\n",
       "      <td>10</td>\n",
       "    </tr>\n",
       "  </tbody>\n",
       "</table>\n",
       "</div>"
      ],
      "text/plain": [
       "WLS  D   L   W\n",
       "qq            \n",
       "1    0   8  10\n",
       "2    0   7  12\n",
       "3    0  10   9\n",
       "4    0   7  12\n",
       "5    0   5  12\n",
       "6    0   7  11\n",
       "7    1   8  10\n",
       "8    0   5  10"
      ]
     },
     "execution_count": 283,
     "metadata": {},
     "output_type": "execute_result"
    }
   ],
   "source": [
    "# 2019 WO 승률\n",
    "pd.crosstab(WO_19.qq,WO_19.WLS)"
   ]
  },
  {
   "cell_type": "code",
   "execution_count": 284,
   "metadata": {},
   "outputs": [],
   "source": [
    "WO_19_ODD_1=10/(8+10)\n",
    "WO_19_ODD_2=12/(7+12)\n",
    "WO_19_ODD_3=9/(10+9)\n",
    "WO_19_ODD_4=12/(7+12)\n",
    "WO_19_ODD_5=12/(5+12)\n",
    "WO_19_ODD_6=11/(7+11)\n",
    "WO_19_ODD_7=10/(8+10)\n",
    "WO_19_ODD_8=10/(5+10)"
   ]
  },
  {
   "cell_type": "code",
   "execution_count": 285,
   "metadata": {},
   "outputs": [
    {
     "data": {
      "image/png": "[encoded data removed]",
      "text/plain": [
       "<Figure size 432x288 with 1 Axes>"
      ]
     },
     "metadata": {
      "needs_background": "light"
     },
     "output_type": "display_data"
    }
   ],
   "source": [
    "index=('1','2','3','4','5','6','7','8')\n",
    "y=(WO_19_ODD_1,WO_19_ODD_2,WO_19_ODD_3,WO_19_ODD_4,WO_19_ODD_5,WO_19_ODD_6,WO_19_ODD_7,WO_19_ODD_8)\n",
    "plt.bar(index,y)\n",
    "plt.show()"
   ]
  },
  {
   "cell_type": "code",
   "execution_count": 286,
   "metadata": {},
   "outputs": [
    {
     "data": {
      "text/html": [
       "<div>\n",
       "<style scoped>\n",
       "    .dataframe tbody tr th:only-of-type {\n",
       "        vertical-align: middle;\n",
       "    }\n",
       "\n",
       "    .dataframe tbody tr th {\n",
       "        vertical-align: top;\n",
       "    }\n",
       "\n",
       "    .dataframe thead th {\n",
       "        text-align: right;\n",
       "    }\n",
       "</style>\n",
       "<table border=\"1\" class=\"dataframe\">\n",
       "  <thead>\n",
       "    <tr style=\"text-align: right;\">\n",
       "      <th>WLS</th>\n",
       "      <th>D</th>\n",
       "      <th>L</th>\n",
       "      <th>W</th>\n",
       "    </tr>\n",
       "    <tr>\n",
       "      <th>qq</th>\n",
       "      <th></th>\n",
       "      <th></th>\n",
       "      <th></th>\n",
       "    </tr>\n",
       "  </thead>\n",
       "  <tbody>\n",
       "    <tr>\n",
       "      <th>1</th>\n",
       "      <td>0</td>\n",
       "      <td>8</td>\n",
       "      <td>10</td>\n",
       "    </tr>\n",
       "    <tr>\n",
       "      <th>2</th>\n",
       "      <td>0</td>\n",
       "      <td>6</td>\n",
       "      <td>11</td>\n",
       "    </tr>\n",
       "    <tr>\n",
       "      <th>3</th>\n",
       "      <td>0</td>\n",
       "      <td>11</td>\n",
       "      <td>7</td>\n",
       "    </tr>\n",
       "    <tr>\n",
       "      <th>4</th>\n",
       "      <td>1</td>\n",
       "      <td>5</td>\n",
       "      <td>12</td>\n",
       "    </tr>\n",
       "    <tr>\n",
       "      <th>5</th>\n",
       "      <td>0</td>\n",
       "      <td>9</td>\n",
       "      <td>9</td>\n",
       "    </tr>\n",
       "    <tr>\n",
       "      <th>6</th>\n",
       "      <td>0</td>\n",
       "      <td>9</td>\n",
       "      <td>9</td>\n",
       "    </tr>\n",
       "    <tr>\n",
       "      <th>7</th>\n",
       "      <td>0</td>\n",
       "      <td>8</td>\n",
       "      <td>10</td>\n",
       "    </tr>\n",
       "    <tr>\n",
       "      <th>8</th>\n",
       "      <td>0</td>\n",
       "      <td>8</td>\n",
       "      <td>11</td>\n",
       "    </tr>\n",
       "  </tbody>\n",
       "</table>\n",
       "</div>"
      ],
      "text/plain": [
       "WLS  D   L   W\n",
       "qq            \n",
       "1    0   8  10\n",
       "2    0   6  11\n",
       "3    0  11   7\n",
       "4    1   5  12\n",
       "5    0   9   9\n",
       "6    0   9   9\n",
       "7    0   8  10\n",
       "8    0   8  11"
      ]
     },
     "execution_count": 286,
     "metadata": {},
     "output_type": "execute_result"
    }
   ],
   "source": [
    "# 2019 LG 승률\n",
    "pd.crosstab(LG_19.qq,LG_19.WLS)"
   ]
  },
  {
   "cell_type": "code",
   "execution_count": 287,
   "metadata": {},
   "outputs": [],
   "source": [
    "LG_19_ODD_1=10/(8+10)\n",
    "LG_19_ODD_2=11/(6+11)\n",
    "LG_19_ODD_3=7/(11+7)\n",
    "LG_19_ODD_4=12/(5+12)\n",
    "LG_19_ODD_5=9/(9+9)\n",
    "LG_19_ODD_6=9/(9+9)\n",
    "LG_19_ODD_7=10/(8+10)\n",
    "LG_19_ODD_8=11/(8+11)"
   ]
  },
  {
   "cell_type": "code",
   "execution_count": 288,
   "metadata": {},
   "outputs": [
    {
     "data": {
      "image/png": "[encoded data removed]",
      "text/plain": [
       "<Figure size 432x288 with 1 Axes>"
      ]
     },
     "metadata": {
      "needs_background": "light"
     },
     "output_type": "display_data"
    }
   ],
   "source": [
    "index=('1','2','3','4','5','6','7','8')\n",
    "y=(LG_19_ODD_1,LG_19_ODD_2,LG_19_ODD_3,LG_19_ODD_4,LG_19_ODD_5,LG_19_ODD_6,LG_19_ODD_7,LG_19_ODD_8)\n",
    "plt.bar(index,y)\n",
    "plt.show()"
   ]
  },
  {
   "cell_type": "code",
   "execution_count": 289,
   "metadata": {},
   "outputs": [
    {
     "data": {
      "text/html": [
       "<div>\n",
       "<style scoped>\n",
       "    .dataframe tbody tr th:only-of-type {\n",
       "        vertical-align: middle;\n",
       "    }\n",
       "\n",
       "    .dataframe tbody tr th {\n",
       "        vertical-align: top;\n",
       "    }\n",
       "\n",
       "    .dataframe thead th {\n",
       "        text-align: right;\n",
       "    }\n",
       "</style>\n",
       "<table border=\"1\" class=\"dataframe\">\n",
       "  <thead>\n",
       "    <tr style=\"text-align: right;\">\n",
       "      <th>WLS</th>\n",
       "      <th>D</th>\n",
       "      <th>L</th>\n",
       "      <th>W</th>\n",
       "    </tr>\n",
       "    <tr>\n",
       "      <th>qq</th>\n",
       "      <th></th>\n",
       "      <th></th>\n",
       "      <th></th>\n",
       "    </tr>\n",
       "  </thead>\n",
       "  <tbody>\n",
       "    <tr>\n",
       "      <th>1</th>\n",
       "      <td>1</td>\n",
       "      <td>9</td>\n",
       "      <td>7</td>\n",
       "    </tr>\n",
       "    <tr>\n",
       "      <th>2</th>\n",
       "      <td>0</td>\n",
       "      <td>14</td>\n",
       "      <td>5</td>\n",
       "    </tr>\n",
       "    <tr>\n",
       "      <th>3</th>\n",
       "      <td>0</td>\n",
       "      <td>9</td>\n",
       "      <td>9</td>\n",
       "    </tr>\n",
       "    <tr>\n",
       "      <th>4</th>\n",
       "      <td>0</td>\n",
       "      <td>9</td>\n",
       "      <td>8</td>\n",
       "    </tr>\n",
       "    <tr>\n",
       "      <th>5</th>\n",
       "      <td>0</td>\n",
       "      <td>12</td>\n",
       "      <td>8</td>\n",
       "    </tr>\n",
       "    <tr>\n",
       "      <th>6</th>\n",
       "      <td>0</td>\n",
       "      <td>6</td>\n",
       "      <td>10</td>\n",
       "    </tr>\n",
       "    <tr>\n",
       "      <th>7</th>\n",
       "      <td>1</td>\n",
       "      <td>10</td>\n",
       "      <td>8</td>\n",
       "    </tr>\n",
       "    <tr>\n",
       "      <th>8</th>\n",
       "      <td>0</td>\n",
       "      <td>11</td>\n",
       "      <td>7</td>\n",
       "    </tr>\n",
       "  </tbody>\n",
       "</table>\n",
       "</div>"
      ],
      "text/plain": [
       "WLS  D   L   W\n",
       "qq            \n",
       "1    1   9   7\n",
       "2    0  14   5\n",
       "3    0   9   9\n",
       "4    0   9   8\n",
       "5    0  12   8\n",
       "6    0   6  10\n",
       "7    1  10   8\n",
       "8    0  11   7"
      ]
     },
     "execution_count": 289,
     "metadata": {},
     "output_type": "execute_result"
    }
   ],
   "source": [
    "# 2019 HT 승률\n",
    "pd.crosstab(HT_19.qq,HT_19.WLS)"
   ]
  },
  {
   "cell_type": "code",
   "execution_count": 290,
   "metadata": {},
   "outputs": [],
   "source": [
    "HT_19_ODD_1=7/(9+7)\n",
    "HT_19_ODD_2=5/(14+5)\n",
    "HT_19_ODD_3=9/(9+9)\n",
    "HT_19_ODD_4=8/(9+8)\n",
    "HT_19_ODD_5=8/(12+8)\n",
    "HT_19_ODD_6=10/(6+10)\n",
    "HT_19_ODD_7=8/(10+8)\n",
    "HT_19_ODD_8=7/(11+7)"
   ]
  },
  {
   "cell_type": "code",
   "execution_count": 291,
   "metadata": {
    "scrolled": true
   },
   "outputs": [
    {
     "data": {
      "image/png": "[encoded data removed]",
      "text/plain": [
       "<Figure size 432x288 with 1 Axes>"
      ]
     },
     "metadata": {
      "needs_background": "light"
     },
     "output_type": "display_data"
    }
   ],
   "source": [
    "index=('1','2','3','4','5','6','7','8')\n",
    "y=(HT_19_ODD_1,HT_19_ODD_2,HT_19_ODD_3,HT_19_ODD_4,HT_19_ODD_5,HT_19_ODD_6,HT_19_ODD_7,HT_19_ODD_8)\n",
    "plt.bar(index,y)\n",
    "plt.show()"
   ]
  },
  {
   "cell_type": "code",
   "execution_count": 292,
   "metadata": {},
   "outputs": [
    {
     "data": {
      "text/html": [
       "<div>\n",
       "<style scoped>\n",
       "    .dataframe tbody tr th:only-of-type {\n",
       "        vertical-align: middle;\n",
       "    }\n",
       "\n",
       "    .dataframe tbody tr th {\n",
       "        vertical-align: top;\n",
       "    }\n",
       "\n",
       "    .dataframe thead th {\n",
       "        text-align: right;\n",
       "    }\n",
       "</style>\n",
       "<table border=\"1\" class=\"dataframe\">\n",
       "  <thead>\n",
       "    <tr style=\"text-align: right;\">\n",
       "      <th>WLS</th>\n",
       "      <th>D</th>\n",
       "      <th>L</th>\n",
       "      <th>W</th>\n",
       "    </tr>\n",
       "    <tr>\n",
       "      <th>qq</th>\n",
       "      <th></th>\n",
       "      <th></th>\n",
       "      <th></th>\n",
       "    </tr>\n",
       "  </thead>\n",
       "  <tbody>\n",
       "    <tr>\n",
       "      <th>1</th>\n",
       "      <td>0</td>\n",
       "      <td>13</td>\n",
       "      <td>6</td>\n",
       "    </tr>\n",
       "    <tr>\n",
       "      <th>2</th>\n",
       "      <td>0</td>\n",
       "      <td>13</td>\n",
       "      <td>5</td>\n",
       "    </tr>\n",
       "    <tr>\n",
       "      <th>3</th>\n",
       "      <td>0</td>\n",
       "      <td>7</td>\n",
       "      <td>11</td>\n",
       "    </tr>\n",
       "    <tr>\n",
       "      <th>4</th>\n",
       "      <td>0</td>\n",
       "      <td>10</td>\n",
       "      <td>9</td>\n",
       "    </tr>\n",
       "    <tr>\n",
       "      <th>5</th>\n",
       "      <td>1</td>\n",
       "      <td>6</td>\n",
       "      <td>11</td>\n",
       "    </tr>\n",
       "    <tr>\n",
       "      <th>6</th>\n",
       "      <td>0</td>\n",
       "      <td>8</td>\n",
       "      <td>10</td>\n",
       "    </tr>\n",
       "    <tr>\n",
       "      <th>7</th>\n",
       "      <td>1</td>\n",
       "      <td>7</td>\n",
       "      <td>10</td>\n",
       "    </tr>\n",
       "    <tr>\n",
       "      <th>8</th>\n",
       "      <td>0</td>\n",
       "      <td>7</td>\n",
       "      <td>9</td>\n",
       "    </tr>\n",
       "  </tbody>\n",
       "</table>\n",
       "</div>"
      ],
      "text/plain": [
       "WLS  D   L   W\n",
       "qq            \n",
       "1    0  13   6\n",
       "2    0  13   5\n",
       "3    0   7  11\n",
       "4    0  10   9\n",
       "5    1   6  11\n",
       "6    0   8  10\n",
       "7    1   7  10\n",
       "8    0   7   9"
      ]
     },
     "execution_count": 292,
     "metadata": {},
     "output_type": "execute_result"
    }
   ],
   "source": [
    "# 2019 KT 승률\n",
    "pd.crosstab(KT_19.qq,KT_19.WLS)"
   ]
  },
  {
   "cell_type": "code",
   "execution_count": 293,
   "metadata": {},
   "outputs": [],
   "source": [
    "KT_19_ODD_1=6/(13+6)\n",
    "KT_19_ODD_2=5/(13+5)\n",
    "KT_19_ODD_3=11/(7+11)\n",
    "KT_19_ODD_4=9/(10+9)\n",
    "KT_19_ODD_5=11/(6+11)\n",
    "KT_19_ODD_6=10/(8+10)\n",
    "KT_19_ODD_7=10/(7+10)\n",
    "KT_19_ODD_8=9/(7+9)"
   ]
  },
  {
   "cell_type": "code",
   "execution_count": 294,
   "metadata": {},
   "outputs": [
    {
     "data": {
      "image/png": "[encoded data removed]",
      "text/plain": [
       "<Figure size 432x288 with 1 Axes>"
      ]
     },
     "metadata": {
      "needs_background": "light"
     },
     "output_type": "display_data"
    }
   ],
   "source": [
    "index=('1','2','3','4','5','6','7','8')\n",
    "y=(KT_19_ODD_1,KT_19_ODD_2,KT_19_ODD_3,KT_19_ODD_4,KT_19_ODD_5,KT_19_ODD_6,KT_19_ODD_7,KT_19_ODD_8)\n",
    "plt.bar(index,y)\n",
    "plt.show()"
   ]
  },
  {
   "cell_type": "code",
   "execution_count": 295,
   "metadata": {},
   "outputs": [
    {
     "data": {
      "text/html": [
       "<div>\n",
       "<style scoped>\n",
       "    .dataframe tbody tr th:only-of-type {\n",
       "        vertical-align: middle;\n",
       "    }\n",
       "\n",
       "    .dataframe tbody tr th {\n",
       "        vertical-align: top;\n",
       "    }\n",
       "\n",
       "    .dataframe thead th {\n",
       "        text-align: right;\n",
       "    }\n",
       "</style>\n",
       "<table border=\"1\" class=\"dataframe\">\n",
       "  <thead>\n",
       "    <tr style=\"text-align: right;\">\n",
       "      <th>WLS</th>\n",
       "      <th>D</th>\n",
       "      <th>L</th>\n",
       "      <th>W</th>\n",
       "    </tr>\n",
       "    <tr>\n",
       "      <th>qq</th>\n",
       "      <th></th>\n",
       "      <th></th>\n",
       "      <th></th>\n",
       "    </tr>\n",
       "  </thead>\n",
       "  <tbody>\n",
       "    <tr>\n",
       "      <th>1</th>\n",
       "      <td>0</td>\n",
       "      <td>11</td>\n",
       "      <td>7</td>\n",
       "    </tr>\n",
       "    <tr>\n",
       "      <th>2</th>\n",
       "      <td>0</td>\n",
       "      <td>12</td>\n",
       "      <td>5</td>\n",
       "    </tr>\n",
       "    <tr>\n",
       "      <th>3</th>\n",
       "      <td>0</td>\n",
       "      <td>7</td>\n",
       "      <td>11</td>\n",
       "    </tr>\n",
       "    <tr>\n",
       "      <th>4</th>\n",
       "      <td>0</td>\n",
       "      <td>10</td>\n",
       "      <td>8</td>\n",
       "    </tr>\n",
       "    <tr>\n",
       "      <th>5</th>\n",
       "      <td>1</td>\n",
       "      <td>9</td>\n",
       "      <td>7</td>\n",
       "    </tr>\n",
       "    <tr>\n",
       "      <th>6</th>\n",
       "      <td>0</td>\n",
       "      <td>12</td>\n",
       "      <td>7</td>\n",
       "    </tr>\n",
       "    <tr>\n",
       "      <th>7</th>\n",
       "      <td>0</td>\n",
       "      <td>10</td>\n",
       "      <td>6</td>\n",
       "    </tr>\n",
       "    <tr>\n",
       "      <th>8</th>\n",
       "      <td>0</td>\n",
       "      <td>12</td>\n",
       "      <td>9</td>\n",
       "    </tr>\n",
       "  </tbody>\n",
       "</table>\n",
       "</div>"
      ],
      "text/plain": [
       "WLS  D   L   W\n",
       "qq            \n",
       "1    0  11   7\n",
       "2    0  12   5\n",
       "3    0   7  11\n",
       "4    0  10   8\n",
       "5    1   9   7\n",
       "6    0  12   7\n",
       "7    0  10   6\n",
       "8    0  12   9"
      ]
     },
     "execution_count": 295,
     "metadata": {},
     "output_type": "execute_result"
    }
   ],
   "source": [
    "# 2019 SS 승률\n",
    "pd.crosstab(SS_19.qq,SS_19.WLS)"
   ]
  },
  {
   "cell_type": "code",
   "execution_count": 296,
   "metadata": {},
   "outputs": [],
   "source": [
    "SS_19_ODD_1=7/(11+7)\n",
    "SS_19_ODD_2=5/(12+5)\n",
    "SS_19_ODD_3=11/(7+11)\n",
    "SS_19_ODD_4=8/(10+8)\n",
    "SS_19_ODD_5=7/(9+7)\n",
    "SS_19_ODD_6=7/(12+7)\n",
    "SS_19_ODD_7=6/(10+6)\n",
    "SS_19_ODD_8=9/(12+9)"
   ]
  },
  {
   "cell_type": "code",
   "execution_count": 297,
   "metadata": {},
   "outputs": [
    {
     "data": {
      "image/png": "[encoded data removed]",
      "text/plain": [
       "<Figure size 432x288 with 1 Axes>"
      ]
     },
     "metadata": {
      "needs_background": "light"
     },
     "output_type": "display_data"
    }
   ],
   "source": [
    "index=('1','2','3','4','5','6','7','8')\n",
    "y=(SS_19_ODD_1,SS_19_ODD_2,SS_19_ODD_3,SS_19_ODD_4,SS_19_ODD_5,SS_19_ODD_6,SS_19_ODD_7,SS_19_ODD_8)\n",
    "plt.bar(index,y)\n",
    "plt.show()"
   ]
  },
  {
   "cell_type": "code",
   "execution_count": 298,
   "metadata": {},
   "outputs": [
    {
     "data": {
      "text/html": [
       "<div>\n",
       "<style scoped>\n",
       "    .dataframe tbody tr th:only-of-type {\n",
       "        vertical-align: middle;\n",
       "    }\n",
       "\n",
       "    .dataframe tbody tr th {\n",
       "        vertical-align: top;\n",
       "    }\n",
       "\n",
       "    .dataframe thead th {\n",
       "        text-align: right;\n",
       "    }\n",
       "</style>\n",
       "<table border=\"1\" class=\"dataframe\">\n",
       "  <thead>\n",
       "    <tr style=\"text-align: right;\">\n",
       "      <th>WLS</th>\n",
       "      <th>D</th>\n",
       "      <th>L</th>\n",
       "      <th>W</th>\n",
       "    </tr>\n",
       "    <tr>\n",
       "      <th>qq</th>\n",
       "      <th></th>\n",
       "      <th></th>\n",
       "      <th></th>\n",
       "    </tr>\n",
       "  </thead>\n",
       "  <tbody>\n",
       "    <tr>\n",
       "      <th>1</th>\n",
       "      <td>0</td>\n",
       "      <td>11</td>\n",
       "      <td>7</td>\n",
       "    </tr>\n",
       "    <tr>\n",
       "      <th>2</th>\n",
       "      <td>0</td>\n",
       "      <td>12</td>\n",
       "      <td>5</td>\n",
       "    </tr>\n",
       "    <tr>\n",
       "      <th>3</th>\n",
       "      <td>0</td>\n",
       "      <td>12</td>\n",
       "      <td>7</td>\n",
       "    </tr>\n",
       "    <tr>\n",
       "      <th>4</th>\n",
       "      <td>1</td>\n",
       "      <td>9</td>\n",
       "      <td>7</td>\n",
       "    </tr>\n",
       "    <tr>\n",
       "      <th>5</th>\n",
       "      <td>1</td>\n",
       "      <td>11</td>\n",
       "      <td>6</td>\n",
       "    </tr>\n",
       "    <tr>\n",
       "      <th>6</th>\n",
       "      <td>0</td>\n",
       "      <td>10</td>\n",
       "      <td>8</td>\n",
       "    </tr>\n",
       "    <tr>\n",
       "      <th>7</th>\n",
       "      <td>1</td>\n",
       "      <td>14</td>\n",
       "      <td>4</td>\n",
       "    </tr>\n",
       "    <tr>\n",
       "      <th>8</th>\n",
       "      <td>0</td>\n",
       "      <td>14</td>\n",
       "      <td>4</td>\n",
       "    </tr>\n",
       "  </tbody>\n",
       "</table>\n",
       "</div>"
      ],
      "text/plain": [
       "WLS  D   L  W\n",
       "qq           \n",
       "1    0  11  7\n",
       "2    0  12  5\n",
       "3    0  12  7\n",
       "4    1   9  7\n",
       "5    1  11  6\n",
       "6    0  10  8\n",
       "7    1  14  4\n",
       "8    0  14  4"
      ]
     },
     "execution_count": 298,
     "metadata": {},
     "output_type": "execute_result"
    }
   ],
   "source": [
    "# 2019 LT 승률\n",
    "pd.crosstab(LT_19.qq,LT_19.WLS)"
   ]
  },
  {
   "cell_type": "code",
   "execution_count": 299,
   "metadata": {},
   "outputs": [],
   "source": [
    "LT_19_ODD_1=7/(11+7)\n",
    "LT_19_ODD_2=5/(12+5)\n",
    "LT_19_ODD_3=7/(12+7)\n",
    "LT_19_ODD_4=7/(9+7)\n",
    "LT_19_ODD_5=6/(11+6)\n",
    "LT_19_ODD_6=8/(10+8)\n",
    "LT_19_ODD_7=4/(14+4)\n",
    "LT_19_ODD_8=4/(14+4)"
   ]
  },
  {
   "cell_type": "code",
   "execution_count": 300,
   "metadata": {},
   "outputs": [
    {
     "data": {
      "image/png": "[encoded data removed]",
      "text/plain": [
       "<Figure size 432x288 with 1 Axes>"
      ]
     },
     "metadata": {
      "needs_background": "light"
     },
     "output_type": "display_data"
    }
   ],
   "source": [
    "index=('1','2','3','4','5','6','7','8')\n",
    "y=(LT_19_ODD_1,LT_19_ODD_2,LT_19_ODD_3,LT_19_ODD_4,LT_19_ODD_5,LT_19_ODD_6,LT_19_ODD_7,LT_19_ODD_8)\n",
    "plt.bar(index,y)\n",
    "plt.show()"
   ]
  },
  {
   "cell_type": "code",
   "execution_count": 301,
   "metadata": {},
   "outputs": [
    {
     "data": {
      "text/html": [
       "<div>\n",
       "<style scoped>\n",
       "    .dataframe tbody tr th:only-of-type {\n",
       "        vertical-align: middle;\n",
       "    }\n",
       "\n",
       "    .dataframe tbody tr th {\n",
       "        vertical-align: top;\n",
       "    }\n",
       "\n",
       "    .dataframe thead th {\n",
       "        text-align: right;\n",
       "    }\n",
       "</style>\n",
       "<table border=\"1\" class=\"dataframe\">\n",
       "  <thead>\n",
       "    <tr style=\"text-align: right;\">\n",
       "      <th>WLS</th>\n",
       "      <th>D</th>\n",
       "      <th>L</th>\n",
       "      <th>W</th>\n",
       "    </tr>\n",
       "    <tr>\n",
       "      <th>qq</th>\n",
       "      <th></th>\n",
       "      <th></th>\n",
       "      <th></th>\n",
       "    </tr>\n",
       "  </thead>\n",
       "  <tbody>\n",
       "    <tr>\n",
       "      <th>1</th>\n",
       "      <td>1</td>\n",
       "      <td>5</td>\n",
       "      <td>12</td>\n",
       "    </tr>\n",
       "    <tr>\n",
       "      <th>2</th>\n",
       "      <td>0</td>\n",
       "      <td>6</td>\n",
       "      <td>13</td>\n",
       "    </tr>\n",
       "    <tr>\n",
       "      <th>3</th>\n",
       "      <td>0</td>\n",
       "      <td>7</td>\n",
       "      <td>10</td>\n",
       "    </tr>\n",
       "    <tr>\n",
       "      <th>4</th>\n",
       "      <td>0</td>\n",
       "      <td>6</td>\n",
       "      <td>12</td>\n",
       "    </tr>\n",
       "    <tr>\n",
       "      <th>5</th>\n",
       "      <td>0</td>\n",
       "      <td>5</td>\n",
       "      <td>13</td>\n",
       "    </tr>\n",
       "    <tr>\n",
       "      <th>6</th>\n",
       "      <td>0</td>\n",
       "      <td>7</td>\n",
       "      <td>12</td>\n",
       "    </tr>\n",
       "    <tr>\n",
       "      <th>7</th>\n",
       "      <td>0</td>\n",
       "      <td>9</td>\n",
       "      <td>10</td>\n",
       "    </tr>\n",
       "    <tr>\n",
       "      <th>8</th>\n",
       "      <td>0</td>\n",
       "      <td>10</td>\n",
       "      <td>6</td>\n",
       "    </tr>\n",
       "  </tbody>\n",
       "</table>\n",
       "</div>"
      ],
      "text/plain": [
       "WLS  D   L   W\n",
       "qq            \n",
       "1    1   5  12\n",
       "2    0   6  13\n",
       "3    0   7  10\n",
       "4    0   6  12\n",
       "5    0   5  13\n",
       "6    0   7  12\n",
       "7    0   9  10\n",
       "8    0  10   6"
      ]
     },
     "execution_count": 301,
     "metadata": {},
     "output_type": "execute_result"
    }
   ],
   "source": [
    "# 2019 SK 승률\n",
    "pd.crosstab(SK_19.qq,SK_19.WLS)"
   ]
  },
  {
   "cell_type": "code",
   "execution_count": 302,
   "metadata": {},
   "outputs": [],
   "source": [
    "SK_19_ODD_1=12/(5+12)\n",
    "SK_19_ODD_2=13/(6+13)\n",
    "SK_19_ODD_3=10/(7+10)\n",
    "SK_19_ODD_4=12/(6+12)\n",
    "SK_19_ODD_5=13/(5+13)\n",
    "SK_19_ODD_6=12/(7+12)\n",
    "SK_19_ODD_7=10/(9+10)\n",
    "SK_19_ODD_8=6/(10+6)"
   ]
  },
  {
   "cell_type": "code",
   "execution_count": 303,
   "metadata": {},
   "outputs": [
    {
     "data": {
      "image/png": "[encoded data removed]",
      "text/plain": [
       "<Figure size 432x288 with 1 Axes>"
      ]
     },
     "metadata": {
      "needs_background": "light"
     },
     "output_type": "display_data"
    }
   ],
   "source": [
    "index=('1','2','3','4','5','6','7','8')\n",
    "y=(SK_19_ODD_1,SK_19_ODD_2,SK_19_ODD_3,SK_19_ODD_4,SK_19_ODD_5,SK_19_ODD_6,SK_19_ODD_7,SK_19_ODD_8)\n",
    "plt.bar(index,y)\n",
    "plt.show()"
   ]
  },
  {
   "cell_type": "code",
   "execution_count": 304,
   "metadata": {},
   "outputs": [
    {
     "data": {
      "text/html": [
       "<div>\n",
       "<style scoped>\n",
       "    .dataframe tbody tr th:only-of-type {\n",
       "        vertical-align: middle;\n",
       "    }\n",
       "\n",
       "    .dataframe tbody tr th {\n",
       "        vertical-align: top;\n",
       "    }\n",
       "\n",
       "    .dataframe thead th {\n",
       "        text-align: right;\n",
       "    }\n",
       "</style>\n",
       "<table border=\"1\" class=\"dataframe\">\n",
       "  <thead>\n",
       "    <tr style=\"text-align: right;\">\n",
       "      <th>WLS</th>\n",
       "      <th>L</th>\n",
       "      <th>W</th>\n",
       "    </tr>\n",
       "    <tr>\n",
       "      <th>qq</th>\n",
       "      <th></th>\n",
       "      <th></th>\n",
       "    </tr>\n",
       "  </thead>\n",
       "  <tbody>\n",
       "    <tr>\n",
       "      <th>1</th>\n",
       "      <td>11</td>\n",
       "      <td>7</td>\n",
       "    </tr>\n",
       "    <tr>\n",
       "      <th>2</th>\n",
       "      <td>8</td>\n",
       "      <td>9</td>\n",
       "    </tr>\n",
       "    <tr>\n",
       "      <th>3</th>\n",
       "      <td>10</td>\n",
       "      <td>8</td>\n",
       "    </tr>\n",
       "    <tr>\n",
       "      <th>4</th>\n",
       "      <td>13</td>\n",
       "      <td>5</td>\n",
       "    </tr>\n",
       "    <tr>\n",
       "      <th>5</th>\n",
       "      <td>13</td>\n",
       "      <td>5</td>\n",
       "    </tr>\n",
       "    <tr>\n",
       "      <th>6</th>\n",
       "      <td>13</td>\n",
       "      <td>6</td>\n",
       "    </tr>\n",
       "    <tr>\n",
       "      <th>7</th>\n",
       "      <td>10</td>\n",
       "      <td>7</td>\n",
       "    </tr>\n",
       "    <tr>\n",
       "      <th>8</th>\n",
       "      <td>8</td>\n",
       "      <td>11</td>\n",
       "    </tr>\n",
       "  </tbody>\n",
       "</table>\n",
       "</div>"
      ],
      "text/plain": [
       "WLS   L   W\n",
       "qq         \n",
       "1    11   7\n",
       "2     8   9\n",
       "3    10   8\n",
       "4    13   5\n",
       "5    13   5\n",
       "6    13   6\n",
       "7    10   7\n",
       "8     8  11"
      ]
     },
     "execution_count": 304,
     "metadata": {},
     "output_type": "execute_result"
    }
   ],
   "source": [
    "# 2019 HH 승률\n",
    "pd.crosstab(HH_19.qq,HH_19.WLS)"
   ]
  },
  {
   "cell_type": "code",
   "execution_count": 305,
   "metadata": {},
   "outputs": [],
   "source": [
    "HH_19_ODD_1=7/(11+7)\n",
    "HH_19_ODD_2=9/(8+9)\n",
    "HH_19_ODD_3=8/(10+8)\n",
    "HH_19_ODD_4=5/(13+5)\n",
    "HH_19_ODD_5=5/(13+5)\n",
    "HH_19_ODD_6=6/(13+6)\n",
    "HH_19_ODD_7=7/(10+7)\n",
    "HH_19_ODD_8=11/(8+11)"
   ]
  },
  {
   "cell_type": "code",
   "execution_count": 306,
   "metadata": {},
   "outputs": [
    {
     "data": {
      "image/png": "[encoded data removed]",
      "text/plain": [
       "<Figure size 432x288 with 1 Axes>"
      ]
     },
     "metadata": {
      "needs_background": "light"
     },
     "output_type": "display_data"
    }
   ],
   "source": [
    "index=('1','2','3','4','5','6','7','8')\n",
    "y=(HH_19_ODD_1,HH_19_ODD_2,HH_19_ODD_3,HH_19_ODD_4,HH_19_ODD_5,HH_19_ODD_6,HH_19_ODD_7,HH_19_ODD_8)\n",
    "plt.bar(index,y)\n",
    "plt.show()"
   ]
  },
  {
   "cell_type": "code",
   "execution_count": null,
   "metadata": {},
   "outputs": [],
   "source": []
  }
 ],
 "metadata": {
  "kernelspec": {
   "display_name": "Python 3",
   "language": "python",
   "name": "python3"
  },
  "language_info": {
   "codemirror_mode": {
    "name": "ipython",
    "version": 3
   },
   "file_extension": ".py",
   "mimetype": "text/x-python",
   "name": "python",
   "nbconvert_exporter": "python",
   "pygments_lexer": "ipython3",
   "version": "3.7.9"
  }
 },
 "nbformat": 4,
 "nbformat_minor": 4
}
