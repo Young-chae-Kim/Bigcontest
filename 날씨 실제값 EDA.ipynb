{
 "cells": [
  {
   "cell_type": "code",
   "execution_count": 140,
   "metadata": {},
   "outputs": [],
   "source": [
    "import pandas as pd\n",
    "import numpy as np\n",
    "import matplotlib.pyplot as plt\n",
    "import seaborn as sns \n",
    "plt.rc('font',family='Malgun Gothic')\n",
    "plt.rc('axes',unicode_minus=False)"
   ]
  },
  {
   "cell_type": "code",
   "execution_count": 141,
   "metadata": {},
   "outputs": [],
   "source": [
    "# 날씨 데이터\n",
    "weather_16 = pd.read_csv('C:/Users/dudco/Desktop/SVT/weather/2016_weather.csv',encoding='CP949')\n",
    "weather_17 = pd.read_csv('C:/Users/dudco/Desktop/SVT/weather/2017_weather.csv',encoding='CP949')\n",
    "weather_18 = pd.read_csv('C:/Users/dudco/Desktop/SVT/weather/2018_weather.csv',encoding='CP949')\n",
    "weather_19 = pd.read_csv('C:/Users/dudco/Desktop/SVT/weather/2019_weather.csv',encoding='CP949')\n",
    "weather_20 = pd.read_csv('C:/Users/dudco/Desktop/SVT/weather/2020_weather.csv',encoding='CP949')"
   ]
  },
  {
   "cell_type": "code",
   "execution_count": 142,
   "metadata": {},
   "outputs": [],
   "source": [
    "# 날씨데이터 16~18 창원-> 마산으로 바꾸기\n",
    "weather_16.loc[weather_16['지점명']=='창원','지점명']='마산'\n",
    "weather_17.loc[weather_17['지점명']=='창원','지점명']='마산'\n",
    "weather_18.loc[weather_18['지점명']=='창원','지점명']='마산'"
   ]
  },
  {
   "cell_type": "code",
   "execution_count": 143,
   "metadata": {},
   "outputs": [],
   "source": [
    "# 날씨데이터 변수명 바꾸기\n",
    "weather_16=weather_16.rename({'지점명':'STADIUM','일시':'GDAY_DS'},axis='columns')\n",
    "weather_17=weather_17.rename({'지점명':'STADIUM','일시':'GDAY_DS'},axis='columns')\n",
    "weather_18=weather_18.rename({'지점명':'STADIUM','일시':'GDAY_DS'},axis='columns')\n",
    "weather_19=weather_19.rename({'지점명':'STADIUM','일시':'GDAY_DS'},axis='columns')\n",
    "weather_20=weather_20.rename({'지점명':'STADIUM','일시':'GDAY_DS'},axis='columns')"
   ]
  },
  {
   "cell_type": "code",
   "execution_count": 144,
   "metadata": {},
   "outputs": [],
   "source": [
    "# 날씨데이터 필요한 변수만 뽑기\n",
    "weather_16=weather_16[['STADIUM','GDAY_DS','최저기온','최고기온','평균기온','일강수량','평균풍속']]\n",
    "weather_17=weather_17[['STADIUM','GDAY_DS','최저기온','최고기온','평균기온','일강수량','평균풍속']]\n",
    "weather_18=weather_18[['STADIUM','GDAY_DS','최저기온','최고기온','평균기온','일강수량','평균풍속']]\n",
    "weather_19=weather_19[['STADIUM','GDAY_DS','최저기온','최고기온','평균기온','일강수량','평균풍속']]\n",
    "weather_20=weather_20[['STADIUM','GDAY_DS','최저기온','최고기온','평균기온','일강수량','평균풍속']]"
   ]
  },
  {
   "cell_type": "code",
   "execution_count": 145,
   "metadata": {},
   "outputs": [],
   "source": [
    "# 팀데이터\n",
    "team_16 = pd.read_csv('C:/Users/dudco/Desktop/SVT/data_SVT/team_16.csv',encoding='CP949')\n",
    "team_17 = pd.read_csv('C:/Users/dudco/Desktop/SVT/data_SVT/team_17.csv',encoding='CP949')\n",
    "team_18 = pd.read_csv('C:/Users/dudco/Desktop/SVT/data_SVT/team_18.csv',encoding='CP949')\n",
    "team_19 = pd.read_csv('C:/Users/dudco/Desktop/SVT/data_SVT/team_19.csv',encoding='CP949')\n",
    "team_20 = pd.read_csv('C:/Users/dudco/Desktop/SVT/data_SVT/team_20.csv',encoding='CP949')"
   ]
  },
  {
   "cell_type": "code",
   "execution_count": 146,
   "metadata": {},
   "outputs": [],
   "source": [
    "# 날씨데이터 팀데이터 조인\n",
    "T_16 = pd.merge(team_16, weather_16, on=['STADIUM','GDAY_DS'], how='left')\n",
    "T_17 = pd.merge(team_17, weather_17, on=['STADIUM','GDAY_DS'], how='left')\n",
    "T_18 = pd.merge(team_18, weather_18, on=['STADIUM','GDAY_DS'], how='left')\n",
    "T_19 = pd.merge(team_19, weather_19, on=['STADIUM','GDAY_DS'], how='left')\n",
    "T_20 = pd.merge(team_20, weather_20, on=['STADIUM','GDAY_DS'], how='left')"
   ]
  },
  {
   "cell_type": "code",
   "execution_count": 8,
   "metadata": {
    "scrolled": true
   },
   "outputs": [
    {
     "data": {
      "text/plain": [
       "Unnamed: 0      0\n",
       "G_ID            0\n",
       "GDAY_DS         0\n",
       "T_ID            0\n",
       "VS_T_ID         0\n",
       "             ... \n",
       "최저기온            0\n",
       "최고기온            0\n",
       "평균기온            0\n",
       "일강수량          880\n",
       "평균풍속            0\n",
       "Length: 66, dtype: int64"
      ]
     },
     "execution_count": 8,
     "metadata": {},
     "output_type": "execute_result"
    }
   ],
   "source": [
    "# 16년 강수량 결측값 확인\n",
    "T_16.isnull().sum()"
   ]
  },
  {
   "cell_type": "code",
   "execution_count": 9,
   "metadata": {},
   "outputs": [
    {
     "data": {
      "text/plain": [
       "Unnamed: 0      0\n",
       "G_ID            0\n",
       "GDAY_DS         0\n",
       "T_ID            0\n",
       "VS_T_ID         0\n",
       "             ... \n",
       "최저기온            0\n",
       "최고기온            0\n",
       "평균기온            0\n",
       "일강수량          900\n",
       "평균풍속            0\n",
       "Length: 66, dtype: int64"
      ]
     },
     "execution_count": 9,
     "metadata": {},
     "output_type": "execute_result"
    }
   ],
   "source": [
    "# 17년 강수량 결측값 확인\n",
    "T_17.isnull().sum()"
   ]
  },
  {
   "cell_type": "code",
   "execution_count": 10,
   "metadata": {},
   "outputs": [
    {
     "data": {
      "text/plain": [
       "Unnamed: 0      0\n",
       "G_ID            0\n",
       "GDAY_DS         0\n",
       "T_ID            0\n",
       "VS_T_ID         0\n",
       "             ... \n",
       "최저기온            0\n",
       "최고기온            0\n",
       "평균기온            0\n",
       "일강수량          948\n",
       "평균풍속            0\n",
       "Length: 66, dtype: int64"
      ]
     },
     "execution_count": 10,
     "metadata": {},
     "output_type": "execute_result"
    }
   ],
   "source": [
    "# 18년 강수량 결측값 확인\n",
    "T_18.isnull().sum()"
   ]
  },
  {
   "cell_type": "code",
   "execution_count": 11,
   "metadata": {},
   "outputs": [
    {
     "data": {
      "text/plain": [
       "Unnamed: 0      0\n",
       "G_ID            0\n",
       "GDAY_DS         0\n",
       "T_ID            0\n",
       "VS_T_ID         0\n",
       "             ... \n",
       "최저기온            0\n",
       "최고기온            0\n",
       "평균기온            0\n",
       "일강수량          902\n",
       "평균풍속            0\n",
       "Length: 66, dtype: int64"
      ]
     },
     "execution_count": 11,
     "metadata": {},
     "output_type": "execute_result"
    }
   ],
   "source": [
    "# 19년 강수량 결측값 확인\n",
    "T_19.isnull().sum()"
   ]
  },
  {
   "cell_type": "code",
   "execution_count": 12,
   "metadata": {},
   "outputs": [
    {
     "data": {
      "text/plain": [
       "Unnamed: 0      0\n",
       "G_ID            0\n",
       "GDAY_DS         0\n",
       "T_ID            0\n",
       "VS_T_ID         0\n",
       "             ... \n",
       "최저기온            0\n",
       "최고기온            0\n",
       "평균기온            0\n",
       "일강수량          330\n",
       "평균풍속            0\n",
       "Length: 66, dtype: int64"
      ]
     },
     "execution_count": 12,
     "metadata": {},
     "output_type": "execute_result"
    }
   ],
   "source": [
    "# 20년 강수량 결측값 확인\n",
    "T_20.isnull().sum()"
   ]
  },
  {
   "cell_type": "code",
   "execution_count": 61,
   "metadata": {},
   "outputs": [],
   "source": [
    "# 16년도 강수량 결측값 0으로 넣기\n",
    "T_16=T_16.fillna(0)"
   ]
  },
  {
   "cell_type": "code",
   "execution_count": 62,
   "metadata": {},
   "outputs": [],
   "source": [
    "# 17년도 강수량 결측값 0으로 넣기\n",
    "T_17=T_17.fillna(0)"
   ]
  },
  {
   "cell_type": "code",
   "execution_count": 63,
   "metadata": {},
   "outputs": [],
   "source": [
    "# 18년도 강수량 결측값 0으로 넣기\n",
    "T_18=T_18.fillna(0)"
   ]
  },
  {
   "cell_type": "code",
   "execution_count": 64,
   "metadata": {},
   "outputs": [],
   "source": [
    "# 19년도 강수량 결측값 0으로 넣기\n",
    "T_19=T_19.fillna(0)"
   ]
  },
  {
   "cell_type": "code",
   "execution_count": 65,
   "metadata": {},
   "outputs": [],
   "source": [
    "# 20년도 강수량 결측값 0으로 넣기\n",
    "T_20=T_20.fillna(0)"
   ]
  },
  {
   "cell_type": "code",
   "execution_count": 132,
   "metadata": {},
   "outputs": [
    {
     "name": "stdout",
     "output_type": "stream",
     "text": [
      "<class 'pandas.core.frame.DataFrame'>\n",
      "RangeIndex: 6400 entries, 0 to 6399\n",
      "Data columns (total 68 columns):\n",
      " #   Column      Non-Null Count  Dtype  \n",
      "---  ------      --------------  -----  \n",
      " 0   Unnamed: 0  6400 non-null   int64  \n",
      " 1   G_ID        6400 non-null   object \n",
      " 2   GDAY_DS     6400 non-null   int64  \n",
      " 3   T_ID        6400 non-null   object \n",
      " 4   VS_T_ID     6400 non-null   object \n",
      " 5   HEADER_NO   6400 non-null   int64  \n",
      " 6   TB_SC       6400 non-null   object \n",
      " 7   CG_CK       6400 non-null   int64  \n",
      " 8   WLS         6400 non-null   object \n",
      " 9   HOLD        6400 non-null   int64  \n",
      " 10  INN2        6400 non-null   int64  \n",
      " 11  BF          6400 non-null   int64  \n",
      " 12  P_PA        6400 non-null   int64  \n",
      " 13  P_AB        6400 non-null   int64  \n",
      " 14  P_HIT       6400 non-null   int64  \n",
      " 15  P_H2        6400 non-null   int64  \n",
      " 16  P_H3        6400 non-null   int64  \n",
      " 17  P_HR        6400 non-null   int64  \n",
      " 18  P_SB        6400 non-null   int64  \n",
      " 19  P_CS        6400 non-null   int64  \n",
      " 20  P_SH        6400 non-null   int64  \n",
      " 21  P_SF        6400 non-null   int64  \n",
      " 22  P_BB        6400 non-null   int64  \n",
      " 23  P_IB        6400 non-null   int64  \n",
      " 24  P_HP        6400 non-null   int64  \n",
      " 25  P_KK        6400 non-null   int64  \n",
      " 26  P_GD        6400 non-null   int64  \n",
      " 27  WP          6400 non-null   int64  \n",
      " 28  BK          6400 non-null   int64  \n",
      " 29  P_ERR       6400 non-null   int64  \n",
      " 30  R           6400 non-null   int64  \n",
      " 31  ER          6400 non-null   int64  \n",
      " 32  P_WHIP_RT   6400 non-null   float64\n",
      " 33  P2_WHIP_RT  6400 non-null   float64\n",
      " 34  CB_WHIP_RT  6400 non-null   float64\n",
      " 35  PA          6400 non-null   int64  \n",
      " 36  AB          6400 non-null   int64  \n",
      " 37  RBI         6400 non-null   int64  \n",
      " 38  RUN         6400 non-null   int64  \n",
      " 39  HIT         6400 non-null   int64  \n",
      " 40  H2          6400 non-null   int64  \n",
      " 41  H3          6400 non-null   int64  \n",
      " 42  HR          6400 non-null   int64  \n",
      " 43  SB          6400 non-null   int64  \n",
      " 44  CS          6400 non-null   int64  \n",
      " 45  SH          6400 non-null   int64  \n",
      " 46  SF          6400 non-null   int64  \n",
      " 47  BB          6400 non-null   int64  \n",
      " 48  IB          6400 non-null   int64  \n",
      " 49  HP          6400 non-null   int64  \n",
      " 50  KK          6400 non-null   int64  \n",
      " 51  GD          6400 non-null   int64  \n",
      " 52  H_ERR       6400 non-null   int64  \n",
      " 53  LOB         6400 non-null   int64  \n",
      " 54  P_HRA_RT    6400 non-null   float64\n",
      " 55  P_AB_CN     6400 non-null   int64  \n",
      " 56  P_HIT_CN    6400 non-null   int64  \n",
      " 57  VISIT_KEY   6400 non-null   object \n",
      " 58  HOME_KEY    6400 non-null   object \n",
      " 59  GWEEK       6400 non-null   object \n",
      " 60  STADIUM     6400 non-null   object \n",
      " 61  최저기온        6400 non-null   float64\n",
      " 62  최고기온        6400 non-null   float64\n",
      " 63  평균기온        6400 non-null   float64\n",
      " 64  일강수량        6400 non-null   float64\n",
      " 65  평균풍속        6400 non-null   float64\n",
      " 66  rain        6400 non-null   int32  \n",
      " 67  rain_6      6400 non-null   int32  \n",
      "dtypes: float64(9), int32(2), int64(48), object(9)\n",
      "memory usage: 3.3+ MB\n"
     ]
    }
   ],
   "source": [
    "team = pd.concat([T_16, T_17, T_18, T_19, T_20], ignore_index=True)\n",
    "team.info()"
   ]
  },
  {
   "cell_type": "markdown",
   "metadata": {},
   "source": [
    "### 16 EDA"
   ]
  },
  {
   "cell_type": "code",
   "execution_count": 130,
   "metadata": {
    "scrolled": true
   },
   "outputs": [
    {
     "data": {
      "image/png": "[encoded data removed]",
      "text/plain": [
       "<Figure size 432x288 with 1 Axes>"
      ]
     },
     "metadata": {
      "needs_background": "light"
     },
     "output_type": "display_data"
    }
   ],
   "source": [
    "plt.hist(T_16['평균기온'])\n",
    "plt.show()"
   ]
  },
  {
   "cell_type": "code",
   "execution_count": 131,
   "metadata": {},
   "outputs": [
    {
     "data": {
      "image/png": "[encoded data removed]",
      "text/plain": [
       "<Figure size 432x288 with 1 Axes>"
      ]
     },
     "metadata": {
      "needs_background": "light"
     },
     "output_type": "display_data"
    }
   ],
   "source": [
    "plt.hist(T_16['평균풍속'])\n",
    "plt.show()"
   ]
  },
  {
   "cell_type": "code",
   "execution_count": 48,
   "metadata": {
    "scrolled": true
   },
   "outputs": [
    {
     "data": {
      "image/png": "[encoded data removed]",
      "text/plain": [
       "<Figure size 432x288 with 1 Axes>"
      ]
     },
     "metadata": {
      "needs_background": "light"
     },
     "output_type": "display_data"
    }
   ],
   "source": [
    "sns.boxplot(T_16['WLS'],T_16['평균기온'])\n",
    "plt.show()"
   ]
  },
  {
   "cell_type": "markdown",
   "metadata": {},
   "source": [
    "## 강수량"
   ]
  },
  {
   "cell_type": "markdown",
   "metadata": {},
   "source": [
    "### 강수량 범주화(0,1)"
   ]
  },
  {
   "cell_type": "code",
   "execution_count": 110,
   "metadata": {},
   "outputs": [],
   "source": [
    "rain_2list=[\n",
    "    (team['일강수량']==0),\n",
    "    (team['일강수량']!=0)\n",
    "]\n",
    "choicelist =[0,1]\n",
    "team['rain_2']=np.select(rain_2list, choicelist)"
   ]
  },
  {
   "cell_type": "markdown",
   "metadata": {},
   "source": [
    "### 강수량 범주화(0~6)"
   ]
  },
  {
   "cell_type": "code",
   "execution_count": 111,
   "metadata": {},
   "outputs": [],
   "source": [
    "rain_6list=[\n",
    "    (team['일강수량']==0),\n",
    "    (team['일강수량']>0) & (team['일강수량']<30),\n",
    "    (team['일강수량']>=30) & (team['일강수량']<50),\n",
    "    (team['일강수량']>=50) & (team['일강수량']<80),\n",
    "    (team['일강수량']>=80) & (team['일강수량']<120),\n",
    "    (team['일강수량']>=120) & (team['일강수량']<160),\n",
    "    (team['일강수량']>160)\n",
    "]\n",
    "choicelist =[0,1,2,3,4,5,6]\n",
    "team['rain_6']=np.select(rain_6list, choicelist)"
   ]
  },
  {
   "cell_type": "markdown",
   "metadata": {},
   "source": [
    "### 강수량 범주화(1~3)"
   ]
  },
  {
   "cell_type": "code",
   "execution_count": 112,
   "metadata": {},
   "outputs": [],
   "source": [
    "rain_3list=[\n",
    "    (team['일강수량']>=0) & (team['일강수량']<30),\n",
    "    (team['일강수량']>=30) & (team['일강수량']<80),\n",
    "    (team['일강수량']>=80)\n",
    "]\n",
    "choicelist =[1,2,3]\n",
    "team['rain_3']=np.select(rain_3list, choicelist)"
   ]
  },
  {
   "cell_type": "markdown",
   "metadata": {},
   "source": [
    "### 타율, 방어율 추가"
   ]
  },
  {
   "cell_type": "code",
   "execution_count": 114,
   "metadata": {},
   "outputs": [],
   "source": [
    "team['AVG']=team['HIT']/team['AB']\n",
    "team['ERA']=(team['ER']*9)/(team['INN2']/3)"
   ]
  },
  {
   "cell_type": "code",
   "execution_count": 127,
   "metadata": {},
   "outputs": [
    {
     "data": {
      "text/plain": [
       "1    6256\n",
       "2     110\n",
       "3      34\n",
       "Name: rain_3, dtype: int64"
      ]
     },
     "execution_count": 127,
     "metadata": {},
     "output_type": "execute_result"
    }
   ],
   "source": [
    "team['rain_3'].value_counts()"
   ]
  },
  {
   "cell_type": "code",
   "execution_count": 104,
   "metadata": {
    "scrolled": true
   },
   "outputs": [
    {
     "data": {
      "text/plain": [
       "0    4646\n",
       "1    1610\n",
       "2      66\n",
       "3      44\n",
       "5      16\n",
       "4      16\n",
       "6       2\n",
       "Name: rain_6, dtype: int64"
      ]
     },
     "execution_count": 104,
     "metadata": {},
     "output_type": "execute_result"
    }
   ],
   "source": [
    "team['rain_6'].value_counts()"
   ]
  },
  {
   "cell_type": "code",
   "execution_count": 93,
   "metadata": {
    "scrolled": true
   },
   "outputs": [
    {
     "data": {
      "text/plain": [
       "0.0     4646\n",
       "0.1      126\n",
       "0.5      108\n",
       "0.2       90\n",
       "1.0       50\n",
       "        ... \n",
       "53.0       2\n",
       "13.5       2\n",
       "24.5       2\n",
       "37.5       2\n",
       "20.6       2\n",
       "Name: 일강수량, Length: 239, dtype: int64"
      ]
     },
     "execution_count": 93,
     "metadata": {},
     "output_type": "execute_result"
    }
   ],
   "source": [
    "team['일강수량'].value_counts()"
   ]
  },
  {
   "cell_type": "markdown",
   "metadata": {},
   "source": [
    "#### 타율 & 강수량"
   ]
  },
  {
   "cell_type": "code",
   "execution_count": 115,
   "metadata": {},
   "outputs": [
    {
     "data": {
      "image/png": "[encoded data removed]",
      "text/plain": [
       "<Figure size 432x288 with 1 Axes>"
      ]
     },
     "metadata": {
      "needs_background": "light"
     },
     "output_type": "display_data"
    }
   ],
   "source": [
    "sns.boxplot(x=\"rain_2\",y=\"AVG\",data=team)\n",
    "plt.show()"
   ]
  },
  {
   "cell_type": "code",
   "execution_count": 116,
   "metadata": {},
   "outputs": [
    {
     "data": {
      "image/png": "[encoded data removed]",
      "text/plain": [
       "<Figure size 432x288 with 1 Axes>"
      ]
     },
     "metadata": {
      "needs_background": "light"
     },
     "output_type": "display_data"
    }
   ],
   "source": [
    "sns.boxplot(x=\"rain_6\",y=\"AVG\",data=team)\n",
    "plt.show()"
   ]
  },
  {
   "cell_type": "code",
   "execution_count": 117,
   "metadata": {},
   "outputs": [
    {
     "data": {
      "image/png": "[encoded data removed]",
      "text/plain": [
       "<Figure size 432x288 with 1 Axes>"
      ]
     },
     "metadata": {
      "needs_background": "light"
     },
     "output_type": "display_data"
    }
   ],
   "source": [
    "sns.boxplot(x=\"rain_3\",y=\"AVG\",data=team)\n",
    "plt.show()"
   ]
  },
  {
   "cell_type": "markdown",
   "metadata": {},
   "source": [
    "#### 방어율 & 강수량"
   ]
  },
  {
   "cell_type": "code",
   "execution_count": 124,
   "metadata": {},
   "outputs": [
    {
     "data": {
      "image/png": "[encoded data removed]",
      "text/plain": [
       "<Figure size 432x288 with 1 Axes>"
      ]
     },
     "metadata": {
      "needs_background": "light"
     },
     "output_type": "display_data"
    }
   ],
   "source": [
    "sns.boxplot(x=\"rain_2\",y=\"ERA\",data=team)\n",
    "plt.show()"
   ]
  },
  {
   "cell_type": "code",
   "execution_count": 125,
   "metadata": {},
   "outputs": [
    {
     "data": {
      "image/png": "[encoded data removed]",
      "text/plain": [
       "<Figure size 432x288 with 1 Axes>"
      ]
     },
     "metadata": {
      "needs_background": "light"
     },
     "output_type": "display_data"
    }
   ],
   "source": [
    "sns.boxplot(x=\"rain_6\",y=\"ERA\",data=team)\n",
    "plt.show()"
   ]
  },
  {
   "cell_type": "code",
   "execution_count": 126,
   "metadata": {},
   "outputs": [
    {
     "data": {
      "image/png": "[encoded data removed]",
      "text/plain": [
       "<Figure size 432x288 with 1 Axes>"
      ]
     },
     "metadata": {
      "needs_background": "light"
     },
     "output_type": "display_data"
    }
   ],
   "source": [
    "sns.boxplot(x=\"rain_3\",y=\"ERA\",data=team)\n",
    "plt.show()"
   ]
  },
  {
   "cell_type": "markdown",
   "metadata": {},
   "source": [
    "#### 안타수 & 강수량"
   ]
  },
  {
   "cell_type": "code",
   "execution_count": 94,
   "metadata": {},
   "outputs": [
    {
     "data": {
      "image/png": "[encoded data removed]",
      "text/plain": [
       "<Figure size 432x288 with 1 Axes>"
      ]
     },
     "metadata": {
      "needs_background": "light"
     },
     "output_type": "display_data"
    }
   ],
   "source": [
    "sns.boxplot(x=\"rain_2\",y=\"HIT\",data=team)\n",
    "plt.show()"
   ]
  },
  {
   "cell_type": "code",
   "execution_count": 105,
   "metadata": {},
   "outputs": [
    {
     "data": {
      "image/png": "[encoded data removed]",
      "text/plain": [
       "<Figure size 432x288 with 1 Axes>"
      ]
     },
     "metadata": {
      "needs_background": "light"
     },
     "output_type": "display_data"
    }
   ],
   "source": [
    "sns.boxplot(x=\"rain_6\",y=\"HIT\",data=team)\n",
    "plt.show()"
   ]
  },
  {
   "cell_type": "code",
   "execution_count": 113,
   "metadata": {
    "scrolled": true
   },
   "outputs": [
    {
     "data": {
      "image/png": "[encoded data removed]",
      "text/plain": [
       "<Figure size 432x288 with 1 Axes>"
      ]
     },
     "metadata": {
      "needs_background": "light"
     },
     "output_type": "display_data"
    }
   ],
   "source": [
    "sns.boxplot(x=\"rain_3\",y=\"HIT\",data=team)\n",
    "plt.show()"
   ]
  },
  {
   "cell_type": "markdown",
   "metadata": {},
   "source": [
    "#### 득점 & 강수량"
   ]
  },
  {
   "cell_type": "code",
   "execution_count": 118,
   "metadata": {
    "scrolled": true
   },
   "outputs": [
    {
     "data": {
      "image/png": "[encoded data removed]",
      "text/plain": [
       "<Figure size 432x288 with 1 Axes>"
      ]
     },
     "metadata": {
      "needs_background": "light"
     },
     "output_type": "display_data"
    }
   ],
   "source": [
    "sns.boxplot(x=\"rain_2\",y=\"RUN\",data=team)\n",
    "plt.show()"
   ]
  },
  {
   "cell_type": "code",
   "execution_count": 119,
   "metadata": {},
   "outputs": [
    {
     "data": {
      "image/png": "[encoded data removed]",
      "text/plain": [
       "<Figure size 432x288 with 1 Axes>"
      ]
     },
     "metadata": {
      "needs_background": "light"
     },
     "output_type": "display_data"
    }
   ],
   "source": [
    "sns.boxplot(x=\"rain_6\",y=\"RUN\",data=team)\n",
    "plt.show()"
   ]
  },
  {
   "cell_type": "code",
   "execution_count": 120,
   "metadata": {},
   "outputs": [
    {
     "data": {
      "image/png": "[encoded data removed]",
      "text/plain": [
       "<Figure size 432x288 with 1 Axes>"
      ]
     },
     "metadata": {
      "needs_background": "light"
     },
     "output_type": "display_data"
    }
   ],
   "source": [
    "sns.boxplot(x=\"rain_3\",y=\"RUN\",data=team)\n",
    "plt.show()"
   ]
  },
  {
   "cell_type": "markdown",
   "metadata": {},
   "source": [
    "#### 자책점 & 강수량"
   ]
  },
  {
   "cell_type": "code",
   "execution_count": 121,
   "metadata": {},
   "outputs": [
    {
     "data": {
      "image/png": "[encoded data removed]",
      "text/plain": [
       "<Figure size 432x288 with 1 Axes>"
      ]
     },
     "metadata": {
      "needs_background": "light"
     },
     "output_type": "display_data"
    }
   ],
   "source": [
    "sns.boxplot(x=\"rain_2\",y=\"ER\",data=team)\n",
    "plt.show()"
   ]
  },
  {
   "cell_type": "code",
   "execution_count": 122,
   "metadata": {},
   "outputs": [
    {
     "data": {
      "image/png": "[encoded data removed]",
      "text/plain": [
       "<Figure size 432x288 with 1 Axes>"
      ]
     },
     "metadata": {
      "needs_background": "light"
     },
     "output_type": "display_data"
    }
   ],
   "source": [
    "sns.boxplot(x=\"rain_6\",y=\"ER\",data=team)\n",
    "plt.show()"
   ]
  },
  {
   "cell_type": "code",
   "execution_count": 123,
   "metadata": {},
   "outputs": [
    {
     "data": {
      "image/png": "[encoded data removed]",
      "text/plain": [
       "<Figure size 432x288 with 1 Axes>"
      ]
     },
     "metadata": {
      "needs_background": "light"
     },
     "output_type": "display_data"
    }
   ],
   "source": [
    "sns.boxplot(x=\"rain_3\",y=\"ER\",data=team)\n",
    "plt.show()"
   ]
  },
  {
   "cell_type": "code",
   "execution_count": null,
   "metadata": {},
   "outputs": [],
   "source": []
  }
 ],
 "metadata": {
  "kernelspec": {
   "display_name": "Python 3",
   "language": "python",
   "name": "python3"
  },
  "language_info": {
   "codemirror_mode": {
    "name": "ipython",
    "version": 3
   },
   "file_extension": ".py",
   "mimetype": "text/x-python",
   "name": "python",
   "nbconvert_exporter": "python",
   "pygments_lexer": "ipython3",
   "version": "3.7.9"
  }
 },
 "nbformat": 4,
 "nbformat_minor": 4
}
