{
 "cells": [
  {
   "cell_type": "markdown",
   "metadata": {},
   "source": [
    "## 년도별 날씨"
   ]
  },
  {
   "cell_type": "code",
   "execution_count": 45,
   "metadata": {},
   "outputs": [],
   "source": [
    "import pandas as pd\n",
    "import numpy as np\n",
    "import matplotlib.pyplot as plt\n",
    "import seaborn as sns "
   ]
  },
  {
   "cell_type": "code",
   "execution_count": 48,
   "metadata": {},
   "outputs": [],
   "source": [
    "weather_16 = pd.read_csv('C:/Users/dudco/Desktop/SVT/weather/2016_weather.csv',encoding='CP949')\n",
    "weather_17 = pd.read_csv('C:/Users/dudco/Desktop/SVT/weather/2017_weather.csv',encoding='CP949')\n",
    "weather_18 = pd.read_csv('C:/Users/dudco/Desktop/SVT/weather/2018_weather.csv',encoding='CP949')\n",
    "weather_19 = pd.read_csv('C:/Users/dudco/Desktop/SVT/weather/2019_weather.csv',encoding='CP949')\n",
    "weather_20 = pd.read_csv('C:/Users/dudco/Desktop/SVT/weather/2020_weather.csv',encoding='CP949')"
   ]
  },
  {
   "cell_type": "code",
   "execution_count": 49,
   "metadata": {},
   "outputs": [],
   "source": [
    "weather_16.loc[weather_16['지점명']=='창원','지점명']='마산'\n",
    "weather_17.loc[weather_17['지점명']=='창원','지점명']='마산'\n",
    "weather_18.loc[weather_18['지점명']=='창원','지점명']='마산'"
   ]
  },
  {
   "cell_type": "code",
   "execution_count": 50,
   "metadata": {},
   "outputs": [],
   "source": [
    "weather_16=weather_16.rename({'지점명':'STADIUM','일시':'GDAY_DS'},axis='columns')\n",
    "weather_17=weather_17.rename({'지점명':'STADIUM','일시':'GDAY_DS'},axis='columns')\n",
    "weather_18=weather_18.rename({'지점명':'STADIUM','일시':'GDAY_DS'},axis='columns')\n",
    "weather_19=weather_19.rename({'지점명':'STADIUM','일시':'GDAY_DS'},axis='columns')\n",
    "weather_20=weather_20.rename({'지점명':'STADIUM','일시':'GDAY_DS'},axis='columns')"
   ]
  },
  {
   "cell_type": "code",
   "execution_count": 51,
   "metadata": {},
   "outputs": [
    {
     "data": {
      "text/html": [
       "<div>\n",
       "<style scoped>\n",
       "    .dataframe tbody tr th:only-of-type {\n",
       "        vertical-align: middle;\n",
       "    }\n",
       "\n",
       "    .dataframe tbody tr th {\n",
       "        vertical-align: top;\n",
       "    }\n",
       "\n",
       "    .dataframe thead th {\n",
       "        text-align: right;\n",
       "    }\n",
       "</style>\n",
       "<table border=\"1\" class=\"dataframe\">\n",
       "  <thead>\n",
       "    <tr style=\"text-align: right;\">\n",
       "      <th></th>\n",
       "      <th>지점</th>\n",
       "      <th>STADIUM</th>\n",
       "      <th>GDAY_DS</th>\n",
       "      <th>평균기온</th>\n",
       "      <th>최저기온</th>\n",
       "      <th>최저기온 시각</th>\n",
       "      <th>최고기온</th>\n",
       "      <th>최고기온 시각</th>\n",
       "      <th>10분 최다 강수량</th>\n",
       "      <th>10분 최다강수량 시각</th>\n",
       "      <th>...</th>\n",
       "      <th>최대 풍속</th>\n",
       "      <th>최대 풍속 풍향</th>\n",
       "      <th>최대 풍속 시각</th>\n",
       "      <th>평균 풍속</th>\n",
       "      <th>평균 상대습도</th>\n",
       "      <th>평균 현지기압</th>\n",
       "      <th>1시간 최다일사량</th>\n",
       "      <th>합계 일사량</th>\n",
       "      <th>평균 지면온도</th>\n",
       "      <th>불쾌지수</th>\n",
       "    </tr>\n",
       "  </thead>\n",
       "  <tbody>\n",
       "    <tr>\n",
       "      <th>0</th>\n",
       "      <td>108</td>\n",
       "      <td>고척</td>\n",
       "      <td>20160401</td>\n",
       "      <td>15.3</td>\n",
       "      <td>7.3</td>\n",
       "      <td>625</td>\n",
       "      <td>23.8</td>\n",
       "      <td>1333</td>\n",
       "      <td>NaN</td>\n",
       "      <td>NaN</td>\n",
       "      <td>...</td>\n",
       "      <td>5.3</td>\n",
       "      <td>340</td>\n",
       "      <td>1728</td>\n",
       "      <td>2.0</td>\n",
       "      <td>26.0</td>\n",
       "      <td>1005.0</td>\n",
       "      <td>2.63</td>\n",
       "      <td>18.16</td>\n",
       "      <td>16.7</td>\n",
       "      <td>58.913220</td>\n",
       "    </tr>\n",
       "    <tr>\n",
       "      <th>1</th>\n",
       "      <td>112</td>\n",
       "      <td>문학</td>\n",
       "      <td>20160401</td>\n",
       "      <td>13.5</td>\n",
       "      <td>8.3</td>\n",
       "      <td>704</td>\n",
       "      <td>19.7</td>\n",
       "      <td>1328</td>\n",
       "      <td>NaN</td>\n",
       "      <td>NaN</td>\n",
       "      <td>...</td>\n",
       "      <td>5.3</td>\n",
       "      <td>270</td>\n",
       "      <td>1409</td>\n",
       "      <td>2.3</td>\n",
       "      <td>41.9</td>\n",
       "      <td>1007.1</td>\n",
       "      <td>2.61</td>\n",
       "      <td>18.16</td>\n",
       "      <td>17.5</td>\n",
       "      <td>56.843235</td>\n",
       "    </tr>\n",
       "    <tr>\n",
       "      <th>2</th>\n",
       "      <td>119</td>\n",
       "      <td>수원</td>\n",
       "      <td>20160401</td>\n",
       "      <td>14.1</td>\n",
       "      <td>5.4</td>\n",
       "      <td>446</td>\n",
       "      <td>24.3</td>\n",
       "      <td>1338</td>\n",
       "      <td>NaN</td>\n",
       "      <td>NaN</td>\n",
       "      <td>...</td>\n",
       "      <td>4.7</td>\n",
       "      <td>290</td>\n",
       "      <td>1452</td>\n",
       "      <td>0.9</td>\n",
       "      <td>37.1</td>\n",
       "      <td>1011.4</td>\n",
       "      <td>2.40</td>\n",
       "      <td>16.69</td>\n",
       "      <td>11.9</td>\n",
       "      <td>57.594489</td>\n",
       "    </tr>\n",
       "    <tr>\n",
       "      <th>3</th>\n",
       "      <td>131</td>\n",
       "      <td>청주</td>\n",
       "      <td>20160401</td>\n",
       "      <td>15.3</td>\n",
       "      <td>5.9</td>\n",
       "      <td>557</td>\n",
       "      <td>24.9</td>\n",
       "      <td>1638</td>\n",
       "      <td>NaN</td>\n",
       "      <td>NaN</td>\n",
       "      <td>...</td>\n",
       "      <td>3.4</td>\n",
       "      <td>320</td>\n",
       "      <td>1718</td>\n",
       "      <td>1.0</td>\n",
       "      <td>25.8</td>\n",
       "      <td>1008.1</td>\n",
       "      <td>2.90</td>\n",
       "      <td>20.57</td>\n",
       "      <td>14.9</td>\n",
       "      <td>58.911526</td>\n",
       "    </tr>\n",
       "    <tr>\n",
       "      <th>4</th>\n",
       "      <td>133</td>\n",
       "      <td>대전</td>\n",
       "      <td>20160401</td>\n",
       "      <td>15.0</td>\n",
       "      <td>4.8</td>\n",
       "      <td>641</td>\n",
       "      <td>25.4</td>\n",
       "      <td>1531</td>\n",
       "      <td>NaN</td>\n",
       "      <td>NaN</td>\n",
       "      <td>...</td>\n",
       "      <td>3.0</td>\n",
       "      <td>200</td>\n",
       "      <td>1827</td>\n",
       "      <td>1.1</td>\n",
       "      <td>36.8</td>\n",
       "      <td>1007.2</td>\n",
       "      <td>3.45</td>\n",
       "      <td>24.42</td>\n",
       "      <td>17.2</td>\n",
       "      <td>58.652400</td>\n",
       "    </tr>\n",
       "    <tr>\n",
       "      <th>...</th>\n",
       "      <td>...</td>\n",
       "      <td>...</td>\n",
       "      <td>...</td>\n",
       "      <td>...</td>\n",
       "      <td>...</td>\n",
       "      <td>...</td>\n",
       "      <td>...</td>\n",
       "      <td>...</td>\n",
       "      <td>...</td>\n",
       "      <td>...</td>\n",
       "      <td>...</td>\n",
       "      <td>...</td>\n",
       "      <td>...</td>\n",
       "      <td>...</td>\n",
       "      <td>...</td>\n",
       "      <td>...</td>\n",
       "      <td>...</td>\n",
       "      <td>...</td>\n",
       "      <td>...</td>\n",
       "      <td>...</td>\n",
       "      <td>...</td>\n",
       "    </tr>\n",
       "    <tr>\n",
       "      <th>2299</th>\n",
       "      <td>152</td>\n",
       "      <td>울산</td>\n",
       "      <td>20161009</td>\n",
       "      <td>14.4</td>\n",
       "      <td>11.6</td>\n",
       "      <td>2334</td>\n",
       "      <td>19.0</td>\n",
       "      <td>1243</td>\n",
       "      <td>NaN</td>\n",
       "      <td>NaN</td>\n",
       "      <td>...</td>\n",
       "      <td>5.3</td>\n",
       "      <td>320</td>\n",
       "      <td>1025</td>\n",
       "      <td>2.7</td>\n",
       "      <td>67.9</td>\n",
       "      <td>1007.1</td>\n",
       "      <td>NaN</td>\n",
       "      <td>NaN</td>\n",
       "      <td>16.4</td>\n",
       "      <td>57.934124</td>\n",
       "    </tr>\n",
       "    <tr>\n",
       "      <th>2300</th>\n",
       "      <td>155</td>\n",
       "      <td>마산</td>\n",
       "      <td>20161009</td>\n",
       "      <td>14.7</td>\n",
       "      <td>12.1</td>\n",
       "      <td>2357</td>\n",
       "      <td>19.4</td>\n",
       "      <td>1457</td>\n",
       "      <td>NaN</td>\n",
       "      <td>NaN</td>\n",
       "      <td>...</td>\n",
       "      <td>3.9</td>\n",
       "      <td>50</td>\n",
       "      <td>1059</td>\n",
       "      <td>1.6</td>\n",
       "      <td>59.4</td>\n",
       "      <td>1012.5</td>\n",
       "      <td>2.96</td>\n",
       "      <td>20.63</td>\n",
       "      <td>17.9</td>\n",
       "      <td>58.357282</td>\n",
       "    </tr>\n",
       "    <tr>\n",
       "      <th>2301</th>\n",
       "      <td>156</td>\n",
       "      <td>광주</td>\n",
       "      <td>20161009</td>\n",
       "      <td>13.9</td>\n",
       "      <td>10.7</td>\n",
       "      <td>627</td>\n",
       "      <td>18.4</td>\n",
       "      <td>1415</td>\n",
       "      <td>NaN</td>\n",
       "      <td>NaN</td>\n",
       "      <td>...</td>\n",
       "      <td>6.4</td>\n",
       "      <td>20</td>\n",
       "      <td>741</td>\n",
       "      <td>3.2</td>\n",
       "      <td>54.3</td>\n",
       "      <td>1010.3</td>\n",
       "      <td>2.89</td>\n",
       "      <td>20.21</td>\n",
       "      <td>16.1</td>\n",
       "      <td>57.266323</td>\n",
       "    </tr>\n",
       "    <tr>\n",
       "      <th>2302</th>\n",
       "      <td>159</td>\n",
       "      <td>사직</td>\n",
       "      <td>20161009</td>\n",
       "      <td>16.2</td>\n",
       "      <td>13.1</td>\n",
       "      <td>638</td>\n",
       "      <td>22.0</td>\n",
       "      <td>1258</td>\n",
       "      <td>NaN</td>\n",
       "      <td>NaN</td>\n",
       "      <td>...</td>\n",
       "      <td>6.6</td>\n",
       "      <td>320</td>\n",
       "      <td>833</td>\n",
       "      <td>3.1</td>\n",
       "      <td>58.3</td>\n",
       "      <td>1008.3</td>\n",
       "      <td>2.74</td>\n",
       "      <td>18.50</td>\n",
       "      <td>17.1</td>\n",
       "      <td>60.435254</td>\n",
       "    </tr>\n",
       "    <tr>\n",
       "      <th>2303</th>\n",
       "      <td>108</td>\n",
       "      <td>잠실</td>\n",
       "      <td>20161009</td>\n",
       "      <td>11.3</td>\n",
       "      <td>6.5</td>\n",
       "      <td>635</td>\n",
       "      <td>16.6</td>\n",
       "      <td>1445</td>\n",
       "      <td>NaN</td>\n",
       "      <td>NaN</td>\n",
       "      <td>...</td>\n",
       "      <td>5.2</td>\n",
       "      <td>320</td>\n",
       "      <td>2105</td>\n",
       "      <td>2.9</td>\n",
       "      <td>46.3</td>\n",
       "      <td>1009.8</td>\n",
       "      <td>2.40</td>\n",
       "      <td>16.46</td>\n",
       "      <td>14.6</td>\n",
       "      <td>54.011681</td>\n",
       "    </tr>\n",
       "  </tbody>\n",
       "</table>\n",
       "<p>2304 rows × 26 columns</p>\n",
       "</div>"
      ],
      "text/plain": [
       "       지점 STADIUM   GDAY_DS  평균기온  최저기온  최저기온 시각  최고기온  최고기온 시각  10분 최다 강수량  \\\n",
       "0     108      고척  20160401  15.3   7.3      625  23.8     1333         NaN   \n",
       "1     112      문학  20160401  13.5   8.3      704  19.7     1328         NaN   \n",
       "2     119      수원  20160401  14.1   5.4      446  24.3     1338         NaN   \n",
       "3     131      청주  20160401  15.3   5.9      557  24.9     1638         NaN   \n",
       "4     133      대전  20160401  15.0   4.8      641  25.4     1531         NaN   \n",
       "...   ...     ...       ...   ...   ...      ...   ...      ...         ...   \n",
       "2299  152      울산  20161009  14.4  11.6     2334  19.0     1243         NaN   \n",
       "2300  155      마산  20161009  14.7  12.1     2357  19.4     1457         NaN   \n",
       "2301  156      광주  20161009  13.9  10.7      627  18.4     1415         NaN   \n",
       "2302  159      사직  20161009  16.2  13.1      638  22.0     1258         NaN   \n",
       "2303  108      잠실  20161009  11.3   6.5      635  16.6     1445         NaN   \n",
       "\n",
       "      10분 최다강수량 시각  ...  최대 풍속  최대 풍속 풍향  최대 풍속 시각  평균 풍속  평균 상대습도  평균 현지기압  \\\n",
       "0              NaN  ...    5.3       340      1728    2.0     26.0   1005.0   \n",
       "1              NaN  ...    5.3       270      1409    2.3     41.9   1007.1   \n",
       "2              NaN  ...    4.7       290      1452    0.9     37.1   1011.4   \n",
       "3              NaN  ...    3.4       320      1718    1.0     25.8   1008.1   \n",
       "4              NaN  ...    3.0       200      1827    1.1     36.8   1007.2   \n",
       "...            ...  ...    ...       ...       ...    ...      ...      ...   \n",
       "2299           NaN  ...    5.3       320      1025    2.7     67.9   1007.1   \n",
       "2300           NaN  ...    3.9        50      1059    1.6     59.4   1012.5   \n",
       "2301           NaN  ...    6.4        20       741    3.2     54.3   1010.3   \n",
       "2302           NaN  ...    6.6       320       833    3.1     58.3   1008.3   \n",
       "2303           NaN  ...    5.2       320      2105    2.9     46.3   1009.8   \n",
       "\n",
       "      1시간 최다일사량  합계 일사량  평균 지면온도       불쾌지수  \n",
       "0          2.63   18.16     16.7  58.913220  \n",
       "1          2.61   18.16     17.5  56.843235  \n",
       "2          2.40   16.69     11.9  57.594489  \n",
       "3          2.90   20.57     14.9  58.911526  \n",
       "4          3.45   24.42     17.2  58.652400  \n",
       "...         ...     ...      ...        ...  \n",
       "2299        NaN     NaN     16.4  57.934124  \n",
       "2300       2.96   20.63     17.9  58.357282  \n",
       "2301       2.89   20.21     16.1  57.266323  \n",
       "2302       2.74   18.50     17.1  60.435254  \n",
       "2303       2.40   16.46     14.6  54.011681  \n",
       "\n",
       "[2304 rows x 26 columns]"
      ]
     },
     "execution_count": 51,
     "metadata": {},
     "output_type": "execute_result"
    }
   ],
   "source": [
    "weather_16"
   ]
  },
  {
   "cell_type": "markdown",
   "metadata": {},
   "source": [
    "## 년도별 팀경기"
   ]
  },
  {
   "cell_type": "code",
   "execution_count": 8,
   "metadata": {},
   "outputs": [],
   "source": [
    "team_16 = pd.read_csv('C:/Users/dudco/Desktop/SVT/SVT_join_data/team_16.csv',encoding='CP949')\n",
    "team_17 = pd.read_csv('C:/Users/dudco/Desktop/SVT/SVT_join_data/team_17.csv',encoding='CP949')\n",
    "team_18 = pd.read_csv('C:/Users/dudco/Desktop/SVT/SVT_join_data/team_18.csv',encoding='CP949')\n",
    "team_19 = pd.read_csv('C:/Users/dudco/Desktop/SVT/SVT_join_data/team_19.csv',encoding='CP949')\n",
    "team_20 = pd.read_csv('C:/Users/dudco/Desktop/SVT/SVT_join_data/team_20.csv',encoding='CP949')"
   ]
  },
  {
   "cell_type": "markdown",
   "metadata": {},
   "source": [
    "## 팀경기 날씨 조인"
   ]
  },
  {
   "cell_type": "code",
   "execution_count": 52,
   "metadata": {
    "scrolled": true
   },
   "outputs": [],
   "source": [
    "wt_16 = pd.merge(weather_16, team_16, on=['GDAY_DS', 'STADIUM'], how='right')\n",
    "wt_17 = pd.merge(weather_17, team_17, on=['GDAY_DS', 'STADIUM'], how='right')\n",
    "wt_18 = pd.merge(weather_18, team_18, on=['GDAY_DS', 'STADIUM'], how='right')\n",
    "wt_19 = pd.merge(weather_19, team_19, on=['GDAY_DS', 'STADIUM'], how='right')\n",
    "wt_20 = pd.merge(weather_20, team_20, on=['GDAY_DS', 'STADIUM'], how='right')"
   ]
  },
  {
   "cell_type": "code",
   "execution_count": 53,
   "metadata": {},
   "outputs": [
    {
     "name": "stdout",
     "output_type": "stream",
     "text": [
      "<class 'pandas.core.frame.DataFrame'>\n",
      "Int64Index: 1440 entries, 0 to 1439\n",
      "Data columns (total 85 columns):\n",
      " #   Column         Non-Null Count  Dtype  \n",
      "---  ------         --------------  -----  \n",
      " 0   지점             1440 non-null   int64  \n",
      " 1   STADIUM        1440 non-null   object \n",
      " 2   GDAY_DS        1440 non-null   int64  \n",
      " 3   평균기온           1440 non-null   float64\n",
      " 4   최저기온           1440 non-null   float64\n",
      " 5   최저기온 시각        1440 non-null   int64  \n",
      " 6   최고기온           1440 non-null   float64\n",
      " 7   최고기온 시각        1440 non-null   int64  \n",
      " 8   10분 최다 강수량     560 non-null    float64\n",
      " 9   10분 최다강수량 시각   352 non-null    float64\n",
      " 10  1시간 최다강수량      560 non-null    float64\n",
      " 11  1시간 최다 강수량 시각  356 non-null    float64\n",
      " 12  일강수량           560 non-null    float64\n",
      " 13  최대 순간 풍속       1440 non-null   float64\n",
      " 14  최대 순간 풍속 풍향    1440 non-null   int64  \n",
      " 15  최대 순간풍속 시각     1440 non-null   int64  \n",
      " 16  최대 풍속          1440 non-null   float64\n",
      " 17  최대 풍속 풍향       1440 non-null   int64  \n",
      " 18  최대 풍속 시각       1440 non-null   int64  \n",
      " 19  평균 풍속          1440 non-null   float64\n",
      " 20  평균 상대습도        1440 non-null   float64\n",
      " 21  평균 현지기압        1440 non-null   float64\n",
      " 22  1시간 최다일사량      1428 non-null   float64\n",
      " 23  합계 일사량         1428 non-null   float64\n",
      " 24  평균 지면온도        1440 non-null   float64\n",
      " 25  불쾌지수           1440 non-null   float64\n",
      " 26  Unnamed: 0     1440 non-null   int64  \n",
      " 27  G_ID           1440 non-null   object \n",
      " 28  T_ID           1440 non-null   object \n",
      " 29  VS_T_ID        1440 non-null   object \n",
      " 30  HEADER_NO      1440 non-null   int64  \n",
      " 31  TB_SC          1440 non-null   object \n",
      " 32  CG_CK          1440 non-null   int64  \n",
      " 33  WLS            1440 non-null   object \n",
      " 34  HOLD           1440 non-null   int64  \n",
      " 35  INN2           1440 non-null   int64  \n",
      " 36  BF             1440 non-null   int64  \n",
      " 37  VS_PA          1440 non-null   int64  \n",
      " 38  VS_AB          1440 non-null   int64  \n",
      " 39  VS_HIT         1440 non-null   int64  \n",
      " 40  VS_H2          1440 non-null   int64  \n",
      " 41  VS_H3          1440 non-null   int64  \n",
      " 42  VS_HR          1440 non-null   int64  \n",
      " 43  VS_SB          1440 non-null   int64  \n",
      " 44  VS_CS          1440 non-null   int64  \n",
      " 45  VS_SH          1440 non-null   int64  \n",
      " 46  VS_SF          1440 non-null   int64  \n",
      " 47  VS_BB          1440 non-null   int64  \n",
      " 48  VS_IB          1440 non-null   int64  \n",
      " 49  VS_HP          1440 non-null   int64  \n",
      " 50  VS_KK          1440 non-null   int64  \n",
      " 51  VS_GD          1440 non-null   int64  \n",
      " 52  WP             1440 non-null   int64  \n",
      " 53  BK             1440 non-null   int64  \n",
      " 54  P_ERR          1440 non-null   int64  \n",
      " 55  R              1440 non-null   int64  \n",
      " 56  ER             1440 non-null   int64  \n",
      " 57  P_WHIP_RT      1440 non-null   float64\n",
      " 58  P2_WHIP_RT     1440 non-null   float64\n",
      " 59  CB_WHIP_RT     1440 non-null   float64\n",
      " 60  PA             1440 non-null   int64  \n",
      " 61  AB             1440 non-null   int64  \n",
      " 62  RBI            1440 non-null   int64  \n",
      " 63  RUN            1440 non-null   int64  \n",
      " 64  HIT            1440 non-null   int64  \n",
      " 65  H2             1440 non-null   int64  \n",
      " 66  H3             1440 non-null   int64  \n",
      " 67  HR             1440 non-null   int64  \n",
      " 68  SB             1440 non-null   int64  \n",
      " 69  CS             1440 non-null   int64  \n",
      " 70  SH             1440 non-null   int64  \n",
      " 71  SF             1440 non-null   int64  \n",
      " 72  BB             1440 non-null   int64  \n",
      " 73  IB             1440 non-null   int64  \n",
      " 74  HP             1440 non-null   int64  \n",
      " 75  KK             1440 non-null   int64  \n",
      " 76  GD             1440 non-null   int64  \n",
      " 77  H_ERR          1440 non-null   int64  \n",
      " 78  LOB            1440 non-null   int64  \n",
      " 79  P_HRA_RT       1440 non-null   float64\n",
      " 80  P_AB_CN        1440 non-null   int64  \n",
      " 81  P_HIT_CN       1440 non-null   int64  \n",
      " 82  VISIT_KEY      1440 non-null   object \n",
      " 83  HOME_KEY       1440 non-null   object \n",
      " 84  GWEEK          1440 non-null   object \n",
      "dtypes: float64(21), int64(55), object(9)\n",
      "memory usage: 967.5+ KB\n"
     ]
    }
   ],
   "source": [
    "wt_16.info()"
   ]
  },
  {
   "cell_type": "code",
   "execution_count": 88,
   "metadata": {},
   "outputs": [
    {
     "data": {
      "text/html": [
       "<div>\n",
       "<style scoped>\n",
       "    .dataframe tbody tr th:only-of-type {\n",
       "        vertical-align: middle;\n",
       "    }\n",
       "\n",
       "    .dataframe tbody tr th {\n",
       "        vertical-align: top;\n",
       "    }\n",
       "\n",
       "    .dataframe thead th {\n",
       "        text-align: right;\n",
       "    }\n",
       "</style>\n",
       "<table border=\"1\" class=\"dataframe\">\n",
       "  <thead>\n",
       "    <tr style=\"text-align: right;\">\n",
       "      <th></th>\n",
       "      <th>지점</th>\n",
       "      <th>STADIUM</th>\n",
       "      <th>GDAY_DS</th>\n",
       "      <th>평균기온</th>\n",
       "      <th>최저기온</th>\n",
       "      <th>최저기온 시각</th>\n",
       "      <th>최고기온</th>\n",
       "      <th>최고기온 시각</th>\n",
       "      <th>10분 최다 강수량</th>\n",
       "      <th>10분 최다강수량 시각</th>\n",
       "      <th>...</th>\n",
       "      <th>KK</th>\n",
       "      <th>GD</th>\n",
       "      <th>H_ERR</th>\n",
       "      <th>LOB</th>\n",
       "      <th>P_HRA_RT</th>\n",
       "      <th>P_AB_CN</th>\n",
       "      <th>P_HIT_CN</th>\n",
       "      <th>VISIT_KEY</th>\n",
       "      <th>HOME_KEY</th>\n",
       "      <th>GWEEK</th>\n",
       "    </tr>\n",
       "  </thead>\n",
       "  <tbody>\n",
       "    <tr>\n",
       "      <th>0</th>\n",
       "      <td>108</td>\n",
       "      <td>고척</td>\n",
       "      <td>20160401</td>\n",
       "      <td>15.3</td>\n",
       "      <td>7.3</td>\n",
       "      <td>625</td>\n",
       "      <td>23.8</td>\n",
       "      <td>1333</td>\n",
       "      <td>NaN</td>\n",
       "      <td>NaN</td>\n",
       "      <td>...</td>\n",
       "      <td>6</td>\n",
       "      <td>0</td>\n",
       "      <td>1</td>\n",
       "      <td>8</td>\n",
       "      <td>0.000000</td>\n",
       "      <td>5</td>\n",
       "      <td>0</td>\n",
       "      <td>LT</td>\n",
       "      <td>WO</td>\n",
       "      <td>금</td>\n",
       "    </tr>\n",
       "    <tr>\n",
       "      <th>1</th>\n",
       "      <td>108</td>\n",
       "      <td>고척</td>\n",
       "      <td>20160401</td>\n",
       "      <td>15.3</td>\n",
       "      <td>7.3</td>\n",
       "      <td>625</td>\n",
       "      <td>23.8</td>\n",
       "      <td>1333</td>\n",
       "      <td>NaN</td>\n",
       "      <td>NaN</td>\n",
       "      <td>...</td>\n",
       "      <td>6</td>\n",
       "      <td>2</td>\n",
       "      <td>0</td>\n",
       "      <td>10</td>\n",
       "      <td>0.071429</td>\n",
       "      <td>14</td>\n",
       "      <td>1</td>\n",
       "      <td>LT</td>\n",
       "      <td>WO</td>\n",
       "      <td>금</td>\n",
       "    </tr>\n",
       "    <tr>\n",
       "      <th>2</th>\n",
       "      <td>112</td>\n",
       "      <td>문학</td>\n",
       "      <td>20160401</td>\n",
       "      <td>13.5</td>\n",
       "      <td>8.3</td>\n",
       "      <td>704</td>\n",
       "      <td>19.7</td>\n",
       "      <td>1328</td>\n",
       "      <td>NaN</td>\n",
       "      <td>NaN</td>\n",
       "      <td>...</td>\n",
       "      <td>7</td>\n",
       "      <td>1</td>\n",
       "      <td>1</td>\n",
       "      <td>5</td>\n",
       "      <td>0.375000</td>\n",
       "      <td>8</td>\n",
       "      <td>3</td>\n",
       "      <td>KT</td>\n",
       "      <td>SK</td>\n",
       "      <td>금</td>\n",
       "    </tr>\n",
       "    <tr>\n",
       "      <th>3</th>\n",
       "      <td>112</td>\n",
       "      <td>문학</td>\n",
       "      <td>20160401</td>\n",
       "      <td>13.5</td>\n",
       "      <td>8.3</td>\n",
       "      <td>704</td>\n",
       "      <td>19.7</td>\n",
       "      <td>1328</td>\n",
       "      <td>NaN</td>\n",
       "      <td>NaN</td>\n",
       "      <td>...</td>\n",
       "      <td>7</td>\n",
       "      <td>0</td>\n",
       "      <td>0</td>\n",
       "      <td>7</td>\n",
       "      <td>0.285714</td>\n",
       "      <td>7</td>\n",
       "      <td>2</td>\n",
       "      <td>KT</td>\n",
       "      <td>SK</td>\n",
       "      <td>금</td>\n",
       "    </tr>\n",
       "    <tr>\n",
       "      <th>4</th>\n",
       "      <td>143</td>\n",
       "      <td>대구</td>\n",
       "      <td>20160401</td>\n",
       "      <td>14.4</td>\n",
       "      <td>5.6</td>\n",
       "      <td>510</td>\n",
       "      <td>23.2</td>\n",
       "      <td>1412</td>\n",
       "      <td>NaN</td>\n",
       "      <td>NaN</td>\n",
       "      <td>...</td>\n",
       "      <td>6</td>\n",
       "      <td>2</td>\n",
       "      <td>1</td>\n",
       "      <td>7</td>\n",
       "      <td>0.250000</td>\n",
       "      <td>4</td>\n",
       "      <td>1</td>\n",
       "      <td>OB</td>\n",
       "      <td>SS</td>\n",
       "      <td>금</td>\n",
       "    </tr>\n",
       "    <tr>\n",
       "      <th>5</th>\n",
       "      <td>143</td>\n",
       "      <td>대구</td>\n",
       "      <td>20160401</td>\n",
       "      <td>14.4</td>\n",
       "      <td>5.6</td>\n",
       "      <td>510</td>\n",
       "      <td>23.2</td>\n",
       "      <td>1412</td>\n",
       "      <td>NaN</td>\n",
       "      <td>NaN</td>\n",
       "      <td>...</td>\n",
       "      <td>3</td>\n",
       "      <td>1</td>\n",
       "      <td>0</td>\n",
       "      <td>5</td>\n",
       "      <td>0.142857</td>\n",
       "      <td>7</td>\n",
       "      <td>1</td>\n",
       "      <td>OB</td>\n",
       "      <td>SS</td>\n",
       "      <td>금</td>\n",
       "    </tr>\n",
       "    <tr>\n",
       "      <th>6</th>\n",
       "      <td>155</td>\n",
       "      <td>마산</td>\n",
       "      <td>20160401</td>\n",
       "      <td>14.4</td>\n",
       "      <td>8.6</td>\n",
       "      <td>543</td>\n",
       "      <td>23.9</td>\n",
       "      <td>1327</td>\n",
       "      <td>NaN</td>\n",
       "      <td>NaN</td>\n",
       "      <td>...</td>\n",
       "      <td>9</td>\n",
       "      <td>1</td>\n",
       "      <td>1</td>\n",
       "      <td>7</td>\n",
       "      <td>0.142857</td>\n",
       "      <td>7</td>\n",
       "      <td>1</td>\n",
       "      <td>HT</td>\n",
       "      <td>NC</td>\n",
       "      <td>금</td>\n",
       "    </tr>\n",
       "    <tr>\n",
       "      <th>7</th>\n",
       "      <td>155</td>\n",
       "      <td>마산</td>\n",
       "      <td>20160401</td>\n",
       "      <td>14.4</td>\n",
       "      <td>8.6</td>\n",
       "      <td>543</td>\n",
       "      <td>23.9</td>\n",
       "      <td>1327</td>\n",
       "      <td>NaN</td>\n",
       "      <td>NaN</td>\n",
       "      <td>...</td>\n",
       "      <td>10</td>\n",
       "      <td>1</td>\n",
       "      <td>0</td>\n",
       "      <td>7</td>\n",
       "      <td>0.100000</td>\n",
       "      <td>10</td>\n",
       "      <td>1</td>\n",
       "      <td>HT</td>\n",
       "      <td>NC</td>\n",
       "      <td>금</td>\n",
       "    </tr>\n",
       "    <tr>\n",
       "      <th>8</th>\n",
       "      <td>108</td>\n",
       "      <td>잠실</td>\n",
       "      <td>20160401</td>\n",
       "      <td>15.3</td>\n",
       "      <td>7.3</td>\n",
       "      <td>625</td>\n",
       "      <td>23.8</td>\n",
       "      <td>1333</td>\n",
       "      <td>NaN</td>\n",
       "      <td>NaN</td>\n",
       "      <td>...</td>\n",
       "      <td>11</td>\n",
       "      <td>0</td>\n",
       "      <td>0</td>\n",
       "      <td>8</td>\n",
       "      <td>0.333333</td>\n",
       "      <td>12</td>\n",
       "      <td>4</td>\n",
       "      <td>HH</td>\n",
       "      <td>LG</td>\n",
       "      <td>금</td>\n",
       "    </tr>\n",
       "    <tr>\n",
       "      <th>9</th>\n",
       "      <td>108</td>\n",
       "      <td>잠실</td>\n",
       "      <td>20160401</td>\n",
       "      <td>15.3</td>\n",
       "      <td>7.3</td>\n",
       "      <td>625</td>\n",
       "      <td>23.8</td>\n",
       "      <td>1333</td>\n",
       "      <td>NaN</td>\n",
       "      <td>NaN</td>\n",
       "      <td>...</td>\n",
       "      <td>10</td>\n",
       "      <td>1</td>\n",
       "      <td>2</td>\n",
       "      <td>12</td>\n",
       "      <td>0.200000</td>\n",
       "      <td>15</td>\n",
       "      <td>3</td>\n",
       "      <td>HH</td>\n",
       "      <td>LG</td>\n",
       "      <td>금</td>\n",
       "    </tr>\n",
       "  </tbody>\n",
       "</table>\n",
       "<p>10 rows × 85 columns</p>\n",
       "</div>"
      ],
      "text/plain": [
       "    지점 STADIUM   GDAY_DS  평균기온  최저기온  최저기온 시각  최고기온  최고기온 시각  10분 최다 강수량  \\\n",
       "0  108      고척  20160401  15.3   7.3      625  23.8     1333         NaN   \n",
       "1  108      고척  20160401  15.3   7.3      625  23.8     1333         NaN   \n",
       "2  112      문학  20160401  13.5   8.3      704  19.7     1328         NaN   \n",
       "3  112      문학  20160401  13.5   8.3      704  19.7     1328         NaN   \n",
       "4  143      대구  20160401  14.4   5.6      510  23.2     1412         NaN   \n",
       "5  143      대구  20160401  14.4   5.6      510  23.2     1412         NaN   \n",
       "6  155      마산  20160401  14.4   8.6      543  23.9     1327         NaN   \n",
       "7  155      마산  20160401  14.4   8.6      543  23.9     1327         NaN   \n",
       "8  108      잠실  20160401  15.3   7.3      625  23.8     1333         NaN   \n",
       "9  108      잠실  20160401  15.3   7.3      625  23.8     1333         NaN   \n",
       "\n",
       "   10분 최다강수량 시각  ...  KK  GD  H_ERR  LOB  P_HRA_RT  P_AB_CN  P_HIT_CN  \\\n",
       "0           NaN  ...   6   0      1    8  0.000000        5         0   \n",
       "1           NaN  ...   6   2      0   10  0.071429       14         1   \n",
       "2           NaN  ...   7   1      1    5  0.375000        8         3   \n",
       "3           NaN  ...   7   0      0    7  0.285714        7         2   \n",
       "4           NaN  ...   6   2      1    7  0.250000        4         1   \n",
       "5           NaN  ...   3   1      0    5  0.142857        7         1   \n",
       "6           NaN  ...   9   1      1    7  0.142857        7         1   \n",
       "7           NaN  ...  10   1      0    7  0.100000       10         1   \n",
       "8           NaN  ...  11   0      0    8  0.333333       12         4   \n",
       "9           NaN  ...  10   1      2   12  0.200000       15         3   \n",
       "\n",
       "   VISIT_KEY  HOME_KEY  GWEEK  \n",
       "0         LT        WO      금  \n",
       "1         LT        WO      금  \n",
       "2         KT        SK      금  \n",
       "3         KT        SK      금  \n",
       "4         OB        SS      금  \n",
       "5         OB        SS      금  \n",
       "6         HT        NC      금  \n",
       "7         HT        NC      금  \n",
       "8         HH        LG      금  \n",
       "9         HH        LG      금  \n",
       "\n",
       "[10 rows x 85 columns]"
      ]
     },
     "execution_count": 88,
     "metadata": {},
     "output_type": "execute_result"
    }
   ],
   "source": [
    "wt_16.head(10)"
   ]
  },
  {
   "cell_type": "code",
   "execution_count": 108,
   "metadata": {},
   "outputs": [],
   "source": [
    "wt_16['불쾌지수'] =wt_16['불쾌지수'].astype('int')"
   ]
  },
  {
   "cell_type": "code",
   "execution_count": 109,
   "metadata": {},
   "outputs": [],
   "source": [
    "Discomfortlist=[\n",
    "    (wt_16['불쾌지수']<68),\n",
    "    (wt_16['불쾌지수']>=68) & (wt_16['불쾌지수']<75),\n",
    "    (wt_16['불쾌지수']>=75) & (wt_16['불쾌지수']<80),\n",
    "    (wt_16['불쾌지수']>=80)\n",
    "]\n",
    "choicelist =[0,1,2,3]\n",
    "wt_16['DISCOMFORT']=np.select(Discomfortlist, choicelist)"
   ]
  },
  {
   "cell_type": "code",
   "execution_count": 110,
   "metadata": {},
   "outputs": [
    {
     "data": {
      "text/plain": [
       "count    1440.000000\n",
       "mean        1.015278\n",
       "std         0.985533\n",
       "min         0.000000\n",
       "25%         0.000000\n",
       "50%         1.000000\n",
       "75%         2.000000\n",
       "max         3.000000\n",
       "Name: DISCOMFORT, dtype: float64"
      ]
     },
     "execution_count": 110,
     "metadata": {},
     "output_type": "execute_result"
    }
   ],
   "source": [
    "wt_16['DISCOMFORT'].describe()"
   ]
  },
  {
   "cell_type": "code",
   "execution_count": 68,
   "metadata": {},
   "outputs": [
    {
     "data": {
      "image/png": "[encoded data removed]",
      "text/plain": [
       "<Figure size 432x288 with 1 Axes>"
      ]
     },
     "metadata": {
      "needs_background": "light"
     },
     "output_type": "display_data"
    }
   ],
   "source": [
    "plt.scatter(x='평균기온',y='RUN',data=wt_16)\n",
    "plt.show()"
   ]
  },
  {
   "cell_type": "code",
   "execution_count": 69,
   "metadata": {
    "scrolled": true
   },
   "outputs": [
    {
     "data": {
      "image/png": "[encoded data removed]",
      "text/plain": [
       "<Figure size 432x288 with 1 Axes>"
      ]
     },
     "metadata": {
      "needs_background": "light"
     },
     "output_type": "display_data"
    }
   ],
   "source": [
    "plt.scatter(x='불쾌지수',y='RUN',data=wt_16)\n",
    "plt.show()"
   ]
  },
  {
   "cell_type": "code",
   "execution_count": 70,
   "metadata": {},
   "outputs": [
    {
     "data": {
      "image/png": "[encoded data removed]",
      "text/plain": [
       "<Figure size 432x288 with 1 Axes>"
      ]
     },
     "metadata": {
      "needs_background": "light"
     },
     "output_type": "display_data"
    }
   ],
   "source": [
    "plt.scatter(x='일강수량',y='RUN',data=wt_16)\n",
    "plt.show()"
   ]
  },
  {
   "cell_type": "code",
   "execution_count": 62,
   "metadata": {},
   "outputs": [
    {
     "data": {
      "image/png": "[encoded data removed]",
      "text/plain": [
       "<Figure size 432x288 with 1 Axes>"
      ]
     },
     "metadata": {
      "needs_background": "light"
     },
     "output_type": "display_data"
    }
   ],
   "source": [
    "plt.scatter(x='일강수량',y='',data=wt_16)\n",
    "plt.show()"
   ]
  },
  {
   "cell_type": "code",
   "execution_count": 63,
   "metadata": {},
   "outputs": [
    {
     "data": {
      "image/png": "[encoded data removed]",
      "text/plain": [
       "<Figure size 432x288 with 1 Axes>"
      ]
     },
     "metadata": {
      "needs_background": "light"
     },
     "output_type": "display_data"
    }
   ],
   "source": [
    "plt.scatter(x='HIT',y='평균기온',data=wt_16)\n",
    "plt.show()"
   ]
  },
  {
   "cell_type": "code",
   "execution_count": 64,
   "metadata": {},
   "outputs": [
    {
     "data": {
      "image/png": "[encoded data removed]",
      "text/plain": [
       "<Figure size 432x288 with 1 Axes>"
      ]
     },
     "metadata": {
      "needs_background": "light"
     },
     "output_type": "display_data"
    }
   ],
   "source": [
    "plt.scatter(x='HIT',y='불쾌지수',data=wt_16)\n",
    "plt.show()"
   ]
  },
  {
   "cell_type": "code",
   "execution_count": 65,
   "metadata": {},
   "outputs": [
    {
     "data": {
      "image/png": "[encoded data removed]",
      "text/plain": [
       "<Figure size 432x288 with 1 Axes>"
      ]
     },
     "metadata": {
      "needs_background": "light"
     },
     "output_type": "display_data"
    }
   ],
   "source": [
    "plt.scatter(x='ER',y='일강수량',data=wt_16)\n",
    "plt.show()"
   ]
  },
  {
   "cell_type": "code",
   "execution_count": 66,
   "metadata": {},
   "outputs": [
    {
     "data": {
      "image/png": "[encoded data removed]",
      "text/plain": [
       "<Figure size 432x288 with 1 Axes>"
      ]
     },
     "metadata": {
      "needs_background": "light"
     },
     "output_type": "display_data"
    }
   ],
   "source": [
    "plt.scatter(x='ER',y='평균기온',data=wt_16)\n",
    "plt.show()"
   ]
  },
  {
   "cell_type": "code",
   "execution_count": 67,
   "metadata": {},
   "outputs": [
    {
     "data": {
      "image/png": "[encoded data removed]",
      "text/plain": [
       "<Figure size 432x288 with 1 Axes>"
      ]
     },
     "metadata": {
      "needs_background": "light"
     },
     "output_type": "display_data"
    }
   ],
   "source": [
    "plt.scatter(x='ER',y='불쾌지수',data=wt_16)\n",
    "plt.show()"
   ]
  },
  {
   "cell_type": "code",
   "execution_count": 113,
   "metadata": {},
   "outputs": [
    {
     "data": {
      "image/png": "[encoded data removed]",
      "text/plain": [
       "<Figure size 432x288 with 1 Axes>"
      ]
     },
     "metadata": {
      "needs_background": "light"
     },
     "output_type": "display_data"
    }
   ],
   "source": [
    "sns.boxplot(x=\"DISCOMFORT\",y=\"RUN\",data=wt_16)\n",
    "plt.show()"
   ]
  },
  {
   "cell_type": "code",
   "execution_count": 114,
   "metadata": {},
   "outputs": [
    {
     "data": {
      "image/png": "[encoded data removed]",
      "text/plain": [
       "<Figure size 432x288 with 1 Axes>"
      ]
     },
     "metadata": {
      "needs_background": "light"
     },
     "output_type": "display_data"
    }
   ],
   "source": [
    "plt.scatter(x='DISCOMFORT',y='RUN',data=wt_16)\n",
    "plt.show()"
   ]
  },
  {
   "cell_type": "code",
   "execution_count": 115,
   "metadata": {},
   "outputs": [
    {
     "data": {
      "image/png": "[encoded data removed]",
      "text/plain": [
       "<Figure size 432x288 with 1 Axes>"
      ]
     },
     "metadata": {
      "needs_background": "light"
     },
     "output_type": "display_data"
    }
   ],
   "source": [
    "sns.boxplot(x=\"DISCOMFORT\",y=\"ER\",data=wt_16)\n",
    "plt.show()"
   ]
  },
  {
   "cell_type": "code",
   "execution_count": 116,
   "metadata": {},
   "outputs": [
    {
     "data": {
      "image/png": "[encoded data removed]",
      "text/plain": [
       "<Figure size 432x288 with 1 Axes>"
      ]
     },
     "metadata": {
      "needs_background": "light"
     },
     "output_type": "display_data"
    }
   ],
   "source": [
    "sns.boxplot(x=\"DISCOMFORT\",y=\"HIT\",data=wt_16)\n",
    "plt.show()"
   ]
  },
  {
   "cell_type": "code",
   "execution_count": 117,
   "metadata": {},
   "outputs": [
    {
     "data": {
      "image/png": "[encoded data removed]",
      "text/plain": [
       "<Figure size 432x288 with 1 Axes>"
      ]
     },
     "metadata": {
      "needs_background": "light"
     },
     "output_type": "display_data"
    }
   ],
   "source": [
    "sns.boxplot(x=\"DISCOMFORT\",y=\"R\",data=wt_16)\n",
    "plt.show()"
   ]
  },
  {
   "cell_type": "code",
   "execution_count": null,
   "metadata": {},
   "outputs": [],
   "source": []
  }
 ],
 "metadata": {
  "kernelspec": {
   "display_name": "Python 3",
   "language": "python",
   "name": "python3"
  },
  "language_info": {
   "codemirror_mode": {
    "name": "ipython",
    "version": 3
   },
   "file_extension": ".py",
   "mimetype": "text/x-python",
   "name": "python",
   "nbconvert_exporter": "python",
   "pygments_lexer": "ipython3",
   "version": "3.7.6"
  }
 },
 "nbformat": 4,
 "nbformat_minor": 4
}
