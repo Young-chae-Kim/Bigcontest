{
 "cells": [
  {
   "cell_type": "code",
   "execution_count": null,
   "metadata": {},
   "outputs": [],
   "source": [
    "import pandas as pd\n",
    "import numpy as np\n",
    "import matplotlib.pyplot as plt\n",
    "import seaborn as sns\n",
    "import pylab\n",
    "\n",
    "import warnings\n",
    "warnings.filterwarnings(action='ignore')"
   ]
  },
  {
   "cell_type": "code",
   "execution_count": 5,
   "metadata": {},
   "outputs": [],
   "source": [
    "PP_18 = pd.read_csv('C:/Users/dudco/Desktop/data_kbo/PP_2018.csv',encoding='CP949')"
   ]
  },
  {
   "cell_type": "code",
   "execution_count": 6,
   "metadata": {
    "scrolled": true
   },
   "outputs": [
    {
     "ename": "NameError",
     "evalue": "name 'PP_19' is not defined",
     "output_type": "error",
     "traceback": [
      "\u001b[1;31m---------------------------------------------------------------------------\u001b[0m",
      "\u001b[1;31mNameError\u001b[0m                                 Traceback (most recent call last)",
      "\u001b[1;32m<ipython-input-6-d8be862a8a3f>\u001b[0m in \u001b[0;36m<module>\u001b[1;34m\u001b[0m\n\u001b[1;32m----> 1\u001b[1;33m \u001b[0mPP_19\u001b[0m\u001b[1;33m.\u001b[0m\u001b[0minfo\u001b[0m\u001b[1;33m(\u001b[0m\u001b[1;33m)\u001b[0m\u001b[1;33m\u001b[0m\u001b[1;33m\u001b[0m\u001b[0m\n\u001b[0m",
      "\u001b[1;31mNameError\u001b[0m: name 'PP_19' is not defined"
     ]
    }
   ],
   "source": [
    "PP_19.info()"
   ]
  },
  {
   "cell_type": "code",
   "execution_count": 7,
   "metadata": {},
   "outputs": [],
   "source": [
    "PP_18['ERA']=(PP_18['ER']*9)/(PP_18['INN2']/3)"
   ]
  },
  {
   "cell_type": "code",
   "execution_count": 8,
   "metadata": {},
   "outputs": [
    {
     "ename": "NameError",
     "evalue": "name 'PP_19' is not defined",
     "output_type": "error",
     "traceback": [
      "\u001b[1;31m---------------------------------------------------------------------------\u001b[0m",
      "\u001b[1;31mNameError\u001b[0m                                 Traceback (most recent call last)",
      "\u001b[1;32m<ipython-input-8-334e7772b9ec>\u001b[0m in \u001b[0;36m<module>\u001b[1;34m\u001b[0m\n\u001b[1;32m----> 1\u001b[1;33m \u001b[0mPP_19\u001b[0m\u001b[1;33m.\u001b[0m\u001b[0mto_csv\u001b[0m\u001b[1;33m(\u001b[0m\u001b[1;34m'C:/Users/dudco/Desktop/data_kbo/PPP_2019.csv'\u001b[0m\u001b[1;33m,\u001b[0m \u001b[0msep\u001b[0m\u001b[1;33m=\u001b[0m\u001b[1;34m','\u001b[0m\u001b[1;33m,\u001b[0m \u001b[0mencoding\u001b[0m\u001b[1;33m=\u001b[0m\u001b[1;34m'ms949'\u001b[0m\u001b[1;33m)\u001b[0m\u001b[1;33m\u001b[0m\u001b[1;33m\u001b[0m\u001b[0m\n\u001b[0m",
      "\u001b[1;31mNameError\u001b[0m: name 'PP_19' is not defined"
     ]
    }
   ],
   "source": [
    "PP_19.to_csv('C:/Users/dudco/Desktop/data_kbo/PPP_2019.csv', sep=',', encoding='ms949')"
   ]
  },
  {
   "cell_type": "code",
   "execution_count": 9,
   "metadata": {},
   "outputs": [],
   "source": [
    "PPP_19 = pd.read_csv('C:/Users/dudco/Desktop/data_kbo/PPP_2019.csv',encoding='CP949')"
   ]
  },
  {
   "cell_type": "code",
   "execution_count": 10,
   "metadata": {
    "scrolled": true
   },
   "outputs": [
    {
     "data": {
      "text/html": [
       "<div>\n",
       "<style scoped>\n",
       "    .dataframe tbody tr th:only-of-type {\n",
       "        vertical-align: middle;\n",
       "    }\n",
       "\n",
       "    .dataframe tbody tr th {\n",
       "        vertical-align: top;\n",
       "    }\n",
       "\n",
       "    .dataframe thead th {\n",
       "        text-align: right;\n",
       "    }\n",
       "</style>\n",
       "<table border=\"1\" class=\"dataframe\">\n",
       "  <thead>\n",
       "    <tr style=\"text-align: right;\">\n",
       "      <th></th>\n",
       "      <th>Unnamed: 0</th>\n",
       "      <th>G_ID</th>\n",
       "      <th>GDAY_DS</th>\n",
       "      <th>T_ID</th>\n",
       "      <th>VS_T_ID</th>\n",
       "      <th>HEADER_NO</th>\n",
       "      <th>TB_SC</th>\n",
       "      <th>P_ID</th>\n",
       "      <th>START_CK</th>\n",
       "      <th>RELIEF_CK</th>\n",
       "      <th>...</th>\n",
       "      <th>GD</th>\n",
       "      <th>WP</th>\n",
       "      <th>BK</th>\n",
       "      <th>ERR</th>\n",
       "      <th>R</th>\n",
       "      <th>ER</th>\n",
       "      <th>P_WHIP_RT</th>\n",
       "      <th>P2_WHIP_RT</th>\n",
       "      <th>CB_WHIP_RT</th>\n",
       "      <th>ERA</th>\n",
       "    </tr>\n",
       "  </thead>\n",
       "  <tbody>\n",
       "    <tr>\n",
       "      <th>0</th>\n",
       "      <td>0</td>\n",
       "      <td>20190323HHOB0</td>\n",
       "      <td>20190323</td>\n",
       "      <td>HH</td>\n",
       "      <td>OB</td>\n",
       "      <td>0</td>\n",
       "      <td>T</td>\n",
       "      <td>60768</td>\n",
       "      <td>0</td>\n",
       "      <td>1</td>\n",
       "      <td>...</td>\n",
       "      <td>0</td>\n",
       "      <td>0</td>\n",
       "      <td>0</td>\n",
       "      <td>0</td>\n",
       "      <td>0</td>\n",
       "      <td>0</td>\n",
       "      <td>3.0</td>\n",
       "      <td>3.000000</td>\n",
       "      <td>0.00</td>\n",
       "      <td>0.000000</td>\n",
       "    </tr>\n",
       "    <tr>\n",
       "      <th>1</th>\n",
       "      <td>1</td>\n",
       "      <td>20190323HHOB0</td>\n",
       "      <td>20190323</td>\n",
       "      <td>OB</td>\n",
       "      <td>HH</td>\n",
       "      <td>0</td>\n",
       "      <td>B</td>\n",
       "      <td>62242</td>\n",
       "      <td>0</td>\n",
       "      <td>1</td>\n",
       "      <td>...</td>\n",
       "      <td>1</td>\n",
       "      <td>0</td>\n",
       "      <td>0</td>\n",
       "      <td>0</td>\n",
       "      <td>1</td>\n",
       "      <td>1</td>\n",
       "      <td>0.0</td>\n",
       "      <td>1.500000</td>\n",
       "      <td>1.50</td>\n",
       "      <td>13.500000</td>\n",
       "    </tr>\n",
       "    <tr>\n",
       "      <th>2</th>\n",
       "      <td>2</td>\n",
       "      <td>20190323HHOB0</td>\n",
       "      <td>20190323</td>\n",
       "      <td>OB</td>\n",
       "      <td>HH</td>\n",
       "      <td>0</td>\n",
       "      <td>B</td>\n",
       "      <td>63248</td>\n",
       "      <td>0</td>\n",
       "      <td>1</td>\n",
       "      <td>...</td>\n",
       "      <td>0</td>\n",
       "      <td>0</td>\n",
       "      <td>0</td>\n",
       "      <td>0</td>\n",
       "      <td>0</td>\n",
       "      <td>0</td>\n",
       "      <td>1.5</td>\n",
       "      <td>3.000000</td>\n",
       "      <td>6.00</td>\n",
       "      <td>0.000000</td>\n",
       "    </tr>\n",
       "    <tr>\n",
       "      <th>3</th>\n",
       "      <td>3</td>\n",
       "      <td>20190323HHOB0</td>\n",
       "      <td>20190323</td>\n",
       "      <td>OB</td>\n",
       "      <td>HH</td>\n",
       "      <td>0</td>\n",
       "      <td>B</td>\n",
       "      <td>65543</td>\n",
       "      <td>1</td>\n",
       "      <td>0</td>\n",
       "      <td>...</td>\n",
       "      <td>1</td>\n",
       "      <td>0</td>\n",
       "      <td>0</td>\n",
       "      <td>0</td>\n",
       "      <td>2</td>\n",
       "      <td>2</td>\n",
       "      <td>1.0</td>\n",
       "      <td>1.941176</td>\n",
       "      <td>3.75</td>\n",
       "      <td>3.176471</td>\n",
       "    </tr>\n",
       "    <tr>\n",
       "      <th>4</th>\n",
       "      <td>4</td>\n",
       "      <td>20190323HHOB0</td>\n",
       "      <td>20190323</td>\n",
       "      <td>HH</td>\n",
       "      <td>OB</td>\n",
       "      <td>0</td>\n",
       "      <td>T</td>\n",
       "      <td>65769</td>\n",
       "      <td>0</td>\n",
       "      <td>1</td>\n",
       "      <td>...</td>\n",
       "      <td>0</td>\n",
       "      <td>0</td>\n",
       "      <td>0</td>\n",
       "      <td>0</td>\n",
       "      <td>2</td>\n",
       "      <td>2</td>\n",
       "      <td>0.0</td>\n",
       "      <td>0.000000</td>\n",
       "      <td>0.00</td>\n",
       "      <td>inf</td>\n",
       "    </tr>\n",
       "    <tr>\n",
       "      <th>...</th>\n",
       "      <td>...</td>\n",
       "      <td>...</td>\n",
       "      <td>...</td>\n",
       "      <td>...</td>\n",
       "      <td>...</td>\n",
       "      <td>...</td>\n",
       "      <td>...</td>\n",
       "      <td>...</td>\n",
       "      <td>...</td>\n",
       "      <td>...</td>\n",
       "      <td>...</td>\n",
       "      <td>...</td>\n",
       "      <td>...</td>\n",
       "      <td>...</td>\n",
       "      <td>...</td>\n",
       "      <td>...</td>\n",
       "      <td>...</td>\n",
       "      <td>...</td>\n",
       "      <td>...</td>\n",
       "      <td>...</td>\n",
       "      <td>...</td>\n",
       "    </tr>\n",
       "    <tr>\n",
       "      <th>6210</th>\n",
       "      <td>6210</td>\n",
       "      <td>20191001WOLT0</td>\n",
       "      <td>20191001</td>\n",
       "      <td>LT</td>\n",
       "      <td>WO</td>\n",
       "      <td>0</td>\n",
       "      <td>B</td>\n",
       "      <td>76225</td>\n",
       "      <td>0</td>\n",
       "      <td>1</td>\n",
       "      <td>...</td>\n",
       "      <td>0</td>\n",
       "      <td>0</td>\n",
       "      <td>0</td>\n",
       "      <td>0</td>\n",
       "      <td>0</td>\n",
       "      <td>0</td>\n",
       "      <td>0.0</td>\n",
       "      <td>1.000000</td>\n",
       "      <td>1.50</td>\n",
       "      <td>0.000000</td>\n",
       "    </tr>\n",
       "    <tr>\n",
       "      <th>6211</th>\n",
       "      <td>6211</td>\n",
       "      <td>20191001WOLT0</td>\n",
       "      <td>20191001</td>\n",
       "      <td>WO</td>\n",
       "      <td>LT</td>\n",
       "      <td>0</td>\n",
       "      <td>T</td>\n",
       "      <td>76430</td>\n",
       "      <td>0</td>\n",
       "      <td>1</td>\n",
       "      <td>...</td>\n",
       "      <td>0</td>\n",
       "      <td>0</td>\n",
       "      <td>0</td>\n",
       "      <td>0</td>\n",
       "      <td>0</td>\n",
       "      <td>0</td>\n",
       "      <td>0.0</td>\n",
       "      <td>0.000000</td>\n",
       "      <td>0.00</td>\n",
       "      <td>0.000000</td>\n",
       "    </tr>\n",
       "    <tr>\n",
       "      <th>6212</th>\n",
       "      <td>6212</td>\n",
       "      <td>20191001WOLT0</td>\n",
       "      <td>20191001</td>\n",
       "      <td>LT</td>\n",
       "      <td>WO</td>\n",
       "      <td>0</td>\n",
       "      <td>B</td>\n",
       "      <td>77318</td>\n",
       "      <td>1</td>\n",
       "      <td>0</td>\n",
       "      <td>...</td>\n",
       "      <td>1</td>\n",
       "      <td>1</td>\n",
       "      <td>0</td>\n",
       "      <td>0</td>\n",
       "      <td>1</td>\n",
       "      <td>1</td>\n",
       "      <td>1.0</td>\n",
       "      <td>1.500000</td>\n",
       "      <td>0.00</td>\n",
       "      <td>4.500000</td>\n",
       "    </tr>\n",
       "    <tr>\n",
       "      <th>6213</th>\n",
       "      <td>6213</td>\n",
       "      <td>20191001WOLT0</td>\n",
       "      <td>20191001</td>\n",
       "      <td>LT</td>\n",
       "      <td>WO</td>\n",
       "      <td>0</td>\n",
       "      <td>B</td>\n",
       "      <td>77591</td>\n",
       "      <td>0</td>\n",
       "      <td>1</td>\n",
       "      <td>...</td>\n",
       "      <td>0</td>\n",
       "      <td>0</td>\n",
       "      <td>0</td>\n",
       "      <td>0</td>\n",
       "      <td>0</td>\n",
       "      <td>0</td>\n",
       "      <td>0.0</td>\n",
       "      <td>0.000000</td>\n",
       "      <td>0.00</td>\n",
       "      <td>0.000000</td>\n",
       "    </tr>\n",
       "    <tr>\n",
       "      <th>6214</th>\n",
       "      <td>6214</td>\n",
       "      <td>20191001WOLT0</td>\n",
       "      <td>20191001</td>\n",
       "      <td>LT</td>\n",
       "      <td>WO</td>\n",
       "      <td>0</td>\n",
       "      <td>B</td>\n",
       "      <td>79293</td>\n",
       "      <td>0</td>\n",
       "      <td>1</td>\n",
       "      <td>...</td>\n",
       "      <td>0</td>\n",
       "      <td>0</td>\n",
       "      <td>0</td>\n",
       "      <td>0</td>\n",
       "      <td>0</td>\n",
       "      <td>0</td>\n",
       "      <td>0.0</td>\n",
       "      <td>0.000000</td>\n",
       "      <td>0.00</td>\n",
       "      <td>0.000000</td>\n",
       "    </tr>\n",
       "  </tbody>\n",
       "</table>\n",
       "<p>6215 rows × 40 columns</p>\n",
       "</div>"
      ],
      "text/plain": [
       "      Unnamed: 0           G_ID   GDAY_DS T_ID VS_T_ID  HEADER_NO TB_SC  \\\n",
       "0              0  20190323HHOB0  20190323   HH      OB          0     T   \n",
       "1              1  20190323HHOB0  20190323   OB      HH          0     B   \n",
       "2              2  20190323HHOB0  20190323   OB      HH          0     B   \n",
       "3              3  20190323HHOB0  20190323   OB      HH          0     B   \n",
       "4              4  20190323HHOB0  20190323   HH      OB          0     T   \n",
       "...          ...            ...       ...  ...     ...        ...   ...   \n",
       "6210        6210  20191001WOLT0  20191001   LT      WO          0     B   \n",
       "6211        6211  20191001WOLT0  20191001   WO      LT          0     T   \n",
       "6212        6212  20191001WOLT0  20191001   LT      WO          0     B   \n",
       "6213        6213  20191001WOLT0  20191001   LT      WO          0     B   \n",
       "6214        6214  20191001WOLT0  20191001   LT      WO          0     B   \n",
       "\n",
       "       P_ID  START_CK  RELIEF_CK  ...  GD  WP BK  ERR  R  ER  P_WHIP_RT  \\\n",
       "0     60768         0          1  ...   0   0  0    0  0   0        3.0   \n",
       "1     62242         0          1  ...   1   0  0    0  1   1        0.0   \n",
       "2     63248         0          1  ...   0   0  0    0  0   0        1.5   \n",
       "3     65543         1          0  ...   1   0  0    0  2   2        1.0   \n",
       "4     65769         0          1  ...   0   0  0    0  2   2        0.0   \n",
       "...     ...       ...        ...  ...  ..  .. ..  ... ..  ..        ...   \n",
       "6210  76225         0          1  ...   0   0  0    0  0   0        0.0   \n",
       "6211  76430         0          1  ...   0   0  0    0  0   0        0.0   \n",
       "6212  77318         1          0  ...   1   1  0    0  1   1        1.0   \n",
       "6213  77591         0          1  ...   0   0  0    0  0   0        0.0   \n",
       "6214  79293         0          1  ...   0   0  0    0  0   0        0.0   \n",
       "\n",
       "      P2_WHIP_RT  CB_WHIP_RT        ERA  \n",
       "0       3.000000        0.00   0.000000  \n",
       "1       1.500000        1.50  13.500000  \n",
       "2       3.000000        6.00   0.000000  \n",
       "3       1.941176        3.75   3.176471  \n",
       "4       0.000000        0.00        inf  \n",
       "...          ...         ...        ...  \n",
       "6210    1.000000        1.50   0.000000  \n",
       "6211    0.000000        0.00   0.000000  \n",
       "6212    1.500000        0.00   4.500000  \n",
       "6213    0.000000        0.00   0.000000  \n",
       "6214    0.000000        0.00   0.000000  \n",
       "\n",
       "[6215 rows x 40 columns]"
      ]
     },
     "execution_count": 10,
     "metadata": {},
     "output_type": "execute_result"
    }
   ],
   "source": [
    "PPP_19"
   ]
  },
  {
   "cell_type": "code",
   "execution_count": 11,
   "metadata": {},
   "outputs": [],
   "source": [
    "# 구원투수만 뽑기\n",
    "PPR_18=PP_18[PP_18['RELIEF_CK']==1]"
   ]
  },
  {
   "cell_type": "code",
   "execution_count": 12,
   "metadata": {},
   "outputs": [],
   "source": [
    "# 팀별로 구원투수\n",
    "NC_PPR_18=PPR_18[PPR_18['T_ID']=='NC']\n",
    "OB_PPR_18=PPR_18[PPR_18['T_ID']=='OB']\n",
    "WO_PPR_18=PPR_18[PPR_18['T_ID']=='WO']\n",
    "LG_PPR_18=PPR_18[PPR_18['T_ID']=='LG']\n",
    "HT_PPR_18=PPR_18[PPR_18['T_ID']=='HT']\n",
    "KT_PPR_18=PPR_18[PPR_18['T_ID']=='KT']\n",
    "SS_PPR_18=PPR_18[PPR_18['T_ID']=='SS']\n",
    "LT_PPR_18=PPR_18[PPR_18['T_ID']=='LT']\n",
    "SK_PPR_18=PPR_18[PPR_18['T_ID']=='SK']\n",
    "HH_PPR_18=PPR_18[PPR_18['T_ID']=='HH']"
   ]
  },
  {
   "cell_type": "code",
   "execution_count": 13,
   "metadata": {
    "scrolled": true
   },
   "outputs": [
    {
     "data": {
      "text/html": [
       "<div>\n",
       "<style scoped>\n",
       "    .dataframe tbody tr th:only-of-type {\n",
       "        vertical-align: middle;\n",
       "    }\n",
       "\n",
       "    .dataframe tbody tr th {\n",
       "        vertical-align: top;\n",
       "    }\n",
       "\n",
       "    .dataframe thead th {\n",
       "        text-align: right;\n",
       "    }\n",
       "</style>\n",
       "<table border=\"1\" class=\"dataframe\">\n",
       "  <thead>\n",
       "    <tr style=\"text-align: right;\">\n",
       "      <th>P_ID</th>\n",
       "      <th>60339</th>\n",
       "      <th>62920</th>\n",
       "      <th>62929</th>\n",
       "      <th>62951</th>\n",
       "      <th>62966</th>\n",
       "      <th>63936</th>\n",
       "      <th>63950</th>\n",
       "      <th>63991</th>\n",
       "      <th>64594</th>\n",
       "      <th>64995</th>\n",
       "      <th>...</th>\n",
       "      <th>65964</th>\n",
       "      <th>66920</th>\n",
       "      <th>66960</th>\n",
       "      <th>68908</th>\n",
       "      <th>75867</th>\n",
       "      <th>76118</th>\n",
       "      <th>76757</th>\n",
       "      <th>78352</th>\n",
       "      <th>78366</th>\n",
       "      <th>79358</th>\n",
       "    </tr>\n",
       "    <tr>\n",
       "      <th>GDAY_DS</th>\n",
       "      <th></th>\n",
       "      <th></th>\n",
       "      <th></th>\n",
       "      <th></th>\n",
       "      <th></th>\n",
       "      <th></th>\n",
       "      <th></th>\n",
       "      <th></th>\n",
       "      <th></th>\n",
       "      <th></th>\n",
       "      <th></th>\n",
       "      <th></th>\n",
       "      <th></th>\n",
       "      <th></th>\n",
       "      <th></th>\n",
       "      <th></th>\n",
       "      <th></th>\n",
       "      <th></th>\n",
       "      <th></th>\n",
       "      <th></th>\n",
       "      <th></th>\n",
       "    </tr>\n",
       "  </thead>\n",
       "  <tbody>\n",
       "    <tr>\n",
       "      <th>20180324</th>\n",
       "      <td>0</td>\n",
       "      <td>0</td>\n",
       "      <td>0</td>\n",
       "      <td>0</td>\n",
       "      <td>0</td>\n",
       "      <td>0</td>\n",
       "      <td>0</td>\n",
       "      <td>0</td>\n",
       "      <td>0</td>\n",
       "      <td>0</td>\n",
       "      <td>...</td>\n",
       "      <td>0</td>\n",
       "      <td>0</td>\n",
       "      <td>0</td>\n",
       "      <td>0</td>\n",
       "      <td>1</td>\n",
       "      <td>1</td>\n",
       "      <td>0</td>\n",
       "      <td>0</td>\n",
       "      <td>0</td>\n",
       "      <td>1</td>\n",
       "    </tr>\n",
       "    <tr>\n",
       "      <th>20180325</th>\n",
       "      <td>0</td>\n",
       "      <td>0</td>\n",
       "      <td>1</td>\n",
       "      <td>0</td>\n",
       "      <td>0</td>\n",
       "      <td>0</td>\n",
       "      <td>0</td>\n",
       "      <td>0</td>\n",
       "      <td>0</td>\n",
       "      <td>0</td>\n",
       "      <td>...</td>\n",
       "      <td>0</td>\n",
       "      <td>0</td>\n",
       "      <td>0</td>\n",
       "      <td>0</td>\n",
       "      <td>0</td>\n",
       "      <td>0</td>\n",
       "      <td>1</td>\n",
       "      <td>1</td>\n",
       "      <td>0</td>\n",
       "      <td>1</td>\n",
       "    </tr>\n",
       "    <tr>\n",
       "      <th>20180327</th>\n",
       "      <td>0</td>\n",
       "      <td>0</td>\n",
       "      <td>1</td>\n",
       "      <td>0</td>\n",
       "      <td>0</td>\n",
       "      <td>0</td>\n",
       "      <td>0</td>\n",
       "      <td>0</td>\n",
       "      <td>0</td>\n",
       "      <td>0</td>\n",
       "      <td>...</td>\n",
       "      <td>0</td>\n",
       "      <td>0</td>\n",
       "      <td>0</td>\n",
       "      <td>0</td>\n",
       "      <td>1</td>\n",
       "      <td>1</td>\n",
       "      <td>1</td>\n",
       "      <td>1</td>\n",
       "      <td>0</td>\n",
       "      <td>1</td>\n",
       "    </tr>\n",
       "    <tr>\n",
       "      <th>20180328</th>\n",
       "      <td>0</td>\n",
       "      <td>1</td>\n",
       "      <td>0</td>\n",
       "      <td>0</td>\n",
       "      <td>0</td>\n",
       "      <td>0</td>\n",
       "      <td>0</td>\n",
       "      <td>0</td>\n",
       "      <td>0</td>\n",
       "      <td>1</td>\n",
       "      <td>...</td>\n",
       "      <td>0</td>\n",
       "      <td>0</td>\n",
       "      <td>0</td>\n",
       "      <td>0</td>\n",
       "      <td>0</td>\n",
       "      <td>1</td>\n",
       "      <td>1</td>\n",
       "      <td>0</td>\n",
       "      <td>0</td>\n",
       "      <td>0</td>\n",
       "    </tr>\n",
       "    <tr>\n",
       "      <th>20180329</th>\n",
       "      <td>0</td>\n",
       "      <td>0</td>\n",
       "      <td>0</td>\n",
       "      <td>0</td>\n",
       "      <td>0</td>\n",
       "      <td>0</td>\n",
       "      <td>0</td>\n",
       "      <td>0</td>\n",
       "      <td>0</td>\n",
       "      <td>1</td>\n",
       "      <td>...</td>\n",
       "      <td>0</td>\n",
       "      <td>0</td>\n",
       "      <td>0</td>\n",
       "      <td>0</td>\n",
       "      <td>1</td>\n",
       "      <td>0</td>\n",
       "      <td>0</td>\n",
       "      <td>1</td>\n",
       "      <td>0</td>\n",
       "      <td>1</td>\n",
       "    </tr>\n",
       "    <tr>\n",
       "      <th>...</th>\n",
       "      <td>...</td>\n",
       "      <td>...</td>\n",
       "      <td>...</td>\n",
       "      <td>...</td>\n",
       "      <td>...</td>\n",
       "      <td>...</td>\n",
       "      <td>...</td>\n",
       "      <td>...</td>\n",
       "      <td>...</td>\n",
       "      <td>...</td>\n",
       "      <td>...</td>\n",
       "      <td>...</td>\n",
       "      <td>...</td>\n",
       "      <td>...</td>\n",
       "      <td>...</td>\n",
       "      <td>...</td>\n",
       "      <td>...</td>\n",
       "      <td>...</td>\n",
       "      <td>...</td>\n",
       "      <td>...</td>\n",
       "      <td>...</td>\n",
       "    </tr>\n",
       "    <tr>\n",
       "      <th>20181002</th>\n",
       "      <td>0</td>\n",
       "      <td>0</td>\n",
       "      <td>1</td>\n",
       "      <td>0</td>\n",
       "      <td>0</td>\n",
       "      <td>0</td>\n",
       "      <td>0</td>\n",
       "      <td>0</td>\n",
       "      <td>0</td>\n",
       "      <td>0</td>\n",
       "      <td>...</td>\n",
       "      <td>0</td>\n",
       "      <td>1</td>\n",
       "      <td>0</td>\n",
       "      <td>0</td>\n",
       "      <td>1</td>\n",
       "      <td>1</td>\n",
       "      <td>0</td>\n",
       "      <td>0</td>\n",
       "      <td>0</td>\n",
       "      <td>1</td>\n",
       "    </tr>\n",
       "    <tr>\n",
       "      <th>20181006</th>\n",
       "      <td>0</td>\n",
       "      <td>1</td>\n",
       "      <td>0</td>\n",
       "      <td>0</td>\n",
       "      <td>0</td>\n",
       "      <td>0</td>\n",
       "      <td>0</td>\n",
       "      <td>0</td>\n",
       "      <td>0</td>\n",
       "      <td>0</td>\n",
       "      <td>...</td>\n",
       "      <td>0</td>\n",
       "      <td>0</td>\n",
       "      <td>1</td>\n",
       "      <td>0</td>\n",
       "      <td>0</td>\n",
       "      <td>1</td>\n",
       "      <td>0</td>\n",
       "      <td>0</td>\n",
       "      <td>0</td>\n",
       "      <td>0</td>\n",
       "    </tr>\n",
       "    <tr>\n",
       "      <th>20181007</th>\n",
       "      <td>0</td>\n",
       "      <td>0</td>\n",
       "      <td>0</td>\n",
       "      <td>0</td>\n",
       "      <td>0</td>\n",
       "      <td>0</td>\n",
       "      <td>0</td>\n",
       "      <td>1</td>\n",
       "      <td>0</td>\n",
       "      <td>0</td>\n",
       "      <td>...</td>\n",
       "      <td>0</td>\n",
       "      <td>0</td>\n",
       "      <td>0</td>\n",
       "      <td>0</td>\n",
       "      <td>1</td>\n",
       "      <td>0</td>\n",
       "      <td>0</td>\n",
       "      <td>0</td>\n",
       "      <td>0</td>\n",
       "      <td>1</td>\n",
       "    </tr>\n",
       "    <tr>\n",
       "      <th>20181012</th>\n",
       "      <td>1</td>\n",
       "      <td>1</td>\n",
       "      <td>0</td>\n",
       "      <td>0</td>\n",
       "      <td>0</td>\n",
       "      <td>0</td>\n",
       "      <td>0</td>\n",
       "      <td>1</td>\n",
       "      <td>0</td>\n",
       "      <td>0</td>\n",
       "      <td>...</td>\n",
       "      <td>0</td>\n",
       "      <td>0</td>\n",
       "      <td>0</td>\n",
       "      <td>0</td>\n",
       "      <td>0</td>\n",
       "      <td>0</td>\n",
       "      <td>0</td>\n",
       "      <td>0</td>\n",
       "      <td>1</td>\n",
       "      <td>0</td>\n",
       "    </tr>\n",
       "    <tr>\n",
       "      <th>20181013</th>\n",
       "      <td>0</td>\n",
       "      <td>0</td>\n",
       "      <td>1</td>\n",
       "      <td>0</td>\n",
       "      <td>0</td>\n",
       "      <td>0</td>\n",
       "      <td>0</td>\n",
       "      <td>0</td>\n",
       "      <td>0</td>\n",
       "      <td>0</td>\n",
       "      <td>...</td>\n",
       "      <td>0</td>\n",
       "      <td>0</td>\n",
       "      <td>1</td>\n",
       "      <td>0</td>\n",
       "      <td>0</td>\n",
       "      <td>1</td>\n",
       "      <td>0</td>\n",
       "      <td>0</td>\n",
       "      <td>0</td>\n",
       "      <td>1</td>\n",
       "    </tr>\n",
       "  </tbody>\n",
       "</table>\n",
       "<p>143 rows × 23 columns</p>\n",
       "</div>"
      ],
      "text/plain": [
       "P_ID      60339  62920  62929  62951  62966  63936  63950  63991  64594  \\\n",
       "GDAY_DS                                                                   \n",
       "20180324      0      0      0      0      0      0      0      0      0   \n",
       "20180325      0      0      1      0      0      0      0      0      0   \n",
       "20180327      0      0      1      0      0      0      0      0      0   \n",
       "20180328      0      1      0      0      0      0      0      0      0   \n",
       "20180329      0      0      0      0      0      0      0      0      0   \n",
       "...         ...    ...    ...    ...    ...    ...    ...    ...    ...   \n",
       "20181002      0      0      1      0      0      0      0      0      0   \n",
       "20181006      0      1      0      0      0      0      0      0      0   \n",
       "20181007      0      0      0      0      0      0      0      1      0   \n",
       "20181012      1      1      0      0      0      0      0      1      0   \n",
       "20181013      0      0      1      0      0      0      0      0      0   \n",
       "\n",
       "P_ID      64995  ...  65964  66920  66960  68908  75867  76118  76757  78352  \\\n",
       "GDAY_DS          ...                                                           \n",
       "20180324      0  ...      0      0      0      0      1      1      0      0   \n",
       "20180325      0  ...      0      0      0      0      0      0      1      1   \n",
       "20180327      0  ...      0      0      0      0      1      1      1      1   \n",
       "20180328      1  ...      0      0      0      0      0      1      1      0   \n",
       "20180329      1  ...      0      0      0      0      1      0      0      1   \n",
       "...         ...  ...    ...    ...    ...    ...    ...    ...    ...    ...   \n",
       "20181002      0  ...      0      1      0      0      1      1      0      0   \n",
       "20181006      0  ...      0      0      1      0      0      1      0      0   \n",
       "20181007      0  ...      0      0      0      0      1      0      0      0   \n",
       "20181012      0  ...      0      0      0      0      0      0      0      0   \n",
       "20181013      0  ...      0      0      1      0      0      1      0      0   \n",
       "\n",
       "P_ID      78366  79358  \n",
       "GDAY_DS                 \n",
       "20180324      0      1  \n",
       "20180325      0      1  \n",
       "20180327      0      1  \n",
       "20180328      0      0  \n",
       "20180329      0      1  \n",
       "...         ...    ...  \n",
       "20181002      0      1  \n",
       "20181006      0      0  \n",
       "20181007      0      1  \n",
       "20181012      1      0  \n",
       "20181013      0      1  \n",
       "\n",
       "[143 rows x 23 columns]"
      ]
     },
     "execution_count": 13,
     "metadata": {},
     "output_type": "execute_result"
    }
   ],
   "source": [
    "# NC\n",
    "pd.crosstab(NC_PPR_18.GDAY_DS,NC_PPR_18.P_ID)"
   ]
  },
  {
   "cell_type": "code",
   "execution_count": 12,
   "metadata": {},
   "outputs": [],
   "source": [
    "PPR_NC_18.to_csv('C:/Users/dudco/Desktop/data_kbo/PPR_NC_2018.csv', sep=',', encoding='ms949')"
   ]
  },
  {
   "cell_type": "code",
   "execution_count": null,
   "metadata": {},
   "outputs": [],
   "source": []
  },
  {
   "cell_type": "code",
   "execution_count": 1,
   "metadata": {
    "scrolled": true
   },
   "outputs": [
    {
     "ename": "NameError",
     "evalue": "name 'PPP_19' is not defined",
     "output_type": "error",
     "traceback": [
      "\u001b[1;31m---------------------------------------------------------------------------\u001b[0m",
      "\u001b[1;31mNameError\u001b[0m                                 Traceback (most recent call last)",
      "\u001b[1;32m<ipython-input-1-64a4311c5e7e>\u001b[0m in \u001b[0;36m<module>\u001b[1;34m\u001b[0m\n\u001b[0;32m      1\u001b[0m \u001b[1;31m# 선발투수만 뽑기\u001b[0m\u001b[1;33m\u001b[0m\u001b[1;33m\u001b[0m\u001b[1;33m\u001b[0m\u001b[0m\n\u001b[1;32m----> 2\u001b[1;33m \u001b[0mPPS_19\u001b[0m\u001b[1;33m=\u001b[0m\u001b[0mPPP_19\u001b[0m\u001b[1;33m[\u001b[0m\u001b[0mPPP_19\u001b[0m\u001b[1;33m[\u001b[0m\u001b[1;34m'START_CK'\u001b[0m\u001b[1;33m]\u001b[0m\u001b[1;33m==\u001b[0m\u001b[1;36m1\u001b[0m\u001b[1;33m]\u001b[0m\u001b[1;33m\u001b[0m\u001b[1;33m\u001b[0m\u001b[0m\n\u001b[0m\u001b[0;32m      3\u001b[0m \u001b[0mPPR_19\u001b[0m\u001b[1;33m=\u001b[0m\u001b[0mPPP_19\u001b[0m\u001b[1;33m[\u001b[0m\u001b[0mPPP_19\u001b[0m\u001b[1;33m[\u001b[0m\u001b[1;34m'RELIEF_CK'\u001b[0m\u001b[1;33m]\u001b[0m\u001b[1;33m==\u001b[0m\u001b[1;36m1\u001b[0m\u001b[1;33m]\u001b[0m\u001b[1;33m\u001b[0m\u001b[1;33m\u001b[0m\u001b[0m\n",
      "\u001b[1;31mNameError\u001b[0m: name 'PPP_19' is not defined"
     ]
    }
   ],
   "source": [
    "# 선발투수만 뽑기\n",
    "PPS_18=PP_18[PP_18['START_CK']==1]"
   ]
  },
  {
   "cell_type": "code",
   "execution_count": 49,
   "metadata": {},
   "outputs": [],
   "source": [
    "# 팀별로 선발투수\n",
    "NC_PPS_19=PPS_19[PPS_19['T_ID']=='NC']\n",
    "OB_PPS_19=PPS_19[PPS_19['T_ID']=='OB']\n",
    "WO_PPS_19=PPS_19[PPS_19['T_ID']=='WO']\n",
    "LG_PPS_19=PPS_19[PPS_19['T_ID']=='LG']\n",
    "HT_PPS_19=PPS_19[PPS_19['T_ID']=='HT']\n",
    "KT_PPS_19=PPS_19[PPS_19['T_ID']=='KT']\n",
    "SS_PPS_19=PPS_19[PPS_19['T_ID']=='SS']\n",
    "LT_PPS_19=PPS_19[PPS_19['T_ID']=='LT']\n",
    "SK_PPS_19=PPS_19[PPS_19['T_ID']=='SK']\n",
    "HH_PPS_19=PPS_19[PPS_19['T_ID']=='HH']"
   ]
  },
  {
   "cell_type": "code",
   "execution_count": 50,
   "metadata": {},
   "outputs": [
    {
     "data": {
      "text/html": [
       "<div>\n",
       "<style scoped>\n",
       "    .dataframe tbody tr th:only-of-type {\n",
       "        vertical-align: middle;\n",
       "    }\n",
       "\n",
       "    .dataframe tbody tr th {\n",
       "        vertical-align: top;\n",
       "    }\n",
       "\n",
       "    .dataframe thead th {\n",
       "        text-align: right;\n",
       "    }\n",
       "</style>\n",
       "<table border=\"1\" class=\"dataframe\">\n",
       "  <thead>\n",
       "    <tr style=\"text-align: right;\">\n",
       "      <th>START_CK</th>\n",
       "      <th>1</th>\n",
       "    </tr>\n",
       "    <tr>\n",
       "      <th>P_ID</th>\n",
       "      <th></th>\n",
       "    </tr>\n",
       "  </thead>\n",
       "  <tbody>\n",
       "    <tr>\n",
       "      <th>60263</th>\n",
       "      <td>23</td>\n",
       "    </tr>\n",
       "    <tr>\n",
       "      <th>63936</th>\n",
       "      <td>1</td>\n",
       "    </tr>\n",
       "    <tr>\n",
       "      <th>63991</th>\n",
       "      <td>18</td>\n",
       "    </tr>\n",
       "    <tr>\n",
       "      <th>65933</th>\n",
       "      <td>19</td>\n",
       "    </tr>\n",
       "    <tr>\n",
       "      <th>66920</th>\n",
       "      <td>15</td>\n",
       "    </tr>\n",
       "    <tr>\n",
       "      <th>66960</th>\n",
       "      <td>1</td>\n",
       "    </tr>\n",
       "    <tr>\n",
       "      <th>68900</th>\n",
       "      <td>10</td>\n",
       "    </tr>\n",
       "    <tr>\n",
       "      <th>69934</th>\n",
       "      <td>13</td>\n",
       "    </tr>\n",
       "    <tr>\n",
       "      <th>69940</th>\n",
       "      <td>30</td>\n",
       "    </tr>\n",
       "    <tr>\n",
       "      <th>69953</th>\n",
       "      <td>12</td>\n",
       "    </tr>\n",
       "    <tr>\n",
       "      <th>69962</th>\n",
       "      <td>1</td>\n",
       "    </tr>\n",
       "    <tr>\n",
       "      <th>76757</th>\n",
       "      <td>1</td>\n",
       "    </tr>\n",
       "  </tbody>\n",
       "</table>\n",
       "</div>"
      ],
      "text/plain": [
       "START_CK   1\n",
       "P_ID        \n",
       "60263     23\n",
       "63936      1\n",
       "63991     18\n",
       "65933     19\n",
       "66920     15\n",
       "66960      1\n",
       "68900     10\n",
       "69934     13\n",
       "69940     30\n",
       "69953     12\n",
       "69962      1\n",
       "76757      1"
      ]
     },
     "execution_count": 50,
     "metadata": {},
     "output_type": "execute_result"
    }
   ],
   "source": [
    "# NC\n",
    "pd.crosstab(NC_PPS_19.P_ID,NC_PPS_19.START_CK)"
   ]
  },
  {
   "cell_type": "code",
   "execution_count": 52,
   "metadata": {},
   "outputs": [],
   "source": [
    "# NC 선발투수\n",
    "NC_S_1=NC_PPS_19[NC_PPS_19['P_ID']==69940]\n",
    "NC_S_2=NC_PPS_19[NC_PPS_19['P_ID']==60263]\n",
    "NC_S_3=NC_PPS_19[NC_PPS_19['P_ID']==65933]\n",
    "NC_S_4=NC_PPS_19[NC_PPS_19['P_ID']==63991]\n",
    "NC_S_5=NC_PPS_19[NC_PPS_19['P_ID']==66920]"
   ]
  },
  {
   "cell_type": "code",
   "execution_count": 97,
   "metadata": {},
   "outputs": [
    {
     "data": {
      "text/html": [
       "<div>\n",
       "<style scoped>\n",
       "    .dataframe tbody tr th:only-of-type {\n",
       "        vertical-align: middle;\n",
       "    }\n",
       "\n",
       "    .dataframe tbody tr th {\n",
       "        vertical-align: top;\n",
       "    }\n",
       "\n",
       "    .dataframe thead th {\n",
       "        text-align: right;\n",
       "    }\n",
       "</style>\n",
       "<table border=\"1\" class=\"dataframe\">\n",
       "  <thead>\n",
       "    <tr style=\"text-align: right;\">\n",
       "      <th>START_CK</th>\n",
       "      <th>1</th>\n",
       "    </tr>\n",
       "    <tr>\n",
       "      <th>P_ID</th>\n",
       "      <th></th>\n",
       "    </tr>\n",
       "  </thead>\n",
       "  <tbody>\n",
       "    <tr>\n",
       "      <th>61214</th>\n",
       "      <td>8</td>\n",
       "    </tr>\n",
       "    <tr>\n",
       "      <th>65543</th>\n",
       "      <td>30</td>\n",
       "    </tr>\n",
       "    <tr>\n",
       "      <th>66291</th>\n",
       "      <td>27</td>\n",
       "    </tr>\n",
       "    <tr>\n",
       "      <th>67263</th>\n",
       "      <td>3</td>\n",
       "    </tr>\n",
       "    <tr>\n",
       "      <th>68240</th>\n",
       "      <td>22</td>\n",
       "    </tr>\n",
       "    <tr>\n",
       "      <th>77211</th>\n",
       "      <td>26</td>\n",
       "    </tr>\n",
       "    <tr>\n",
       "      <th>78247</th>\n",
       "      <td>1</td>\n",
       "    </tr>\n",
       "    <tr>\n",
       "      <th>79229</th>\n",
       "      <td>27</td>\n",
       "    </tr>\n",
       "  </tbody>\n",
       "</table>\n",
       "</div>"
      ],
      "text/plain": [
       "START_CK   1\n",
       "P_ID        \n",
       "61214      8\n",
       "65543     30\n",
       "66291     27\n",
       "67263      3\n",
       "68240     22\n",
       "77211     26\n",
       "78247      1\n",
       "79229     27"
      ]
     },
     "execution_count": 97,
     "metadata": {},
     "output_type": "execute_result"
    }
   ],
   "source": [
    "# OB\n",
    "pd.crosstab(OB_PPS_19.P_ID,OB_PPS_19.START_CK)"
   ]
  },
  {
   "cell_type": "code",
   "execution_count": null,
   "metadata": {},
   "outputs": [],
   "source": []
  },
  {
   "cell_type": "code",
   "execution_count": null,
   "metadata": {},
   "outputs": [],
   "source": []
  },
  {
   "cell_type": "code",
   "execution_count": null,
   "metadata": {},
   "outputs": [],
   "source": []
  },
  {
   "cell_type": "code",
   "execution_count": null,
   "metadata": {},
   "outputs": [],
   "source": []
  },
  {
   "cell_type": "code",
   "execution_count": null,
   "metadata": {},
   "outputs": [],
   "source": []
  },
  {
   "cell_type": "markdown",
   "metadata": {},
   "source": [
    "#### 2019 NC 누적 ERA"
   ]
  },
  {
   "cell_type": "code",
   "execution_count": 87,
   "metadata": {
    "scrolled": true
   },
   "outputs": [],
   "source": [
    "# NC 루친스키(69940)\n",
    "NC_S_1['ER_sum']=np.cumsum(NC_S_1.ER)\n",
    "NC_S_1['INN2_sum']=np.cumsum(NC_S_1.INN2)\n",
    "\n",
    "NC_S_1['ERA_sum']=(NC_S_1['ER_sum']*9)/(NC_S_1['INN2_sum']/3)"
   ]
  },
  {
   "cell_type": "code",
   "execution_count": 88,
   "metadata": {
    "scrolled": true
   },
   "outputs": [
    {
     "data": {
      "image/png": "[encoded data removed]",
      "text/plain": [
       "<Figure size 432x288 with 1 Axes>"
      ]
     },
     "metadata": {
      "needs_background": "light"
     },
     "output_type": "display_data"
    }
   ],
   "source": [
    "x1=['1','2','3','4','5','6','7','8','9','10','11','12','13','14','15','16','17','18','19','20','21','22','23','24','25','26','27','28','29','30']\n",
    "y1=NC_S_1['ERA_sum']\n",
    "\n",
    "plt.plot(x1,y1)\n",
    "plt.show()"
   ]
  },
  {
   "cell_type": "code",
   "execution_count": 89,
   "metadata": {},
   "outputs": [],
   "source": [
    "# NC 이재학(60263)\n",
    "NC_S_2['ER_sum']=np.cumsum(NC_S_2.ER)\n",
    "NC_S_2['INN2_sum']=np.cumsum(NC_S_2.INN2)\n",
    "\n",
    "NC_S_2['ERA_sum']=(NC_S_2['ER_sum']*9)/(NC_S_2['INN2_sum']/3)"
   ]
  },
  {
   "cell_type": "code",
   "execution_count": 80,
   "metadata": {},
   "outputs": [
    {
     "data": {
      "image/png": "[encoded data removed]",
      "text/plain": [
       "<Figure size 432x288 with 1 Axes>"
      ]
     },
     "metadata": {
      "needs_background": "light"
     },
     "output_type": "display_data"
    }
   ],
   "source": [
    "x1=['1','2','3','4','5','6','7','8','9','10','11','12','13','14','15','16','17','18','19','20','21','22','23']\n",
    "y1=NC_S_2['ERA_sum']\n",
    "\n",
    "plt.plot(x1,y1)\n",
    "plt.show()"
   ]
  },
  {
   "cell_type": "code",
   "execution_count": 90,
   "metadata": {},
   "outputs": [],
   "source": [
    "# NC 구창모(65933)\n",
    "NC_S_3['ER_sum']=np.cumsum(NC_S_3.ER)\n",
    "NC_S_3['INN2_sum']=np.cumsum(NC_S_3.INN2)\n",
    "\n",
    "NC_S_3['ERA_sum']=(NC_S_3['ER_sum']*9)/(NC_S_3['INN2_sum']/3)"
   ]
  },
  {
   "cell_type": "code",
   "execution_count": 91,
   "metadata": {
    "scrolled": true
   },
   "outputs": [
    {
     "data": {
      "image/png": "[encoded data removed]",
      "text/plain": [
       "<Figure size 432x288 with 1 Axes>"
      ]
     },
     "metadata": {
      "needs_background": "light"
     },
     "output_type": "display_data"
    }
   ],
   "source": [
    "x1=['1','2','3','4','5','6','7','8','9','10','11','12','13','14','15','16','17','18','19']\n",
    "y1=NC_S_3['ERA_sum']\n",
    "\n",
    "plt.plot(x1,y1)\n",
    "plt.show()"
   ]
  },
  {
   "cell_type": "code",
   "execution_count": 92,
   "metadata": {},
   "outputs": [],
   "source": [
    "# NC 박진우(63991)\n",
    "NC_S_4['ER_sum']=np.cumsum(NC_S_4.ER)\n",
    "NC_S_4['INN2_sum']=np.cumsum(NC_S_4.INN2)\n",
    "\n",
    "NC_S_4['ERA_sum']=(NC_S_4['ER_sum']*9)/(NC_S_4['INN2_sum']/3)"
   ]
  },
  {
   "cell_type": "code",
   "execution_count": 93,
   "metadata": {},
   "outputs": [
    {
     "data": {
      "image/png": "[encoded data removed]",
      "text/plain": [
       "<Figure size 432x288 with 1 Axes>"
      ]
     },
     "metadata": {
      "needs_background": "light"
     },
     "output_type": "display_data"
    }
   ],
   "source": [
    "x1=['1','2','3','4','5','6','7','8','9','10','11','12','13','14','15','16','17','18']\n",
    "y1=NC_S_4['ERA_sum']\n",
    "\n",
    "plt.plot(x1,y1)\n",
    "plt.show()"
   ]
  },
  {
   "cell_type": "code",
   "execution_count": 94,
   "metadata": {},
   "outputs": [],
   "source": [
    "# NC 최성영(66920)\n",
    "NC_S_5['ER_sum']=np.cumsum(NC_S_5.ER)\n",
    "NC_S_5['INN2_sum']=np.cumsum(NC_S_5.INN2)\n",
    "\n",
    "NC_S_5['ERA_sum']=(NC_S_5['ER_sum']*9)/(NC_S_5['INN2_sum']/3)"
   ]
  },
  {
   "cell_type": "code",
   "execution_count": 96,
   "metadata": {},
   "outputs": [
    {
     "data": {
      "image/png": "[encoded data removed]",
      "text/plain": [
       "<Figure size 432x288 with 1 Axes>"
      ]
     },
     "metadata": {
      "needs_background": "light"
     },
     "output_type": "display_data"
    }
   ],
   "source": [
    "x1=['1','2','3','4','5','6','7','8','9','10','11','12','13','14','15']\n",
    "y1=NC_S_5['ERA_sum']\n",
    "\n",
    "plt.plot(x1,y1)\n",
    "plt.show()"
   ]
  },
  {
   "cell_type": "markdown",
   "metadata": {},
   "source": [
    "#### 2019 NC 경기별 ERA"
   ]
  },
  {
   "cell_type": "code",
   "execution_count": 63,
   "metadata": {
    "scrolled": true
   },
   "outputs": [
    {
     "data": {
      "image/png": "[encoded data removed]",
      "text/plain": [
       "<Figure size 432x288 with 1 Axes>"
      ]
     },
     "metadata": {
      "needs_background": "light"
     },
     "output_type": "display_data"
    }
   ],
   "source": [
    "# NC (루친스키, 이재학, 구창모, 박진우, 최성영)\n",
    "x1=['1','2','3','4','5','6','7','8','9','10','11','12','13','14','15','16','17','18','19','20','21','22','23','24','25','26','27','28','29','30']\n",
    "y1=NC_S_1['ERA']\n",
    "x2=['1','2','3','4','5','6','7','8','9','10','11','12','13','14','15','16','17','18','19','20','21','22','23']\n",
    "y2=NC_S_2['ERA']\n",
    "x3=['1','2','3','4','5','6','7','8','9','10','11','12','13','14','15','16','17','18','19']\n",
    "y3=NC_S_3['ERA']\n",
    "x4=['1','2','3','4','5','6','7','8','9','10','11','12','13','14','15','16','17','18']\n",
    "y4=NC_S_4['ERA']\n",
    "x5=['1','2','3','4','5','6','7','8','9','10','11','12','13','14','15']\n",
    "y5=NC_S_5['ERA']\n",
    "\n",
    "plt.plot(x1,y1)\n",
    "plt.plot(x2,y2)\n",
    "plt.plot(x3,y3)\n",
    "plt.plot(x4,y4)\n",
    "plt.plot(x5,y5)\n",
    "\n",
    "plt.legend(['69940','60263','65933','63991','66920'])\n",
    "plt.show()"
   ]
  },
  {
   "cell_type": "markdown",
   "metadata": {},
   "source": [
    "#### 2019 NC 선발투수 자책점"
   ]
  },
  {
   "cell_type": "code",
   "execution_count": 103,
   "metadata": {},
   "outputs": [
    {
     "data": {
      "image/png": "[encoded data removed]",
      "text/plain": [
       "<Figure size 432x288 with 1 Axes>"
      ]
     },
     "metadata": {
      "needs_background": "light"
     },
     "output_type": "display_data"
    }
   ],
   "source": [
    "sns.boxplot(x='P_ID',y='ER',data=NC_PPS_19)\n",
    "means=NC_PPS_19.groupby('P_ID').ER.mean()\n",
    "pylab.scatter([0,1,2,3,4,5,6,7,8,9,10,11],means)\n",
    "plt.show()"
   ]
  },
  {
   "cell_type": "code",
   "execution_count": 99,
   "metadata": {},
   "outputs": [
    {
     "data": {
      "image/png": "[encoded data removed]",
      "text/plain": [
       "<Figure size 432x288 with 1 Axes>"
      ]
     },
     "metadata": {
      "needs_background": "light"
     },
     "output_type": "display_data"
    }
   ],
   "source": [
    "sns.boxplot(x='P_ID',y='ERA',data=NC_PPS_19)\n",
    "plt.show()"
   ]
  },
  {
   "cell_type": "code",
   "execution_count": null,
   "metadata": {},
   "outputs": [],
   "source": []
  }
 ],
 "metadata": {
  "kernelspec": {
   "display_name": "Python 3",
   "language": "python",
   "name": "python3"
  },
  "language_info": {
   "codemirror_mode": {
    "name": "ipython",
    "version": 3
   },
   "file_extension": ".py",
   "mimetype": "text/x-python",
   "name": "python",
   "nbconvert_exporter": "python",
   "pygments_lexer": "ipython3",
   "version": "3.7.9"
  }
 },
 "nbformat": 4,
 "nbformat_minor": 4
}
