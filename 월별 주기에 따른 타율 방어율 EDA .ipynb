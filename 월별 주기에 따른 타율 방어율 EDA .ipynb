{
 "cells": [
  {
   "cell_type": "code",
   "execution_count": 1,
   "metadata": {},
   "outputs": [],
   "source": [
    "import pandas as pd\n",
    "import numpy as np\n",
    "import matplotlib.pyplot as plt\n",
    "import seaborn as sns\n",
    "import pylab"
   ]
  },
  {
   "cell_type": "code",
   "execution_count": 2,
   "metadata": {},
   "outputs": [],
   "source": [
    "T_H_16 = pd.read_csv('C:/Users/dudco/Desktop/2020bigcontest/2020_bigcontest_data/T_H_2016.csv',encoding='CP949')\n",
    "T_H_17 = pd.read_csv('C:/Users/dudco/Desktop/2020bigcontest/2020_bigcontest_data/T_H_2017.csv',encoding='CP949')\n",
    "T_H_18 = pd.read_csv('C:/Users/dudco/Desktop/2020bigcontest/2020_bigcontest_data/T_H_2018.csv',encoding='CP949')\n",
    "T_H_19 = pd.read_csv('C:/Users/dudco/Desktop/2020bigcontest/2020_bigcontest_data/T_H_2019.csv',encoding='CP949')\n",
    "T_H_20 = pd.read_csv('C:/Users/dudco/Desktop/2020bigcontest/2020_bigcontest_data/T_H_2020.csv',encoding='CP949')\n",
    "\n",
    "T_P_16 = pd.read_csv('C:/Users/dudco/Desktop/2020bigcontest/2020_bigcontest_data/T_P_2016.csv',encoding='CP949')\n",
    "T_P_17 = pd.read_csv('C:/Users/dudco/Desktop/2020bigcontest/2020_bigcontest_data/T_P_2017.csv',encoding='CP949')\n",
    "T_P_18 = pd.read_csv('C:/Users/dudco/Desktop/2020bigcontest/2020_bigcontest_data/T_P_2018.csv',encoding='CP949')\n",
    "T_P_19 = pd.read_csv('C:/Users/dudco/Desktop/2020bigcontest/2020_bigcontest_data/T_P_2019.csv',encoding='CP949')\n",
    "T_P_20 = pd.read_csv('C:/Users/dudco/Desktop/2020bigcontest/2020_bigcontest_data/T_P_2020.csv',encoding='CP949')"
   ]
  },
  {
   "cell_type": "code",
   "execution_count": 3,
   "metadata": {},
   "outputs": [
    {
     "data": {
      "text/html": [
       "<div>\n",
       "<style scoped>\n",
       "    .dataframe tbody tr th:only-of-type {\n",
       "        vertical-align: middle;\n",
       "    }\n",
       "\n",
       "    .dataframe tbody tr th {\n",
       "        vertical-align: top;\n",
       "    }\n",
       "\n",
       "    .dataframe thead th {\n",
       "        text-align: right;\n",
       "    }\n",
       "</style>\n",
       "<table border=\"1\" class=\"dataframe\">\n",
       "  <thead>\n",
       "    <tr style=\"text-align: right;\">\n",
       "      <th></th>\n",
       "      <th>G_ID</th>\n",
       "      <th>GDAY_DS</th>\n",
       "      <th>T_ID</th>\n",
       "      <th>VS_T_ID</th>\n",
       "      <th>HEADER_NO</th>\n",
       "      <th>TB_SC</th>\n",
       "      <th>PA</th>\n",
       "      <th>AB</th>\n",
       "      <th>RBI</th>\n",
       "      <th>RUN</th>\n",
       "      <th>...</th>\n",
       "      <th>BB</th>\n",
       "      <th>IB</th>\n",
       "      <th>HP</th>\n",
       "      <th>KK</th>\n",
       "      <th>GD</th>\n",
       "      <th>ERR</th>\n",
       "      <th>LOB</th>\n",
       "      <th>P_HRA_RT</th>\n",
       "      <th>P_AB_CN</th>\n",
       "      <th>P_HIT_CN</th>\n",
       "    </tr>\n",
       "  </thead>\n",
       "  <tbody>\n",
       "    <tr>\n",
       "      <th>0</th>\n",
       "      <td>20160401HHLG0</td>\n",
       "      <td>20160401</td>\n",
       "      <td>LG</td>\n",
       "      <td>HH</td>\n",
       "      <td>0</td>\n",
       "      <td>B</td>\n",
       "      <td>47</td>\n",
       "      <td>42</td>\n",
       "      <td>4</td>\n",
       "      <td>5</td>\n",
       "      <td>...</td>\n",
       "      <td>4</td>\n",
       "      <td>0</td>\n",
       "      <td>0</td>\n",
       "      <td>11</td>\n",
       "      <td>0</td>\n",
       "      <td>0</td>\n",
       "      <td>8</td>\n",
       "      <td>0.333333</td>\n",
       "      <td>12</td>\n",
       "      <td>4</td>\n",
       "    </tr>\n",
       "    <tr>\n",
       "      <th>1</th>\n",
       "      <td>20160401HHLG0</td>\n",
       "      <td>20160401</td>\n",
       "      <td>HH</td>\n",
       "      <td>LG</td>\n",
       "      <td>0</td>\n",
       "      <td>T</td>\n",
       "      <td>52</td>\n",
       "      <td>46</td>\n",
       "      <td>4</td>\n",
       "      <td>4</td>\n",
       "      <td>...</td>\n",
       "      <td>3</td>\n",
       "      <td>0</td>\n",
       "      <td>0</td>\n",
       "      <td>10</td>\n",
       "      <td>1</td>\n",
       "      <td>2</td>\n",
       "      <td>12</td>\n",
       "      <td>0.200000</td>\n",
       "      <td>15</td>\n",
       "      <td>3</td>\n",
       "    </tr>\n",
       "    <tr>\n",
       "      <th>2</th>\n",
       "      <td>20160401HTNC0</td>\n",
       "      <td>20160401</td>\n",
       "      <td>NC</td>\n",
       "      <td>HT</td>\n",
       "      <td>0</td>\n",
       "      <td>B</td>\n",
       "      <td>36</td>\n",
       "      <td>30</td>\n",
       "      <td>5</td>\n",
       "      <td>5</td>\n",
       "      <td>...</td>\n",
       "      <td>5</td>\n",
       "      <td>0</td>\n",
       "      <td>0</td>\n",
       "      <td>9</td>\n",
       "      <td>1</td>\n",
       "      <td>1</td>\n",
       "      <td>7</td>\n",
       "      <td>0.142857</td>\n",
       "      <td>7</td>\n",
       "      <td>1</td>\n",
       "    </tr>\n",
       "    <tr>\n",
       "      <th>3</th>\n",
       "      <td>20160401HTNC0</td>\n",
       "      <td>20160401</td>\n",
       "      <td>HT</td>\n",
       "      <td>NC</td>\n",
       "      <td>0</td>\n",
       "      <td>T</td>\n",
       "      <td>38</td>\n",
       "      <td>34</td>\n",
       "      <td>3</td>\n",
       "      <td>4</td>\n",
       "      <td>...</td>\n",
       "      <td>3</td>\n",
       "      <td>0</td>\n",
       "      <td>1</td>\n",
       "      <td>10</td>\n",
       "      <td>1</td>\n",
       "      <td>0</td>\n",
       "      <td>7</td>\n",
       "      <td>0.100000</td>\n",
       "      <td>10</td>\n",
       "      <td>1</td>\n",
       "    </tr>\n",
       "    <tr>\n",
       "      <th>4</th>\n",
       "      <td>20160401KTSK0</td>\n",
       "      <td>20160401</td>\n",
       "      <td>SK</td>\n",
       "      <td>KT</td>\n",
       "      <td>0</td>\n",
       "      <td>B</td>\n",
       "      <td>36</td>\n",
       "      <td>36</td>\n",
       "      <td>4</td>\n",
       "      <td>4</td>\n",
       "      <td>...</td>\n",
       "      <td>0</td>\n",
       "      <td>0</td>\n",
       "      <td>0</td>\n",
       "      <td>7</td>\n",
       "      <td>1</td>\n",
       "      <td>1</td>\n",
       "      <td>5</td>\n",
       "      <td>0.375000</td>\n",
       "      <td>8</td>\n",
       "      <td>3</td>\n",
       "    </tr>\n",
       "    <tr>\n",
       "      <th>...</th>\n",
       "      <td>...</td>\n",
       "      <td>...</td>\n",
       "      <td>...</td>\n",
       "      <td>...</td>\n",
       "      <td>...</td>\n",
       "      <td>...</td>\n",
       "      <td>...</td>\n",
       "      <td>...</td>\n",
       "      <td>...</td>\n",
       "      <td>...</td>\n",
       "      <td>...</td>\n",
       "      <td>...</td>\n",
       "      <td>...</td>\n",
       "      <td>...</td>\n",
       "      <td>...</td>\n",
       "      <td>...</td>\n",
       "      <td>...</td>\n",
       "      <td>...</td>\n",
       "      <td>...</td>\n",
       "      <td>...</td>\n",
       "      <td>...</td>\n",
       "    </tr>\n",
       "    <tr>\n",
       "      <th>1435</th>\n",
       "      <td>20161008SSSK0</td>\n",
       "      <td>20161008</td>\n",
       "      <td>SS</td>\n",
       "      <td>SK</td>\n",
       "      <td>0</td>\n",
       "      <td>T</td>\n",
       "      <td>39</td>\n",
       "      <td>36</td>\n",
       "      <td>5</td>\n",
       "      <td>6</td>\n",
       "      <td>...</td>\n",
       "      <td>3</td>\n",
       "      <td>0</td>\n",
       "      <td>0</td>\n",
       "      <td>4</td>\n",
       "      <td>1</td>\n",
       "      <td>2</td>\n",
       "      <td>6</td>\n",
       "      <td>0.250000</td>\n",
       "      <td>8</td>\n",
       "      <td>2</td>\n",
       "    </tr>\n",
       "    <tr>\n",
       "      <th>1436</th>\n",
       "      <td>20161009KTNC0</td>\n",
       "      <td>20161009</td>\n",
       "      <td>NC</td>\n",
       "      <td>KT</td>\n",
       "      <td>0</td>\n",
       "      <td>B</td>\n",
       "      <td>41</td>\n",
       "      <td>39</td>\n",
       "      <td>3</td>\n",
       "      <td>4</td>\n",
       "      <td>...</td>\n",
       "      <td>1</td>\n",
       "      <td>0</td>\n",
       "      <td>1</td>\n",
       "      <td>13</td>\n",
       "      <td>0</td>\n",
       "      <td>0</td>\n",
       "      <td>10</td>\n",
       "      <td>0.111111</td>\n",
       "      <td>18</td>\n",
       "      <td>2</td>\n",
       "    </tr>\n",
       "    <tr>\n",
       "      <th>1437</th>\n",
       "      <td>20161009KTNC0</td>\n",
       "      <td>20161009</td>\n",
       "      <td>KT</td>\n",
       "      <td>NC</td>\n",
       "      <td>0</td>\n",
       "      <td>T</td>\n",
       "      <td>43</td>\n",
       "      <td>38</td>\n",
       "      <td>5</td>\n",
       "      <td>7</td>\n",
       "      <td>...</td>\n",
       "      <td>3</td>\n",
       "      <td>0</td>\n",
       "      <td>0</td>\n",
       "      <td>7</td>\n",
       "      <td>0</td>\n",
       "      <td>0</td>\n",
       "      <td>9</td>\n",
       "      <td>0.100000</td>\n",
       "      <td>10</td>\n",
       "      <td>1</td>\n",
       "    </tr>\n",
       "    <tr>\n",
       "      <th>1438</th>\n",
       "      <td>20161009WOLT0</td>\n",
       "      <td>20161009</td>\n",
       "      <td>LT</td>\n",
       "      <td>WO</td>\n",
       "      <td>0</td>\n",
       "      <td>B</td>\n",
       "      <td>38</td>\n",
       "      <td>36</td>\n",
       "      <td>8</td>\n",
       "      <td>8</td>\n",
       "      <td>...</td>\n",
       "      <td>1</td>\n",
       "      <td>0</td>\n",
       "      <td>1</td>\n",
       "      <td>4</td>\n",
       "      <td>2</td>\n",
       "      <td>0</td>\n",
       "      <td>6</td>\n",
       "      <td>0.416667</td>\n",
       "      <td>12</td>\n",
       "      <td>5</td>\n",
       "    </tr>\n",
       "    <tr>\n",
       "      <th>1439</th>\n",
       "      <td>20161009WOLT0</td>\n",
       "      <td>20161009</td>\n",
       "      <td>WO</td>\n",
       "      <td>LT</td>\n",
       "      <td>0</td>\n",
       "      <td>T</td>\n",
       "      <td>38</td>\n",
       "      <td>33</td>\n",
       "      <td>5</td>\n",
       "      <td>5</td>\n",
       "      <td>...</td>\n",
       "      <td>3</td>\n",
       "      <td>0</td>\n",
       "      <td>0</td>\n",
       "      <td>6</td>\n",
       "      <td>1</td>\n",
       "      <td>3</td>\n",
       "      <td>6</td>\n",
       "      <td>0.428571</td>\n",
       "      <td>7</td>\n",
       "      <td>3</td>\n",
       "    </tr>\n",
       "  </tbody>\n",
       "</table>\n",
       "<p>1440 rows × 28 columns</p>\n",
       "</div>"
      ],
      "text/plain": [
       "               G_ID   GDAY_DS T_ID VS_T_ID  HEADER_NO TB_SC  PA  AB  RBI  RUN  \\\n",
       "0     20160401HHLG0  20160401   LG      HH          0     B  47  42    4    5   \n",
       "1     20160401HHLG0  20160401   HH      LG          0     T  52  46    4    4   \n",
       "2     20160401HTNC0  20160401   NC      HT          0     B  36  30    5    5   \n",
       "3     20160401HTNC0  20160401   HT      NC          0     T  38  34    3    4   \n",
       "4     20160401KTSK0  20160401   SK      KT          0     B  36  36    4    4   \n",
       "...             ...       ...  ...     ...        ...   ...  ..  ..  ...  ...   \n",
       "1435  20161008SSSK0  20161008   SS      SK          0     T  39  36    5    6   \n",
       "1436  20161009KTNC0  20161009   NC      KT          0     B  41  39    3    4   \n",
       "1437  20161009KTNC0  20161009   KT      NC          0     T  43  38    5    7   \n",
       "1438  20161009WOLT0  20161009   LT      WO          0     B  38  36    8    8   \n",
       "1439  20161009WOLT0  20161009   WO      LT          0     T  38  33    5    5   \n",
       "\n",
       "      ...  BB  IB  HP  KK  GD  ERR  LOB  P_HRA_RT  P_AB_CN  P_HIT_CN  \n",
       "0     ...   4   0   0  11   0    0    8  0.333333       12         4  \n",
       "1     ...   3   0   0  10   1    2   12  0.200000       15         3  \n",
       "2     ...   5   0   0   9   1    1    7  0.142857        7         1  \n",
       "3     ...   3   0   1  10   1    0    7  0.100000       10         1  \n",
       "4     ...   0   0   0   7   1    1    5  0.375000        8         3  \n",
       "...   ...  ..  ..  ..  ..  ..  ...  ...       ...      ...       ...  \n",
       "1435  ...   3   0   0   4   1    2    6  0.250000        8         2  \n",
       "1436  ...   1   0   1  13   0    0   10  0.111111       18         2  \n",
       "1437  ...   3   0   0   7   0    0    9  0.100000       10         1  \n",
       "1438  ...   1   0   1   4   2    0    6  0.416667       12         5  \n",
       "1439  ...   3   0   0   6   1    3    6  0.428571        7         3  \n",
       "\n",
       "[1440 rows x 28 columns]"
      ]
     },
     "execution_count": 3,
     "metadata": {},
     "output_type": "execute_result"
    }
   ],
   "source": [
    "T_H_16"
   ]
  },
  {
   "cell_type": "code",
   "execution_count": 4,
   "metadata": {},
   "outputs": [],
   "source": [
    "TH = pd.concat([T_H_16, T_H_17, T_H_18, T_H_19, T_H_20])\n",
    "TP = pd.concat([T_P_16, T_P_17, T_P_18, T_P_19, T_P_20])\n",
    "\n",
    "TH.reset_index(drop=True, inplace=True)\n",
    "TP.reset_index(drop=True, inplace=True)"
   ]
  },
  {
   "cell_type": "code",
   "execution_count": 5,
   "metadata": {},
   "outputs": [],
   "source": [
    "TH = TH[['GDAY_DS','T_ID','AB','HIT','RUN','BB']]\n",
    "TP = TP[['GDAY_DS','T_ID','INN2','ER','R','KK']]"
   ]
  },
  {
   "cell_type": "code",
   "execution_count": 6,
   "metadata": {},
   "outputs": [
    {
     "data": {
      "text/html": [
       "<div>\n",
       "<style scoped>\n",
       "    .dataframe tbody tr th:only-of-type {\n",
       "        vertical-align: middle;\n",
       "    }\n",
       "\n",
       "    .dataframe tbody tr th {\n",
       "        vertical-align: top;\n",
       "    }\n",
       "\n",
       "    .dataframe thead th {\n",
       "        text-align: right;\n",
       "    }\n",
       "</style>\n",
       "<table border=\"1\" class=\"dataframe\">\n",
       "  <thead>\n",
       "    <tr style=\"text-align: right;\">\n",
       "      <th></th>\n",
       "      <th>GDAY_DS</th>\n",
       "      <th>T_ID</th>\n",
       "      <th>AB</th>\n",
       "      <th>HIT</th>\n",
       "      <th>RUN</th>\n",
       "      <th>BB</th>\n",
       "      <th>AVG</th>\n",
       "    </tr>\n",
       "  </thead>\n",
       "  <tbody>\n",
       "    <tr>\n",
       "      <th>0</th>\n",
       "      <td>20160401</td>\n",
       "      <td>LG</td>\n",
       "      <td>42</td>\n",
       "      <td>9</td>\n",
       "      <td>5</td>\n",
       "      <td>4</td>\n",
       "      <td>0.214286</td>\n",
       "    </tr>\n",
       "    <tr>\n",
       "      <th>1</th>\n",
       "      <td>20160401</td>\n",
       "      <td>HH</td>\n",
       "      <td>46</td>\n",
       "      <td>13</td>\n",
       "      <td>4</td>\n",
       "      <td>3</td>\n",
       "      <td>0.282609</td>\n",
       "    </tr>\n",
       "    <tr>\n",
       "      <th>2</th>\n",
       "      <td>20160401</td>\n",
       "      <td>NC</td>\n",
       "      <td>30</td>\n",
       "      <td>9</td>\n",
       "      <td>5</td>\n",
       "      <td>5</td>\n",
       "      <td>0.300000</td>\n",
       "    </tr>\n",
       "    <tr>\n",
       "      <th>3</th>\n",
       "      <td>20160401</td>\n",
       "      <td>HT</td>\n",
       "      <td>34</td>\n",
       "      <td>8</td>\n",
       "      <td>4</td>\n",
       "      <td>3</td>\n",
       "      <td>0.235294</td>\n",
       "    </tr>\n",
       "    <tr>\n",
       "      <th>4</th>\n",
       "      <td>20160401</td>\n",
       "      <td>SK</td>\n",
       "      <td>36</td>\n",
       "      <td>10</td>\n",
       "      <td>4</td>\n",
       "      <td>0</td>\n",
       "      <td>0.277778</td>\n",
       "    </tr>\n",
       "    <tr>\n",
       "      <th>...</th>\n",
       "      <td>...</td>\n",
       "      <td>...</td>\n",
       "      <td>...</td>\n",
       "      <td>...</td>\n",
       "      <td>...</td>\n",
       "      <td>...</td>\n",
       "      <td>...</td>\n",
       "    </tr>\n",
       "    <tr>\n",
       "      <th>6395</th>\n",
       "      <td>20200719</td>\n",
       "      <td>LT</td>\n",
       "      <td>29</td>\n",
       "      <td>6</td>\n",
       "      <td>2</td>\n",
       "      <td>1</td>\n",
       "      <td>0.206897</td>\n",
       "    </tr>\n",
       "    <tr>\n",
       "      <th>6396</th>\n",
       "      <td>20200719</td>\n",
       "      <td>HT</td>\n",
       "      <td>32</td>\n",
       "      <td>8</td>\n",
       "      <td>4</td>\n",
       "      <td>6</td>\n",
       "      <td>0.250000</td>\n",
       "    </tr>\n",
       "    <tr>\n",
       "      <th>6397</th>\n",
       "      <td>20200719</td>\n",
       "      <td>OB</td>\n",
       "      <td>37</td>\n",
       "      <td>11</td>\n",
       "      <td>8</td>\n",
       "      <td>2</td>\n",
       "      <td>0.297297</td>\n",
       "    </tr>\n",
       "    <tr>\n",
       "      <th>6398</th>\n",
       "      <td>20200719</td>\n",
       "      <td>SK</td>\n",
       "      <td>30</td>\n",
       "      <td>6</td>\n",
       "      <td>4</td>\n",
       "      <td>7</td>\n",
       "      <td>0.200000</td>\n",
       "    </tr>\n",
       "    <tr>\n",
       "      <th>6399</th>\n",
       "      <td>20200719</td>\n",
       "      <td>WO</td>\n",
       "      <td>33</td>\n",
       "      <td>7</td>\n",
       "      <td>3</td>\n",
       "      <td>3</td>\n",
       "      <td>0.212121</td>\n",
       "    </tr>\n",
       "  </tbody>\n",
       "</table>\n",
       "<p>6400 rows × 7 columns</p>\n",
       "</div>"
      ],
      "text/plain": [
       "       GDAY_DS T_ID  AB  HIT  RUN  BB       AVG\n",
       "0     20160401   LG  42    9    5   4  0.214286\n",
       "1     20160401   HH  46   13    4   3  0.282609\n",
       "2     20160401   NC  30    9    5   5  0.300000\n",
       "3     20160401   HT  34    8    4   3  0.235294\n",
       "4     20160401   SK  36   10    4   0  0.277778\n",
       "...        ...  ...  ..  ...  ...  ..       ...\n",
       "6395  20200719   LT  29    6    2   1  0.206897\n",
       "6396  20200719   HT  32    8    4   6  0.250000\n",
       "6397  20200719   OB  37   11    8   2  0.297297\n",
       "6398  20200719   SK  30    6    4   7  0.200000\n",
       "6399  20200719   WO  33    7    3   3  0.212121\n",
       "\n",
       "[6400 rows x 7 columns]"
      ]
     },
     "execution_count": 6,
     "metadata": {},
     "output_type": "execute_result"
    }
   ],
   "source": [
    "TH['AVG']= TH['HIT']/TH['AB']\n",
    "TH"
   ]
  },
  {
   "cell_type": "code",
   "execution_count": 7,
   "metadata": {
    "scrolled": false
   },
   "outputs": [
    {
     "data": {
      "text/html": [
       "<div>\n",
       "<style scoped>\n",
       "    .dataframe tbody tr th:only-of-type {\n",
       "        vertical-align: middle;\n",
       "    }\n",
       "\n",
       "    .dataframe tbody tr th {\n",
       "        vertical-align: top;\n",
       "    }\n",
       "\n",
       "    .dataframe thead th {\n",
       "        text-align: right;\n",
       "    }\n",
       "</style>\n",
       "<table border=\"1\" class=\"dataframe\">\n",
       "  <thead>\n",
       "    <tr style=\"text-align: right;\">\n",
       "      <th></th>\n",
       "      <th>GDAY_DS</th>\n",
       "      <th>T_ID</th>\n",
       "      <th>INN2</th>\n",
       "      <th>ER</th>\n",
       "      <th>R</th>\n",
       "      <th>KK</th>\n",
       "      <th>ERA</th>\n",
       "    </tr>\n",
       "  </thead>\n",
       "  <tbody>\n",
       "    <tr>\n",
       "      <th>0</th>\n",
       "      <td>20160401</td>\n",
       "      <td>LG</td>\n",
       "      <td>36</td>\n",
       "      <td>4</td>\n",
       "      <td>4</td>\n",
       "      <td>10</td>\n",
       "      <td>0.111111</td>\n",
       "    </tr>\n",
       "    <tr>\n",
       "      <th>1</th>\n",
       "      <td>20160401</td>\n",
       "      <td>HH</td>\n",
       "      <td>34</td>\n",
       "      <td>4</td>\n",
       "      <td>5</td>\n",
       "      <td>11</td>\n",
       "      <td>0.117647</td>\n",
       "    </tr>\n",
       "    <tr>\n",
       "      <th>2</th>\n",
       "      <td>20160401</td>\n",
       "      <td>NC</td>\n",
       "      <td>27</td>\n",
       "      <td>4</td>\n",
       "      <td>4</td>\n",
       "      <td>10</td>\n",
       "      <td>0.148148</td>\n",
       "    </tr>\n",
       "    <tr>\n",
       "      <th>3</th>\n",
       "      <td>20160401</td>\n",
       "      <td>HT</td>\n",
       "      <td>24</td>\n",
       "      <td>5</td>\n",
       "      <td>5</td>\n",
       "      <td>9</td>\n",
       "      <td>0.208333</td>\n",
       "    </tr>\n",
       "    <tr>\n",
       "      <th>4</th>\n",
       "      <td>20160401</td>\n",
       "      <td>SK</td>\n",
       "      <td>27</td>\n",
       "      <td>8</td>\n",
       "      <td>8</td>\n",
       "      <td>7</td>\n",
       "      <td>0.296296</td>\n",
       "    </tr>\n",
       "    <tr>\n",
       "      <th>...</th>\n",
       "      <td>...</td>\n",
       "      <td>...</td>\n",
       "      <td>...</td>\n",
       "      <td>...</td>\n",
       "      <td>...</td>\n",
       "      <td>...</td>\n",
       "      <td>...</td>\n",
       "    </tr>\n",
       "    <tr>\n",
       "      <th>6395</th>\n",
       "      <td>20200719</td>\n",
       "      <td>LT</td>\n",
       "      <td>27</td>\n",
       "      <td>1</td>\n",
       "      <td>1</td>\n",
       "      <td>9</td>\n",
       "      <td>0.037037</td>\n",
       "    </tr>\n",
       "    <tr>\n",
       "      <th>6396</th>\n",
       "      <td>20200719</td>\n",
       "      <td>HT</td>\n",
       "      <td>27</td>\n",
       "      <td>8</td>\n",
       "      <td>8</td>\n",
       "      <td>4</td>\n",
       "      <td>0.296296</td>\n",
       "    </tr>\n",
       "    <tr>\n",
       "      <th>6397</th>\n",
       "      <td>20200719</td>\n",
       "      <td>OB</td>\n",
       "      <td>27</td>\n",
       "      <td>4</td>\n",
       "      <td>4</td>\n",
       "      <td>5</td>\n",
       "      <td>0.148148</td>\n",
       "    </tr>\n",
       "    <tr>\n",
       "      <th>6398</th>\n",
       "      <td>20200719</td>\n",
       "      <td>SK</td>\n",
       "      <td>27</td>\n",
       "      <td>3</td>\n",
       "      <td>3</td>\n",
       "      <td>4</td>\n",
       "      <td>0.111111</td>\n",
       "    </tr>\n",
       "    <tr>\n",
       "      <th>6399</th>\n",
       "      <td>20200719</td>\n",
       "      <td>WO</td>\n",
       "      <td>24</td>\n",
       "      <td>4</td>\n",
       "      <td>4</td>\n",
       "      <td>10</td>\n",
       "      <td>0.166667</td>\n",
       "    </tr>\n",
       "  </tbody>\n",
       "</table>\n",
       "<p>6400 rows × 7 columns</p>\n",
       "</div>"
      ],
      "text/plain": [
       "       GDAY_DS T_ID  INN2  ER  R  KK       ERA\n",
       "0     20160401   LG    36   4  4  10  0.111111\n",
       "1     20160401   HH    34   4  5  11  0.117647\n",
       "2     20160401   NC    27   4  4  10  0.148148\n",
       "3     20160401   HT    24   5  5   9  0.208333\n",
       "4     20160401   SK    27   8  8   7  0.296296\n",
       "...        ...  ...   ...  .. ..  ..       ...\n",
       "6395  20200719   LT    27   1  1   9  0.037037\n",
       "6396  20200719   HT    27   8  8   4  0.296296\n",
       "6397  20200719   OB    27   4  4   5  0.148148\n",
       "6398  20200719   SK    27   3  3   4  0.111111\n",
       "6399  20200719   WO    24   4  4  10  0.166667\n",
       "\n",
       "[6400 rows x 7 columns]"
      ]
     },
     "execution_count": 7,
     "metadata": {},
     "output_type": "execute_result"
    }
   ],
   "source": [
    "TP['ERA']=TP['ER']/TP['INN2']\n",
    "TP"
   ]
  },
  {
   "cell_type": "code",
   "execution_count": 8,
   "metadata": {},
   "outputs": [],
   "source": [
    "M=[\n",
    "    (TP['GDAY_DS']>=20160401 ) & (TP['GDAY_DS']< 20160501),\n",
    "    (TP['GDAY_DS']>=20160501 ) & (TP['GDAY_DS']< 20160601),\n",
    "    (TP['GDAY_DS']>=20160601 ) & (TP['GDAY_DS']< 20160701),\n",
    "    (TP['GDAY_DS']>=20160701 ) & (TP['GDAY_DS']< 20160801),\n",
    "    (TP['GDAY_DS']>=20160801 ) & (TP['GDAY_DS']< 20160901),\n",
    "    (TP['GDAY_DS']>=20160901 ) & (TP['GDAY_DS']< 20161001),\n",
    "    (TP['GDAY_DS']>=20161001 ) & (TP['GDAY_DS']< 20161101),\n",
    "    (TP['GDAY_DS']>=20170301 ) & (TP['GDAY_DS']< 20170401),\n",
    "    (TP['GDAY_DS']>=20170401 ) & (TP['GDAY_DS']< 20170501),\n",
    "    (TP['GDAY_DS']>=20170501 ) & (TP['GDAY_DS']< 20170601),\n",
    "    (TP['GDAY_DS']>=20170601 ) & (TP['GDAY_DS']< 20170701),\n",
    "    (TP['GDAY_DS']>=20170701 ) & (TP['GDAY_DS']< 20170801),\n",
    "    (TP['GDAY_DS']>=20170801 ) & (TP['GDAY_DS']< 20170901),\n",
    "    (TP['GDAY_DS']>=20170901 ) & (TP['GDAY_DS']< 20171001),\n",
    "    (TP['GDAY_DS']>=20171001 ) & (TP['GDAY_DS']< 20171101),\n",
    "    (TP['GDAY_DS']>=20180301 ) & (TP['GDAY_DS']< 20180401),\n",
    "    (TP['GDAY_DS']>=20180401 ) & (TP['GDAY_DS']< 20180501),\n",
    "    (TP['GDAY_DS']>=20180501 ) & (TP['GDAY_DS']< 20180601),\n",
    "    (TP['GDAY_DS']>=20180601 ) & (TP['GDAY_DS']< 20180701),\n",
    "    (TP['GDAY_DS']>=20180701 ) & (TP['GDAY_DS']< 20180801),\n",
    "    (TP['GDAY_DS']>=20180801 ) & (TP['GDAY_DS']< 20180901),\n",
    "    (TP['GDAY_DS']>=20180901 ) & (TP['GDAY_DS']< 20181001),\n",
    "    (TP['GDAY_DS']>=20181001 ) & (TP['GDAY_DS']< 20181101),\n",
    "    (TP['GDAY_DS']>=20190301 ) & (TP['GDAY_DS']< 20190401),\n",
    "    (TP['GDAY_DS']>=20190401 ) & (TP['GDAY_DS']< 20190501),\n",
    "    (TP['GDAY_DS']>=20190501 ) & (TP['GDAY_DS']< 20190601),\n",
    "    (TP['GDAY_DS']>=20190601 ) & (TP['GDAY_DS']< 20190701),\n",
    "    (TP['GDAY_DS']>=20190701 ) & (TP['GDAY_DS']< 20190801),\n",
    "    (TP['GDAY_DS']>=20190801 ) & (TP['GDAY_DS']< 20190901),\n",
    "    (TP['GDAY_DS']>=20190901 ) & (TP['GDAY_DS']< 20191001),\n",
    "    (TP['GDAY_DS']>=20191001 ) & (TP['GDAY_DS']< 20191101),\n",
    "    (TP['GDAY_DS']>=20200501 ) & (TP['GDAY_DS']< 20200601),\n",
    "    (TP['GDAY_DS']>=20200601 ) & (TP['GDAY_DS']< 20200701),\n",
    "    (TP['GDAY_DS']>=20200701 ) & (TP['GDAY_DS']< 20200720)\n",
    "]\n",
    "choicelist =[4,5,6,7,8,9,10,3,4,5,6,7,8,9,10,\n",
    "             3,4,5,6,7,8,9,10,3,4,5,6,7,8,9,10,5,6,7]\n",
    "TP['M']=np.select(M, choicelist)"
   ]
  },
  {
   "cell_type": "code",
   "execution_count": 9,
   "metadata": {},
   "outputs": [],
   "source": [
    "M=[\n",
    "    (TH['GDAY_DS']>=20160401 ) & (TH['GDAY_DS']< 20160501),\n",
    "    (TH['GDAY_DS']>=20160501 ) & (TH['GDAY_DS']< 20160601),\n",
    "    (TH['GDAY_DS']>=20160601 ) & (TH['GDAY_DS']< 20160701),\n",
    "    (TH['GDAY_DS']>=20160701 ) & (TH['GDAY_DS']< 20160801),\n",
    "    (TH['GDAY_DS']>=20160801 ) & (TH['GDAY_DS']< 20160901),\n",
    "    (TH['GDAY_DS']>=20160901 ) & (TH['GDAY_DS']< 20161001),\n",
    "    (TH['GDAY_DS']>=20161001 ) & (TH['GDAY_DS']< 20161101),\n",
    "    (TH['GDAY_DS']>=20170301 ) & (TH['GDAY_DS']< 20170401),\n",
    "    (TH['GDAY_DS']>=20170401 ) & (TH['GDAY_DS']< 20170501),\n",
    "    (TH['GDAY_DS']>=20170501 ) & (TH['GDAY_DS']< 20170601),\n",
    "    (TH['GDAY_DS']>=20170601 ) & (TH['GDAY_DS']< 20170701),\n",
    "    (TH['GDAY_DS']>=20170701 ) & (TH['GDAY_DS']< 20170801),\n",
    "    (TH['GDAY_DS']>=20170801 ) & (TH['GDAY_DS']< 20170901),\n",
    "    (TH['GDAY_DS']>=20170901 ) & (TH['GDAY_DS']< 20171001),\n",
    "    (TH['GDAY_DS']>=20171001 ) & (TH['GDAY_DS']< 20171101),\n",
    "    (TH['GDAY_DS']>=20180301 ) & (TH['GDAY_DS']< 20180401),\n",
    "    (TH['GDAY_DS']>=20180401 ) & (TH['GDAY_DS']< 20180501),\n",
    "    (TH['GDAY_DS']>=20180501 ) & (TH['GDAY_DS']< 20180601),\n",
    "    (TH['GDAY_DS']>=20180601 ) & (TH['GDAY_DS']< 20180701),\n",
    "    (TH['GDAY_DS']>=20180701 ) & (TH['GDAY_DS']< 20180801),\n",
    "    (TH['GDAY_DS']>=20180801 ) & (TH['GDAY_DS']< 20180901),\n",
    "    (TH['GDAY_DS']>=20180901 ) & (TH['GDAY_DS']< 20181001),\n",
    "    (TH['GDAY_DS']>=20181001 ) & (TH['GDAY_DS']< 20181101),\n",
    "    (TH['GDAY_DS']>=20190301 ) & (TH['GDAY_DS']< 20190401),\n",
    "    (TH['GDAY_DS']>=20190401 ) & (TH['GDAY_DS']< 20190501),\n",
    "    (TH['GDAY_DS']>=20190501 ) & (TH['GDAY_DS']< 20190601),\n",
    "    (TH['GDAY_DS']>=20190601 ) & (TH['GDAY_DS']< 20190701),\n",
    "    (TH['GDAY_DS']>=20190701 ) & (TH['GDAY_DS']< 20190801),\n",
    "    (TH['GDAY_DS']>=20190801 ) & (TH['GDAY_DS']< 20190901),\n",
    "    (TH['GDAY_DS']>=20190901 ) & (TH['GDAY_DS']< 20191001),\n",
    "    (TH['GDAY_DS']>=20191001 ) & (TH['GDAY_DS']< 20191101),\n",
    "    (TH['GDAY_DS']>=20200501 ) & (TH['GDAY_DS']< 20200601),\n",
    "    (TH['GDAY_DS']>=20200601 ) & (TH['GDAY_DS']< 20200701),\n",
    "    (TH['GDAY_DS']>=20200701 ) & (TH['GDAY_DS']< 20200720)\n",
    "]\n",
    "choicelist =[4,5,6,7,8,9,10,3,4,5,6,7,8,9,10,\n",
    "             3,4,5,6,7,8,9,10,3,4,5,6,7,8,9,10,5,6,7]\n",
    "TH['M']=np.select(M, choicelist)"
   ]
  },
  {
   "cell_type": "code",
   "execution_count": 10,
   "metadata": {},
   "outputs": [
    {
     "data": {
      "text/html": [
       "<div>\n",
       "<style scoped>\n",
       "    .dataframe tbody tr th:only-of-type {\n",
       "        vertical-align: middle;\n",
       "    }\n",
       "\n",
       "    .dataframe tbody tr th {\n",
       "        vertical-align: top;\n",
       "    }\n",
       "\n",
       "    .dataframe thead th {\n",
       "        text-align: right;\n",
       "    }\n",
       "</style>\n",
       "<table border=\"1\" class=\"dataframe\">\n",
       "  <thead>\n",
       "    <tr style=\"text-align: right;\">\n",
       "      <th></th>\n",
       "      <th>GDAY_DS</th>\n",
       "      <th>T_ID</th>\n",
       "      <th>INN2</th>\n",
       "      <th>ER</th>\n",
       "      <th>R</th>\n",
       "      <th>KK</th>\n",
       "      <th>ERA</th>\n",
       "      <th>M</th>\n",
       "    </tr>\n",
       "  </thead>\n",
       "  <tbody>\n",
       "    <tr>\n",
       "      <th>0</th>\n",
       "      <td>20160401</td>\n",
       "      <td>LG</td>\n",
       "      <td>36</td>\n",
       "      <td>4</td>\n",
       "      <td>4</td>\n",
       "      <td>10</td>\n",
       "      <td>0.111111</td>\n",
       "      <td>4</td>\n",
       "    </tr>\n",
       "    <tr>\n",
       "      <th>1</th>\n",
       "      <td>20160401</td>\n",
       "      <td>HH</td>\n",
       "      <td>34</td>\n",
       "      <td>4</td>\n",
       "      <td>5</td>\n",
       "      <td>11</td>\n",
       "      <td>0.117647</td>\n",
       "      <td>4</td>\n",
       "    </tr>\n",
       "    <tr>\n",
       "      <th>2</th>\n",
       "      <td>20160401</td>\n",
       "      <td>NC</td>\n",
       "      <td>27</td>\n",
       "      <td>4</td>\n",
       "      <td>4</td>\n",
       "      <td>10</td>\n",
       "      <td>0.148148</td>\n",
       "      <td>4</td>\n",
       "    </tr>\n",
       "    <tr>\n",
       "      <th>3</th>\n",
       "      <td>20160401</td>\n",
       "      <td>HT</td>\n",
       "      <td>24</td>\n",
       "      <td>5</td>\n",
       "      <td>5</td>\n",
       "      <td>9</td>\n",
       "      <td>0.208333</td>\n",
       "      <td>4</td>\n",
       "    </tr>\n",
       "    <tr>\n",
       "      <th>4</th>\n",
       "      <td>20160401</td>\n",
       "      <td>SK</td>\n",
       "      <td>27</td>\n",
       "      <td>8</td>\n",
       "      <td>8</td>\n",
       "      <td>7</td>\n",
       "      <td>0.296296</td>\n",
       "      <td>4</td>\n",
       "    </tr>\n",
       "    <tr>\n",
       "      <th>...</th>\n",
       "      <td>...</td>\n",
       "      <td>...</td>\n",
       "      <td>...</td>\n",
       "      <td>...</td>\n",
       "      <td>...</td>\n",
       "      <td>...</td>\n",
       "      <td>...</td>\n",
       "      <td>...</td>\n",
       "    </tr>\n",
       "    <tr>\n",
       "      <th>6395</th>\n",
       "      <td>20200719</td>\n",
       "      <td>LT</td>\n",
       "      <td>27</td>\n",
       "      <td>1</td>\n",
       "      <td>1</td>\n",
       "      <td>9</td>\n",
       "      <td>0.037037</td>\n",
       "      <td>7</td>\n",
       "    </tr>\n",
       "    <tr>\n",
       "      <th>6396</th>\n",
       "      <td>20200719</td>\n",
       "      <td>HT</td>\n",
       "      <td>27</td>\n",
       "      <td>8</td>\n",
       "      <td>8</td>\n",
       "      <td>4</td>\n",
       "      <td>0.296296</td>\n",
       "      <td>7</td>\n",
       "    </tr>\n",
       "    <tr>\n",
       "      <th>6397</th>\n",
       "      <td>20200719</td>\n",
       "      <td>OB</td>\n",
       "      <td>27</td>\n",
       "      <td>4</td>\n",
       "      <td>4</td>\n",
       "      <td>5</td>\n",
       "      <td>0.148148</td>\n",
       "      <td>7</td>\n",
       "    </tr>\n",
       "    <tr>\n",
       "      <th>6398</th>\n",
       "      <td>20200719</td>\n",
       "      <td>SK</td>\n",
       "      <td>27</td>\n",
       "      <td>3</td>\n",
       "      <td>3</td>\n",
       "      <td>4</td>\n",
       "      <td>0.111111</td>\n",
       "      <td>7</td>\n",
       "    </tr>\n",
       "    <tr>\n",
       "      <th>6399</th>\n",
       "      <td>20200719</td>\n",
       "      <td>WO</td>\n",
       "      <td>24</td>\n",
       "      <td>4</td>\n",
       "      <td>4</td>\n",
       "      <td>10</td>\n",
       "      <td>0.166667</td>\n",
       "      <td>7</td>\n",
       "    </tr>\n",
       "  </tbody>\n",
       "</table>\n",
       "<p>6400 rows × 8 columns</p>\n",
       "</div>"
      ],
      "text/plain": [
       "       GDAY_DS T_ID  INN2  ER  R  KK       ERA  M\n",
       "0     20160401   LG    36   4  4  10  0.111111  4\n",
       "1     20160401   HH    34   4  5  11  0.117647  4\n",
       "2     20160401   NC    27   4  4  10  0.148148  4\n",
       "3     20160401   HT    24   5  5   9  0.208333  4\n",
       "4     20160401   SK    27   8  8   7  0.296296  4\n",
       "...        ...  ...   ...  .. ..  ..       ... ..\n",
       "6395  20200719   LT    27   1  1   9  0.037037  7\n",
       "6396  20200719   HT    27   8  8   4  0.296296  7\n",
       "6397  20200719   OB    27   4  4   5  0.148148  7\n",
       "6398  20200719   SK    27   3  3   4  0.111111  7\n",
       "6399  20200719   WO    24   4  4  10  0.166667  7\n",
       "\n",
       "[6400 rows x 8 columns]"
      ]
     },
     "execution_count": 10,
     "metadata": {},
     "output_type": "execute_result"
    }
   ],
   "source": [
    "TP"
   ]
  },
  {
   "cell_type": "code",
   "execution_count": 11,
   "metadata": {},
   "outputs": [],
   "source": [
    "TP.drop(TP.loc[TP['ER']>15].index, inplace=True)"
   ]
  },
  {
   "cell_type": "code",
   "execution_count": 12,
   "metadata": {
    "scrolled": true
   },
   "outputs": [
    {
     "data": {
      "image/png": "[encoded data removed]",
      "text/plain": [
       "<Figure size 432x288 with 1 Axes>"
      ]
     },
     "metadata": {
      "needs_background": "light"
     },
     "output_type": "display_data"
    }
   ],
   "source": [
    "sns.boxplot(x='M', y= 'ER', data= TP)\n",
    "plt.show()"
   ]
  },
  {
   "cell_type": "code",
   "execution_count": 13,
   "metadata": {
    "scrolled": false
   },
   "outputs": [
    {
     "data": {
      "image/png": "[encoded data removed]",
      "text/plain": [
       "<Figure size 432x288 with 1 Axes>"
      ]
     },
     "metadata": {
      "needs_background": "light"
     },
     "output_type": "display_data"
    }
   ],
   "source": [
    "sns.boxplot(x='M', y= 'ERA', data= TP)\n",
    "plt.show()"
   ]
  },
  {
   "cell_type": "code",
   "execution_count": 14,
   "metadata": {},
   "outputs": [
    {
     "data": {
      "image/png": "[encoded data removed]",
      "text/plain": [
       "<Figure size 432x288 with 1 Axes>"
      ]
     },
     "metadata": {
      "needs_background": "light"
     },
     "output_type": "display_data"
    }
   ],
   "source": [
    "sns.boxplot(x='M', y= 'KK', data= TP)\n",
    "plt.show()"
   ]
  },
  {
   "cell_type": "code",
   "execution_count": 15,
   "metadata": {},
   "outputs": [],
   "source": [
    "TH.drop(TH.loc[TH['HIT']>20].index, inplace=True)"
   ]
  },
  {
   "cell_type": "code",
   "execution_count": 16,
   "metadata": {},
   "outputs": [],
   "source": [
    "TH.drop(TH.loc[TH['M']<=3].index, inplace=True)\n",
    "TH.drop(TH.loc[TH['M']>=10].index, inplace=True)"
   ]
  },
  {
   "cell_type": "code",
   "execution_count": 17,
   "metadata": {},
   "outputs": [],
   "source": [
    "TP.drop(TP.loc[TP['M']<=3].index, inplace=True)\n",
    "TP.drop(TP.loc[TP['M']>=10].index, inplace=True)"
   ]
  },
  {
   "cell_type": "code",
   "execution_count": 18,
   "metadata": {},
   "outputs": [
    {
     "data": {
      "image/png": "[encoded data removed]",
      "text/plain": [
       "<Figure size 432x288 with 1 Axes>"
      ]
     },
     "metadata": {
      "needs_background": "light"
     },
     "output_type": "display_data"
    }
   ],
   "source": [
    "sns.boxplot(x='M', y= 'ERA', data= TP , palette='Blues_r')\n",
    "plt.show()"
   ]
  },
  {
   "cell_type": "code",
   "execution_count": 19,
   "metadata": {
    "scrolled": true
   },
   "outputs": [
    {
     "data": {
      "image/png": "[encoded data removed]",
      "text/plain": [
       "<Figure size 432x288 with 1 Axes>"
      ]
     },
     "metadata": {
      "needs_background": "light"
     },
     "output_type": "display_data"
    }
   ],
   "source": [
    "sns.boxplot(x='M', y= 'HIT', data= TH , palette='Blues_r')\n",
    "plt.show()"
   ]
  },
  {
   "cell_type": "code",
   "execution_count": 20,
   "metadata": {},
   "outputs": [
    {
     "data": {
      "image/png": "[encoded data removed]",
      "text/plain": [
       "<Figure size 432x288 with 1 Axes>"
      ]
     },
     "metadata": {
      "needs_background": "light"
     },
     "output_type": "display_data"
    }
   ],
   "source": [
    "sns.boxplot(x='M', y= 'ER', data= TP, color='darkgray')\n",
    "plt.show()"
   ]
  },
  {
   "cell_type": "code",
   "execution_count": 21,
   "metadata": {
    "scrolled": true
   },
   "outputs": [
    {
     "data": {
      "image/png": "[encoded data removed]",
      "text/plain": [
       "<Figure size 432x288 with 1 Axes>"
      ]
     },
     "metadata": {
      "needs_background": "light"
     },
     "output_type": "display_data"
    }
   ],
   "source": [
    "sns.boxplot(x='M', y= 'R', data= TP , palette='Blues_r')\n",
    "plt.show()"
   ]
  },
  {
   "cell_type": "code",
   "execution_count": 22,
   "metadata": {},
   "outputs": [],
   "source": [
    "TH.drop(TH.loc[TH['RUN']>18].index, inplace=True)"
   ]
  },
  {
   "cell_type": "code",
   "execution_count": 23,
   "metadata": {},
   "outputs": [
    {
     "data": {
      "image/png": "[encoded data removed]",
      "text/plain": [
       "<Figure size 432x288 with 1 Axes>"
      ]
     },
     "metadata": {
      "needs_background": "light"
     },
     "output_type": "display_data"
    }
   ],
   "source": [
    "sns.boxplot(x='M', y= 'AVG', data= TH , palette='Blues_r')\n",
    "plt.show()"
   ]
  },
  {
   "cell_type": "code",
   "execution_count": 24,
   "metadata": {
    "scrolled": true
   },
   "outputs": [
    {
     "data": {
      "image/png": "[encoded data removed]",
      "text/plain": [
       "<Figure size 432x288 with 1 Axes>"
      ]
     },
     "metadata": {
      "needs_background": "light"
     },
     "output_type": "display_data"
    }
   ],
   "source": [
    "sns.boxplot(x='M', y= 'RUN', data= TH , palette='Blues_r')\n",
    "plt.show()"
   ]
  },
  {
   "cell_type": "code",
   "execution_count": 25,
   "metadata": {},
   "outputs": [
    {
     "data": {
      "image/png": "[encoded data removed]",
      "text/plain": [
       "<Figure size 432x288 with 1 Axes>"
      ]
     },
     "metadata": {
      "needs_background": "light"
     },
     "output_type": "display_data"
    }
   ],
   "source": [
    "sns.boxplot(x='M', y= 'AB', data= TH)\n",
    "plt.show()"
   ]
  },
  {
   "cell_type": "code",
   "execution_count": 26,
   "metadata": {},
   "outputs": [
    {
     "data": {
      "image/png": "[encoded data removed]",
      "text/plain": [
       "<Figure size 432x288 with 1 Axes>"
      ]
     },
     "metadata": {
      "needs_background": "light"
     },
     "output_type": "display_data"
    }
   ],
   "source": [
    "sns.boxplot(x='M', y= 'AVG', data= TH)\n",
    "plt.show()"
   ]
  },
  {
   "cell_type": "code",
   "execution_count": 27,
   "metadata": {},
   "outputs": [
    {
     "data": {
      "image/png": "[encoded data removed]",
      "text/plain": [
       "<Figure size 432x288 with 1 Axes>"
      ]
     },
     "metadata": {
      "needs_background": "light"
     },
     "output_type": "display_data"
    }
   ],
   "source": [
    "sns.boxplot(x='M', y= 'BB', data= TH)\n",
    "plt.show()"
   ]
  },
  {
   "cell_type": "code",
   "execution_count": null,
   "metadata": {},
   "outputs": [],
   "source": []
  },
  {
   "cell_type": "code",
   "execution_count": null,
   "metadata": {},
   "outputs": [],
   "source": []
  },
  {
   "cell_type": "code",
   "execution_count": 3,
   "metadata": {},
   "outputs": [],
   "source": [
    "R_T_H_16 = pd.read_csv('C:/Users/dudco/Desktop/2020bigcontest/2020_bigcontest_data/T_H_2016.csv',encoding='CP949')\n",
    "R_T_H_17 = pd.read_csv('C:/Users/dudco/Desktop/2020bigcontest/2020_bigcontest_data/T_H_2017.csv',encoding='CP949')\n",
    "R_T_H_18 = pd.read_csv('C:/Users/dudco/Desktop/2020bigcontest/2020_bigcontest_data/T_H_2018.csv',encoding='CP949')\n",
    "R_T_H_19 = pd.read_csv('C:/Users/dudco/Desktop/2020bigcontest/2020_bigcontest_data/T_H_2019.csv',encoding='CP949')\n",
    "R_T_H_20 = pd.read_csv('C:/Users/dudco/Desktop/2020bigcontest/2020_bigcontest_data/T_H_2020.csv',encoding='CP949')\n",
    "\n",
    "R_T_P_16 = pd.read_csv('C:/Users/dudco/Desktop/2020bigcontest/2020_bigcontest_data/T_P_2016.csv',encoding='CP949')\n",
    "R_T_P_17 = pd.read_csv('C:/Users/dudco/Desktop/2020bigcontest/2020_bigcontest_data/T_P_2017.csv',encoding='CP949')\n",
    "R_T_P_18 = pd.read_csv('C:/Users/dudco/Desktop/2020bigcontest/2020_bigcontest_data/T_P_2018.csv',encoding='CP949')\n",
    "R_T_P_19 = pd.read_csv('C:/Users/dudco/Desktop/2020bigcontest/2020_bigcontest_data/T_P_2019.csv',encoding='CP949')\n",
    "R_T_P_20 = pd.read_csv('C:/Users/dudco/Desktop/2020bigcontest/2020_bigcontest_data/T_P_2020.csv',encoding='CP949')"
   ]
  },
  {
   "cell_type": "code",
   "execution_count": 4,
   "metadata": {},
   "outputs": [],
   "source": [
    "R_TH = pd.concat([R_T_H_16, R_T_H_17, R_T_H_18, R_T_H_19, R_T_H_20])\n",
    "R_TP = pd.concat([R_T_P_16, R_T_P_17, R_T_P_18, R_T_P_19, R_T_P_20])\n",
    "\n",
    "R_TH.reset_index(drop=True, inplace=True)\n",
    "R_TP.reset_index(drop=True, inplace=True)"
   ]
  },
  {
   "cell_type": "code",
   "execution_count": 31,
   "metadata": {},
   "outputs": [
    {
     "data": {
      "image/png": "[encoded data removed]",
      "text/plain": [
       "<Figure size 432x288 with 1 Axes>"
      ]
     },
     "metadata": {
      "needs_background": "light"
     },
     "output_type": "display_data"
    }
   ],
   "source": [
    "sns.boxplot(y= 'AB', data= R_TH , palette='Blues_r')\n",
    "plt.show()"
   ]
  },
  {
   "cell_type": "code",
   "execution_count": 32,
   "metadata": {},
   "outputs": [
    {
     "data": {
      "image/png": "[encoded data removed]",
      "text/plain": [
       "<Figure size 432x288 with 1 Axes>"
      ]
     },
     "metadata": {
      "needs_background": "light"
     },
     "output_type": "display_data"
    }
   ],
   "source": [
    "sns.boxplot(y= 'INN2', data= R_TP , palette='Blues_r')\n",
    "plt.show()"
   ]
  },
  {
   "cell_type": "code",
   "execution_count": 33,
   "metadata": {},
   "outputs": [
    {
     "data": {
      "image/png": "[encoded data removed]",
      "text/plain": [
       "<Figure size 432x288 with 1 Axes>"
      ]
     },
     "metadata": {
      "needs_background": "light"
     },
     "output_type": "display_data"
    }
   ],
   "source": [
    "sns.boxplot(y= 'RUN', data= R_TH , palette='Blues_r')\n",
    "plt.show()"
   ]
  },
  {
   "cell_type": "code",
   "execution_count": 34,
   "metadata": {},
   "outputs": [
    {
     "data": {
      "image/png": "[encoded data removed]",
      "text/plain": [
       "<Figure size 432x288 with 1 Axes>"
      ]
     },
     "metadata": {
      "needs_background": "light"
     },
     "output_type": "display_data"
    }
   ],
   "source": [
    "sns.boxplot(y= 'R', data= R_TP , palette='Blues_r')\n",
    "plt.show()"
   ]
  },
  {
   "cell_type": "code",
   "execution_count": 35,
   "metadata": {},
   "outputs": [
    {
     "data": {
      "image/png": "[encoded data removed]",
      "text/plain": [
       "<Figure size 432x288 with 1 Axes>"
      ]
     },
     "metadata": {
      "needs_background": "light"
     },
     "output_type": "display_data"
    }
   ],
   "source": [
    "sns.boxplot(y= 'HIT', data= R_TH , palette='Blues_r')\n",
    "plt.show()"
   ]
  },
  {
   "cell_type": "code",
   "execution_count": 36,
   "metadata": {},
   "outputs": [
    {
     "data": {
      "image/png": "[encoded data removed]",
      "text/plain": [
       "<Figure size 432x288 with 1 Axes>"
      ]
     },
     "metadata": {
      "needs_background": "light"
     },
     "output_type": "display_data"
    }
   ],
   "source": [
    "sns.boxplot(y= 'ER', data= R_TP , palette='Blues_r')\n",
    "plt.show()"
   ]
  },
  {
   "cell_type": "code",
   "execution_count": 37,
   "metadata": {},
   "outputs": [],
   "source": [
    "R_TH.drop(R_TH.loc[R_TH['AB']>45].index, inplace=True)"
   ]
  },
  {
   "cell_type": "code",
   "execution_count": null,
   "metadata": {},
   "outputs": [],
   "source": []
  },
  {
   "cell_type": "code",
   "execution_count": null,
   "metadata": {},
   "outputs": [],
   "source": []
  },
  {
   "cell_type": "code",
   "execution_count": 5,
   "metadata": {},
   "outputs": [],
   "source": [
    "P_H_16 = pd.read_csv('C:/Users/dudco/Desktop/2020bigcontest/2020_bigcontest_data/P_H_2016.csv',encoding='CP949')\n",
    "P_H_17 = pd.read_csv('C:/Users/dudco/Desktop/2020bigcontest/2020_bigcontest_data/P_H_2017.csv',encoding='CP949')\n",
    "P_H_18 = pd.read_csv('C:/Users/dudco/Desktop/2020bigcontest/2020_bigcontest_data/P_H_2018.csv',encoding='CP949')\n",
    "P_H_19 = pd.read_csv('C:/Users/dudco/Desktop/2020bigcontest/2020_bigcontest_data/P_H_2019.csv',encoding='CP949')\n",
    "P_H_20 = pd.read_csv('C:/Users/dudco/Desktop/2020bigcontest/2020_bigcontest_data/P_H_2020.csv',encoding='CP949')\n",
    "\n",
    "P_P_16 = pd.read_csv('C:/Users/dudco/Desktop/2020bigcontest/2020_bigcontest_data/P_P_2016.csv',encoding='CP949')\n",
    "P_P_17 = pd.read_csv('C:/Users/dudco/Desktop/2020bigcontest/2020_bigcontest_data/P_P_2017.csv',encoding='CP949')\n",
    "P_P_18 = pd.read_csv('C:/Users/dudco/Desktop/2020bigcontest/2020_bigcontest_data/P_P_2018.csv',encoding='CP949')\n",
    "P_P_19 = pd.read_csv('C:/Users/dudco/Desktop/2020bigcontest/2020_bigcontest_data/P_P_2019.csv',encoding='CP949')\n",
    "P_P_20 = pd.read_csv('C:/Users/dudco/Desktop/2020bigcontest/2020_bigcontest_data/P_P_2020.csv',encoding='CP949')"
   ]
  },
  {
   "cell_type": "code",
   "execution_count": 6,
   "metadata": {},
   "outputs": [],
   "source": [
    "P_16 = pd.read_csv('C:/Users/dudco/Desktop/2020bigcontest/2020_bigcontest_data/P_2016.csv',encoding='CP949')\n",
    "P_17 = pd.read_csv('C:/Users/dudco/Desktop/2020bigcontest/2020_bigcontest_data/P_2017.csv',encoding='CP949')\n",
    "P_18 = pd.read_csv('C:/Users/dudco/Desktop/2020bigcontest/2020_bigcontest_data/P_2018.csv',encoding='CP949')\n",
    "P_19 = pd.read_csv('C:/Users/dudco/Desktop/2020bigcontest/2020_bigcontest_data/P_2019.csv',encoding='CP949')\n",
    "P_20 = pd.read_csv('C:/Users/dudco/Desktop/2020bigcontest/2020_bigcontest_data/P_2020.csv',encoding='CP949')\n"
   ]
  },
  {
   "cell_type": "code",
   "execution_count": 7,
   "metadata": {},
   "outputs": [],
   "source": [
    "TH_16 = pd.read_csv('C:/Users/dudco/Desktop/2020bigcontest/2020_bigcontest_data/T_H_2016.csv',encoding='CP949')\n",
    "TP_16 = pd.read_csv('C:/Users/dudco/Desktop/2020bigcontest/2020_bigcontest_data/T_P_2016.csv',encoding='CP949')\n"
   ]
  },
  {
   "cell_type": "code",
   "execution_count": 8,
   "metadata": {},
   "outputs": [],
   "source": [
    "T_H_16_OB = T_H_16[T_H_16['T_ID']=='OB']\n",
    "T_H_16_KT = T_H_16[T_H_16['T_ID']=='KT']\n",
    "T_H_16_NC = T_H_16[T_H_16['T_ID']=='NC']\n",
    "\n",
    "T_P_16_OB = TP_16[TP_16['T_ID']=='OB']"
   ]
  },
  {
   "cell_type": "code",
   "execution_count": 42,
   "metadata": {},
   "outputs": [
    {
     "data": {
      "text/html": [
       "<div>\n",
       "<style scoped>\n",
       "    .dataframe tbody tr th:only-of-type {\n",
       "        vertical-align: middle;\n",
       "    }\n",
       "\n",
       "    .dataframe tbody tr th {\n",
       "        vertical-align: top;\n",
       "    }\n",
       "\n",
       "    .dataframe thead th {\n",
       "        text-align: right;\n",
       "    }\n",
       "</style>\n",
       "<table border=\"1\" class=\"dataframe\">\n",
       "  <thead>\n",
       "    <tr style=\"text-align: right;\">\n",
       "      <th></th>\n",
       "      <th>G_ID</th>\n",
       "      <th>GDAY_DS</th>\n",
       "      <th>T_ID</th>\n",
       "      <th>VS_T_ID</th>\n",
       "      <th>HEADER_NO</th>\n",
       "      <th>TB_SC</th>\n",
       "      <th>PA</th>\n",
       "      <th>AB</th>\n",
       "      <th>RBI</th>\n",
       "      <th>RUN</th>\n",
       "      <th>...</th>\n",
       "      <th>BB</th>\n",
       "      <th>IB</th>\n",
       "      <th>HP</th>\n",
       "      <th>KK</th>\n",
       "      <th>GD</th>\n",
       "      <th>ERR</th>\n",
       "      <th>LOB</th>\n",
       "      <th>P_HRA_RT</th>\n",
       "      <th>P_AB_CN</th>\n",
       "      <th>P_HIT_CN</th>\n",
       "    </tr>\n",
       "  </thead>\n",
       "  <tbody>\n",
       "    <tr>\n",
       "      <th>9</th>\n",
       "      <td>20160401OBSS0</td>\n",
       "      <td>20160401</td>\n",
       "      <td>OB</td>\n",
       "      <td>SS</td>\n",
       "      <td>0</td>\n",
       "      <td>T</td>\n",
       "      <td>37</td>\n",
       "      <td>31</td>\n",
       "      <td>4</td>\n",
       "      <td>5</td>\n",
       "      <td>...</td>\n",
       "      <td>3</td>\n",
       "      <td>0</td>\n",
       "      <td>1</td>\n",
       "      <td>3</td>\n",
       "      <td>1</td>\n",
       "      <td>0</td>\n",
       "      <td>5</td>\n",
       "      <td>0.142857</td>\n",
       "      <td>7</td>\n",
       "      <td>1</td>\n",
       "    </tr>\n",
       "    <tr>\n",
       "      <th>19</th>\n",
       "      <td>20160402OBSS0</td>\n",
       "      <td>20160402</td>\n",
       "      <td>OB</td>\n",
       "      <td>SS</td>\n",
       "      <td>0</td>\n",
       "      <td>T</td>\n",
       "      <td>42</td>\n",
       "      <td>38</td>\n",
       "      <td>6</td>\n",
       "      <td>6</td>\n",
       "      <td>...</td>\n",
       "      <td>4</td>\n",
       "      <td>0</td>\n",
       "      <td>0</td>\n",
       "      <td>6</td>\n",
       "      <td>1</td>\n",
       "      <td>0</td>\n",
       "      <td>9</td>\n",
       "      <td>0.187500</td>\n",
       "      <td>16</td>\n",
       "      <td>3</td>\n",
       "    </tr>\n",
       "    <tr>\n",
       "      <th>26</th>\n",
       "      <td>20160405NCOB0</td>\n",
       "      <td>20160405</td>\n",
       "      <td>OB</td>\n",
       "      <td>NC</td>\n",
       "      <td>0</td>\n",
       "      <td>B</td>\n",
       "      <td>39</td>\n",
       "      <td>28</td>\n",
       "      <td>5</td>\n",
       "      <td>6</td>\n",
       "      <td>...</td>\n",
       "      <td>7</td>\n",
       "      <td>0</td>\n",
       "      <td>4</td>\n",
       "      <td>5</td>\n",
       "      <td>0</td>\n",
       "      <td>0</td>\n",
       "      <td>9</td>\n",
       "      <td>0.285714</td>\n",
       "      <td>7</td>\n",
       "      <td>2</td>\n",
       "    </tr>\n",
       "    <tr>\n",
       "      <th>34</th>\n",
       "      <td>20160406NCOB0</td>\n",
       "      <td>20160406</td>\n",
       "      <td>OB</td>\n",
       "      <td>NC</td>\n",
       "      <td>0</td>\n",
       "      <td>B</td>\n",
       "      <td>32</td>\n",
       "      <td>30</td>\n",
       "      <td>2</td>\n",
       "      <td>2</td>\n",
       "      <td>...</td>\n",
       "      <td>1</td>\n",
       "      <td>0</td>\n",
       "      <td>1</td>\n",
       "      <td>8</td>\n",
       "      <td>0</td>\n",
       "      <td>0</td>\n",
       "      <td>6</td>\n",
       "      <td>0.083333</td>\n",
       "      <td>12</td>\n",
       "      <td>1</td>\n",
       "    </tr>\n",
       "    <tr>\n",
       "      <th>44</th>\n",
       "      <td>20160407NCOB0</td>\n",
       "      <td>20160407</td>\n",
       "      <td>OB</td>\n",
       "      <td>NC</td>\n",
       "      <td>0</td>\n",
       "      <td>B</td>\n",
       "      <td>40</td>\n",
       "      <td>36</td>\n",
       "      <td>2</td>\n",
       "      <td>2</td>\n",
       "      <td>...</td>\n",
       "      <td>2</td>\n",
       "      <td>0</td>\n",
       "      <td>2</td>\n",
       "      <td>9</td>\n",
       "      <td>1</td>\n",
       "      <td>0</td>\n",
       "      <td>11</td>\n",
       "      <td>0.111111</td>\n",
       "      <td>9</td>\n",
       "      <td>1</td>\n",
       "    </tr>\n",
       "    <tr>\n",
       "      <th>...</th>\n",
       "      <td>...</td>\n",
       "      <td>...</td>\n",
       "      <td>...</td>\n",
       "      <td>...</td>\n",
       "      <td>...</td>\n",
       "      <td>...</td>\n",
       "      <td>...</td>\n",
       "      <td>...</td>\n",
       "      <td>...</td>\n",
       "      <td>...</td>\n",
       "      <td>...</td>\n",
       "      <td>...</td>\n",
       "      <td>...</td>\n",
       "      <td>...</td>\n",
       "      <td>...</td>\n",
       "      <td>...</td>\n",
       "      <td>...</td>\n",
       "      <td>...</td>\n",
       "      <td>...</td>\n",
       "      <td>...</td>\n",
       "      <td>...</td>\n",
       "    </tr>\n",
       "    <tr>\n",
       "      <th>1377</th>\n",
       "      <td>20160928OBHH0</td>\n",
       "      <td>20160928</td>\n",
       "      <td>OB</td>\n",
       "      <td>HH</td>\n",
       "      <td>0</td>\n",
       "      <td>T</td>\n",
       "      <td>45</td>\n",
       "      <td>36</td>\n",
       "      <td>12</td>\n",
       "      <td>12</td>\n",
       "      <td>...</td>\n",
       "      <td>6</td>\n",
       "      <td>0</td>\n",
       "      <td>0</td>\n",
       "      <td>6</td>\n",
       "      <td>3</td>\n",
       "      <td>0</td>\n",
       "      <td>6</td>\n",
       "      <td>0.625000</td>\n",
       "      <td>8</td>\n",
       "      <td>5</td>\n",
       "    </tr>\n",
       "    <tr>\n",
       "      <th>1384</th>\n",
       "      <td>20160929WOOB0</td>\n",
       "      <td>20160929</td>\n",
       "      <td>OB</td>\n",
       "      <td>WO</td>\n",
       "      <td>0</td>\n",
       "      <td>B</td>\n",
       "      <td>36</td>\n",
       "      <td>33</td>\n",
       "      <td>1</td>\n",
       "      <td>1</td>\n",
       "      <td>...</td>\n",
       "      <td>2</td>\n",
       "      <td>0</td>\n",
       "      <td>1</td>\n",
       "      <td>12</td>\n",
       "      <td>1</td>\n",
       "      <td>3</td>\n",
       "      <td>8</td>\n",
       "      <td>0.000000</td>\n",
       "      <td>9</td>\n",
       "      <td>0</td>\n",
       "    </tr>\n",
       "    <tr>\n",
       "      <th>1402</th>\n",
       "      <td>20161003HHOB0</td>\n",
       "      <td>20161003</td>\n",
       "      <td>OB</td>\n",
       "      <td>HH</td>\n",
       "      <td>0</td>\n",
       "      <td>B</td>\n",
       "      <td>40</td>\n",
       "      <td>35</td>\n",
       "      <td>5</td>\n",
       "      <td>5</td>\n",
       "      <td>...</td>\n",
       "      <td>4</td>\n",
       "      <td>0</td>\n",
       "      <td>1</td>\n",
       "      <td>5</td>\n",
       "      <td>0</td>\n",
       "      <td>1</td>\n",
       "      <td>8</td>\n",
       "      <td>0.333333</td>\n",
       "      <td>9</td>\n",
       "      <td>3</td>\n",
       "    </tr>\n",
       "    <tr>\n",
       "      <th>1410</th>\n",
       "      <td>20161004LTOB0</td>\n",
       "      <td>20161004</td>\n",
       "      <td>OB</td>\n",
       "      <td>LT</td>\n",
       "      <td>0</td>\n",
       "      <td>B</td>\n",
       "      <td>42</td>\n",
       "      <td>38</td>\n",
       "      <td>6</td>\n",
       "      <td>6</td>\n",
       "      <td>...</td>\n",
       "      <td>3</td>\n",
       "      <td>0</td>\n",
       "      <td>1</td>\n",
       "      <td>9</td>\n",
       "      <td>1</td>\n",
       "      <td>0</td>\n",
       "      <td>8</td>\n",
       "      <td>0.400000</td>\n",
       "      <td>10</td>\n",
       "      <td>4</td>\n",
       "    </tr>\n",
       "    <tr>\n",
       "      <th>1433</th>\n",
       "      <td>20161008OBLG0</td>\n",
       "      <td>20161008</td>\n",
       "      <td>OB</td>\n",
       "      <td>LG</td>\n",
       "      <td>0</td>\n",
       "      <td>T</td>\n",
       "      <td>47</td>\n",
       "      <td>41</td>\n",
       "      <td>10</td>\n",
       "      <td>11</td>\n",
       "      <td>...</td>\n",
       "      <td>6</td>\n",
       "      <td>0</td>\n",
       "      <td>0</td>\n",
       "      <td>6</td>\n",
       "      <td>1</td>\n",
       "      <td>2</td>\n",
       "      <td>9</td>\n",
       "      <td>0.357143</td>\n",
       "      <td>14</td>\n",
       "      <td>5</td>\n",
       "    </tr>\n",
       "  </tbody>\n",
       "</table>\n",
       "<p>144 rows × 28 columns</p>\n",
       "</div>"
      ],
      "text/plain": [
       "               G_ID   GDAY_DS T_ID VS_T_ID  HEADER_NO TB_SC  PA  AB  RBI  RUN  \\\n",
       "9     20160401OBSS0  20160401   OB      SS          0     T  37  31    4    5   \n",
       "19    20160402OBSS0  20160402   OB      SS          0     T  42  38    6    6   \n",
       "26    20160405NCOB0  20160405   OB      NC          0     B  39  28    5    6   \n",
       "34    20160406NCOB0  20160406   OB      NC          0     B  32  30    2    2   \n",
       "44    20160407NCOB0  20160407   OB      NC          0     B  40  36    2    2   \n",
       "...             ...       ...  ...     ...        ...   ...  ..  ..  ...  ...   \n",
       "1377  20160928OBHH0  20160928   OB      HH          0     T  45  36   12   12   \n",
       "1384  20160929WOOB0  20160929   OB      WO          0     B  36  33    1    1   \n",
       "1402  20161003HHOB0  20161003   OB      HH          0     B  40  35    5    5   \n",
       "1410  20161004LTOB0  20161004   OB      LT          0     B  42  38    6    6   \n",
       "1433  20161008OBLG0  20161008   OB      LG          0     T  47  41   10   11   \n",
       "\n",
       "      ...  BB  IB  HP  KK  GD  ERR  LOB  P_HRA_RT  P_AB_CN  P_HIT_CN  \n",
       "9     ...   3   0   1   3   1    0    5  0.142857        7         1  \n",
       "19    ...   4   0   0   6   1    0    9  0.187500       16         3  \n",
       "26    ...   7   0   4   5   0    0    9  0.285714        7         2  \n",
       "34    ...   1   0   1   8   0    0    6  0.083333       12         1  \n",
       "44    ...   2   0   2   9   1    0   11  0.111111        9         1  \n",
       "...   ...  ..  ..  ..  ..  ..  ...  ...       ...      ...       ...  \n",
       "1377  ...   6   0   0   6   3    0    6  0.625000        8         5  \n",
       "1384  ...   2   0   1  12   1    3    8  0.000000        9         0  \n",
       "1402  ...   4   0   1   5   0    1    8  0.333333        9         3  \n",
       "1410  ...   3   0   1   9   1    0    8  0.400000       10         4  \n",
       "1433  ...   6   0   0   6   1    2    9  0.357143       14         5  \n",
       "\n",
       "[144 rows x 28 columns]"
      ]
     },
     "execution_count": 42,
     "metadata": {},
     "output_type": "execute_result"
    }
   ],
   "source": [
    "T_H_16_OB"
   ]
  },
  {
   "cell_type": "code",
   "execution_count": 10,
   "metadata": {},
   "outputs": [],
   "source": [
    "import matplotlib.pyplot as plt\n",
    "plt.rcParams['figure.figsize'] = [12, 8]"
   ]
  },
  {
   "cell_type": "code",
   "execution_count": 14,
   "metadata": {
    "scrolled": true
   },
   "outputs": [
    {
     "data": {
      "image/png": "[encoded data removed]",
      "text/plain": [
       "<Figure size 864x576 with 1 Axes>"
      ]
     },
     "metadata": {
      "needs_background": "light"
     },
     "output_type": "display_data"
    }
   ],
   "source": [
    "sns.boxplot(x='VS_T_ID', y='ER', data=T_P_16_OB, palette='Blues_r')\n",
    "plt.show()"
   ]
  },
  {
   "cell_type": "code",
   "execution_count": 13,
   "metadata": {},
   "outputs": [
    {
     "data": {
      "image/png": "[encoded data removed]",
      "text/plain": [
       "<Figure size 864x576 with 1 Axes>"
      ]
     },
     "metadata": {
      "needs_background": "light"
     },
     "output_type": "display_data"
    }
   ],
   "source": [
    "sns.boxplot(x='VS_T_ID', y='R', data=T_P_16_OB, palette='Blues_r')\n",
    "plt.show()"
   ]
  },
  {
   "cell_type": "code",
   "execution_count": 50,
   "metadata": {
    "scrolled": true
   },
   "outputs": [
    {
     "data": {
      "image/png": "[encoded data removed]",
      "text/plain": [
       "<Figure size 864x576 with 1 Axes>"
      ]
     },
     "metadata": {
      "needs_background": "light"
     },
     "output_type": "display_data"
    }
   ],
   "source": [
    "sns.boxplot(x='VS_T_ID', y='RUN', data=T_H_16_KT, palette='Blues_r')\n",
    "plt.show()"
   ]
  },
  {
   "cell_type": "code",
   "execution_count": null,
   "metadata": {},
   "outputs": [],
   "source": [
    "sns.boxplot(x='VS_T_ID', y='RUN', data=T_H_16_NC)\n",
    "plt.show()"
   ]
  },
  {
   "cell_type": "code",
   "execution_count": null,
   "metadata": {},
   "outputs": [],
   "source": [
    "sns.boxplot(x='VS_T_ID', y='RUN', data=T_H_16_KT)\n",
    "plt.show()"
   ]
  },
  {
   "cell_type": "code",
   "execution_count": null,
   "metadata": {},
   "outputs": [],
   "source": [
    "M=[\n",
    "    (TH_16['GDAY_DS']>=20160401 ) & (TH_16['GDAY_DS']< 20160501),\n",
    "    (TH_16['GDAY_DS']>=20160501 ) & (TH_16['GDAY_DS']< 20160601),\n",
    "    (TH_16['GDAY_DS']>=20160601 ) & (TH_16['GDAY_DS']< 20160701),\n",
    "    (TH_16['GDAY_DS']>=20160701 ) & (TH_16['GDAY_DS']< 20160801),\n",
    "    (TH_16['GDAY_DS']>=20160801 ) & (TH_16['GDAY_DS']< 20160901),\n",
    "    (TH_16['GDAY_DS']>=20160901 ) & (TH_16['GDAY_DS']< 20161001),\n",
    "    (TH_16['GDAY_DS']>=20161001 ) & (TH_16['GDAY_DS']< 20161101),\n",
    "    (TH_16['GDAY_DS']>=20170301 ) & (TH_16['GDAY_DS']< 20170401),\n",
    "    (TH_16['GDAY_DS']>=20170401 ) & (TH_16['GDAY_DS']< 20170501),\n",
    "    (TH_16['GDAY_DS']>=20170501 ) & (TH_16['GDAY_DS']< 20170601),\n",
    "    (TH_16['GDAY_DS']>=20170601 ) & (TH_16['GDAY_DS']< 20170701),\n",
    "    (TH_16['GDAY_DS']>=20170701 ) & (TH_16['GDAY_DS']< 20170801),\n",
    "    (TH_16['GDAY_DS']>=20170801 ) & (TH_16['GDAY_DS']< 20170901),\n",
    "    (TH_16['GDAY_DS']>=20170901 ) & (TH_16['GDAY_DS']< 20171001),\n",
    "    (TH_16['GDAY_DS']>=20171001 ) & (TH_16['GDAY_DS']< 20171101),\n",
    "    (TH_16['GDAY_DS']>=20180301 ) & (TH_16['GDAY_DS']< 20180401),\n",
    "    (TH_16['GDAY_DS']>=20180401 ) & (TH_16['GDAY_DS']< 20180501),\n",
    "    (TH_16['GDAY_DS']>=20180501 ) & (TH_16['GDAY_DS']< 20180601),\n",
    "    (TH_16['GDAY_DS']>=20180601 ) & (TH_16['GDAY_DS']< 20180701),\n",
    "    (TH_16['GDAY_DS']>=20180701 ) & (TH_16['GDAY_DS']< 20180801),\n",
    "    (TH_16['GDAY_DS']>=20180801 ) & (TH_16['GDAY_DS']< 20180901),\n",
    "    (TH_16['GDAY_DS']>=20180901 ) & (TH_16['GDAY_DS']< 20181001),\n",
    "    (TH_16['GDAY_DS']>=20181001 ) & (TH_16['GDAY_DS']< 20181101),\n",
    "    (TH_16['GDAY_DS']>=20190301 ) & (TH_16['GDAY_DS']< 20190401),\n",
    "    (TH_16['GDAY_DS']>=20190401 ) & (TH_16['GDAY_DS']< 20190501),\n",
    "    (TH_16['GDAY_DS']>=20190501 ) & (TH_16['GDAY_DS']< 20190601),\n",
    "    (TH_16['GDAY_DS']>=20190601 ) & (TH_16['GDAY_DS']< 20190701),\n",
    "    (TH_16['GDAY_DS']>=20190701 ) & (TH_16['GDAY_DS']< 20190801),\n",
    "    (TH_16['GDAY_DS']>=20190801 ) & (TH_16['GDAY_DS']< 20190901),\n",
    "    (TH_16['GDAY_DS']>=20190901 ) & (TH_16['GDAY_DS']< 20191001),\n",
    "    (TH_16['GDAY_DS']>=20191001 ) & (TH_16['GDAY_DS']< 20191101),\n",
    "    (TH_16['GDAY_DS']>=20200501 ) & (TH_16['GDAY_DS']< 20200601),\n",
    "    (TH_16['GDAY_DS']>=20200601 ) & (TH_16['GDAY_DS']< 20200701),\n",
    "    (TH_16['GDAY_DS']>=20200701 ) & (TH_16['GDAY_DS']< 20200720)\n",
    "]\n",
    "choicelist =[4,5,6,7,8,9,10,3,4,5,6,7,8,9,10,\n",
    "             3,4,5,6,7,8,9,10,3,4,5,6,7,8,9,10,5,6,7]\n",
    "TH_16['M']=np.select(M, choicelist)"
   ]
  },
  {
   "cell_type": "code",
   "execution_count": null,
   "metadata": {},
   "outputs": [],
   "source": [
    "TH_16_OB =TH_16[TH_16['T_ID']=='OB']\n",
    "TH_16_KT = TH_16[TH_16['T_ID']=='KT']\n",
    "TH_16_NC = TH_16[TH_16['T_ID']=='NC']\n"
   ]
  },
  {
   "cell_type": "code",
   "execution_count": null,
   "metadata": {},
   "outputs": [],
   "source": [
    "sns.boxplot(x='M', y='RUN',data=TH_16_OB)\n",
    "plt.show()"
   ]
  },
  {
   "cell_type": "code",
   "execution_count": null,
   "metadata": {},
   "outputs": [],
   "source": [
    "sns.boxplot(x='M', y='RUN',data=TH_16_KT)\n",
    "plt.show()"
   ]
  },
  {
   "cell_type": "code",
   "execution_count": null,
   "metadata": {},
   "outputs": [],
   "source": [
    "sns.boxplot(x='M', y='RUN',data=TH_16_NC)\n",
    "plt.show()"
   ]
  },
  {
   "cell_type": "code",
   "execution_count": null,
   "metadata": {},
   "outputs": [],
   "source": []
  },
  {
   "cell_type": "code",
   "execution_count": null,
   "metadata": {},
   "outputs": [],
   "source": []
  },
  {
   "cell_type": "code",
   "execution_count": 97,
   "metadata": {},
   "outputs": [],
   "source": [
    "P_16 =P_16[['PCODE','POSITION','NAME']]\n",
    "P_17 =P_17[['PCODE','POSITION','NAME']]\n",
    "P_18 =P_18[['PCODE','POSITION','NAME']]\n",
    "P_19 =P_19[['PCODE','POSITION','NAME']]\n",
    "P_20 =P_20[['PCODE','POSITION','NAME']]\n"
   ]
  },
  {
   "cell_type": "code",
   "execution_count": 98,
   "metadata": {},
   "outputs": [],
   "source": [
    "P_16 = P_16.rename({'PCODE':'P_ID'}, axis=1)\n",
    "P_17 = P_17.rename({'PCODE':'P_ID'}, axis=1)\n",
    "P_18 = P_18.rename({'PCODE':'P_ID'}, axis=1)\n",
    "P_19 = P_19.rename({'PCODE':'P_ID'}, axis=1)\n",
    "P_20 = P_20.rename({'PCODE':'P_ID'}, axis=1)"
   ]
  },
  {
   "cell_type": "code",
   "execution_count": 99,
   "metadata": {},
   "outputs": [],
   "source": [
    "P_P_16 =pd.merge(P_P_16, P_16, on=['P_ID'], how='left')\n",
    "P_P_17 =pd.merge(P_P_17, P_17, on=['P_ID'], how='left')\n",
    "P_P_18 =pd.merge(P_P_18, P_18, on=['P_ID'], how='left')\n",
    "P_P_19 =pd.merge(P_P_19, P_19, on=['P_ID'], how='left')\n",
    "P_P_20 =pd.merge(P_P_20, P_20, on=['P_ID'], how='left')\n"
   ]
  },
  {
   "cell_type": "code",
   "execution_count": 100,
   "metadata": {},
   "outputs": [],
   "source": [
    "P_H_16 =pd.merge(P_H_16, P_16, on=['P_ID'], how='left')\n",
    "P_H_17 =pd.merge(P_H_17, P_17, on=['P_ID'], how='left')\n",
    "P_H_18 =pd.merge(P_H_18, P_18, on=['P_ID'], how='left')\n",
    "P_H_19 =pd.merge(P_H_19, P_19, on=['P_ID'], how='left')\n",
    "P_H_20 =pd.merge(P_H_20, P_20, on=['P_ID'], how='left')"
   ]
  },
  {
   "cell_type": "code",
   "execution_count": 101,
   "metadata": {},
   "outputs": [],
   "source": [
    "P_P_16 =P_P_16[['P_ID','POSITION','NAME']]\n",
    "P_P_17 =P_P_17[['P_ID','POSITION','NAME']]\n",
    "P_P_18 =P_P_18[['P_ID','POSITION','NAME']]\n",
    "P_P_19 =P_P_19[['G_ID','P_ID','POSITION','NAME']]\n",
    "P_P_20 =P_P_20[['G_ID','P_ID','POSITION','NAME']]\n"
   ]
  },
  {
   "cell_type": "code",
   "execution_count": null,
   "metadata": {},
   "outputs": [],
   "source": []
  },
  {
   "cell_type": "code",
   "execution_count": 102,
   "metadata": {},
   "outputs": [],
   "source": [
    "a= P_P_16[P_P_16['POSITION']!='투']\n",
    "b= P_P_17[P_P_17['POSITION']!='투']\n",
    "c= P_P_18[P_P_18['POSITION']!='투']\n",
    "d= P_P_19[P_P_19['POSITION']!='투']\n",
    "e= P_P_20[P_P_20['POSITION']!='투']"
   ]
  },
  {
   "cell_type": "code",
   "execution_count": 103,
   "metadata": {},
   "outputs": [
    {
     "data": {
      "text/html": [
       "<div>\n",
       "<style scoped>\n",
       "    .dataframe tbody tr th:only-of-type {\n",
       "        vertical-align: middle;\n",
       "    }\n",
       "\n",
       "    .dataframe tbody tr th {\n",
       "        vertical-align: top;\n",
       "    }\n",
       "\n",
       "    .dataframe thead th {\n",
       "        text-align: right;\n",
       "    }\n",
       "</style>\n",
       "<table border=\"1\" class=\"dataframe\">\n",
       "  <thead>\n",
       "    <tr style=\"text-align: right;\">\n",
       "      <th></th>\n",
       "      <th>G_ID</th>\n",
       "      <th>P_ID</th>\n",
       "      <th>POSITION</th>\n",
       "      <th>NAME</th>\n",
       "    </tr>\n",
       "  </thead>\n",
       "  <tbody>\n",
       "    <tr>\n",
       "      <th>6155</th>\n",
       "      <td>20190929SSKT0</td>\n",
       "      <td>68050</td>\n",
       "      <td>외</td>\n",
       "      <td>강백호</td>\n",
       "    </tr>\n",
       "  </tbody>\n",
       "</table>\n",
       "</div>"
      ],
      "text/plain": [
       "               G_ID   P_ID POSITION NAME\n",
       "6155  20190929SSKT0  68050        외  강백호"
      ]
     },
     "execution_count": 103,
     "metadata": {},
     "output_type": "execute_result"
    }
   ],
   "source": [
    "d"
   ]
  },
  {
   "cell_type": "code",
   "execution_count": 104,
   "metadata": {},
   "outputs": [
    {
     "data": {
      "text/html": [
       "<div>\n",
       "<style scoped>\n",
       "    .dataframe tbody tr th:only-of-type {\n",
       "        vertical-align: middle;\n",
       "    }\n",
       "\n",
       "    .dataframe tbody tr th {\n",
       "        vertical-align: top;\n",
       "    }\n",
       "\n",
       "    .dataframe thead th {\n",
       "        text-align: right;\n",
       "    }\n",
       "</style>\n",
       "<table border=\"1\" class=\"dataframe\">\n",
       "  <thead>\n",
       "    <tr style=\"text-align: right;\">\n",
       "      <th></th>\n",
       "      <th>G_ID</th>\n",
       "      <th>P_ID</th>\n",
       "      <th>POSITION</th>\n",
       "      <th>NAME</th>\n",
       "    </tr>\n",
       "  </thead>\n",
       "  <tbody>\n",
       "    <tr>\n",
       "      <th>192</th>\n",
       "      <td>20200509HTSS0</td>\n",
       "      <td>62908</td>\n",
       "      <td>내</td>\n",
       "      <td>황윤호</td>\n",
       "    </tr>\n",
       "    <tr>\n",
       "      <th>1219</th>\n",
       "      <td>20200605NCHH0</td>\n",
       "      <td>69737</td>\n",
       "      <td>내</td>\n",
       "      <td>노시환</td>\n",
       "    </tr>\n",
       "  </tbody>\n",
       "</table>\n",
       "</div>"
      ],
      "text/plain": [
       "               G_ID   P_ID POSITION NAME\n",
       "192   20200509HTSS0  62908        내  황윤호\n",
       "1219  20200605NCHH0  69737        내  노시환"
      ]
     },
     "execution_count": 104,
     "metadata": {},
     "output_type": "execute_result"
    }
   ],
   "source": [
    "e"
   ]
  },
  {
   "cell_type": "code",
   "execution_count": null,
   "metadata": {},
   "outputs": [],
   "source": []
  },
  {
   "cell_type": "code",
   "execution_count": null,
   "metadata": {},
   "outputs": [],
   "source": []
  },
  {
   "cell_type": "code",
   "execution_count": null,
   "metadata": {},
   "outputs": [],
   "source": [
    "f= P_H_16[P_H_16['POSITION']=='투']\n",
    "g= P_H_17[P_H_17['POSITION']=='투']\n",
    "h= P_H_18[P_H_18['POSITION']=='투']\n",
    "i= P_H_19[P_H_19['POSITION']=='투']\n",
    "j= P_H_20[P_H_20['POSITION']=='투']"
   ]
  },
  {
   "cell_type": "code",
   "execution_count": null,
   "metadata": {},
   "outputs": [],
   "source": [
    "d"
   ]
  },
  {
   "cell_type": "code",
   "execution_count": null,
   "metadata": {},
   "outputs": [],
   "source": [
    "e"
   ]
  },
  {
   "cell_type": "code",
   "execution_count": null,
   "metadata": {},
   "outputs": [],
   "source": [
    "j"
   ]
  },
  {
   "cell_type": "code",
   "execution_count": null,
   "metadata": {},
   "outputs": [],
   "source": [
    "P_H_16 =P_H_16[['G_ID','P_ID','POSITION','NAME']]\n",
    "P_H_17 =P_H_17[['G_ID','P_ID','POSITION','NAME']]\n",
    "P_H_18 =P_H_18[['G_ID','P_ID','POSITION','NAME']]\n",
    "P_H_19 =P_H_19[['G_ID','P_ID','POSITION','NAME']]\n",
    "P_H_20 =P_H_20[['G_ID','P_ID','POSITION','NAME']]\n"
   ]
  }
 ],
 "metadata": {
  "kernelspec": {
   "display_name": "Python 3",
   "language": "python",
   "name": "python3"
  },
  "language_info": {
   "codemirror_mode": {
    "name": "ipython",
    "version": 3
   },
   "file_extension": ".py",
   "mimetype": "text/x-python",
   "name": "python",
   "nbconvert_exporter": "python",
   "pygments_lexer": "ipython3",
   "version": "3.7.9"
  }
 },
 "nbformat": 4,
 "nbformat_minor": 4
}
