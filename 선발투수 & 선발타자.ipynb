{
 "cells": [
  {
   "cell_type": "code",
   "execution_count": 1,
   "metadata": {},
   "outputs": [],
   "source": [
    "import pandas as pd\n",
    "import numpy as np\n",
    "from pandas import DataFrame as df\n",
    "import matplotlib.pyplot as plt\n",
    "import seaborn as sns\n",
    "import pylab\n",
    "\n",
    "import warnings\n",
    "warnings.filterwarnings(action='ignore')"
   ]
  },
  {
   "cell_type": "markdown",
   "metadata": {},
   "source": [
    "#### 개인타자"
   ]
  },
  {
   "cell_type": "code",
   "execution_count": 2,
   "metadata": {},
   "outputs": [],
   "source": [
    "# 개인타자 data\n",
    "P_H_16 = pd.read_csv('C:/Users/dudco/Desktop/2020bigcontest/2020_bigcontest_data/P_H_2016.csv',encoding='CP949')\n",
    "P_H_17 = pd.read_csv('C:/Users/dudco/Desktop/2020bigcontest/2020_bigcontest_data/P_H_2017.csv',encoding='CP949')\n",
    "P_H_18 = pd.read_csv('C:/Users/dudco/Desktop/2020bigcontest/2020_bigcontest_data/P_H_2018.csv',encoding='CP949')\n",
    "P_H_19 = pd.read_csv('C:/Users/dudco/Desktop/2020bigcontest/2020_bigcontest_data/P_H_2019.csv',encoding='CP949')\n",
    "P_H_20 = pd.read_csv('C:/Users/dudco/Desktop/2020bigcontest/2020_bigcontest_data/P_H_2020.csv',encoding='CP949')"
   ]
  },
  {
   "cell_type": "code",
   "execution_count": 3,
   "metadata": {},
   "outputs": [],
   "source": [
    "PH = pd.concat([P_H_16, P_H_17, P_H_18, P_H_19, P_H_20])"
   ]
  },
  {
   "cell_type": "code",
   "execution_count": 4,
   "metadata": {},
   "outputs": [],
   "source": [
    "PH.reset_index(drop=True, inplace=True)"
   ]
  },
  {
   "cell_type": "markdown",
   "metadata": {},
   "source": [
    "#### 개인투수"
   ]
  },
  {
   "cell_type": "code",
   "execution_count": 5,
   "metadata": {},
   "outputs": [],
   "source": [
    "# 개인투수 data\n",
    "P_P_16 = pd.read_csv('C:/Users/dudco/Desktop/2020bigcontest/2020_bigcontest_data/P_P_2016.csv',encoding='CP949')\n",
    "P_P_17 = pd.read_csv('C:/Users/dudco/Desktop/2020bigcontest/2020_bigcontest_data/P_P_2017.csv',encoding='CP949')\n",
    "P_P_18 = pd.read_csv('C:/Users/dudco/Desktop/2020bigcontest/2020_bigcontest_data/P_P_2018.csv',encoding='CP949')\n",
    "P_P_19 = pd.read_csv('C:/Users/dudco/Desktop/2020bigcontest/2020_bigcontest_data/P_P_2019.csv',encoding='CP949')\n",
    "P_P_20 = pd.read_csv('C:/Users/dudco/Desktop/2020bigcontest/2020_bigcontest_data/P_P_2020.csv',encoding='CP949')"
   ]
  },
  {
   "cell_type": "code",
   "execution_count": 6,
   "metadata": {},
   "outputs": [],
   "source": [
    "PP = pd.concat([P_P_16, P_P_17, P_P_18, P_P_19, P_P_20])"
   ]
  },
  {
   "cell_type": "code",
   "execution_count": 7,
   "metadata": {},
   "outputs": [],
   "source": [
    "PP.reset_index(drop=True, inplace=True)"
   ]
  },
  {
   "cell_type": "markdown",
   "metadata": {},
   "source": [
    "### 개인투수 파생변수 만들기"
   ]
  },
  {
   "cell_type": "markdown",
   "metadata": {},
   "source": [
    "#### INN 이닝수"
   ]
  },
  {
   "cell_type": "code",
   "execution_count": 8,
   "metadata": {},
   "outputs": [],
   "source": [
    "PP['INN'] = PP['INN2'] / 3"
   ]
  },
  {
   "cell_type": "markdown",
   "metadata": {},
   "source": [
    "#### ERA 평균자책점"
   ]
  },
  {
   "cell_type": "code",
   "execution_count": 9,
   "metadata": {},
   "outputs": [],
   "source": [
    "PP['ERA_n'] = PP['ER']*9\n",
    "PP['ERA_d'] = PP['INN']"
   ]
  },
  {
   "cell_type": "markdown",
   "metadata": {},
   "source": [
    "#### FIP "
   ]
  },
  {
   "cell_type": "code",
   "execution_count": 10,
   "metadata": {},
   "outputs": [],
   "source": [
    "PP['FIP_n'] = (PP['HR']*13 + (PP['BB']+PP['HP']-PP['IB'])*3 - PP['KK']*2) + 3.2*PP['INN']\n",
    "PP['FIP_d'] = PP['INN']"
   ]
  },
  {
   "cell_type": "markdown",
   "metadata": {},
   "source": [
    "#### KFIP"
   ]
  },
  {
   "cell_type": "code",
   "execution_count": 11,
   "metadata": {},
   "outputs": [],
   "source": [
    "PP['KFIP_n'] = (PP['HR']*14 + (PP['BB']+PP['HP'])*3 - PP['KK']) + 3.2*PP['INN'] \n",
    "PP['KFIP_d'] = PP['INN']\n",
    "\n",
    "# 음수를 없애기 위해 가중치 1 사용"
   ]
  },
  {
   "cell_type": "markdown",
   "metadata": {},
   "source": [
    "#### WHIP"
   ]
  },
  {
   "cell_type": "code",
   "execution_count": 12,
   "metadata": {},
   "outputs": [],
   "source": [
    "PP['WHIP_n'] = PP['HIT'] + PP['BB']\n",
    "PP['WHIP_d'] = PP['INN']"
   ]
  },
  {
   "cell_type": "markdown",
   "metadata": {},
   "source": [
    "#### PTB_ERC용"
   ]
  },
  {
   "cell_type": "code",
   "execution_count": 13,
   "metadata": {},
   "outputs": [],
   "source": [
    "PP['PTB'] = 0.89*(1.255*(PP['HIT']-PP['HR'])+4*PP['HR']) + 0.56*(PP['BB']+PP['HP'])"
   ]
  },
  {
   "cell_type": "markdown",
   "metadata": {},
   "source": [
    "#### ERC"
   ]
  },
  {
   "cell_type": "code",
   "execution_count": 14,
   "metadata": {},
   "outputs": [],
   "source": [
    "PP['ERC_n'] = (PP['HIT']+PP['BB']+PP['HP'])*PP['PTB']*9\n",
    "PP['ERC_d'] = PP['PA']*PP['INN']\n",
    "\n",
    "# -0.56 하거나 *0.75 해야함"
   ]
  },
  {
   "cell_type": "markdown",
   "metadata": {},
   "source": [
    "#### LOB_RT "
   ]
  },
  {
   "cell_type": "code",
   "execution_count": 15,
   "metadata": {},
   "outputs": [],
   "source": [
    "PP['LOB_n'] = (PP['HIT'] + PP['BB'] + PP['HP'] - PP['R'])\n",
    "PP['LOB_d'] = (PP['HIT'] + PP['BB'] + PP['HP'] - 1.4*PP['HR'])"
   ]
  },
  {
   "cell_type": "markdown",
   "metadata": {},
   "source": [
    "#### KwERA"
   ]
  },
  {
   "cell_type": "code",
   "execution_count": 16,
   "metadata": {},
   "outputs": [],
   "source": [
    "# 5.4 - (PP['KwERA_n']/PP['KwERA_d'])\n",
    "\n",
    "PP['KwERA_n'] = 12*(PP['KK'] - PP['BB'])\n",
    "PP['KwERA_d'] = PP['PA']"
   ]
  },
  {
   "cell_type": "markdown",
   "metadata": {},
   "source": [
    "#### BABIP"
   ]
  },
  {
   "cell_type": "code",
   "execution_count": 17,
   "metadata": {},
   "outputs": [],
   "source": [
    "PP['P_BABIP_n'] = PP['HIT'] - PP['HR']\n",
    "PP['P_BABIP_d'] = PP['AB'] - PP['KK']- PP['HR'] + PP['SF']"
   ]
  },
  {
   "cell_type": "markdown",
   "metadata": {},
   "source": [
    "#### 사이영포인트"
   ]
  },
  {
   "cell_type": "code",
   "execution_count": 18,
   "metadata": {},
   "outputs": [],
   "source": [
    "PP['SAP'] = (0.55*PP['INN']-PP['ER'])+PP['KK']/10"
   ]
  },
  {
   "cell_type": "markdown",
   "metadata": {},
   "source": [
    "#### K/BB"
   ]
  },
  {
   "cell_type": "code",
   "execution_count": 19,
   "metadata": {},
   "outputs": [],
   "source": [
    "PP['K/BB']=PP['BB']/PP['KK']"
   ]
  },
  {
   "cell_type": "markdown",
   "metadata": {},
   "source": [
    "#### H1 1루타"
   ]
  },
  {
   "cell_type": "code",
   "execution_count": 20,
   "metadata": {},
   "outputs": [],
   "source": [
    "PP['P_H1'] = PP['HIT'] - PP['H2'] - PP['H3'] - PP['HR']"
   ]
  },
  {
   "cell_type": "markdown",
   "metadata": {},
   "source": [
    "#### 이닝당 HIT 가중치"
   ]
  },
  {
   "cell_type": "code",
   "execution_count": 21,
   "metadata": {},
   "outputs": [],
   "source": [
    "PP['YANG_n'] = PP['P_H1'] + PP['H2']*2 + PP['H3']*3 + PP['HR']*4\n",
    "PP['YANG_d'] = PP['INN']"
   ]
  },
  {
   "cell_type": "markdown",
   "metadata": {},
   "source": [
    "### 개인투수 7묶음으로 나누기"
   ]
  },
  {
   "cell_type": "code",
   "execution_count": 94,
   "metadata": {},
   "outputs": [],
   "source": [
    "q=[\n",
    "    (PP['G_ID']>='20160401HHLG0') & (PP['G_ID']<='20160501NCLT0'),\n",
    "    (PP['G_ID']>='20160501OBHT0') & (PP['G_ID']<='20160526SKNC0'),\n",
    "    (PP['G_ID']>='20160527LGOB0') & (PP['G_ID']<='20160619SKLT0'),\n",
    "    (PP['G_ID']>='20160619WOHH0') & (PP['G_ID']<='20160720SSOB0'),\n",
    "    (PP['G_ID']>='20160721HTLT0') & (PP['G_ID']<='20160814HHHT0'),\n",
    "    (PP['G_ID']>='20160814KTNC0') & (PP['G_ID']<='20160908WOSK0'),\n",
    "    (PP['G_ID']>='20160909KTHH0') & (PP['G_ID']<='20161009WOLT0'),\n",
    "    (PP['G_ID']>='20170331HHOB0') & (PP['G_ID']<='20170428WOHH0'),\n",
    "    (PP['G_ID']>='20170429LGKT0') & (PP['G_ID']<='20170524HTHH0'),\n",
    "    (PP['G_ID']>='20170524KTSS0') & (PP['G_ID']<='20170616LTWO0'),\n",
    "    (PP['G_ID']>='20170616NCOB0') & (PP['G_ID']<='20170712WOOB0'),\n",
    "    (PP['G_ID']>='20170713LGSK0') & (PP['G_ID']<='20170809NCSK0'),\n",
    "    (PP['G_ID']>='20170809WOHT0') & (PP['G_ID']<='20170903LGNC0'),\n",
    "    (PP['G_ID']>='20170903SKKT0') & (PP['G_ID']<='20171003WOSS0'),\n",
    "    (PP['G_ID']>='20180324HHWO0') & (PP['G_ID']<='20180422LGNC0'),\n",
    "    (PP['G_ID']>='20180422SKLT0') & (PP['G_ID']<='20180518SSWO0'),\n",
    "    (PP['G_ID']>='20180519HHLG0') & (PP['G_ID']<='20180612KTOB0'),\n",
    "    (PP['G_ID']>='20180612LGNC0') & (PP['G_ID']<='20180707NCWO0'),\n",
    "    (PP['G_ID']>='20180707SSOB0') & (PP['G_ID']<='20180804SSLT0'),\n",
    "    (PP['G_ID']>='20180804WOKT0') & (PP['G_ID']<='20180915SKHT0'),\n",
    "    (PP['G_ID']>='20180915SSKT0') & (PP['G_ID']<='20181014OBLT0'),\n",
    "    (PP['G_ID']>='20190323HHOB0') & (PP['G_ID']<='20190420WOLG0'),\n",
    "    (PP['G_ID']>='20190421KTLT0') & (PP['G_ID']<='20190516LGLT0'),\n",
    "    (PP['G_ID']>='20190516SKNC0') & (PP['G_ID']<='20190608WOOB0'),\n",
    "    (PP['G_ID']>='20190609HTNC0') & (PP['G_ID']<='20190704LTSK0'),\n",
    "    (PP['G_ID']>='20190704NCHT0') & (PP['G_ID']<='20190807LGHT0'),\n",
    "    (PP['G_ID']>='20190807SSNC0') & (PP['G_ID']<='20190831SSOB0'),\n",
    "    (PP['G_ID']>='20190831WONC0') & (PP['G_ID']<='20191001WOLT0'),\n",
    "    (PP['G_ID']>='20200505HHSK0') & (PP['G_ID']<='20200602SKNC0'),\n",
    "    (PP['G_ID']>='20200602SSLG0') & (PP['G_ID']<='20200626HTWO0'),\n",
    "    (PP['G_ID']>='20200626KTHH0') & (PP['G_ID']<='20200719WOSK0')\n",
    "\n",
    "]\n",
    "choicelist =[1,2,3,4,5,6,7,8,9,10,11,12,13,14,15,16,17,18,19,20,21,22,23,24,25,26,27,28,29,30,31]\n",
    "PP['q']=np.select(q, choicelist)"
   ]
  },
  {
   "cell_type": "code",
   "execution_count": 95,
   "metadata": {},
   "outputs": [],
   "source": [
    "# 분모, 분자 상관유무에 따라 나눔\n",
    "\n",
    "PP1= PP[['G_ID', 'GDAY_DS', 'T_ID', 'VS_T_ID', 'HEADER_NO', 'TB_SC','P_ID', \n",
    "         'START_CK','PA', 'AB', 'HOLD', 'INN2', 'BF', 'HIT', 'H2', 'H3',\n",
    "         'SB', 'HR', 'CS', 'SF', 'BB', 'IB', 'HP', 'KK',\n",
    "         'GD', 'WP', 'BK', 'ERR', 'R', 'ER', 'P_WHIP_RT', 'P2_WHIP_RT',\n",
    "         'CB_WHIP_RT','q','K/BB', 'SAP']]\n",
    "\n",
    "PP2 = PP[['G_ID', 'GDAY_DS', 'T_ID', 'VS_T_ID', 'HEADER_NO', 'TB_SC', 'q','P_ID',\n",
    "          'START_CK', 'ERA_n', 'ERA_d', 'FIP_n', 'FIP_d', 'KFIP_n', 'KFIP_d', 'WHIP_n',\n",
    "          'WHIP_d', 'ERC_n', 'ERC_d', 'LOB_n', 'LOB_d', 'KwERA_n',\n",
    "          'KwERA_d', 'P_BABIP_n', 'P_BABIP_d', 'YANG_n', 'YANG_d']]\n",
    "\n",
    "PP2['ERA'] = 1\n",
    "PP2['FIP'] = 1\n",
    "PP2['KFIP'] = 1\n",
    "PP2['WHIP'] = 1\n",
    "PP2['ERC'] = 1\n",
    "PP2['LOB_RT'] = 1\n",
    "PP2['KwERA'] = 1\n",
    "PP2['SAP'] = 1\n",
    "PP2['P_BABIP'] = 1\n",
    "PP2['YANG'] = 1\n",
    "\n",
    "\n",
    "PP1_16_1=PP1[PP1['q']==1]\n",
    "PP1_16_2=PP1[PP1['q']==2]\n",
    "PP1_16_3=PP1[PP1['q']==3]\n",
    "PP1_16_4=PP1[PP1['q']==4]\n",
    "PP1_16_5=PP1[PP1['q']==5]\n",
    "PP1_16_6=PP1[PP1['q']==6]\n",
    "PP1_16_7=PP1[PP1['q']==7]\n",
    "\n",
    "PP2_16_1=PP2[PP2['q']==1]\n",
    "PP2_16_2=PP2[PP2['q']==2]\n",
    "PP2_16_3=PP2[PP2['q']==3]\n",
    "PP2_16_4=PP2[PP2['q']==4]\n",
    "PP2_16_5=PP2[PP2['q']==5]\n",
    "PP2_16_6=PP2[PP2['q']==6]\n",
    "PP2_16_7=PP2[PP2['q']==7]\n",
    "\n",
    "PP1_17_1=PP1[PP1['q']==8]\n",
    "PP1_17_2=PP1[PP1['q']==9]\n",
    "PP1_17_3=PP1[PP1['q']==10]\n",
    "PP1_17_4=PP1[PP1['q']==11]\n",
    "PP1_17_5=PP1[PP1['q']==12]\n",
    "PP1_17_6=PP1[PP1['q']==13]\n",
    "PP1_17_7=PP1[PP1['q']==14]\n",
    "\n",
    "PP2_17_1=PP2[PP2['q']==8]\n",
    "PP2_17_2=PP2[PP2['q']==9]\n",
    "PP2_17_3=PP2[PP2['q']==10]\n",
    "PP2_17_4=PP2[PP2['q']==11]\n",
    "PP2_17_5=PP2[PP2['q']==12]\n",
    "PP2_17_6=PP2[PP2['q']==13]\n",
    "PP2_17_7=PP2[PP2['q']==14]\n",
    "\n",
    "PP1_18_1=PP1[PP1['q']==15]\n",
    "PP1_18_2=PP1[PP1['q']==16]\n",
    "PP1_18_3=PP1[PP1['q']==17]\n",
    "PP1_18_4=PP1[PP1['q']==18]\n",
    "PP1_18_5=PP1[PP1['q']==19]\n",
    "PP1_18_6=PP1[PP1['q']==20]\n",
    "PP1_18_7=PP1[PP1['q']==21]\n",
    "\n",
    "PP2_18_1=PP2[PP2['q']==15]\n",
    "PP2_18_2=PP2[PP2['q']==16]\n",
    "PP2_18_3=PP2[PP2['q']==17]\n",
    "PP2_18_4=PP2[PP2['q']==18]\n",
    "PP2_18_5=PP2[PP2['q']==19]\n",
    "PP2_18_6=PP2[PP2['q']==20]\n",
    "PP2_18_7=PP2[PP2['q']==21]\n",
    "\n",
    "PP1_19_1=PP1[PP1['q']==22]\n",
    "PP1_19_2=PP1[PP1['q']==23]\n",
    "PP1_19_3=PP1[PP1['q']==24]\n",
    "PP1_19_4=PP1[PP1['q']==25]\n",
    "PP1_19_5=PP1[PP1['q']==26]\n",
    "PP1_19_6=PP1[PP1['q']==27]\n",
    "PP1_19_7=PP1[PP1['q']==28]\n",
    "\n",
    "PP2_19_1=PP2[PP2['q']==22]\n",
    "PP2_19_2=PP2[PP2['q']==23]\n",
    "PP2_19_3=PP2[PP2['q']==24]\n",
    "PP2_19_4=PP2[PP2['q']==25]\n",
    "PP2_19_5=PP2[PP2['q']==26]\n",
    "PP2_19_6=PP2[PP2['q']==27]\n",
    "PP2_19_7=PP2[PP2['q']==28]\n",
    "\n",
    "PP1_20_1=PP1[PP1['q']==29]\n",
    "PP1_20_2=PP1[PP1['q']==30]\n",
    "PP1_20_3=PP1[PP1['q']==31]\n",
    "\n",
    "PP2_20_1=PP2[PP2['q']==29]\n",
    "PP2_20_2=PP2[PP2['q']==30]\n",
    "PP2_20_3=PP2[PP2['q']==31]"
   ]
  },
  {
   "cell_type": "code",
   "execution_count": 96,
   "metadata": {},
   "outputs": [],
   "source": [
    "# 입력변수 만들 데이터셋 \n",
    "\n",
    "PP1_16_12=pd.concat([PP1_16_1,PP1_16_2])\n",
    "PP1_16_23=pd.concat([PP1_16_2,PP1_16_3])\n",
    "PP1_16_34=pd.concat([PP1_16_3,PP1_16_4])\n",
    "PP1_16_45=pd.concat([PP1_16_4,PP1_16_5])\n",
    "PP1_16_56=pd.concat([PP1_16_5,PP1_16_6])\n",
    "\n",
    "PP2_16_12=pd.concat([PP2_16_1,PP2_16_2])\n",
    "PP2_16_23=pd.concat([PP2_16_2,PP2_16_3])\n",
    "PP2_16_34=pd.concat([PP2_16_3,PP2_16_4])\n",
    "PP2_16_45=pd.concat([PP2_16_4,PP2_16_5])\n",
    "PP2_16_56=pd.concat([PP2_16_5,PP2_16_6])\n",
    "\n",
    "PP1_17_12=pd.concat([PP1_17_1,PP1_17_2])\n",
    "PP1_17_23=pd.concat([PP1_17_2,PP1_17_3])\n",
    "PP1_17_34=pd.concat([PP1_17_3,PP1_17_4])\n",
    "PP1_17_45=pd.concat([PP1_17_4,PP1_17_5])\n",
    "PP1_17_56=pd.concat([PP1_17_5,PP1_17_6])\n",
    "\n",
    "PP2_17_12=pd.concat([PP2_17_1,PP2_17_2])\n",
    "PP2_17_23=pd.concat([PP2_17_2,PP2_17_3])\n",
    "PP2_17_34=pd.concat([PP2_17_3,PP2_17_4])\n",
    "PP2_17_45=pd.concat([PP2_17_4,PP2_17_5])\n",
    "PP2_17_56=pd.concat([PP2_17_5,PP2_17_6])\n",
    "\n",
    "PP1_18_12=pd.concat([PP1_18_1,PP1_18_2])\n",
    "PP1_18_23=pd.concat([PP1_18_2,PP1_18_3])\n",
    "PP1_18_34=pd.concat([PP1_18_3,PP1_18_4])\n",
    "PP1_18_45=pd.concat([PP1_18_4,PP1_18_5])\n",
    "PP1_18_56=pd.concat([PP1_18_5,PP1_18_6])\n",
    "\n",
    "PP2_18_12=pd.concat([PP2_18_1,PP2_18_2])\n",
    "PP2_18_23=pd.concat([PP2_18_2,PP2_18_3])\n",
    "PP2_18_34=pd.concat([PP2_18_3,PP2_18_4])\n",
    "PP2_18_45=pd.concat([PP2_18_4,PP2_18_5])\n",
    "PP2_18_56=pd.concat([PP2_18_5,PP2_18_6])\n",
    "\n",
    "PP1_19_12=pd.concat([PP1_19_1,PP1_19_2])\n",
    "PP1_19_23=pd.concat([PP1_19_2,PP1_19_3])\n",
    "PP1_19_34=pd.concat([PP1_19_3,PP1_19_4])\n",
    "PP1_19_45=pd.concat([PP1_19_4,PP1_19_5])\n",
    "PP1_19_56=pd.concat([PP1_19_5,PP1_19_6])\n",
    "\n",
    "PP2_19_12=pd.concat([PP2_19_1,PP2_19_2])\n",
    "PP2_19_23=pd.concat([PP2_19_2,PP2_19_3])\n",
    "PP2_19_34=pd.concat([PP2_19_3,PP2_19_4])\n",
    "PP2_19_45=pd.concat([PP2_19_4,PP2_19_5])\n",
    "PP2_19_56=pd.concat([PP2_19_5,PP2_19_6])\n",
    "\n",
    "PP1_20_12=pd.concat([PP1_20_1,PP1_20_2])\n",
    "PP1_20_23=pd.concat([PP1_20_2,PP1_20_3])\n",
    "\n",
    "PP2_20_12=pd.concat([PP2_20_1,PP2_20_2])\n",
    "PP2_20_23=pd.concat([PP2_20_2,PP2_20_3])"
   ]
  },
  {
   "cell_type": "code",
   "execution_count": 97,
   "metadata": {},
   "outputs": [],
   "source": [
    "# 분석용 데이터셋 \n",
    "\n",
    "SP = PP[PP['START_CK']==1]\n",
    "P1 = SP[['G_ID', 'GDAY_DS', 'T_ID', 'VS_T_ID', 'HEADER_NO', 'TB_SC', 'P_ID','q']]\n",
    "\n",
    "P1_16_3=P1[P1['q']==3]\n",
    "P1_16_4=P1[P1['q']==4]\n",
    "P1_16_5=P1[P1['q']==5]\n",
    "P1_16_6=P1[P1['q']==6]\n",
    "P1_16_7=P1[P1['q']==7]\n",
    "\n",
    "P1_17_3=P1[P1['q']==10]\n",
    "P1_17_4=P1[P1['q']==11]\n",
    "P1_17_5=P1[P1['q']==12]\n",
    "P1_17_6=P1[P1['q']==13]\n",
    "P1_17_7=P1[P1['q']==14]\n",
    "\n",
    "P1_18_3=P1[P1['q']==17]\n",
    "P1_18_4=P1[P1['q']==18]\n",
    "P1_18_5=P1[P1['q']==19]\n",
    "P1_18_6=P1[P1['q']==20]\n",
    "P1_18_7=P1[P1['q']==21]\n",
    "\n",
    "P1_19_3=P1[P1['q']==24]\n",
    "P1_19_4=P1[P1['q']==25]\n",
    "P1_19_5=P1[P1['q']==26]\n",
    "P1_19_6=P1[P1['q']==27]\n",
    "P1_19_7=P1[P1['q']==28]\n",
    "\n",
    "P1_20_3=P1[P1['q']==31]\n",
    "\n",
    "\n",
    "P2_16_3=P1[P1['q']==3]\n",
    "P2_16_4=P1[P1['q']==4]\n",
    "P2_16_5=P1[P1['q']==5]\n",
    "P2_16_6=P1[P1['q']==6]\n",
    "P2_16_7=P1[P1['q']==7]\n",
    "\n",
    "P2_17_3=P1[P1['q']==10]\n",
    "P2_17_4=P1[P1['q']==11]\n",
    "P2_17_5=P1[P1['q']==12]\n",
    "P2_17_6=P1[P1['q']==13]\n",
    "P2_17_7=P1[P1['q']==14]\n",
    "\n",
    "P2_18_3=P1[P1['q']==17]\n",
    "P2_18_4=P1[P1['q']==18]\n",
    "P2_18_5=P1[P1['q']==19]\n",
    "P2_18_6=P1[P1['q']==20]\n",
    "P2_18_7=P1[P1['q']==21]\n",
    "\n",
    "P2_19_3=P1[P1['q']==24]\n",
    "P2_19_4=P1[P1['q']==25]\n",
    "P2_19_5=P1[P1['q']==26]\n",
    "P2_19_6=P1[P1['q']==27]\n",
    "P2_19_7=P1[P1['q']==28]\n",
    "\n",
    "P2_20_3=P1[P1['q']==31]"
   ]
  },
  {
   "cell_type": "markdown",
   "metadata": {},
   "source": [
    "### 선발투수 평균 입력변수"
   ]
  },
  {
   "cell_type": "code",
   "execution_count": 98,
   "metadata": {},
   "outputs": [],
   "source": [
    "# 선발투수 평균 입력변수로 변환하는 함수\n",
    "def PS1_MEAN(dataset):\n",
    "    \n",
    "    PPS = dataset[dataset['START_CK']==1]\n",
    "    PS1_MEAN = PPS.groupby(['P_ID'], as_index=False).mean()\n",
    "    \n",
    "    PS1_MEAN = PS1_MEAN.drop(['GDAY_DS','HEADER_NO','START_CK','HOLD','q'], axis=1)\n",
    "    \n",
    "    return PS1_MEAN"
   ]
  },
  {
   "cell_type": "code",
   "execution_count": 99,
   "metadata": {},
   "outputs": [],
   "source": [
    "# 입력변수랑 분석 데이터셋 JOIN\n",
    "\n",
    "def PS_YEAR_NUM(dataset, dataset2):\n",
    "    \n",
    "    dataset = PS1_MEAN(dataset)\n",
    "    dataset2 = pd.merge(dataset2, dataset, on=['P_ID'], how='left')\n",
    "    dataset2 = dataset2.drop(['q'],axis=1)\n",
    "    \n",
    "    return dataset2"
   ]
  },
  {
   "cell_type": "code",
   "execution_count": 100,
   "metadata": {
    "scrolled": true
   },
   "outputs": [],
   "source": [
    "# 분석 데이터셋 중간완성1\n",
    "\n",
    "PS1_16_3 = PS_YEAR_NUM(PP1_16_12, P1_16_3)\n",
    "PS1_16_4 = PS_YEAR_NUM(PP1_16_23, P1_16_4)\n",
    "PS1_16_5 = PS_YEAR_NUM(PP1_16_34, P1_16_5)\n",
    "PS1_16_6 = PS_YEAR_NUM(PP1_16_45, P1_16_6)\n",
    "PS1_16_7 = PS_YEAR_NUM(PP1_16_56, P1_16_7)\n",
    "\n",
    "PS1_17_3 = PS_YEAR_NUM(PP1_17_12, P1_17_3)\n",
    "PS1_17_4 = PS_YEAR_NUM(PP1_17_23, P1_17_4)\n",
    "PS1_17_5 = PS_YEAR_NUM(PP1_17_34, P1_17_5)\n",
    "PS1_17_6 = PS_YEAR_NUM(PP1_17_45, P1_17_6)\n",
    "PS1_17_7 = PS_YEAR_NUM(PP1_17_56, P1_17_7)\n",
    "\n",
    "PS1_18_3 = PS_YEAR_NUM(PP1_18_12, P1_18_3)\n",
    "PS1_18_4 = PS_YEAR_NUM(PP1_18_23, P1_18_4)\n",
    "PS1_18_5 = PS_YEAR_NUM(PP1_18_34, P1_18_5)\n",
    "PS1_18_6 = PS_YEAR_NUM(PP1_18_45, P1_18_6)\n",
    "PS1_18_7 = PS_YEAR_NUM(PP1_18_56, P1_18_7)\n",
    "\n",
    "PS1_19_3 = PS_YEAR_NUM(PP1_19_12, P1_19_3)\n",
    "PS1_19_4 = PS_YEAR_NUM(PP1_19_23, P1_19_4)\n",
    "PS1_19_5 = PS_YEAR_NUM(PP1_19_34, P1_19_5)\n",
    "PS1_19_6 = PS_YEAR_NUM(PP1_19_45, P1_19_6)\n",
    "PS1_19_7 = PS_YEAR_NUM(PP1_19_56, P1_19_7)\n",
    "\n",
    "PS1_20_3 = PS_YEAR_NUM(PP1_20_12, P1_20_3)\n"
   ]
  },
  {
   "cell_type": "code",
   "execution_count": 101,
   "metadata": {},
   "outputs": [],
   "source": [
    "# 빌런들 대체하는 선발투수 평균 구하는 함수\n",
    "def PSV_MEAN(dataset):\n",
    "    \n",
    "    PPS=dataset[dataset['START_CK']==1]\n",
    "    PPS = PPS.drop(['GDAY_DS','HEADER_NO','P_ID','START_CK','HOLD','q'], axis=1)\n",
    "    PSV_MEAN = PPS.mean()\n",
    "    \n",
    "    return PSV_MEAN"
   ]
  },
  {
   "cell_type": "code",
   "execution_count": 102,
   "metadata": {
    "scrolled": false
   },
   "outputs": [],
   "source": [
    "# 분석 데이터셋과 JOIN\n",
    "\n",
    "def PSV_YEAR_NUM(dataset, dataset2):\n",
    "    \n",
    "    dataset = PSV_MEAN(dataset)\n",
    "    dataset2 = dataset2.fillna(dataset)\n",
    "    \n",
    "    return dataset2"
   ]
  },
  {
   "cell_type": "code",
   "execution_count": 103,
   "metadata": {},
   "outputs": [],
   "source": [
    "# 분석 데이터셋 완성1\n",
    "\n",
    "PS1_16_3 = PSV_YEAR_NUM(PP1_16_12, PS1_16_3)\n",
    "PS1_16_4 = PSV_YEAR_NUM(PP1_16_23, PS1_16_4)\n",
    "PS1_16_5 = PSV_YEAR_NUM(PP1_16_34, PS1_16_5)\n",
    "PS1_16_6 = PSV_YEAR_NUM(PP1_16_45, PS1_16_6)\n",
    "PS1_16_7 = PSV_YEAR_NUM(PP1_16_56, PS1_16_7)\n",
    "\n",
    "PS1_17_3 = PSV_YEAR_NUM(PP1_17_12, PS1_17_3)\n",
    "PS1_17_4 = PSV_YEAR_NUM(PP1_17_23, PS1_17_4)\n",
    "PS1_17_5 = PSV_YEAR_NUM(PP1_17_34, PS1_17_5)\n",
    "PS1_17_6 = PSV_YEAR_NUM(PP1_17_45, PS1_17_6)\n",
    "PS1_17_7 = PSV_YEAR_NUM(PP1_17_56, PS1_17_7)\n",
    "\n",
    "PS1_18_3 = PSV_YEAR_NUM(PP1_18_12, PS1_18_3)\n",
    "PS1_18_4 = PSV_YEAR_NUM(PP1_18_23, PS1_18_4)\n",
    "PS1_18_5 = PSV_YEAR_NUM(PP1_18_34, PS1_18_5)\n",
    "PS1_18_6 = PSV_YEAR_NUM(PP1_18_45, PS1_18_6)\n",
    "PS1_18_7 = PSV_YEAR_NUM(PP1_18_56, PS1_18_7)\n",
    "\n",
    "PS1_19_3 = PSV_YEAR_NUM(PP1_19_12, PS1_19_3)\n",
    "PS1_19_4 = PSV_YEAR_NUM(PP1_19_23, PS1_19_4)\n",
    "PS1_19_5 = PSV_YEAR_NUM(PP1_19_34, PS1_19_5)\n",
    "PS1_19_6 = PSV_YEAR_NUM(PP1_19_45, PS1_19_6)\n",
    "PS1_19_7 = PSV_YEAR_NUM(PP1_19_56, PS1_19_7)\n",
    "\n",
    "PS1_20_3 = PSV_YEAR_NUM(PP1_20_12, PS1_20_3)\n",
    "\n",
    "PS1 = pd.concat([PS1_16_3, PS1_16_4, PS1_16_5, PS1_16_6, PS1_16_7,\n",
    "                PS1_17_3, PS1_17_4, PS1_17_5, PS1_17_6, PS1_17_7,\n",
    "                PS1_18_3, PS1_18_4, PS1_18_5, PS1_18_6, PS1_18_7,\n",
    "                PS1_19_3, PS1_19_4, PS1_19_5, PS1_19_6, PS1_19_7,\n",
    "                PS1_20_3])\n",
    "PS1.reset_index(drop=True, inplace=True)"
   ]
  },
  {
   "cell_type": "code",
   "execution_count": 104,
   "metadata": {},
   "outputs": [],
   "source": [
    "PS1 = PS1.rename({'P_ID': 'PS_P_ID','PA':'PS_PA','AB':'PS_AB','INN2':'PS_INN2','BF':'PS_BF',\n",
    "                 'HIT':'PS_HIT','H2':'PS_H2','H3':'PS_H3','SB':'PS_SB','HR':'PS_HR',\n",
    "                 'CS':'PS_CS','SF':'PS_SF','BB':'PS_BB','IB':'PS_IB','HP':'PS_HP','KK':'PS_KK',\n",
    "                 'GD':'PS_GD','WP':'PS_WP','BK':'PS_BK','ERR':'PS_ERR','R':'PS_R','ER':'PS_ER',\n",
    "                 'P_WHIP_RT':'PS_P_WHIP_RT','P2_WHIP_RT':'PS_P2_WHIP_RT','CB_WHIP_RT':'PS_CB_WHIP_RT',\n",
    "                 'K/BB':'PS_K/BB','SAP':'PS_SAP'}, axis='columns')"
   ]
  },
  {
   "cell_type": "code",
   "execution_count": 36,
   "metadata": {},
   "outputs": [],
   "source": [
    "# 선발투수 평균 입력변수로 변환하는 함수\n",
    "def PS2_MEAN(dataset):\n",
    "    \n",
    "    PPS = dataset[dataset['START_CK']==1]\n",
    "    PS2_MEAN = PPS.groupby(['P_ID'], as_index=False).sum()\n",
    "    \n",
    "    PS2_MEAN = PS2_MEAN.drop(['GDAY_DS','HEADER_NO','START_CK','q'], axis=1)\n",
    "    \n",
    "    PS2_MEAN['ERA'] = PS2_MEAN['ERA_n']/PS2_MEAN['ERA_d']\n",
    "    PS2_MEAN['FIP'] = PS2_MEAN['FIP_n']/PS2_MEAN['FIP_d']\n",
    "    PS2_MEAN['KFIP'] = PS2_MEAN['KFIP_n']/PS2_MEAN['KFIP_d']\n",
    "    PS2_MEAN['WHIP'] = PS2_MEAN['WHIP_n']/PS2_MEAN['WHIP_d']\n",
    "    PS2_MEAN['ERC'] = PS2_MEAN['ERC_n']/PS2_MEAN['ERC_d']\n",
    "    PS2_MEAN['LOB_RT'] = PS2_MEAN['LOB_n']/PS2_MEAN['LOB_d']\n",
    "    PS2_MEAN['KwERA'] = PS2_MEAN['KwERA_n']/PS2_MEAN['KwERA_d']\n",
    "    PS2_MEAN['P_BABIP'] = PS2_MEAN['P_BABIP_n']/PS2_MEAN['P_BABIP_d']\n",
    "    PS2_MEAN['YANG'] = PS2_MEAN['YANG_n']/PS2_MEAN['YANG_d']\n",
    "    \n",
    "    PS2_MEAN = PS2_MEAN.drop(['ERA_n','ERA_d','FIP_n','FIP_d','KFIP_n','KFIP_d',\n",
    "                           'WHIP_n','WHIP_d','ERC_n','ERC_d','LOB_n','LOB_d',\n",
    "                            'KwERA_n','KwERA_d','SAP','P_BABIP_n','P_BABIP_d','YANG_n','YANG_d'], axis=1)\n",
    "    \n",
    "    return PS2_MEAN"
   ]
  },
  {
   "cell_type": "code",
   "execution_count": 37,
   "metadata": {},
   "outputs": [],
   "source": [
    "# 입력변수랑 분석 데이터셋 JOIN\n",
    "\n",
    "def PS2_YEAR_NUM(dataset, dataset2):\n",
    "    \n",
    "    dataset = PS2_MEAN(dataset)\n",
    "    dataset2 = pd.merge(dataset2, dataset, on=['P_ID'], how='left')\n",
    "    dataset2 = dataset2.drop(['q'],axis=1)\n",
    "    \n",
    "    return dataset2"
   ]
  },
  {
   "cell_type": "code",
   "execution_count": 115,
   "metadata": {},
   "outputs": [],
   "source": [
    "# 분석 데이터셋 중간완성2\n",
    "\n",
    "PS2_16_3 = PS2_YEAR_NUM(PP2_16_12, P2_16_3)\n",
    "PS2_16_4 = PS2_YEAR_NUM(PP2_16_23, P2_16_4)\n",
    "PS2_16_5 = PS2_YEAR_NUM(PP2_16_34, P2_16_5)\n",
    "PS2_16_6 = PS2_YEAR_NUM(PP2_16_45, P2_16_6)\n",
    "PS2_16_7 = PS2_YEAR_NUM(PP2_16_56, P2_16_7)\n",
    "\n",
    "PS2_17_3 = PS2_YEAR_NUM(PP2_17_12, P2_17_3)\n",
    "PS2_17_4 = PS2_YEAR_NUM(PP2_17_23, P2_17_4)\n",
    "PS2_17_5 = PS2_YEAR_NUM(PP2_17_34, P2_17_5)\n",
    "PS2_17_6 = PS2_YEAR_NUM(PP2_17_45, P2_17_6)\n",
    "PS2_17_7 = PS2_YEAR_NUM(PP2_17_56, P2_17_7)\n",
    "\n",
    "PS2_18_3 = PS2_YEAR_NUM(PP2_18_12, P2_18_3)\n",
    "PS2_18_4 = PS2_YEAR_NUM(PP2_18_23, P2_18_4)\n",
    "PS2_18_5 = PS2_YEAR_NUM(PP2_18_34, P2_18_5)\n",
    "PS2_18_6 = PS2_YEAR_NUM(PP2_18_45, P2_18_6)\n",
    "PS2_18_7 = PS2_YEAR_NUM(PP2_18_56, P2_18_7)\n",
    "\n",
    "PS2_19_3 = PS2_YEAR_NUM(PP2_19_12, P2_19_3)\n",
    "PS2_19_4 = PS2_YEAR_NUM(PP2_19_23, P2_19_4)\n",
    "PS2_19_5 = PS2_YEAR_NUM(PP2_19_34, P2_19_5)\n",
    "PS2_19_6 = PS2_YEAR_NUM(PP2_19_45, P2_19_6)\n",
    "PS2_19_7 = PS2_YEAR_NUM(PP2_19_56, P2_19_7)\n",
    "\n",
    "PS2_20_3 = PS2_YEAR_NUM(PP2_20_12, P2_20_3)\n"
   ]
  },
  {
   "cell_type": "code",
   "execution_count": 130,
   "metadata": {},
   "outputs": [],
   "source": [
    "# 빌런들 대체하는 선발투수 평균 구하는 함수\n",
    "def PSV2_MEAN(dataset):\n",
    "    \n",
    "    PPS2=dataset[dataset['START_CK']==1]\n",
    "    PPS2 = PPS2.drop(['G_ID','GDAY_DS','T_ID','VS_T_ID','HEADER_NO','TB_SC','P_ID'], axis=1)\n",
    "    PSV2_MEAN = PPS2.mean()\n",
    "    \n",
    "    return PSV2_MEAN\n"
   ]
  },
  {
   "cell_type": "code",
   "execution_count": 132,
   "metadata": {},
   "outputs": [],
   "source": [
    "# 분석 데이터셋과 JOIN\n",
    "\n",
    "def PSV2_YEAR_NUM(dataset, dataset2):\n",
    "    \n",
    "    dataset = PSV2_MEAN(dataset)\n",
    "    dataset2 = dataset2.fillna(dataset)\n",
    "    \n",
    "    return dataset2\n"
   ]
  },
  {
   "cell_type": "code",
   "execution_count": 133,
   "metadata": {},
   "outputs": [],
   "source": [
    "# 분석 데이터셋 완성2\n",
    "\n",
    "PS2_16_3 = PSV2_YEAR_NUM(PP2_16_12, PS2_16_3)\n",
    "PS2_16_4 = PSV2_YEAR_NUM(PP2_16_23, PS2_16_4)\n",
    "PS2_16_5 = PSV2_YEAR_NUM(PP2_16_34, PS2_16_5)\n",
    "PS2_16_6 = PSV2_YEAR_NUM(PP2_16_45, PS2_16_6)\n",
    "PS2_16_7 = PSV2_YEAR_NUM(PP2_16_56, PS2_16_7)\n",
    "\n",
    "PS2_17_3 = PSV2_YEAR_NUM(PP2_17_12, PS2_17_3)\n",
    "PS2_17_4 = PSV2_YEAR_NUM(PP2_17_23, PS2_17_4)\n",
    "PS2_17_5 = PSV2_YEAR_NUM(PP2_17_34, PS2_17_5)\n",
    "PS2_17_6 = PSV2_YEAR_NUM(PP2_17_45, PS2_17_6)\n",
    "PS2_17_7 = PSV2_YEAR_NUM(PP2_17_56, PS2_17_7)\n",
    "\n",
    "PS2_18_3 = PSV2_YEAR_NUM(PP2_18_12, PS2_18_3)\n",
    "PS2_18_4 = PSV2_YEAR_NUM(PP2_18_23, PS2_18_4)\n",
    "PS2_18_5 = PSV2_YEAR_NUM(PP2_18_34, PS2_18_5)\n",
    "PS2_18_6 = PSV2_YEAR_NUM(PP2_18_45, PS2_18_6)\n",
    "PS2_18_7 = PSV2_YEAR_NUM(PP2_18_56, PS2_18_7)\n",
    "\n",
    "PS2_19_3 = PSV2_YEAR_NUM(PP2_19_12, PS2_19_3)\n",
    "PS2_19_4 = PSV2_YEAR_NUM(PP2_19_23, PS2_19_4)\n",
    "PS2_19_5 = PSV2_YEAR_NUM(PP2_19_34, PS2_19_5)\n",
    "PS2_19_6 = PSV2_YEAR_NUM(PP2_19_45, PS2_19_6)\n",
    "PS2_19_7 = PSV2_YEAR_NUM(PP2_19_56, PS2_19_7)\n",
    "\n",
    "PS2_20_3 = PSV2_YEAR_NUM(PP2_20_12, PS2_20_3)\n",
    "\n",
    "PS2 = pd.concat([PS2_16_3, PS2_16_4, PS2_16_5, PS2_16_6, PS2_16_7,\n",
    "                PS2_17_3, PS2_17_4, PS2_17_5, PS2_17_6, PS2_17_7,\n",
    "                PS2_18_3, PS2_18_4, PS2_18_5, PS2_18_6, PS2_18_7,\n",
    "                PS2_19_3, PS2_19_4, PS2_19_5, PS2_19_6, PS2_19_7,\n",
    "                PS2_20_3])\n",
    "PS2.reset_index(drop=True, inplace=True)"
   ]
  },
  {
   "cell_type": "code",
   "execution_count": 135,
   "metadata": {},
   "outputs": [],
   "source": [
    "PS2 = PS2.rename({'P_ID': 'PS_P_ID','ERA':'PS_ERA','FIP':'PS_FIP','KFIP':'PS_KFIP',\n",
    "                 'WHIP':'PS_WHIP','ERC':'PS_ERC','LOB_RT':'PS_LOB_RT','KwERA':'PS_KwERA',\n",
    "                 'P_BABIP':'PS_P_BABIP','YANG':'PS_YANG'}, axis='columns')"
   ]
  },
  {
   "cell_type": "code",
   "execution_count": 137,
   "metadata": {},
   "outputs": [],
   "source": [
    "PS = pd.merge(PS1, PS2, on=['G_ID','GDAY_DS','T_ID','VS_T_ID','HEADER_NO','TB_SC','PS_P_ID'],how='left')"
   ]
  },
  {
   "cell_type": "code",
   "execution_count": 139,
   "metadata": {
    "scrolled": true
   },
   "outputs": [
    {
     "name": "stdout",
     "output_type": "stream",
     "text": [
      "<class 'pandas.core.frame.DataFrame'>\n",
      "Int64Index: 4200 entries, 0 to 4199\n",
      "Data columns (total 42 columns):\n",
      " #   Column         Non-Null Count  Dtype  \n",
      "---  ------         --------------  -----  \n",
      " 0   G_ID           4200 non-null   object \n",
      " 1   GDAY_DS        4200 non-null   int64  \n",
      " 2   T_ID           4200 non-null   object \n",
      " 3   VS_T_ID        4200 non-null   object \n",
      " 4   HEADER_NO      4200 non-null   int64  \n",
      " 5   TB_SC          4200 non-null   object \n",
      " 6   PS_P_ID        4200 non-null   int64  \n",
      " 7   PS_PA          4200 non-null   float64\n",
      " 8   PS_AB          4200 non-null   float64\n",
      " 9   PS_INN2        4200 non-null   float64\n",
      " 10  PS_BF          4200 non-null   float64\n",
      " 11  PS_HIT         4200 non-null   float64\n",
      " 12  PS_H2          4200 non-null   float64\n",
      " 13  PS_H3          4200 non-null   float64\n",
      " 14  PS_SB          4200 non-null   float64\n",
      " 15  PS_HR          4200 non-null   float64\n",
      " 16  PS_CS          4200 non-null   float64\n",
      " 17  PS_SF          4200 non-null   float64\n",
      " 18  PS_BB          4200 non-null   float64\n",
      " 19  PS_IB          4200 non-null   float64\n",
      " 20  PS_HP          4200 non-null   float64\n",
      " 21  PS_KK          4200 non-null   float64\n",
      " 22  PS_GD          4200 non-null   float64\n",
      " 23  PS_WP          4200 non-null   float64\n",
      " 24  PS_BK          4200 non-null   float64\n",
      " 25  PS_ERR         4200 non-null   float64\n",
      " 26  PS_R           4200 non-null   float64\n",
      " 27  PS_ER          4200 non-null   float64\n",
      " 28  PS_P_WHIP_RT   4200 non-null   float64\n",
      " 29  PS_P2_WHIP_RT  4200 non-null   float64\n",
      " 30  PS_CB_WHIP_RT  4200 non-null   float64\n",
      " 31  PS_K/BB        4200 non-null   float64\n",
      " 32  PS_SAP         4200 non-null   float64\n",
      " 33  PS_ERA         4200 non-null   float64\n",
      " 34  PS_FIP         4200 non-null   float64\n",
      " 35  PS_KFIP        4200 non-null   float64\n",
      " 36  PS_WHIP        4200 non-null   float64\n",
      " 37  PS_ERC         4200 non-null   float64\n",
      " 38  PS_LOB_RT      4200 non-null   float64\n",
      " 39  PS_KwERA       4200 non-null   float64\n",
      " 40  PS_P_BABIP     4200 non-null   float64\n",
      " 41  PS_YANG        4200 non-null   float64\n",
      "dtypes: float64(35), int64(3), object(4)\n",
      "memory usage: 1.4+ MB\n"
     ]
    }
   ],
   "source": [
    "PS.info()"
   ]
  },
  {
   "cell_type": "code",
   "execution_count": 184,
   "metadata": {},
   "outputs": [],
   "source": [
    "PS.to_csv('C:/Users/dudco/Desktop/SVT/SVT/PS.csv', sep=',', encoding='ms949')\n"
   ]
  },
  {
   "cell_type": "code",
   "execution_count": null,
   "metadata": {},
   "outputs": [],
   "source": []
  },
  {
   "cell_type": "markdown",
   "metadata": {},
   "source": [
    "### 개인타자 파생변수 만들기"
   ]
  },
  {
   "cell_type": "markdown",
   "metadata": {},
   "source": [
    "#### AVG 타율"
   ]
  },
  {
   "cell_type": "code",
   "execution_count": 144,
   "metadata": {},
   "outputs": [],
   "source": [
    "# HIT (안타) / AB (타수)"
   ]
  },
  {
   "cell_type": "markdown",
   "metadata": {},
   "source": [
    "#### OBA 출루율"
   ]
  },
  {
   "cell_type": "code",
   "execution_count": 145,
   "metadata": {},
   "outputs": [],
   "source": [
    "PH['OBA_n'] = (PH['HIT'] + PH['BB'] + PH['IB'] + PH['HP'])\n",
    "PH['OBA_d'] = (PH['AB'] + PH['BB'] + PH['IB'] + PH['HP'] + PH['SF'])"
   ]
  },
  {
   "cell_type": "markdown",
   "metadata": {},
   "source": [
    "#### 경기별 H1(1루타)"
   ]
  },
  {
   "cell_type": "code",
   "execution_count": 146,
   "metadata": {},
   "outputs": [],
   "source": [
    "PH['H1'] = PH['HIT'] - PH['H2'] - PH['H3'] - PH['HR']"
   ]
  },
  {
   "cell_type": "markdown",
   "metadata": {},
   "source": [
    "#### SA 장타율"
   ]
  },
  {
   "cell_type": "code",
   "execution_count": 147,
   "metadata": {},
   "outputs": [],
   "source": [
    "PH['SA_n'] = PH['H1'] + PH['H2']*2 + PH['H3']*3 + PH['HR']*4\n",
    "PH['SA_d'] = PH['AB']"
   ]
  },
  {
   "cell_type": "markdown",
   "metadata": {},
   "source": [
    "#### OPS "
   ]
  },
  {
   "cell_type": "code",
   "execution_count": 148,
   "metadata": {},
   "outputs": [],
   "source": [
    "# OBA (출루율) + SA (장타율)"
   ]
  },
  {
   "cell_type": "markdown",
   "metadata": {},
   "source": [
    "#### IsoD 순수 출루율"
   ]
  },
  {
   "cell_type": "code",
   "execution_count": 149,
   "metadata": {},
   "outputs": [],
   "source": [
    "# OBA (출루율) - AVG (타율)"
   ]
  },
  {
   "cell_type": "markdown",
   "metadata": {},
   "source": [
    "#### IsoP 순수 장타율(장타력)"
   ]
  },
  {
   "cell_type": "code",
   "execution_count": 150,
   "metadata": {},
   "outputs": [],
   "source": [
    "# SA (장타율) - AVG (타율)"
   ]
  },
  {
   "cell_type": "markdown",
   "metadata": {},
   "source": [
    "#### TOT_H 총루타"
   ]
  },
  {
   "cell_type": "code",
   "execution_count": 151,
   "metadata": {},
   "outputs": [],
   "source": [
    "PH['TOT_H'] = PH['HIT'] - PH['HR']"
   ]
  },
  {
   "cell_type": "markdown",
   "metadata": {},
   "source": [
    "#### EqA"
   ]
  },
  {
   "cell_type": "code",
   "execution_count": 152,
   "metadata": {},
   "outputs": [],
   "source": [
    "PH['EqA'] = PH['HIT'] + PH['TOT_H'] + 1.5*(PH['BB'] + PH['HP']) + PH['SB']"
   ]
  },
  {
   "cell_type": "markdown",
   "metadata": {},
   "source": [
    "#### GPA"
   ]
  },
  {
   "cell_type": "code",
   "execution_count": 153,
   "metadata": {},
   "outputs": [],
   "source": [
    "# (1.8*OBA + SLG)/4"
   ]
  },
  {
   "cell_type": "markdown",
   "metadata": {},
   "source": [
    "#### RC"
   ]
  },
  {
   "cell_type": "code",
   "execution_count": 154,
   "metadata": {},
   "outputs": [],
   "source": [
    "PH['RC'] = PH['HIT'] + PH['BB'] + PH['HP'] - PH['CS'] - PH['GD']"
   ]
  },
  {
   "cell_type": "markdown",
   "metadata": {},
   "source": [
    "#### BABIP"
   ]
  },
  {
   "cell_type": "code",
   "execution_count": 155,
   "metadata": {},
   "outputs": [],
   "source": [
    "PH['BABIP_n'] = PH['HIT'] - PH['HR']\n",
    "PH['BABIP_d'] = PH['AB'] - PH['KK'] - PH['HR'] + PH['SF']"
   ]
  },
  {
   "cell_type": "markdown",
   "metadata": {},
   "source": [
    "#### SECA 수정타율"
   ]
  },
  {
   "cell_type": "code",
   "execution_count": 156,
   "metadata": {},
   "outputs": [],
   "source": [
    "PH['SECA_n'] = PH['BB'] + (PH['TOT_H'] - PH['HIT']) + (PH['SB'] - PH['CS'])\n",
    "PH['SECA_d'] = PH['AB']"
   ]
  },
  {
   "cell_type": "markdown",
   "metadata": {},
   "source": [
    "#### TA 종합공격력"
   ]
  },
  {
   "cell_type": "code",
   "execution_count": 157,
   "metadata": {},
   "outputs": [],
   "source": [
    "PH['TA_n'] = PH['TOT_H'] + PH['HP'] + PH['BB'] + PH['SB']\n",
    "PH['TA_d'] = PH['AB'] - PH['HIT'] + PH['CS'] + PH['GD']"
   ]
  },
  {
   "cell_type": "markdown",
   "metadata": {},
   "source": [
    "#### PSN 호타준족"
   ]
  },
  {
   "cell_type": "code",
   "execution_count": 158,
   "metadata": {},
   "outputs": [],
   "source": [
    "PH['PSN_n'] = PH['HR']*PH['SB']*2\n",
    "PH['PSN_d'] = PH['HR']+PH['SB']"
   ]
  },
  {
   "cell_type": "markdown",
   "metadata": {},
   "source": [
    "#### XR 추정득점"
   ]
  },
  {
   "cell_type": "code",
   "execution_count": 159,
   "metadata": {},
   "outputs": [],
   "source": [
    "PH['XR'] = (PH['H1']*0.5) + (PH['H2']*0.72) + (PH['H3']*1.04) + (PH['HR']*1.44) + ((PH['BB']+PH['HP']-PH['IB'])*0.34) + (PH['IB']*0.25) + (PH['SB']*0.18) + (PH['CS']*0.32) - ((PH['PA']-PH['HIT']-PH['KK'])*0.09) - (PH['KK']*0.098) - (PH['GD']*0.37) + (PH['SF']*0.37) + (PH['SH']*0.04)"
   ]
  },
  {
   "cell_type": "markdown",
   "metadata": {},
   "source": [
    "#### BR 득점공헌"
   ]
  },
  {
   "cell_type": "code",
   "execution_count": 160,
   "metadata": {},
   "outputs": [],
   "source": [
    "# 주루사를 몰라서 주루사 못 넣음\n",
    "\n",
    "PH['BR'] = (PH['H1']*0.47) + (PH['H2']*0.78) + (PH['H3']*1.09) + (PH['HR']*1.40) + ((PH['BB'] + PH['HP'])*0.33) + (PH['SB']*0.30) + (PH['CS']*0.60) + ((PH['PA']-PH['HIT'])*0.25)"
   ]
  },
  {
   "cell_type": "markdown",
   "metadata": {},
   "source": [
    "#### CQ 컨택 퀄리티"
   ]
  },
  {
   "cell_type": "code",
   "execution_count": 161,
   "metadata": {},
   "outputs": [],
   "source": [
    "PH['CQ_n'] = (PH['HIT']*0.5) + PH['TOT_H']*3\n",
    "PH['CQ_d'] = PH['PA']-PH['KK']"
   ]
  },
  {
   "cell_type": "code",
   "execution_count": null,
   "metadata": {},
   "outputs": [],
   "source": []
  },
  {
   "cell_type": "markdown",
   "metadata": {},
   "source": [
    "### 개인타자 7묶음으로 나누기"
   ]
  },
  {
   "cell_type": "code",
   "execution_count": 162,
   "metadata": {},
   "outputs": [],
   "source": [
    "q=[\n",
    "    (PH['G_ID']>='20160401HHLG0') & (PH['G_ID']<='20160501NCLT0'),\n",
    "    (PH['G_ID']>='20160501OBHT0') & (PH['G_ID']<='20160526SKNC0'),\n",
    "    (PH['G_ID']>='20160527LGOB0') & (PH['G_ID']<='20160619SKLT0'),\n",
    "    (PH['G_ID']>='20160619WOHH0') & (PH['G_ID']<='20160720SSOB0'),\n",
    "    (PH['G_ID']>='20160721HTLT0') & (PH['G_ID']<='20160814HHHT0'),\n",
    "    (PH['G_ID']>='20160814KTNC0') & (PH['G_ID']<='20160908WOSK0'),\n",
    "    (PH['G_ID']>='20160909KTHH0') & (PH['G_ID']<='20161009WOLT0'),\n",
    "    (PH['G_ID']>='20170331HHOB0') & (PH['G_ID']<='20170428WOHH0'),\n",
    "    (PH['G_ID']>='20170429LGKT0') & (PH['G_ID']<='20170524HTHH0'),\n",
    "    (PH['G_ID']>='20170524KTSS0') & (PH['G_ID']<='20170616LTWO0'),\n",
    "    (PH['G_ID']>='20170616NCOB0') & (PH['G_ID']<='20170712WOOB0'),\n",
    "    (PH['G_ID']>='20170713LGSK0') & (PH['G_ID']<='20170809NCSK0'),\n",
    "    (PH['G_ID']>='20170809WOHT0') & (PH['G_ID']<='20170903LGNC0'),\n",
    "    (PH['G_ID']>='20170903SKKT0') & (PH['G_ID']<='20171003WOSS0'),\n",
    "    (PH['G_ID']>='20180324HHWO0') & (PH['G_ID']<='20180422LGNC0'),\n",
    "    (PH['G_ID']>='20180422SKLT0') & (PH['G_ID']<='20180518SSWO0'),\n",
    "    (PH['G_ID']>='20180519HHLG0') & (PH['G_ID']<='20180612KTOB0'),\n",
    "    (PH['G_ID']>='20180612LGNC0') & (PH['G_ID']<='20180707NCWO0'),\n",
    "    (PH['G_ID']>='20180707SSOB0') & (PH['G_ID']<='20180804SSLT0'),\n",
    "    (PH['G_ID']>='20180804WOKT0') & (PH['G_ID']<='20180915SKHT0'),\n",
    "    (PH['G_ID']>='20180915SSKT0') & (PH['G_ID']<='20181014OBLT0'),\n",
    "    (PH['G_ID']>='20190323HHOB0') & (PH['G_ID']<='20190420WOLG0'),\n",
    "    (PH['G_ID']>='20190421KTLT0') & (PH['G_ID']<='20190516LGLT0'),\n",
    "    (PH['G_ID']>='20190516SKNC0') & (PH['G_ID']<='20190608WOOB0'),\n",
    "    (PH['G_ID']>='20190609HTNC0') & (PH['G_ID']<='20190704LTSK0'),\n",
    "    (PH['G_ID']>='20190704NCHT0') & (PH['G_ID']<='20190807LGHT0'),\n",
    "    (PH['G_ID']>='20190807SSNC0') & (PH['G_ID']<='20190831SSOB0'),\n",
    "    (PH['G_ID']>='20190831WONC0') & (PH['G_ID']<='20191001WOLT0'),\n",
    "    (PH['G_ID']>='20200505HHSK0') & (PH['G_ID']<='20200602SKNC0'),\n",
    "    (PH['G_ID']>='20200602SSLG0') & (PH['G_ID']<='20200626HTWO0'),\n",
    "    (PH['G_ID']>='20200626KTHH0') & (PH['G_ID']<='20200719WOSK0')\n",
    "\n",
    "]\n",
    "choicelist =[1,2,3,4,5,6,7,8,9,10,11,12,13,14,15,16,17,18,19,20,21,22,23,24,25,26,27,28,29,30,31]\n",
    "PH['q']=np.select(q, choicelist)"
   ]
  },
  {
   "cell_type": "code",
   "execution_count": 163,
   "metadata": {},
   "outputs": [],
   "source": [
    "# 분모, 분자 상관유무에 따라 나눔\n",
    "\n",
    "PH1 = PH[['G_ID', 'GDAY_DS', 'T_ID', 'VS_T_ID', 'HEADER_NO', 'TB_SC', 'P_ID','START_CK','q',\n",
    "            'PA', 'AB', 'RBI', 'RUN', 'HIT', 'H2', 'H3', 'HR', 'SB', 'CS', 'H1', 'SH', 'SF',\n",
    "            'BB','IB','HP', 'KK', 'GD','ERR', 'LOB', 'P_HRA_RT', 'P_AB_CN', 'P_HIT_CN','TOT_H',\n",
    "            'XR', 'BR','RC']]\n",
    "\n",
    "PH2 = PH[['G_ID', 'GDAY_DS', 'T_ID', 'VS_T_ID', 'HEADER_NO', 'TB_SC', 'P_ID','START_CK','q',\n",
    "             'HIT','AB','PA', 'RBI', 'RUN', 'H2', 'H3', 'HR', 'SB', 'CS', 'H1', 'SH', 'SF',\n",
    "             'BB','IB','HP', 'KK', 'GD', 'OBA_n', 'OBA_d', 'SA_n', 'SA_d','BABIP_n', 'BABIP_d', 'SECA_n','SECA_d', \n",
    "             'TA_n', 'TA_d', 'PSN_n', 'PSN_d', 'CQ_n', 'CQ_d','TOT_H']]\n",
    "\n",
    "PH2['AVG'] = 1\n",
    "PH2['OBA'] = 1\n",
    "PH2['SA'] = 1\n",
    "PH2['BABIP'] = 1\n",
    "PH2['SECA'] = 1\n",
    "PH2['TA'] = 1\n",
    "PH2['PSN'] = 1\n",
    "PH2['CQ'] = 1\n",
    "PH2['OPS'] = 1\n",
    "PH2['IsoD'] = 1\n",
    "PH2['IsoP'] = 1\n",
    "PH2['GPA'] = 1\n",
    "\n",
    "\n",
    "PH1_16_1=PH1[PH1['q']==1]\n",
    "PH1_16_2=PH1[PH1['q']==2]\n",
    "PH1_16_3=PH1[PH1['q']==3]\n",
    "PH1_16_4=PH1[PH1['q']==4]\n",
    "PH1_16_5=PH1[PH1['q']==5]\n",
    "PH1_16_6=PH1[PH1['q']==6]\n",
    "PH1_16_7=PH1[PH1['q']==7]\n",
    "\n",
    "PH2_16_1=PH2[PH2['q']==1]\n",
    "PH2_16_2=PH2[PH2['q']==2]\n",
    "PH2_16_3=PH2[PH2['q']==3]\n",
    "PH2_16_4=PH2[PH2['q']==4]\n",
    "PH2_16_5=PH2[PH2['q']==5]\n",
    "PH2_16_6=PH2[PH2['q']==6]\n",
    "PH2_16_7=PH2[PH2['q']==7]\n",
    "\n",
    "PH1_17_1=PH1[PH1['q']==8]\n",
    "PH1_17_2=PH1[PH1['q']==9]\n",
    "PH1_17_3=PH1[PH1['q']==10]\n",
    "PH1_17_4=PH1[PH1['q']==11]\n",
    "PH1_17_5=PH1[PH1['q']==12]\n",
    "PH1_17_6=PH1[PH1['q']==13]\n",
    "PH1_17_7=PH1[PH1['q']==14]\n",
    "\n",
    "PH2_17_1=PH2[PH2['q']==8]\n",
    "PH2_17_2=PH2[PH2['q']==9]\n",
    "PH2_17_3=PH2[PH2['q']==10]\n",
    "PH2_17_4=PH2[PH2['q']==11]\n",
    "PH2_17_5=PH2[PH2['q']==12]\n",
    "PH2_17_6=PH2[PH2['q']==13]\n",
    "PH2_17_7=PH2[PH2['q']==14]\n",
    "\n",
    "PH1_18_1=PH1[PH1['q']==15]\n",
    "PH1_18_2=PH1[PH1['q']==16]\n",
    "PH1_18_3=PH1[PH1['q']==17]\n",
    "PH1_18_4=PH1[PH1['q']==18]\n",
    "PH1_18_5=PH1[PH1['q']==19]\n",
    "PH1_18_6=PH1[PH1['q']==20]\n",
    "PH1_18_7=PH1[PH1['q']==21]\n",
    "\n",
    "PH2_18_1=PH2[PH2['q']==15]\n",
    "PH2_18_2=PH2[PH2['q']==16]\n",
    "PH2_18_3=PH2[PH2['q']==17]\n",
    "PH2_18_4=PH2[PH2['q']==18]\n",
    "PH2_18_5=PH2[PH2['q']==19]\n",
    "PH2_18_6=PH2[PH2['q']==20]\n",
    "PH2_18_7=PH2[PH2['q']==21]\n",
    "\n",
    "PH1_19_1=PH1[PH1['q']==22]\n",
    "PH1_19_2=PH1[PH1['q']==23]\n",
    "PH1_19_3=PH1[PH1['q']==24]\n",
    "PH1_19_4=PH1[PH1['q']==25]\n",
    "PH1_19_5=PH1[PH1['q']==26]\n",
    "PH1_19_6=PH1[PH1['q']==27]\n",
    "PH1_19_7=PH1[PH1['q']==28]\n",
    "\n",
    "PH2_19_1=PH2[PH2['q']==22]\n",
    "PH2_19_2=PH2[PH2['q']==23]\n",
    "PH2_19_3=PH2[PH2['q']==24]\n",
    "PH2_19_4=PH2[PH2['q']==25]\n",
    "PH2_19_5=PH2[PH2['q']==26]\n",
    "PH2_19_6=PH2[PH2['q']==27]\n",
    "PH2_19_7=PH2[PH2['q']==28]\n",
    "\n",
    "PH1_20_1=PH1[PH1['q']==29]\n",
    "PH1_20_2=PH1[PH1['q']==30]\n",
    "PH1_20_3=PH1[PH1['q']==31]\n",
    "\n",
    "PH2_20_1=PH2[PH2['q']==29]\n",
    "PH2_20_2=PH2[PH2['q']==30]\n",
    "PH2_20_3=PH2[PH2['q']==31]"
   ]
  },
  {
   "cell_type": "code",
   "execution_count": 164,
   "metadata": {},
   "outputs": [],
   "source": [
    "# 입력변수 만들 데이터셋 \n",
    "\n",
    "PH1_16_12=pd.concat([PH1_16_1,PH1_16_2])\n",
    "PH1_16_23=pd.concat([PH1_16_2,PH1_16_3])\n",
    "PH1_16_34=pd.concat([PH1_16_3,PH1_16_4])\n",
    "PH1_16_45=pd.concat([PH1_16_4,PH1_16_5])\n",
    "PH1_16_56=pd.concat([PH1_16_5,PH1_16_6])\n",
    "\n",
    "PH2_16_12=pd.concat([PH2_16_1,PH2_16_2])\n",
    "PH2_16_23=pd.concat([PH2_16_2,PH2_16_3])\n",
    "PH2_16_34=pd.concat([PH2_16_3,PH2_16_4])\n",
    "PH2_16_45=pd.concat([PH2_16_4,PH2_16_5])\n",
    "PH2_16_56=pd.concat([PH2_16_5,PH2_16_6])\n",
    "\n",
    "PH1_17_12=pd.concat([PH1_17_1,PH1_17_2])\n",
    "PH1_17_23=pd.concat([PH1_17_2,PH1_17_3])\n",
    "PH1_17_34=pd.concat([PH1_17_3,PH1_17_4])\n",
    "PH1_17_45=pd.concat([PH1_17_4,PH1_17_5])\n",
    "PH1_17_56=pd.concat([PH1_17_5,PH1_17_6])\n",
    "\n",
    "PH2_17_12=pd.concat([PH2_17_1,PH2_17_2])\n",
    "PH2_17_23=pd.concat([PH2_17_2,PH2_17_3])\n",
    "PH2_17_34=pd.concat([PH2_17_3,PH2_17_4])\n",
    "PH2_17_45=pd.concat([PH2_17_4,PH2_17_5])\n",
    "PH2_17_56=pd.concat([PH2_17_5,PH2_17_6])\n",
    "\n",
    "PH1_18_12=pd.concat([PH1_18_1,PH1_18_2])\n",
    "PH1_18_23=pd.concat([PH1_18_2,PH1_18_3])\n",
    "PH1_18_34=pd.concat([PH1_18_3,PH1_18_4])\n",
    "PH1_18_45=pd.concat([PH1_18_4,PH1_18_5])\n",
    "PH1_18_56=pd.concat([PH1_18_5,PH1_18_6])\n",
    "\n",
    "PH2_18_12=pd.concat([PH2_18_1,PH2_18_2])\n",
    "PH2_18_23=pd.concat([PH2_18_2,PH2_18_3])\n",
    "PH2_18_34=pd.concat([PH2_18_3,PH2_18_4])\n",
    "PH2_18_45=pd.concat([PH2_18_4,PH2_18_5])\n",
    "PH2_18_56=pd.concat([PH2_18_5,PH2_18_6])\n",
    "\n",
    "PH1_19_12=pd.concat([PH1_19_1,PH1_19_2])\n",
    "PH1_19_23=pd.concat([PH1_19_2,PH1_19_3])\n",
    "PH1_19_34=pd.concat([PH1_19_3,PH1_19_4])\n",
    "PH1_19_45=pd.concat([PH1_19_4,PH1_19_5])\n",
    "PH1_19_56=pd.concat([PH1_19_5,PH1_19_6])\n",
    "\n",
    "PH2_19_12=pd.concat([PH2_19_1,PH2_19_2])\n",
    "PH2_19_23=pd.concat([PH2_19_2,PH2_19_3])\n",
    "PH2_19_34=pd.concat([PH2_19_3,PH2_19_4])\n",
    "PH2_19_45=pd.concat([PH2_19_4,PH2_19_5])\n",
    "PH2_19_56=pd.concat([PH2_19_5,PH2_19_6])\n",
    "\n",
    "PH1_20_12=pd.concat([PH1_20_1,PH1_20_2])\n",
    "PH1_20_23=pd.concat([PH1_20_2,PH1_20_3])\n",
    "\n",
    "PH2_20_12=pd.concat([PH2_20_1,PH2_20_2])\n",
    "PH2_20_23=pd.concat([PH2_20_2,PH2_20_3])"
   ]
  },
  {
   "cell_type": "code",
   "execution_count": 165,
   "metadata": {},
   "outputs": [],
   "source": [
    "# 분석용 데이터셋 \n",
    "\n",
    "SH = PH[PH['START_CK']==1]\n",
    "H1 = SH[['G_ID', 'T_ID','q']]\n",
    "H1 = H1.drop_duplicates(['G_ID','T_ID'], keep='first')\n",
    "\n",
    "H1_16_3=H1[H1['q']==3]\n",
    "H1_16_4=H1[H1['q']==4]\n",
    "H1_16_5=H1[H1['q']==5]\n",
    "H1_16_6=H1[H1['q']==6]\n",
    "H1_16_7=H1[H1['q']==7]\n",
    "\n",
    "H1_17_3=H1[H1['q']==10]\n",
    "H1_17_4=H1[H1['q']==11]\n",
    "H1_17_5=H1[H1['q']==12]\n",
    "H1_17_6=H1[H1['q']==13]\n",
    "H1_17_7=H1[H1['q']==14]\n",
    "\n",
    "H1_18_3=H1[H1['q']==17]\n",
    "H1_18_4=H1[H1['q']==18]\n",
    "H1_18_5=H1[H1['q']==19]\n",
    "H1_18_6=H1[H1['q']==20]\n",
    "H1_18_7=H1[H1['q']==21]\n",
    "\n",
    "H1_19_3=H1[H1['q']==24]\n",
    "H1_19_4=H1[H1['q']==25]\n",
    "H1_19_5=H1[H1['q']==26]\n",
    "H1_19_6=H1[H1['q']==27]\n",
    "H1_19_7=H1[H1['q']==28]\n",
    "\n",
    "H1_20_3=H1[H1['q']==31]\n",
    "\n",
    "\n",
    "H2_16_3=H1[H1['q']==3]\n",
    "H2_16_4=H1[H1['q']==4]\n",
    "H2_16_5=H1[H1['q']==5]\n",
    "H2_16_6=H1[H1['q']==6]\n",
    "H2_16_7=H1[H1['q']==7]\n",
    "\n",
    "H2_17_3=H1[H1['q']==10]\n",
    "H2_17_4=H1[H1['q']==11]\n",
    "H2_17_5=H1[H1['q']==12]\n",
    "H2_17_6=H1[H1['q']==13]\n",
    "H2_17_7=H1[H1['q']==14]\n",
    "\n",
    "H2_18_3=H1[H1['q']==17]\n",
    "H2_18_4=H1[H1['q']==18]\n",
    "H2_18_5=H1[H1['q']==19]\n",
    "H2_18_6=H1[H1['q']==20]\n",
    "H2_18_7=H1[H1['q']==21]\n",
    "\n",
    "H2_19_3=H1[H1['q']==24]\n",
    "H2_19_4=H1[H1['q']==25]\n",
    "H2_19_5=H1[H1['q']==26]\n",
    "H2_19_6=H1[H1['q']==27]\n",
    "H2_19_7=H1[H1['q']==28]\n",
    "\n",
    "H2_20_3=H1[H1['q']==31]"
   ]
  },
  {
   "cell_type": "markdown",
   "metadata": {},
   "source": [
    "### 개인타자_ 상대선발투수 고려한 평균"
   ]
  },
  {
   "cell_type": "code",
   "execution_count": 166,
   "metadata": {},
   "outputs": [],
   "source": [
    "# 개인타자에 가중할 선발투수 ERA \n",
    "def PH_PS(dataset):\n",
    "    \n",
    "    \n",
    "    P = dataset[['G_ID','GDAY_DS','T_ID','VS_T_ID','P_ID','ERA']]\n",
    "    \n",
    "    P['MY_T_ID'] = P['T_ID']\n",
    "    P['T_ID'] = P['VS_T_ID']\n",
    "    P['VS_T_ID'] = P['MY_T_ID']\n",
    "    P = P.rename({'P_ID':'SP_ID'},axis=1)\n",
    "    PH_PS = P.drop(['MY_T_ID'],axis=1)\n",
    "    \n",
    "    return PH_PS"
   ]
  },
  {
   "cell_type": "code",
   "execution_count": 167,
   "metadata": {},
   "outputs": [],
   "source": [
    "# 팀별 선발타자 평균 입력변수로 변환하는 함수1\n",
    "def HS1_MEAN(dataset):\n",
    "    \n",
    "    PHS = dataset[dataset['START_CK']==1]\n",
    "    HS1_MEAN = PHS.groupby(['G_ID', 'T_ID'], as_index=False).sum()\n",
    "    HS1_MEAN = HS1_MEAN.groupby(['T_ID'], as_index=False).mean()\n",
    "    \n",
    "    HS1_MEAN = HS1_MEAN.drop(['GDAY_DS','HEADER_NO','P_ID','START_CK','q'], axis=1)\n",
    "    \n",
    "    return HS1_MEAN"
   ]
  },
  {
   "cell_type": "code",
   "execution_count": 168,
   "metadata": {},
   "outputs": [],
   "source": [
    "# 입력변수랑 분석 데이터셋 JOIN\n",
    "\n",
    "def HS1_YEAR_NUM(dataset, dataset2, dataset3):\n",
    "    \n",
    "    dataset = HS1_MEAN(dataset)\n",
    "    dataset2 = pd.merge(dataset2, dataset, on=['T_ID'], how='left')\n",
    "    dataset2 = dataset2.drop(['q'],axis=1)\n",
    "    dataset3 = PH_PS(dataset3)\n",
    "    dataset3 = pd.merge(dataset2, dataset3, on=['G_ID','T_ID'], how='left')\n",
    "    \n",
    "    return dataset3"
   ]
  },
  {
   "cell_type": "code",
   "execution_count": 169,
   "metadata": {
    "scrolled": true
   },
   "outputs": [],
   "source": [
    "# 분석 데이터셋 완성1\n",
    "\n",
    "HS1_16_3 = HS1_YEAR_NUM(PH1_16_12, H1_16_3, PS2_16_3)\n",
    "HS1_16_4 = HS1_YEAR_NUM(PH1_16_23, H1_16_4, PS2_16_4)\n",
    "HS1_16_5 = HS1_YEAR_NUM(PH1_16_34, H1_16_5, PS2_16_5)\n",
    "HS1_16_6 = HS1_YEAR_NUM(PH1_16_45, H1_16_6, PS2_16_6)\n",
    "HS1_16_7 = HS1_YEAR_NUM(PH1_16_56, H1_16_7, PS2_16_7)\n",
    "\n",
    "HS1_17_3 = HS1_YEAR_NUM(PH1_17_12, H1_17_3, PS2_17_3)\n",
    "HS1_17_4 = HS1_YEAR_NUM(PH1_17_23, H1_17_4, PS2_17_4)\n",
    "HS1_17_5 = HS1_YEAR_NUM(PH1_17_34, H1_17_5, PS2_17_5)\n",
    "HS1_17_6 = HS1_YEAR_NUM(PH1_17_45, H1_17_6, PS2_17_6)\n",
    "HS1_17_7 = HS1_YEAR_NUM(PH1_17_56, H1_17_7, PS2_17_7)\n",
    "\n",
    "HS1_18_3 = HS1_YEAR_NUM(PH1_18_12, H1_18_3, PS2_18_3)\n",
    "HS1_18_4 = HS1_YEAR_NUM(PH1_18_23, H1_18_4, PS2_18_4)\n",
    "HS1_18_5 = HS1_YEAR_NUM(PH1_18_34, H1_18_5, PS2_18_5)\n",
    "HS1_18_6 = HS1_YEAR_NUM(PH1_18_45, H1_18_6, PS2_18_6)\n",
    "HS1_18_7 = HS1_YEAR_NUM(PH1_18_56, H1_18_7, PS2_18_7)\n",
    "\n",
    "HS1_19_3 = HS1_YEAR_NUM(PH1_19_12, H1_19_3, PS2_19_3)\n",
    "HS1_19_4 = HS1_YEAR_NUM(PH1_19_23, H1_19_4, PS2_19_4)\n",
    "HS1_19_5 = HS1_YEAR_NUM(PH1_19_34, H1_19_5, PS2_19_5)\n",
    "HS1_19_6 = HS1_YEAR_NUM(PH1_19_45, H1_19_6, PS2_19_6)\n",
    "HS1_19_7 = HS1_YEAR_NUM(PH1_19_56, H1_19_7, PS2_19_7)\n",
    "\n",
    "HS1_20_3 = HS1_YEAR_NUM(PH1_20_12, H1_20_3, PS2_20_3)\n",
    "\n",
    "HS1 = pd.concat([HS1_16_3, HS1_16_4, HS1_16_5, HS1_16_6, HS1_16_7,\n",
    "                HS1_17_3, HS1_17_4, HS1_17_5, HS1_17_6, HS1_17_7,\n",
    "                HS1_18_3, HS1_18_4, HS1_18_5, HS1_18_6, HS1_18_7,\n",
    "                HS1_19_3, HS1_19_4, HS1_19_5, HS1_19_6, HS1_19_7,\n",
    "                HS1_20_3])\n",
    "HS1.reset_index(drop=True, inplace=True)"
   ]
  },
  {
   "cell_type": "code",
   "execution_count": 172,
   "metadata": {},
   "outputs": [],
   "source": [
    "HS1 = HS1.rename({'PA':'HS_PA','AB':'HS_AB','RBI':'HS_RBI','RUN':'HS_RUN',\n",
    "                 'HIT':'HS_HIT','H2':'HS_H2','H3':'HS_H3','HR':'HS_HR','SB':'HS_SB',\n",
    "                 'CS':'HS_CS','H1':'HS_H1','SH':'HS_SH','SF':'HS_SF','BB':'HS_BB','IB':'HS_IB',\n",
    "                  'HP':'HS_HP','KK':'HS_KK','GD':'HS_GD','ERR':'HS_ERR','LOB':'HS_LOB',\n",
    "                  'P_HRA_RT':'HS_P_HRA_RT','P_AB_CN':'HS_P_AB_CN','P_HIT_CN':'HS_P_HIT_CN',\n",
    "                  'TOT_H':'HS_TOT_H','XR':'HS_XR','BR':'HS_BR','RC':'HS_RC','ERA':'SP_ERA'}, axis='columns')"
   ]
  },
  {
   "cell_type": "code",
   "execution_count": 173,
   "metadata": {},
   "outputs": [],
   "source": [
    "# 팀별 선발타자 평균 입력변수로 변환하는 함수2\n",
    "def HS2_MEAN(dataset):\n",
    "    \n",
    "    PHS = dataset[dataset['START_CK']==1]\n",
    "    HS2_MEAN = PHS.groupby(['G_ID', 'T_ID'], as_index=False).sum()\n",
    "    HS2_MEAN = HS2_MEAN.groupby(['T_ID'], as_index=False).mean()\n",
    "   \n",
    "    HS2_MEAN['AVG'] = HS2_MEAN['HIT']/HS2_MEAN['AB']\n",
    "    HS2_MEAN['OBA'] = HS2_MEAN['OBA_n']/HS2_MEAN['OBA_d']\n",
    "    HS2_MEAN['SA'] = HS2_MEAN['SA_n']/HS2_MEAN['SA_d']\n",
    "    HS2_MEAN['OPS'] = HS2_MEAN['OBA']+HS2_MEAN['SA']\n",
    "    HS2_MEAN['IsoD'] = (HS2_MEAN['OBA'])-(HS2_MEAN['AVG'])\n",
    "    HS2_MEAN['IsoP'] = (HS2_MEAN['SA'])-(HS2_MEAN['AVG'])\n",
    "    HS2_MEAN['GPA'] = (1.8*HS2_MEAN['OBA']+HS2_MEAN['SA'])/4\n",
    "    HS2_MEAN['BABIP'] = HS2_MEAN['BABIP_n']/HS2_MEAN['BABIP_d']\n",
    "    HS2_MEAN['SECA'] = HS2_MEAN['SECA_n']/HS2_MEAN['SECA_d']\n",
    "    HS2_MEAN['TA'] = HS2_MEAN['TA_n']/HS2_MEAN['TA_d']\n",
    "    HS2_MEAN['PSN'] = HS2_MEAN['PSN_n']/HS2_MEAN['PSN_d']\n",
    "    HS2_MEAN['CQ'] = HS2_MEAN['CQ_n']/HS2_MEAN['CQ_d']\n",
    "    \n",
    "    HS2_MEAN = HS2_MEAN.drop(['GDAY_DS','HEADER_NO','P_ID','START_CK','q',\n",
    "                              'PA','AB','RBI','RUN','HIT','H2','H3','HR','SB',\n",
    "                              'CS','H1','SH','SF','BB','IB','HP','KK','GD','TOT_H',\n",
    "                              'OBA_n','OBA_d','SA_n','SA_d','BABIP_n','BABIP_d','SECA_n',\n",
    "                              'SECA_d','TA_n','TA_d','PSN_n','PSN_d','CQ_n','CQ_d'], axis=1)\n",
    "    \n",
    "    return HS2_MEAN"
   ]
  },
  {
   "cell_type": "code",
   "execution_count": 174,
   "metadata": {},
   "outputs": [],
   "source": [
    "# 입력변수랑 분석 데이터셋 JOIN\n",
    "\n",
    "def HS2_YEAR_NUM(dataset, dataset2, dataset3):\n",
    "    \n",
    "    dataset = HS2_MEAN(dataset)\n",
    "    dataset2 = pd.merge(dataset2, dataset, on=['T_ID'], how='left')\n",
    "    dataset2 = dataset2.drop(['q'],axis=1)\n",
    "    dataset3 = PH_PS(dataset3)\n",
    "    dataset3 = pd.merge(dataset2, dataset3, on=['G_ID','T_ID'], how='left')\n",
    "        \n",
    "    return dataset3"
   ]
  },
  {
   "cell_type": "code",
   "execution_count": 175,
   "metadata": {
    "scrolled": true
   },
   "outputs": [],
   "source": [
    "# 분석 데이터셋 완성2\n",
    "\n",
    "HS2_16_3 = HS2_YEAR_NUM(PH2_16_12, H2_16_3, PS2_16_3)\n",
    "HS2_16_4 = HS2_YEAR_NUM(PH2_16_23, H2_16_4, PS2_16_4)\n",
    "HS2_16_5 = HS2_YEAR_NUM(PH2_16_34, H2_16_5, PS2_16_5)\n",
    "HS2_16_6 = HS2_YEAR_NUM(PH2_16_45, H2_16_6, PS2_16_6)\n",
    "HS2_16_7 = HS2_YEAR_NUM(PH2_16_56, H2_16_7, PS2_16_7)\n",
    "\n",
    "HS2_17_3 = HS2_YEAR_NUM(PH2_17_12, H2_17_3, PS2_17_3)\n",
    "HS2_17_4 = HS2_YEAR_NUM(PH2_17_23, H2_17_4, PS2_17_4)\n",
    "HS2_17_5 = HS2_YEAR_NUM(PH2_17_34, H2_17_5, PS2_17_5)\n",
    "HS2_17_6 = HS2_YEAR_NUM(PH2_17_45, H2_17_6, PS2_17_6)\n",
    "HS2_17_7 = HS2_YEAR_NUM(PH2_17_56, H2_17_7, PS2_17_7)\n",
    "\n",
    "HS2_18_3 = HS2_YEAR_NUM(PH2_18_12, H2_18_3, PS2_18_3)\n",
    "HS2_18_4 = HS2_YEAR_NUM(PH2_18_23, H2_18_4, PS2_18_4)\n",
    "HS2_18_5 = HS2_YEAR_NUM(PH2_18_34, H2_18_5, PS2_18_5)\n",
    "HS2_18_6 = HS2_YEAR_NUM(PH2_18_45, H2_18_6, PS2_18_6)\n",
    "HS2_18_7 = HS2_YEAR_NUM(PH2_18_56, H2_18_7, PS2_18_7)\n",
    "\n",
    "HS2_19_3 = HS2_YEAR_NUM(PH2_19_12, H2_19_3, PS2_19_3)\n",
    "HS2_19_4 = HS2_YEAR_NUM(PH2_19_23, H2_19_4, PS2_19_4)\n",
    "HS2_19_5 = HS2_YEAR_NUM(PH2_19_34, H2_19_5, PS2_19_5)\n",
    "HS2_19_6 = HS2_YEAR_NUM(PH2_19_45, H2_19_6, PS2_19_6)\n",
    "HS2_19_7 = HS2_YEAR_NUM(PH2_19_56, H2_19_7, PS2_19_7)\n",
    "\n",
    "HS2_20_3 = HS2_YEAR_NUM(PH2_20_12, H2_20_3, PS2_20_3)\n",
    "\n",
    "HS2 = pd.concat([HS2_16_3, HS2_16_4, HS2_16_5, HS2_16_6, HS2_16_7,\n",
    "                HS2_17_3, HS2_17_4, HS2_17_5, HS2_17_6, HS2_17_7,\n",
    "                HS2_18_3, HS2_18_4, HS2_18_5, HS2_18_6, HS2_18_7,\n",
    "                HS2_19_3, HS2_19_4, HS2_19_5, HS2_19_6, HS2_19_7,\n",
    "                HS2_20_3])\n",
    "HS2.reset_index(drop=True, inplace=True)"
   ]
  },
  {
   "cell_type": "code",
   "execution_count": 178,
   "metadata": {},
   "outputs": [],
   "source": [
    "HS2 = HS2.rename({'AVG':'HS_AVG','OBA':'HS_OBA','SA':'HS_SA','BABIP':'HS_BABIP',\n",
    "                 'SECA':'HS_SECA','TA':'HS_TA','PSN':'HS_PSN','CQ':'HS_CQ',\n",
    "                 'OPS':'HS_OPS','IsoD':'HS_IsoD','IsoP':'HS_IsoP','GPA':'HS_GPA','ERA':'SP_ERA'}, axis='columns')"
   ]
  },
  {
   "cell_type": "code",
   "execution_count": 179,
   "metadata": {},
   "outputs": [],
   "source": [
    "HS = pd.merge(HS1, HS2, on=['G_ID','GDAY_DS','T_ID','VS_T_ID','SP_ID','SP_ERA'],how='left')"
   ]
  },
  {
   "cell_type": "code",
   "execution_count": 183,
   "metadata": {},
   "outputs": [],
   "source": [
    "HS = HS.drop(['GDAY_DS','VS_T_ID','SP_ID'],axis=1)"
   ]
  },
  {
   "cell_type": "code",
   "execution_count": 185,
   "metadata": {},
   "outputs": [],
   "source": [
    "HS.to_csv('C:/Users/dudco/Desktop/SVT/SVT/HS.csv', sep=',', encoding='ms949')\n"
   ]
  },
  {
   "cell_type": "code",
   "execution_count": null,
   "metadata": {},
   "outputs": [],
   "source": []
  }
 ],
 "metadata": {
  "kernelspec": {
   "display_name": "Python 3",
   "language": "python",
   "name": "python3"
  },
  "language_info": {
   "codemirror_mode": {
    "name": "ipython",
    "version": 3
   },
   "file_extension": ".py",
   "mimetype": "text/x-python",
   "name": "python",
   "nbconvert_exporter": "python",
   "pygments_lexer": "ipython3",
   "version": "3.7.9"
  }
 },
 "nbformat": 4,
 "nbformat_minor": 4
}
